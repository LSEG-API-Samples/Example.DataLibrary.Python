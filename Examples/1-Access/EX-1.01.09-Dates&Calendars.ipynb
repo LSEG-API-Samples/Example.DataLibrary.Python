{
 "cells": [
  {
   "cell_type": "markdown",
   "metadata": {},
   "source": [
    "----\n",
    "<img src=\"../../files/refinitiv.png\" width=\"20%\" style=\"vertical-align: top;\">\n",
    "\n",
    "# Data Library for Python\n",
    "\n",
    "----"
   ]
  },
  {
   "cell_type": "markdown",
   "metadata": {},
   "source": [
    "## Access layer - Dates & Calendars\n",
    "This notebook demonstrates how to use the Access layer of the library to get Calendars information and how to use Calendars to generate date ranges with DataFrames."
   ]
  },
  {
   "cell_type": "markdown",
   "metadata": {},
   "source": [
    "#### Learn more\n",
    "\n",
    "To learn more about the Refinitiv Data Library for Python please join the Refinitiv Developer Community. By [registering](https://developers.refinitiv.com/iam/register) and [logging](https://developers.refinitiv.com/content/devportal/en_us/initCookie.html) into the Refinitiv Developer Community portal you will have free access to a number of learning materials like \n",
    " [Quick Start guides](https://developers.refinitiv.com/en/api-catalog/refinitiv-data-platform/refinitiv-data-library-for-python/quick-start), \n",
    " [Tutorials](https://developers.refinitiv.com/en/api-catalog/refinitiv-data-platform/refinitiv-data-library-for-python/learning), \n",
    " [Documentation](https://developers.refinitiv.com/en/api-catalog/refinitiv-data-platform/refinitiv-data-library-for-python/docs)\n",
    " and much more.\n",
    "\n",
    "#### Getting Help and Support\n",
    "\n",
    "If you have any questions regarding using the API, please post them on \n",
    "the [Refinitiv Data Q&A Forum](https://community.developers.refinitiv.com/spaces/321/index.html). \n",
    "The Refinitiv Developer Community will be happy to help. \n",
    "\n",
    "----"
   ]
  },
  {
   "cell_type": "markdown",
   "metadata": {
    "tags": []
   },
   "source": [
    "## Set the configuration file location\n",
    "For a better ease of use, you have the option to set initialization parameters of the Refinitiv Data Library in the _refinitiv-data.config.json_ configuration file. This file must be located beside your notebook, in your user folder or in a folder defined by the _RD_LIB_CONFIG_PATH_ environment variable. The _RD_LIB_CONFIG_PATH_ environment variable is the option used by this series of examples. The following code sets this environment variable.      "
   ]
  },
  {
   "cell_type": "code",
   "execution_count": 1,
   "metadata": {},
   "outputs": [],
   "source": [
    "import os\n",
    "os.environ[\"RD_LIB_CONFIG_PATH\"] = \"../../Configuration\""
   ]
  },
  {
   "cell_type": "markdown",
   "metadata": {},
   "source": [
    "## Some Imports to start with"
   ]
  },
  {
   "cell_type": "code",
   "execution_count": 2,
   "metadata": {},
   "outputs": [],
   "source": [
    "import refinitiv.data as rd\n",
    "import pandas as pd\n",
    "from datetime import date, datetime, timedelta"
   ]
  },
  {
   "cell_type": "markdown",
   "metadata": {},
   "source": [
    "## Open the data session\n",
    "\n",
    "The open_session() function creates and open sessions based on the information contained in the refinitiv-data.config.json configuration file. Please edit this file to set the session type and other parameters required for the session you want to open."
   ]
  },
  {
   "cell_type": "code",
   "execution_count": 3,
   "metadata": {},
   "outputs": [
    {
     "data": {
      "text/plain": [
       "<refinitiv.data.session.Definition object at 0x7fda0532f0a0 {name='workspace'}>"
      ]
     },
     "execution_count": 3,
     "metadata": {},
     "output_type": "execute_result"
    }
   ],
   "source": [
    "rd.open_session()"
   ]
  },
  {
   "cell_type": "markdown",
   "metadata": {},
   "source": [
    "## Retrieve data"
   ]
  },
  {
   "cell_type": "markdown",
   "metadata": {},
   "source": [
    "### Add Periods"
   ]
  },
  {
   "cell_type": "code",
   "execution_count": 4,
   "metadata": {},
   "outputs": [
    {
     "data": {
      "text/plain": [
       "numpy.datetime64('2015-01-02')"
      ]
     },
     "execution_count": 4,
     "metadata": {},
     "output_type": "execute_result"
    }
   ],
   "source": [
    "calculated_date = rd.dates_and_calendars.add_periods(\n",
    "    start_date=\"2014-01-01\",\n",
    "    period=\"1Y\",\n",
    "    calendars=[\"BAR\", \"KOR\"],\n",
    "    date_moving_convention=\"NextBusinessDay\",\n",
    "    end_of_month_convention=\"Last28\"\n",
    ")\n",
    "calculated_date"
   ]
  },
  {
   "cell_type": "markdown",
   "metadata": {},
   "source": [
    "### Count Periods"
   ]
  },
  {
   "cell_type": "code",
   "execution_count": 5,
   "metadata": {},
   "outputs": [
    {
     "data": {
      "text/plain": [
       "CountedPeriods(count=4.0, tenor='WD')"
      ]
     },
     "execution_count": 5,
     "metadata": {},
     "output_type": "execute_result"
    }
   ],
   "source": [
    "rd.dates_and_calendars.count_periods(\n",
    "    start_date= timedelta(-11),\n",
    "    end_date= timedelta(-3),\n",
    "    period_type=rd.dates_and_calendars.PeriodType.WORKING_DAY,\n",
    "    currencies=[\"EUR\"]\n",
    ")"
   ]
  },
  {
   "cell_type": "markdown",
   "metadata": {},
   "source": [
    "### Date Schedule"
   ]
  },
  {
   "cell_type": "code",
   "execution_count": 6,
   "metadata": {},
   "outputs": [
    {
     "data": {
      "text/plain": [
       "[numpy.datetime64('2019-05-07'),\n",
       " numpy.datetime64('2019-05-14'),\n",
       " numpy.datetime64('2019-05-21'),\n",
       " numpy.datetime64('2019-05-28'),\n",
       " numpy.datetime64('2019-06-04'),\n",
       " numpy.datetime64('2019-06-11'),\n",
       " numpy.datetime64('2019-06-18'),\n",
       " numpy.datetime64('2019-06-25'),\n",
       " numpy.datetime64('2019-07-02'),\n",
       " numpy.datetime64('2019-07-09')]"
      ]
     },
     "execution_count": 6,
     "metadata": {},
     "output_type": "execute_result"
    }
   ],
   "source": [
    "schedule = rd.dates_and_calendars.date_schedule(\n",
    "        start_date=\"2019-04-30\",\n",
    "        count=10,\n",
    "        frequency=\"Weekly\",\n",
    "        calendars=[\"EMU\", \"GER\"],\n",
    "        day_of_week=rd.dates_and_calendars.DayOfWeek.TUESDAY\n",
    ")\n",
    "schedule"
   ]
  },
  {
   "cell_type": "markdown",
   "metadata": {},
   "source": [
    "### Holidays"
   ]
  },
  {
   "cell_type": "code",
   "execution_count": 7,
   "metadata": {
    "tags": []
   },
   "outputs": [
    {
     "data": {
      "text/html": [
       "<div>\n",
       "<style scoped>\n",
       "    .dataframe tbody tr th:only-of-type {\n",
       "        vertical-align: middle;\n",
       "    }\n",
       "\n",
       "    .dataframe tbody tr th {\n",
       "        vertical-align: top;\n",
       "    }\n",
       "\n",
       "    .dataframe thead th {\n",
       "        text-align: right;\n",
       "    }\n",
       "</style>\n",
       "<table border=\"1\" class=\"dataframe\">\n",
       "  <thead>\n",
       "    <tr style=\"text-align: right;\">\n",
       "      <th></th>\n",
       "      <th>name</th>\n",
       "      <th>calendars</th>\n",
       "      <th>countries</th>\n",
       "      <th>tag</th>\n",
       "      <th>date</th>\n",
       "    </tr>\n",
       "  </thead>\n",
       "  <tbody>\n",
       "    <tr>\n",
       "      <th>0</th>\n",
       "      <td>New Year's Day</td>\n",
       "      <td>[USA, FRA]</td>\n",
       "      <td>[USA, FRA]</td>\n",
       "      <td>None</td>\n",
       "      <td>2023-01-01</td>\n",
       "    </tr>\n",
       "    <tr>\n",
       "      <th>1</th>\n",
       "      <td>New Year's Day (Observed)</td>\n",
       "      <td>[USA]</td>\n",
       "      <td>[USA]</td>\n",
       "      <td>None</td>\n",
       "      <td>2023-01-02</td>\n",
       "    </tr>\n",
       "    <tr>\n",
       "      <th>2</th>\n",
       "      <td>Martin Luther King's Birthday</td>\n",
       "      <td>[USA]</td>\n",
       "      <td>[USA]</td>\n",
       "      <td>None</td>\n",
       "      <td>2023-01-16</td>\n",
       "    </tr>\n",
       "    <tr>\n",
       "      <th>3</th>\n",
       "      <td>Washington's Birthday</td>\n",
       "      <td>[USA]</td>\n",
       "      <td>[USA]</td>\n",
       "      <td>None</td>\n",
       "      <td>2023-02-20</td>\n",
       "    </tr>\n",
       "    <tr>\n",
       "      <th>4</th>\n",
       "      <td>Memorial Day</td>\n",
       "      <td>[USA]</td>\n",
       "      <td>[USA]</td>\n",
       "      <td>None</td>\n",
       "      <td>2023-05-29</td>\n",
       "    </tr>\n",
       "    <tr>\n",
       "      <th>5</th>\n",
       "      <td>Whit Monday</td>\n",
       "      <td>[FRA]</td>\n",
       "      <td>[FRA]</td>\n",
       "      <td>None</td>\n",
       "      <td>2023-05-29</td>\n",
       "    </tr>\n",
       "    <tr>\n",
       "      <th>6</th>\n",
       "      <td>Juneteenth National Independence Day</td>\n",
       "      <td>[USA]</td>\n",
       "      <td>[USA]</td>\n",
       "      <td>None</td>\n",
       "      <td>2023-06-19</td>\n",
       "    </tr>\n",
       "    <tr>\n",
       "      <th>7</th>\n",
       "      <td>Independence Day</td>\n",
       "      <td>[USA]</td>\n",
       "      <td>[USA]</td>\n",
       "      <td>None</td>\n",
       "      <td>2023-07-04</td>\n",
       "    </tr>\n",
       "    <tr>\n",
       "      <th>8</th>\n",
       "      <td>Labor Day</td>\n",
       "      <td>[USA]</td>\n",
       "      <td>[USA]</td>\n",
       "      <td>None</td>\n",
       "      <td>2023-09-04</td>\n",
       "    </tr>\n",
       "    <tr>\n",
       "      <th>9</th>\n",
       "      <td>Columbus Day</td>\n",
       "      <td>[USA]</td>\n",
       "      <td>[USA]</td>\n",
       "      <td>None</td>\n",
       "      <td>2023-10-09</td>\n",
       "    </tr>\n",
       "    <tr>\n",
       "      <th>10</th>\n",
       "      <td>Veterans' Day</td>\n",
       "      <td>[USA]</td>\n",
       "      <td>[USA]</td>\n",
       "      <td>None</td>\n",
       "      <td>2023-11-11</td>\n",
       "    </tr>\n",
       "    <tr>\n",
       "      <th>11</th>\n",
       "      <td>Remembrance Day</td>\n",
       "      <td>[FRA]</td>\n",
       "      <td>[FRA]</td>\n",
       "      <td>None</td>\n",
       "      <td>2023-11-11</td>\n",
       "    </tr>\n",
       "    <tr>\n",
       "      <th>12</th>\n",
       "      <td>Thanksgiving Day</td>\n",
       "      <td>[USA]</td>\n",
       "      <td>[USA]</td>\n",
       "      <td>None</td>\n",
       "      <td>2023-11-23</td>\n",
       "    </tr>\n",
       "    <tr>\n",
       "      <th>13</th>\n",
       "      <td>Christmas Day</td>\n",
       "      <td>[USA, FRA]</td>\n",
       "      <td>[USA, FRA]</td>\n",
       "      <td>None</td>\n",
       "      <td>2023-12-25</td>\n",
       "    </tr>\n",
       "    <tr>\n",
       "      <th>14</th>\n",
       "      <td>Good Friday</td>\n",
       "      <td>[FRA]</td>\n",
       "      <td>[FRA]</td>\n",
       "      <td>None</td>\n",
       "      <td>2023-04-07</td>\n",
       "    </tr>\n",
       "    <tr>\n",
       "      <th>15</th>\n",
       "      <td>Easter Monday</td>\n",
       "      <td>[FRA]</td>\n",
       "      <td>[FRA]</td>\n",
       "      <td>None</td>\n",
       "      <td>2023-04-10</td>\n",
       "    </tr>\n",
       "    <tr>\n",
       "      <th>16</th>\n",
       "      <td>Labour Day</td>\n",
       "      <td>[FRA]</td>\n",
       "      <td>[FRA]</td>\n",
       "      <td>None</td>\n",
       "      <td>2023-05-01</td>\n",
       "    </tr>\n",
       "    <tr>\n",
       "      <th>17</th>\n",
       "      <td>1945 Victory Day</td>\n",
       "      <td>[FRA]</td>\n",
       "      <td>[FRA]</td>\n",
       "      <td>None</td>\n",
       "      <td>2023-05-08</td>\n",
       "    </tr>\n",
       "    <tr>\n",
       "      <th>18</th>\n",
       "      <td>Ascension Day</td>\n",
       "      <td>[FRA]</td>\n",
       "      <td>[FRA]</td>\n",
       "      <td>None</td>\n",
       "      <td>2023-05-18</td>\n",
       "    </tr>\n",
       "    <tr>\n",
       "      <th>19</th>\n",
       "      <td>Whit Sunday</td>\n",
       "      <td>[FRA]</td>\n",
       "      <td>[FRA]</td>\n",
       "      <td>None</td>\n",
       "      <td>2023-05-28</td>\n",
       "    </tr>\n",
       "    <tr>\n",
       "      <th>20</th>\n",
       "      <td>French National Holiday</td>\n",
       "      <td>[FRA]</td>\n",
       "      <td>[FRA]</td>\n",
       "      <td>None</td>\n",
       "      <td>2023-07-14</td>\n",
       "    </tr>\n",
       "    <tr>\n",
       "      <th>21</th>\n",
       "      <td>Assumption</td>\n",
       "      <td>[FRA]</td>\n",
       "      <td>[FRA]</td>\n",
       "      <td>None</td>\n",
       "      <td>2023-08-15</td>\n",
       "    </tr>\n",
       "    <tr>\n",
       "      <th>22</th>\n",
       "      <td>All Saint's Day</td>\n",
       "      <td>[FRA]</td>\n",
       "      <td>[FRA]</td>\n",
       "      <td>None</td>\n",
       "      <td>2023-11-01</td>\n",
       "    </tr>\n",
       "    <tr>\n",
       "      <th>23</th>\n",
       "      <td>Boxing Day</td>\n",
       "      <td>[FRA]</td>\n",
       "      <td>[FRA]</td>\n",
       "      <td>None</td>\n",
       "      <td>2023-12-26</td>\n",
       "    </tr>\n",
       "  </tbody>\n",
       "</table>\n",
       "</div>"
      ],
      "text/plain": [
       "                                    name   calendars   countries   tag  \\\n",
       "0                         New Year's Day  [USA, FRA]  [USA, FRA]  None   \n",
       "1              New Year's Day (Observed)       [USA]       [USA]  None   \n",
       "2          Martin Luther King's Birthday       [USA]       [USA]  None   \n",
       "3                  Washington's Birthday       [USA]       [USA]  None   \n",
       "4                           Memorial Day       [USA]       [USA]  None   \n",
       "5                            Whit Monday       [FRA]       [FRA]  None   \n",
       "6   Juneteenth National Independence Day       [USA]       [USA]  None   \n",
       "7                       Independence Day       [USA]       [USA]  None   \n",
       "8                              Labor Day       [USA]       [USA]  None   \n",
       "9                           Columbus Day       [USA]       [USA]  None   \n",
       "10                         Veterans' Day       [USA]       [USA]  None   \n",
       "11                       Remembrance Day       [FRA]       [FRA]  None   \n",
       "12                      Thanksgiving Day       [USA]       [USA]  None   \n",
       "13                         Christmas Day  [USA, FRA]  [USA, FRA]  None   \n",
       "14                           Good Friday       [FRA]       [FRA]  None   \n",
       "15                         Easter Monday       [FRA]       [FRA]  None   \n",
       "16                            Labour Day       [FRA]       [FRA]  None   \n",
       "17                      1945 Victory Day       [FRA]       [FRA]  None   \n",
       "18                         Ascension Day       [FRA]       [FRA]  None   \n",
       "19                           Whit Sunday       [FRA]       [FRA]  None   \n",
       "20               French National Holiday       [FRA]       [FRA]  None   \n",
       "21                            Assumption       [FRA]       [FRA]  None   \n",
       "22                       All Saint's Day       [FRA]       [FRA]  None   \n",
       "23                            Boxing Day       [FRA]       [FRA]  None   \n",
       "\n",
       "         date  \n",
       "0  2023-01-01  \n",
       "1  2023-01-02  \n",
       "2  2023-01-16  \n",
       "3  2023-02-20  \n",
       "4  2023-05-29  \n",
       "5  2023-05-29  \n",
       "6  2023-06-19  \n",
       "7  2023-07-04  \n",
       "8  2023-09-04  \n",
       "9  2023-10-09  \n",
       "10 2023-11-11  \n",
       "11 2023-11-11  \n",
       "12 2023-11-23  \n",
       "13 2023-12-25  \n",
       "14 2023-04-07  \n",
       "15 2023-04-10  \n",
       "16 2023-05-01  \n",
       "17 2023-05-08  \n",
       "18 2023-05-18  \n",
       "19 2023-05-28  \n",
       "20 2023-07-14  \n",
       "21 2023-08-15  \n",
       "22 2023-11-01  \n",
       "23 2023-12-26  "
      ]
     },
     "execution_count": 7,
     "metadata": {},
     "output_type": "execute_result"
    }
   ],
   "source": [
    "holidays = rd.dates_and_calendars.holidays(\n",
    "    start_date=\"2023-01-01\",\n",
    "    end_date=\"2023-12-31\",\n",
    "    calendars=[\"USA\", \"FRA\"]\n",
    ")\n",
    " \n",
    "holidays.df"
   ]
  },
  {
   "cell_type": "markdown",
   "metadata": {
    "tags": []
   },
   "source": [
    "### Using Pandas DataFrames to generating date ranges based on Holidays calendars"
   ]
  },
  {
   "cell_type": "code",
   "execution_count": 8,
   "metadata": {},
   "outputs": [
    {
     "data": {
      "text/plain": [
       "DatetimeIndex(['2023-07-03', '2023-07-05', '2023-07-06', '2023-07-07',\n",
       "               '2023-07-10', '2023-07-11', '2023-07-12', '2023-07-13',\n",
       "               '2023-07-14', '2023-07-17', '2023-07-18', '2023-07-19',\n",
       "               '2023-07-20', '2023-07-21', '2023-07-24', '2023-07-25',\n",
       "               '2023-07-26', '2023-07-27', '2023-07-28', '2023-07-31'],\n",
       "              dtype='datetime64[ns]', freq='C')"
      ]
     },
     "execution_count": 8,
     "metadata": {},
     "output_type": "execute_result"
    }
   ],
   "source": [
    "# US business days\n",
    "pd.date_range(\n",
    "    start='2023-07-01', \n",
    "    end=\"2023-07-31\", \n",
    "    freq=holidays.calendars[\"USA\"].offset\n",
    ")"
   ]
  },
  {
   "cell_type": "code",
   "execution_count": 9,
   "metadata": {},
   "outputs": [
    {
     "data": {
      "text/plain": [
       "DatetimeIndex(['2023-07-03', '2023-07-04', '2023-07-05', '2023-07-06',\n",
       "               '2023-07-07', '2023-07-10', '2023-07-11', '2023-07-12',\n",
       "               '2023-07-13', '2023-07-17', '2023-07-18', '2023-07-19',\n",
       "               '2023-07-20', '2023-07-21', '2023-07-24', '2023-07-25',\n",
       "               '2023-07-26', '2023-07-27', '2023-07-28', '2023-07-31'],\n",
       "              dtype='datetime64[ns]', freq='C')"
      ]
     },
     "execution_count": 9,
     "metadata": {},
     "output_type": "execute_result"
    }
   ],
   "source": [
    "# French business days\n",
    "pd.date_range(\n",
    "    start='2023-07-01', \n",
    "    end=\"2023-07-31\", \n",
    "    freq=holidays.calendars[\"FRA\"].offset\n",
    ")"
   ]
  },
  {
   "cell_type": "code",
   "execution_count": 10,
   "metadata": {},
   "outputs": [
    {
     "data": {
      "text/plain": [
       "DatetimeIndex(['2023-07-03', '2023-07-05', '2023-07-06', '2023-07-07',\n",
       "               '2023-07-10', '2023-07-11', '2023-07-12', '2023-07-13',\n",
       "               '2023-07-17', '2023-07-18', '2023-07-19', '2023-07-20',\n",
       "               '2023-07-21', '2023-07-24', '2023-07-25', '2023-07-26',\n",
       "               '2023-07-27', '2023-07-28', '2023-07-31'],\n",
       "              dtype='datetime64[ns]', freq='C')"
      ]
     },
     "execution_count": 10,
     "metadata": {},
     "output_type": "execute_result"
    }
   ],
   "source": [
    "# US and French business days\n",
    "pd.date_range(\n",
    "    start='2023-07-01', \n",
    "    end=\"2023-07-31\", \n",
    "    freq=holidays.offset\n",
    ")"
   ]
  },
  {
   "cell_type": "markdown",
   "metadata": {},
   "source": [
    "### Working Days"
   ]
  },
  {
   "cell_type": "code",
   "execution_count": 11,
   "metadata": {},
   "outputs": [
    {
     "data": {
      "text/plain": [
       "False"
      ]
     },
     "execution_count": 11,
     "metadata": {},
     "output_type": "execute_result"
    }
   ],
   "source": [
    "rd.dates_and_calendars.is_working_day(         \n",
    "    date=\"2025-01-01\",\n",
    "    calendars=[\"FRA\"]\n",
    ")"
   ]
  },
  {
   "cell_type": "markdown",
   "metadata": {},
   "source": [
    "## Close the session"
   ]
  },
  {
   "cell_type": "code",
   "execution_count": 12,
   "metadata": {},
   "outputs": [],
   "source": [
    "rd.close_session()"
   ]
  },
  {
   "cell_type": "code",
   "execution_count": null,
   "metadata": {},
   "outputs": [],
   "source": []
  }
 ],
 "metadata": {
  "kernelspec": {
   "display_name": "Python 3 (ipykernel)",
   "language": "python",
   "name": "python3"
  },
  "language_info": {
   "codemirror_mode": {
    "name": "ipython",
    "version": 3
   },
   "file_extension": ".py",
   "mimetype": "text/x-python",
   "name": "python",
   "nbconvert_exporter": "python",
   "pygments_lexer": "ipython3",
   "version": "3.9.7"
  }
 },
 "nbformat": 4,
 "nbformat_minor": 4
}
