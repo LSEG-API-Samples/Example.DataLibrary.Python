{
 "cells": [
  {
   "cell_type": "markdown",
   "id": "c5b30ef8-32e8-4422-a8c2-ba4daa1c1466",
   "metadata": {},
   "source": [
    "----\n",
    "<img src=\"../../files/refinitiv.png\" width=\"20%\" style=\"vertical-align: top;\">\n",
    "\n",
    "# Data Library for Python\n",
    "\n",
    "----"
   ]
  },
  {
   "cell_type": "markdown",
   "id": "18176618-72be-44ed-8197-265710fcc98a",
   "metadata": {
    "tags": []
   },
   "source": [
    "## Access layer - Search templates examples - Equity Search\n",
    "\n",
    "This notebook illustrates the Search Template functionality of the Refinitiv Data Library. The \"Equity\" template shown here are template examples that you can modify and adapt to your needs. They are defined in the \"search-templates.config.json\" configuration file. Below is a brief description of the parameters you can use for each template definition."
   ]
  },
  {
   "cell_type": "markdown",
   "id": "dd8a8da8-7280-4b3d-84e9-cdbf8fe4a22c",
   "metadata": {
    "jp-MarkdownHeadingCollapsed": true,
    "tags": []
   },
   "source": [
    "**Search templates are defined using the following JSON structure:**\n",
    "\n",
    "- **description** (string): Description of the template.\n",
    "- **parameters** (object): Parameters of the template. These parameters can be used as placeholders in the request_body of the template and as named parameters of the search() method of the template. Each parameter has a name, a description, and an optional default value.\n",
    "- **request_body** (object): Body of the request sent to the Search REST API. This request body can include template parameters surrounded by '#{' and '}' (for example:  “#{my_param}”). More details on the structure of the request body can be found in the [Search API reference guide](https://apidocs.refinitiv.com/Apps/ApiDocs#/details/L2Rpc2NvdmVyeS9zZWFyY2gvdjE=/Lw==/POST/README) (access to this guide requires a Refinitiv Workspace account or RDP account to log in).\n",
    "  \n",
    "**Template example:**\n",
    "  \n",
    "```json\n",
    "\"MyTemplate\": {\n",
    "    \"description\": \"Search template example.\",\n",
    "    \"parameters\": {\n",
    "        \"name\": {\n",
    "            \"description\": \"Name of the person to search for.\",\n",
    "            \"default\": \"Edison\"\n",
    "        }\n",
    "    },\n",
    "    \"request_body\": {\n",
    "       \"Query\": \"#{name}\",\n",
    "       \"View\":\"People\",\n",
    "       \"Top\":10\n",
    "    }\n",
    "} \n",
    "```  \n",
    "\n",
    "**Example of usage:**\n",
    "\n",
    "```  \n",
    "rd.discovery.search_templates[\"MyTemplate\"].search(name=\"Pasteur\")\n",
    "```  \n",
    "  "
   ]
  },
  {
   "cell_type": "markdown",
   "id": "3adbdf43-1b2e-438b-a285-2e00bec17dd6",
   "metadata": {},
   "source": [
    "#### Learn more\n",
    "\n",
    "To learn more about the Refinitiv Data Library for Python please join the Refinitiv Developer Community. By [registering](https://developers.refinitiv.com/iam/register) and [logging](https://developers.refinitiv.com/content/devportal/en_us/initCookie.html) into the Refinitiv Developer Community portal you will have free access to a number of learning materials like \n",
    " [Quick Start guides](https://developers.refinitiv.com/en/api-catalog/refinitiv-data-platform/refinitiv-data-library-for-python/quick-start), \n",
    " [Tutorials](https://developers.refinitiv.com/en/api-catalog/refinitiv-data-platform/refinitiv-data-library-for-python/learning), \n",
    " [Documentation](https://developers.refinitiv.com/en/api-catalog/refinitiv-data-platform/refinitiv-data-library-for-python/docs)\n",
    " and much more.\n",
    "\n",
    "#### Getting Help and Support\n",
    "\n",
    "If you have any questions regarding using the API, please post them on \n",
    "the [Refinitiv Data Q&A Forum](https://community.developers.refinitiv.com/spaces/321/index.html). \n",
    "The Refinitiv Developer Community will be happy to help. \n",
    "\n",
    "----"
   ]
  },
  {
   "cell_type": "markdown",
   "id": "f325bc29-da70-46c3-9478-2987919cc2a6",
   "metadata": {
    "tags": []
   },
   "source": [
    "## Set the configuration file location\n",
    "For a better ease of use, you have the option to set initialization parameters of the Refinitiv Data Library in the _refinitiv-data.config.json_ configuration file. This file must be located beside your notebook, in your user folder or in a folder defined by the _RD_LIB_CONFIG_PATH_ environment variable. The _RD_LIB_CONFIG_PATH_ environment variable is the option used by this series of examples. The following code sets this environment variable.      "
   ]
  },
  {
   "cell_type": "code",
   "execution_count": 1,
   "id": "d21ce5da-447a-4160-9ef7-4380ae98125c",
   "metadata": {},
   "outputs": [],
   "source": [
    "import os\n",
    "os.environ[\"RD_LIB_CONFIG_PATH\"] = \"../../Configuration\""
   ]
  },
  {
   "cell_type": "markdown",
   "id": "3d4118bb-4a09-4218-bc58-f8b1fc101c79",
   "metadata": {},
   "source": [
    "## Some Imports to start with"
   ]
  },
  {
   "cell_type": "code",
   "execution_count": 2,
   "id": "c64c1a81-45a7-4a12-a1af-3a2f8f13e183",
   "metadata": {},
   "outputs": [],
   "source": [
    "import refinitiv.data as rd\n",
    "import cufflinks"
   ]
  },
  {
   "cell_type": "markdown",
   "id": "a71c711f-c3e7-48ed-be3c-e0eb86527c07",
   "metadata": {},
   "source": [
    "## Open the data session\n",
    "\n",
    "The open_session() function creates and open sessions based on the information contained in the refinitiv-data.config.json configuration file. Please edit this file to set the session type and other parameters required for the session you want to open."
   ]
  },
  {
   "cell_type": "code",
   "execution_count": 3,
   "id": "16ab932c-1941-4d8f-aa35-13bb88dab0a2",
   "metadata": {},
   "outputs": [
    {
     "data": {
      "text/plain": [
       "<refinitiv.data.session.Definition object at 0x7feabd88bdc0 {name='workspace'}>"
      ]
     },
     "execution_count": 3,
     "metadata": {},
     "output_type": "execute_result"
    }
   ],
   "source": [
    "rd.open_session()"
   ]
  },
  {
   "cell_type": "markdown",
   "id": "a426a705-3dd7-4a41-bb49-ac71afe78527",
   "metadata": {},
   "source": [
    "## Load the search templates configuration file"
   ]
  },
  {
   "cell_type": "code",
   "execution_count": 4,
   "id": "5b44ea18-5618-43ce-8b38-20c70abc7339",
   "metadata": {
    "tags": []
   },
   "outputs": [
    {
     "data": {
      "text/plain": [
       "<ConfigurationSet: 0x7feab865adf0>"
      ]
     },
     "execution_count": 4,
     "metadata": {},
     "output_type": "execute_result"
    }
   ],
   "source": [
    "rd.load_config(\"search-templates.config.json\")"
   ]
  },
  {
   "cell_type": "markdown",
   "id": "1f76d2d9-68ad-4355-886a-c18ef29d5729",
   "metadata": {},
   "source": [
    "## Equities Search Template example"
   ]
  },
  {
   "cell_type": "markdown",
   "id": "8ead5f20-7a83-49c0-ba7c-f5c632ceccb9",
   "metadata": {},
   "source": [
    "### Access the template"
   ]
  },
  {
   "cell_type": "code",
   "execution_count": 5,
   "id": "67c9da5d-5eb0-4314-8e13-66766189c5fd",
   "metadata": {},
   "outputs": [],
   "source": [
    "equity = rd.discovery.search_templates['Equity']"
   ]
  },
  {
   "cell_type": "markdown",
   "id": "6be3db99-4fb7-421a-8bf6-82facac6dd01",
   "metadata": {
    "tags": []
   },
   "source": [
    "### Get help about this template"
   ]
  },
  {
   "cell_type": "code",
   "execution_count": 6,
   "id": "df18471e-8c5f-49e6-8c52-7124be23f127",
   "metadata": {},
   "outputs": [
    {
     "name": "stdout",
     "output_type": "stream",
     "text": [
      "Help on DiscoverySearchTemplate in module refinitiv.data.discovery._search_templates.search:\n",
      "\n",
      "<DiscoverySearchTemplate 'Equity'>\n",
      "    Search for Ordinary Shares of a particular exchange.\n",
      "    \n",
      "    Methods\n",
      "    -------\n",
      "    search\n",
      "        exchange_name\n",
      "            Name of the exchange where this equity is traded. For example: 'London Stock Exchange', 'Euronext Paris', 'Shanghai Stock Exchange', 'The Toronto Stock Exchange', 'NYSE Consolidated', etc.\n",
      "    \n",
      "        what\n",
      "            What to search for\n",
      "            default: ''\n",
      "\n"
     ]
    }
   ],
   "source": [
    "help(equity)"
   ]
  },
  {
   "cell_type": "markdown",
   "id": "8d342013-93b6-493c-a77c-253df5171c36",
   "metadata": {
    "tags": []
   },
   "source": [
    "### Search for Equities of the New York Stock Exchange Consolidated"
   ]
  },
  {
   "cell_type": "code",
   "execution_count": 7,
   "id": "61f1d57a-03ca-4114-83c4-91cfd758a1ad",
   "metadata": {},
   "outputs": [
    {
     "data": {
      "text/html": [
       "<div>\n",
       "<style scoped>\n",
       "    .dataframe tbody tr th:only-of-type {\n",
       "        vertical-align: middle;\n",
       "    }\n",
       "\n",
       "    .dataframe tbody tr th {\n",
       "        vertical-align: top;\n",
       "    }\n",
       "\n",
       "    .dataframe thead th {\n",
       "        text-align: right;\n",
       "    }\n",
       "</style>\n",
       "<table border=\"1\" class=\"dataframe\">\n",
       "  <thead>\n",
       "    <tr style=\"text-align: right;\">\n",
       "      <th></th>\n",
       "      <th>DTSubjectName</th>\n",
       "      <th>ExchangeName</th>\n",
       "      <th>RIC</th>\n",
       "      <th>MktCapCompanyUsd</th>\n",
       "      <th>ShareholdersEquityUsd</th>\n",
       "      <th>Pe</th>\n",
       "      <th>DebtToAssets</th>\n",
       "      <th>Beta</th>\n",
       "      <th>Eps</th>\n",
       "      <th>Gics</th>\n",
       "      <th>...</th>\n",
       "      <th>SearchAllCategory</th>\n",
       "      <th>RCSAssetCategory</th>\n",
       "      <th>RCSCurrencyLeaf</th>\n",
       "      <th>AssetState</th>\n",
       "      <th>BusinessEntity</th>\n",
       "      <th>PI</th>\n",
       "      <th>IssueISIN</th>\n",
       "      <th>CUSIP</th>\n",
       "      <th>CinCUSIP</th>\n",
       "      <th>SolvencyMargin</th>\n",
       "    </tr>\n",
       "  </thead>\n",
       "  <tbody>\n",
       "    <tr>\n",
       "      <th>0</th>\n",
       "      <td>Berkshire Hathaway Inc</td>\n",
       "      <td>NYSE Consolidated</td>\n",
       "      <td>BRKa</td>\n",
       "      <td>693513590760</td>\n",
       "      <td>506199000000</td>\n",
       "      <td>&lt;NA&gt;</td>\n",
       "      <td>0.462934</td>\n",
       "      <td>0.896323</td>\n",
       "      <td>-1189.17575</td>\n",
       "      <td>Financials/Diversified Financials/Diversified ...</td>\n",
       "      <td>...</td>\n",
       "      <td>Equities</td>\n",
       "      <td>A:1L</td>\n",
       "      <td>US Dollar</td>\n",
       "      <td>AC</td>\n",
       "      <td>QUOTExEQUITY</td>\n",
       "      <td>727363</td>\n",
       "      <td>US0846701086</td>\n",
       "      <td>084670108</td>\n",
       "      <td>&lt;NA&gt;</td>\n",
       "      <td>&lt;NA&gt;</td>\n",
       "    </tr>\n",
       "    <tr>\n",
       "      <th>1</th>\n",
       "      <td>Walt Disney Co</td>\n",
       "      <td>NYSE Consolidated</td>\n",
       "      <td>DIS</td>\n",
       "      <td>167733991056</td>\n",
       "      <td>88553000000</td>\n",
       "      <td>52.619234</td>\n",
       "      <td>0.49794</td>\n",
       "      <td>1.239782</td>\n",
       "      <td>1.74803</td>\n",
       "      <td>Communication Services/Media &amp; Entertainment/E...</td>\n",
       "      <td>...</td>\n",
       "      <td>Equities</td>\n",
       "      <td>A:1L</td>\n",
       "      <td>US Dollar</td>\n",
       "      <td>AC</td>\n",
       "      <td>QUOTExEQUITY</td>\n",
       "      <td>1096946</td>\n",
       "      <td>US2546871060</td>\n",
       "      <td>254687106</td>\n",
       "      <td>&lt;NA&gt;</td>\n",
       "      <td>&lt;NA&gt;</td>\n",
       "    </tr>\n",
       "    <tr>\n",
       "      <th>2</th>\n",
       "      <td>Exxon Mobil Corp</td>\n",
       "      <td>NYSE Consolidated</td>\n",
       "      <td>XOM</td>\n",
       "      <td>439884760000</td>\n",
       "      <td>168577000000</td>\n",
       "      <td>8.711722</td>\n",
       "      <td>0.481643</td>\n",
       "      <td>1.122766</td>\n",
       "      <td>12.26164</td>\n",
       "      <td>Energy/Energy/Oil, Gas &amp; Consumable Fuels/Inte...</td>\n",
       "      <td>...</td>\n",
       "      <td>Equities</td>\n",
       "      <td>A:1L</td>\n",
       "      <td>US Dollar</td>\n",
       "      <td>AC</td>\n",
       "      <td>QUOTExEQUITY</td>\n",
       "      <td>728548</td>\n",
       "      <td>US30231G1022</td>\n",
       "      <td>30231G102</td>\n",
       "      <td>&lt;NA&gt;</td>\n",
       "      <td>&lt;NA&gt;</td>\n",
       "    </tr>\n",
       "    <tr>\n",
       "      <th>3</th>\n",
       "      <td>UnitedHealth Group Inc</td>\n",
       "      <td>NYSE Consolidated</td>\n",
       "      <td>UNH</td>\n",
       "      <td>471379107328</td>\n",
       "      <td>71760000000</td>\n",
       "      <td>24.711943</td>\n",
       "      <td>0.6396</td>\n",
       "      <td>0.693955</td>\n",
       "      <td>20.41523</td>\n",
       "      <td>Health Care/Health Care Equipment &amp; Services/H...</td>\n",
       "      <td>...</td>\n",
       "      <td>Equities</td>\n",
       "      <td>A:1L</td>\n",
       "      <td>US Dollar</td>\n",
       "      <td>AC</td>\n",
       "      <td>QUOTExEQUITY</td>\n",
       "      <td>1096631</td>\n",
       "      <td>US91324P1021</td>\n",
       "      <td>91324P102</td>\n",
       "      <td>&lt;NA&gt;</td>\n",
       "      <td>24.05608</td>\n",
       "    </tr>\n",
       "    <tr>\n",
       "      <th>4</th>\n",
       "      <td>JPMorgan Chase &amp; Co</td>\n",
       "      <td>NYSE Consolidated</td>\n",
       "      <td>JPM</td>\n",
       "      <td>400030482625</td>\n",
       "      <td>259289000000</td>\n",
       "      <td>11.515216</td>\n",
       "      <td>0.921431</td>\n",
       "      <td>1.133849</td>\n",
       "      <td>11.84346</td>\n",
       "      <td>Financials/Banks/Banks/Diversified Banks</td>\n",
       "      <td>...</td>\n",
       "      <td>Equities</td>\n",
       "      <td>A:1L</td>\n",
       "      <td>US Dollar</td>\n",
       "      <td>AC</td>\n",
       "      <td>QUOTExEQUITY</td>\n",
       "      <td>1113813</td>\n",
       "      <td>US46625H1005</td>\n",
       "      <td>46625H100</td>\n",
       "      <td>&lt;NA&gt;</td>\n",
       "      <td>&lt;NA&gt;</td>\n",
       "    </tr>\n",
       "    <tr>\n",
       "      <th>...</th>\n",
       "      <td>...</td>\n",
       "      <td>...</td>\n",
       "      <td>...</td>\n",
       "      <td>...</td>\n",
       "      <td>...</td>\n",
       "      <td>...</td>\n",
       "      <td>...</td>\n",
       "      <td>...</td>\n",
       "      <td>...</td>\n",
       "      <td>...</td>\n",
       "      <td>...</td>\n",
       "      <td>...</td>\n",
       "      <td>...</td>\n",
       "      <td>...</td>\n",
       "      <td>...</td>\n",
       "      <td>...</td>\n",
       "      <td>...</td>\n",
       "      <td>...</td>\n",
       "      <td>...</td>\n",
       "      <td>...</td>\n",
       "      <td>...</td>\n",
       "    </tr>\n",
       "    <tr>\n",
       "      <th>1934</th>\n",
       "      <td>Test Zxz</td>\n",
       "      <td>NYSE Consolidated</td>\n",
       "      <td>ZXZ</td>\n",
       "      <td>&lt;NA&gt;</td>\n",
       "      <td>&lt;NA&gt;</td>\n",
       "      <td>&lt;NA&gt;</td>\n",
       "      <td>&lt;NA&gt;</td>\n",
       "      <td>&lt;NA&gt;</td>\n",
       "      <td>&lt;NA&gt;</td>\n",
       "      <td>&lt;NA&gt;</td>\n",
       "      <td>...</td>\n",
       "      <td>Equities</td>\n",
       "      <td>A:1L</td>\n",
       "      <td>US Dollar</td>\n",
       "      <td>AC</td>\n",
       "      <td>QUOTExEQUITY</td>\n",
       "      <td>214389816</td>\n",
       "      <td>&lt;NA&gt;</td>\n",
       "      <td>&lt;NA&gt;</td>\n",
       "      <td>&lt;NA&gt;</td>\n",
       "      <td>&lt;NA&gt;</td>\n",
       "    </tr>\n",
       "    <tr>\n",
       "      <th>1935</th>\n",
       "      <td>NYSE Tick Pilot Test Sym G1</td>\n",
       "      <td>NYSE Consolidated</td>\n",
       "      <td>NTESTa.K</td>\n",
       "      <td>&lt;NA&gt;</td>\n",
       "      <td>&lt;NA&gt;</td>\n",
       "      <td>&lt;NA&gt;</td>\n",
       "      <td>&lt;NA&gt;</td>\n",
       "      <td>&lt;NA&gt;</td>\n",
       "      <td>&lt;NA&gt;</td>\n",
       "      <td>&lt;NA&gt;</td>\n",
       "      <td>...</td>\n",
       "      <td>Equities</td>\n",
       "      <td>A:1L</td>\n",
       "      <td>US Dollar</td>\n",
       "      <td>AC</td>\n",
       "      <td>QUOTExEQUITY</td>\n",
       "      <td>237876615</td>\n",
       "      <td>&lt;NA&gt;</td>\n",
       "      <td>&lt;NA&gt;</td>\n",
       "      <td>&lt;NA&gt;</td>\n",
       "      <td>&lt;NA&gt;</td>\n",
       "    </tr>\n",
       "    <tr>\n",
       "      <th>1936</th>\n",
       "      <td>NYSE Tick Pilot Test Sym-G2</td>\n",
       "      <td>NYSE Consolidated</td>\n",
       "      <td>NTESTb.K</td>\n",
       "      <td>&lt;NA&gt;</td>\n",
       "      <td>&lt;NA&gt;</td>\n",
       "      <td>&lt;NA&gt;</td>\n",
       "      <td>&lt;NA&gt;</td>\n",
       "      <td>&lt;NA&gt;</td>\n",
       "      <td>&lt;NA&gt;</td>\n",
       "      <td>&lt;NA&gt;</td>\n",
       "      <td>...</td>\n",
       "      <td>Equities</td>\n",
       "      <td>A:1L</td>\n",
       "      <td>US Dollar</td>\n",
       "      <td>AC</td>\n",
       "      <td>QUOTExEQUITY</td>\n",
       "      <td>237876637</td>\n",
       "      <td>&lt;NA&gt;</td>\n",
       "      <td>&lt;NA&gt;</td>\n",
       "      <td>&lt;NA&gt;</td>\n",
       "      <td>&lt;NA&gt;</td>\n",
       "    </tr>\n",
       "    <tr>\n",
       "      <th>1937</th>\n",
       "      <td>NYSE Tick Pilot Test Sym G2</td>\n",
       "      <td>NYSE Consolidated</td>\n",
       "      <td>NTESTc.K</td>\n",
       "      <td>&lt;NA&gt;</td>\n",
       "      <td>&lt;NA&gt;</td>\n",
       "      <td>&lt;NA&gt;</td>\n",
       "      <td>&lt;NA&gt;</td>\n",
       "      <td>&lt;NA&gt;</td>\n",
       "      <td>&lt;NA&gt;</td>\n",
       "      <td>&lt;NA&gt;</td>\n",
       "      <td>...</td>\n",
       "      <td>Equities</td>\n",
       "      <td>A:1L</td>\n",
       "      <td>US Dollar</td>\n",
       "      <td>AC</td>\n",
       "      <td>QUOTExEQUITY</td>\n",
       "      <td>237876655</td>\n",
       "      <td>&lt;NA&gt;</td>\n",
       "      <td>&lt;NA&gt;</td>\n",
       "      <td>&lt;NA&gt;</td>\n",
       "      <td>&lt;NA&gt;</td>\n",
       "    </tr>\n",
       "    <tr>\n",
       "      <th>1938</th>\n",
       "      <td>Test Symbol NTEST D</td>\n",
       "      <td>NYSE Consolidated</td>\n",
       "      <td>NTESTd.K</td>\n",
       "      <td>&lt;NA&gt;</td>\n",
       "      <td>&lt;NA&gt;</td>\n",
       "      <td>&lt;NA&gt;</td>\n",
       "      <td>&lt;NA&gt;</td>\n",
       "      <td>&lt;NA&gt;</td>\n",
       "      <td>&lt;NA&gt;</td>\n",
       "      <td>&lt;NA&gt;</td>\n",
       "      <td>...</td>\n",
       "      <td>Equities</td>\n",
       "      <td>A:1L</td>\n",
       "      <td>US Dollar</td>\n",
       "      <td>AC</td>\n",
       "      <td>QUOTExEQUITY</td>\n",
       "      <td>299363939</td>\n",
       "      <td>&lt;NA&gt;</td>\n",
       "      <td>&lt;NA&gt;</td>\n",
       "      <td>&lt;NA&gt;</td>\n",
       "      <td>&lt;NA&gt;</td>\n",
       "    </tr>\n",
       "  </tbody>\n",
       "</table>\n",
       "<p>1939 rows × 42 columns</p>\n",
       "</div>"
      ],
      "text/plain": [
       "                    DTSubjectName       ExchangeName       RIC  \\\n",
       "0          Berkshire Hathaway Inc  NYSE Consolidated      BRKa   \n",
       "1                  Walt Disney Co  NYSE Consolidated       DIS   \n",
       "2                Exxon Mobil Corp  NYSE Consolidated       XOM   \n",
       "3          UnitedHealth Group Inc  NYSE Consolidated       UNH   \n",
       "4             JPMorgan Chase & Co  NYSE Consolidated       JPM   \n",
       "...                           ...                ...       ...   \n",
       "1934                     Test Zxz  NYSE Consolidated       ZXZ   \n",
       "1935  NYSE Tick Pilot Test Sym G1  NYSE Consolidated  NTESTa.K   \n",
       "1936  NYSE Tick Pilot Test Sym-G2  NYSE Consolidated  NTESTb.K   \n",
       "1937  NYSE Tick Pilot Test Sym G2  NYSE Consolidated  NTESTc.K   \n",
       "1938          Test Symbol NTEST D  NYSE Consolidated  NTESTd.K   \n",
       "\n",
       "      MktCapCompanyUsd  ShareholdersEquityUsd         Pe  DebtToAssets  \\\n",
       "0         693513590760           506199000000       <NA>      0.462934   \n",
       "1         167733991056            88553000000  52.619234       0.49794   \n",
       "2         439884760000           168577000000   8.711722      0.481643   \n",
       "3         471379107328            71760000000  24.711943        0.6396   \n",
       "4         400030482625           259289000000  11.515216      0.921431   \n",
       "...                ...                    ...        ...           ...   \n",
       "1934              <NA>                   <NA>       <NA>          <NA>   \n",
       "1935              <NA>                   <NA>       <NA>          <NA>   \n",
       "1936              <NA>                   <NA>       <NA>          <NA>   \n",
       "1937              <NA>                   <NA>       <NA>          <NA>   \n",
       "1938              <NA>                   <NA>       <NA>          <NA>   \n",
       "\n",
       "          Beta         Eps                                               Gics  \\\n",
       "0     0.896323 -1189.17575  Financials/Diversified Financials/Diversified ...   \n",
       "1     1.239782     1.74803  Communication Services/Media & Entertainment/E...   \n",
       "2     1.122766    12.26164  Energy/Energy/Oil, Gas & Consumable Fuels/Inte...   \n",
       "3     0.693955    20.41523  Health Care/Health Care Equipment & Services/H...   \n",
       "4     1.133849    11.84346           Financials/Banks/Banks/Diversified Banks   \n",
       "...        ...         ...                                                ...   \n",
       "1934      <NA>        <NA>                                               <NA>   \n",
       "1935      <NA>        <NA>                                               <NA>   \n",
       "1936      <NA>        <NA>                                               <NA>   \n",
       "1937      <NA>        <NA>                                               <NA>   \n",
       "1938      <NA>        <NA>                                               <NA>   \n",
       "\n",
       "      ...  SearchAllCategory  RCSAssetCategory  RCSCurrencyLeaf  AssetState  \\\n",
       "0     ...           Equities              A:1L        US Dollar          AC   \n",
       "1     ...           Equities              A:1L        US Dollar          AC   \n",
       "2     ...           Equities              A:1L        US Dollar          AC   \n",
       "3     ...           Equities              A:1L        US Dollar          AC   \n",
       "4     ...           Equities              A:1L        US Dollar          AC   \n",
       "...   ...                ...               ...              ...         ...   \n",
       "1934  ...           Equities              A:1L        US Dollar          AC   \n",
       "1935  ...           Equities              A:1L        US Dollar          AC   \n",
       "1936  ...           Equities              A:1L        US Dollar          AC   \n",
       "1937  ...           Equities              A:1L        US Dollar          AC   \n",
       "1938  ...           Equities              A:1L        US Dollar          AC   \n",
       "\n",
       "      BusinessEntity         PI     IssueISIN      CUSIP  CinCUSIP  \\\n",
       "0       QUOTExEQUITY     727363  US0846701086  084670108      <NA>   \n",
       "1       QUOTExEQUITY    1096946  US2546871060  254687106      <NA>   \n",
       "2       QUOTExEQUITY     728548  US30231G1022  30231G102      <NA>   \n",
       "3       QUOTExEQUITY    1096631  US91324P1021  91324P102      <NA>   \n",
       "4       QUOTExEQUITY    1113813  US46625H1005  46625H100      <NA>   \n",
       "...              ...        ...           ...        ...       ...   \n",
       "1934    QUOTExEQUITY  214389816          <NA>       <NA>      <NA>   \n",
       "1935    QUOTExEQUITY  237876615          <NA>       <NA>      <NA>   \n",
       "1936    QUOTExEQUITY  237876637          <NA>       <NA>      <NA>   \n",
       "1937    QUOTExEQUITY  237876655          <NA>       <NA>      <NA>   \n",
       "1938    QUOTExEQUITY  299363939          <NA>       <NA>      <NA>   \n",
       "\n",
       "      SolvencyMargin  \n",
       "0               <NA>  \n",
       "1               <NA>  \n",
       "2               <NA>  \n",
       "3           24.05608  \n",
       "4               <NA>  \n",
       "...              ...  \n",
       "1934            <NA>  \n",
       "1935            <NA>  \n",
       "1936            <NA>  \n",
       "1937            <NA>  \n",
       "1938            <NA>  \n",
       "\n",
       "[1939 rows x 42 columns]"
      ]
     },
     "metadata": {},
     "output_type": "display_data"
    }
   ],
   "source": [
    "nyse_equities = equity.search(exchange_name='NYSE Consolidated')\n",
    "display(nyse_equities)"
   ]
  },
  {
   "cell_type": "markdown",
   "id": "ab59a8eb-9d2f-4286-894b-4af21ef1c249",
   "metadata": {
    "tags": []
   },
   "source": [
    "### Experiment with the returned DataFrame "
   ]
  },
  {
   "cell_type": "markdown",
   "id": "b077bd3f-a38b-4f6f-ab2f-ff6b15a0ed87",
   "metadata": {
    "tags": []
   },
   "source": [
    "#### Define a function to plot and display data"
   ]
  },
  {
   "cell_type": "code",
   "execution_count": 8,
   "id": "e3411f1b-028f-45c5-9c79-a4311e89cce7",
   "metadata": {},
   "outputs": [],
   "source": [
    "def plot_and_display(df, column_name):\n",
    "    df = df.sort_values(column_name,ascending = False)\n",
    "    df[['DTSubjectName', column_name]].iplot(x='DTSubjectName')\n",
    "    display(df)"
   ]
  },
  {
   "cell_type": "markdown",
   "id": "bd5e6d07-d25c-4df2-ba82-832178512b42",
   "metadata": {
    "tags": []
   },
   "source": [
    "#### Get the Equities by Market Cap"
   ]
  },
  {
   "cell_type": "code",
   "execution_count": 9,
   "id": "5c95c0f2-6f73-47d4-a783-da5d6cc092f8",
   "metadata": {
    "tags": []
   },
   "outputs": [
    {
     "data": {
      "application/vnd.plotly.v1+json": {
       "config": {
        "linkText": "Export to plot.ly",
        "plotlyServerURL": "https://plot.ly",
        "showLink": true
       },
       "data": [
        {
         "line": {
          "color": "rgba(255, 153, 51, 1.0)",
          "dash": "solid",
          "shape": "linear",
          "width": 1.3
         },
         "mode": "lines",
         "name": "MktCapCompanyUsd",
         "text": "",
         "type": "scatter",
         "x": [
          "Berkshire Hathaway Inc",
          "Berkshire Hathaway Inc",
          "UnitedHealth Group Inc",
          "Johnson & Johnson",
          "Exxon Mobil Corp",
          "Visa Inc",
          "JPMorgan Chase & Co",
          "Walmart Inc",
          "Procter & Gamble Co",
          "Eli Lilly and Co",
          "Mastercard Inc",
          "Chevron Corp",
          "Home Depot Inc",
          "Abbvie Inc",
          "Merck & Co Inc",
          "Pfizer Inc",
          "Bank of America Corp",
          "Coca-Cola Co",
          "Oracle Corp",
          "Thermo Fisher Scientific Inc",
          "Danaher Corp",
          "Abbott Laboratories",
          "McDonald's Corp",
          "Nike Inc",
          "Accenture PLC",
          "Verizon Communications Inc",
          "Nextera Energy Inc",
          "Walt Disney Co",
          "Wells Fargo & Co",
          "Philip Morris International Inc",
          "Linde PLC",
          "Charles Schwab Corp",
          "Bristol-Myers Squibb Co",
          "United Parcel Service Inc",
          "Raytheon Technologies Corp",
          "Morgan Stanley",
          "Conocophillips",
          "Salesforce Inc",
          "AT&T Inc",
          "Royal Bank of Canada",
          "International Business Machines Corp",
          "Union Pacific Corp",
          "Deere & Co",
          "Caterpillar Inc",
          "Lockheed Martin Corp",
          "Lowe's Companies Inc",
          "Boeing Co",
          "CVS Health Corp",
          "Toronto-Dominion Bank",
          "Goldman Sachs Group Inc",
          "Elevance Health Inc",
          "American Express Co",
          "S&P Global Inc",
          "BlackRock Inc",
          "Prologis Inc",
          "Medtronic PLC",
          "American Tower Corp",
          "Stryker Corp",
          "Cigna Corp",
          "Blackstone Inc",
          "Estee Lauder Companies Inc",
          "Chubb Ltd",
          "TJX Companies Inc",
          "Citigroup Inc",
          "Marsh & McLennan Companies Inc",
          "Canadian National Railway Co",
          "Altria Group Inc",
          "Northrop Grumman Corp",
          "Duke Energy Corp",
          "Enbridge Inc",
          "ServiceNow Inc",
          "Southern Co",
          "Progressive Corp",
          "General Electric Co",
          "Schlumberger NV",
          "Becton Dickinson and Co",
          "EOG Resources Inc",
          "Canadian Pacific Railway Ltd",
          "US Bancorp",
          "HCA Healthcare Inc",
          "Target Corp",
          "Zoetis Inc",
          "3M Co",
          "UBS Group AG",
          "Air Products and Chemicals Inc",
          "Illinois Tool Works Inc",
          "General Dynamics Corp",
          "Boston Scientific Corp",
          "Colgate-Palmolive Co",
          "PNC Financial Services Group Inc",
          "Waste Management Inc",
          "Bank of Montreal",
          "Sherwin-Williams Co",
          "Eaton Corporation PLC",
          "Aon PLC",
          "Humana Inc",
          "Crown Castle Inc",
          "Truist Financial Corp",
          "Bank of Nova Scotia",
          "Norfolk Southern Corp",
          "Intercontinental Exchange Inc",
          "Canadian Natural Resources Ltd",
          "MetLife Inc",
          "Thomson Reuters Corp",
          "Emerson Electric Co",
          "Freeport-McMoRan Inc",
          "Occidental Petroleum Corp",
          "Dollar General Corp",
          "Brookfield Corp",
          "Mckesson Corp",
          "Pioneer Natural Resources Co",
          "Dominion Energy Inc",
          "VMware Inc",
          "Moody's Corp",
          "Marathon Petroleum Corp",
          "Uber Technologies Inc",
          "Constellation Brands Inc",
          "General Mills Inc",
          "General Motors Co",
          "Southern Copper Corp",
          "Public Storage",
          "Sempra Energy",
          "Stellantis NV",
          "Ford Motor Co",
          "Phillips 66",
          "Archer-Daniels-Midland Co",
          "American International Group Inc",
          "Edwards Lifesciences Corp",
          "Shopify Inc",
          "Roper Technologies Inc",
          "Kimberly-Clark Corp",
          "Amphenol Corp",
          "Valero Energy Corp",
          "Autozone Inc",
          "FedEx Corp",
          "Hershey Co",
          "Johnson Controls International PLC",
          "Centene Corp",
          "Agilent Technologies Inc",
          "Aflac Inc",
          "Travelers Companies Inc",
          "Motorola Solutions Inc",
          "Ecolab Inc",
          "Corteva Inc",
          "Ferrari NV",
          "Hess Corp",
          "Snowflake Inc.",
          "Simon Property Group Inc",
          "KKR & Co Inc",
          "Fidelity National Information Services Inc",
          "Kinder Morgan Inc",
          "BCE Inc",
          "Newmont Corporation",
          "Republic Services Inc",
          "Realty Income Corp",
          "Suncor Energy Inc",
          "Trane Technologies PLC",
          "TC Energy Corp",
          "Arthur J. Gallagher & Co.",
          "Las Vegas Sands Corp",
          "Block Inc",
          "Williams Companies Inc",
          "L3harris Technologies Inc",
          "PG&E Corp",
          "Sysco Corp",
          "IQVIA Holdings Inc",
          "Devon Energy Corp",
          "Bank of New York Mellon Corp",
          "Chipotle Mexican Grill Inc",
          "Parker-Hannifin Corp",
          "MSCI Inc",
          "Canadian Imperial Bank of Commerce",
          "Nutrien Ltd",
          "TE Connectivity Ltd",
          "Prudential Financial Inc",
          "Allstate Corp",
          "Apollo Global Management Inc",
          "Dow Inc",
          "Capital One Financial Corp",
          "Yum! Brands Inc",
          "Carrier Global Corp",
          "Nucor Corp",
          "Dupont De Nemours Inc",
          "Alcon AG",
          "Halliburton Co",
          "Arista Networks Inc",
          "Cenovus Energy Inc",
          "Hilton Worldwide Holdings Inc",
          "TransDigm Group Inc",
          "Manulife Financial Corp",
          "Consolidated Edison Inc",
          "Waste Connections Inc",
          "Cummins Inc",
          "Otis Worldwide Corp",
          "Ameriprise Financial Inc",
          "Barrick Gold Corp",
          "Mettler-Toledo International Inc",
          "Amerisourcebergen Corp",
          "Welltower Inc",
          "AMETEK Inc",
          "Kroger Co",
          "VICI Properties Inc",
          "D R Horton Inc",
          "Brown-Forman Corp",
          "Brown-Forman Corp",
          "Public Service Enterprise Group Inc",
          "Resmed Inc",
          "PPG Industries Inc",
          "Keysight Technologies Inc"
         ],
         "y": [
          693513590760,
          693513590760,
          471379107328,
          470946932128,
          439884760000,
          438335389155,
          400030482625,
          387691975763,
          360739431000,
          345009595490,
          341462439091,
          332856539308,
          325864346814,
          289482574354,
          284167180765,
          281395457739,
          273885836639,
          272098374570,
          227779453440,
          220382527389,
          193907424931,
          193902839740,
          193645552805,
          189644067958,
          177330362091,
          172738491595,
          167895456957,
          167733991056,
          162517436799,
          156926979335,
          156028465293,
          155592726656,
          154401764399,
          153185654963,
          148240928551,
          146447981156,
          141229694620,
          139590000000,
          136410780000,
          132811532632,
          128928419363,
          128640919392,
          126297513594,
          125606001922,
          124878243369,
          121781051579,
          121366017218,
          120858676565,
          120052244843,
          117743246247,
          115936461406,
          112488410055,
          111299796000,
          108426187036,
          107963270365,
          107704672818,
          101967627057,
          95542216000,
          94870812941,
          94633271737,
          93452716564,
          93137281485,
          92278561339,
          90954610493,
          83929768510,
          81630649527,
          81382558583,
          81027054526,
          80710279133,
          80566364302,
          79557700000,
          78939666758,
          76775400000,
          76705303428,
          73310600000,
          73136458415,
          73047757722,
          71340264520,
          70437037234,
          70362532296,
          70298556639,
          69426084375,
          69175775812,
          69078157603,
          68059211089,
          67832896210,
          67324896216,
          66602474613,
          66516459684,
          66035425273,
          64407961133,
          63544996118,
          63277639318,
          63162714000,
          62618520785,
          62302548494,
          62077430943,
          59505455100,
          58711205149,
          58086916041,
          58050270386,
          57904258824,
          57425328143,
          56581690010,
          56431388000,
          55743760449,
          55543743645,
          54440463556,
          53888084332,
          53109420000,
          52996397395,
          52671325708,
          52293428330,
          52048952000,
          51824514913,
          51675094179,
          49813560368,
          49462443049,
          49283971541,
          48875285210,
          48846792086,
          48734244599,
          48335868976,
          48286134128,
          47584611204,
          47456983870,
          47446703438,
          47278380358,
          47261793488,
          46953486387,
          46172293380,
          46137679686,
          46116294514,
          45890697803,
          45797461053,
          45788786743,
          45185115896,
          44994995205,
          44905246306,
          44719033235,
          43876887105,
          43141771986,
          42655850265,
          42648027480,
          42361694369,
          42105687201,
          41949504000,
          41547389846,
          41419480610,
          41103394917,
          40976337954,
          40961626145,
          40885482033,
          40527120042,
          40520410959,
          40235083780,
          40144864765,
          40084904231,
          40004781600,
          39652587231,
          39652113797,
          39402300000,
          39400050369,
          39151245559,
          38858933893,
          38593061978,
          38502930000,
          38344803200,
          38145636167,
          38122377476,
          37909765663,
          37635873339,
          37465854886,
          37312658820,
          37234240000,
          36853522403,
          36832174105,
          36827722546,
          36566723197,
          36247594596,
          35148071475,
          35146488270,
          35038524502,
          34915556272,
          34896237640,
          34786386605,
          34785142377,
          34575097213,
          34449569041,
          34427107157,
          34276202488,
          34098104500,
          33904860000,
          33647657439,
          33295813223,
          33257789919,
          33253343486,
          32971633423,
          32528376342,
          32346821817,
          32190509718,
          31866055688,
          31574373496,
          31403785144,
          31403785144,
          31189348497,
          30893401785,
          30546510398,
          30482837975
         ]
        }
       ],
       "layout": {
        "autosize": true,
        "legend": {
         "bgcolor": "#151516",
         "font": {
          "color": "#D9D9D9"
         }
        },
        "paper_bgcolor": "#151516",
        "plot_bgcolor": "#151516",
        "template": {
         "data": {
          "bar": [
           {
            "error_x": {
             "color": "#2a3f5f"
            },
            "error_y": {
             "color": "#2a3f5f"
            },
            "marker": {
             "line": {
              "color": "#E5ECF6",
              "width": 0.5
             },
             "pattern": {
              "fillmode": "overlay",
              "size": 10,
              "solidity": 0.2
             }
            },
            "type": "bar"
           }
          ],
          "barpolar": [
           {
            "marker": {
             "line": {
              "color": "#E5ECF6",
              "width": 0.5
             },
             "pattern": {
              "fillmode": "overlay",
              "size": 10,
              "solidity": 0.2
             }
            },
            "type": "barpolar"
           }
          ],
          "carpet": [
           {
            "aaxis": {
             "endlinecolor": "#2a3f5f",
             "gridcolor": "white",
             "linecolor": "white",
             "minorgridcolor": "white",
             "startlinecolor": "#2a3f5f"
            },
            "baxis": {
             "endlinecolor": "#2a3f5f",
             "gridcolor": "white",
             "linecolor": "white",
             "minorgridcolor": "white",
             "startlinecolor": "#2a3f5f"
            },
            "type": "carpet"
           }
          ],
          "choropleth": [
           {
            "colorbar": {
             "outlinewidth": 0,
             "ticks": ""
            },
            "type": "choropleth"
           }
          ],
          "contour": [
           {
            "colorbar": {
             "outlinewidth": 0,
             "ticks": ""
            },
            "colorscale": [
             [
              0,
              "#0d0887"
             ],
             [
              0.1111111111111111,
              "#46039f"
             ],
             [
              0.2222222222222222,
              "#7201a8"
             ],
             [
              0.3333333333333333,
              "#9c179e"
             ],
             [
              0.4444444444444444,
              "#bd3786"
             ],
             [
              0.5555555555555556,
              "#d8576b"
             ],
             [
              0.6666666666666666,
              "#ed7953"
             ],
             [
              0.7777777777777778,
              "#fb9f3a"
             ],
             [
              0.8888888888888888,
              "#fdca26"
             ],
             [
              1,
              "#f0f921"
             ]
            ],
            "type": "contour"
           }
          ],
          "contourcarpet": [
           {
            "colorbar": {
             "outlinewidth": 0,
             "ticks": ""
            },
            "type": "contourcarpet"
           }
          ],
          "heatmap": [
           {
            "colorbar": {
             "outlinewidth": 0,
             "ticks": ""
            },
            "colorscale": [
             [
              0,
              "#0d0887"
             ],
             [
              0.1111111111111111,
              "#46039f"
             ],
             [
              0.2222222222222222,
              "#7201a8"
             ],
             [
              0.3333333333333333,
              "#9c179e"
             ],
             [
              0.4444444444444444,
              "#bd3786"
             ],
             [
              0.5555555555555556,
              "#d8576b"
             ],
             [
              0.6666666666666666,
              "#ed7953"
             ],
             [
              0.7777777777777778,
              "#fb9f3a"
             ],
             [
              0.8888888888888888,
              "#fdca26"
             ],
             [
              1,
              "#f0f921"
             ]
            ],
            "type": "heatmap"
           }
          ],
          "heatmapgl": [
           {
            "colorbar": {
             "outlinewidth": 0,
             "ticks": ""
            },
            "colorscale": [
             [
              0,
              "#0d0887"
             ],
             [
              0.1111111111111111,
              "#46039f"
             ],
             [
              0.2222222222222222,
              "#7201a8"
             ],
             [
              0.3333333333333333,
              "#9c179e"
             ],
             [
              0.4444444444444444,
              "#bd3786"
             ],
             [
              0.5555555555555556,
              "#d8576b"
             ],
             [
              0.6666666666666666,
              "#ed7953"
             ],
             [
              0.7777777777777778,
              "#fb9f3a"
             ],
             [
              0.8888888888888888,
              "#fdca26"
             ],
             [
              1,
              "#f0f921"
             ]
            ],
            "type": "heatmapgl"
           }
          ],
          "histogram": [
           {
            "marker": {
             "pattern": {
              "fillmode": "overlay",
              "size": 10,
              "solidity": 0.2
             }
            },
            "type": "histogram"
           }
          ],
          "histogram2d": [
           {
            "colorbar": {
             "outlinewidth": 0,
             "ticks": ""
            },
            "colorscale": [
             [
              0,
              "#0d0887"
             ],
             [
              0.1111111111111111,
              "#46039f"
             ],
             [
              0.2222222222222222,
              "#7201a8"
             ],
             [
              0.3333333333333333,
              "#9c179e"
             ],
             [
              0.4444444444444444,
              "#bd3786"
             ],
             [
              0.5555555555555556,
              "#d8576b"
             ],
             [
              0.6666666666666666,
              "#ed7953"
             ],
             [
              0.7777777777777778,
              "#fb9f3a"
             ],
             [
              0.8888888888888888,
              "#fdca26"
             ],
             [
              1,
              "#f0f921"
             ]
            ],
            "type": "histogram2d"
           }
          ],
          "histogram2dcontour": [
           {
            "colorbar": {
             "outlinewidth": 0,
             "ticks": ""
            },
            "colorscale": [
             [
              0,
              "#0d0887"
             ],
             [
              0.1111111111111111,
              "#46039f"
             ],
             [
              0.2222222222222222,
              "#7201a8"
             ],
             [
              0.3333333333333333,
              "#9c179e"
             ],
             [
              0.4444444444444444,
              "#bd3786"
             ],
             [
              0.5555555555555556,
              "#d8576b"
             ],
             [
              0.6666666666666666,
              "#ed7953"
             ],
             [
              0.7777777777777778,
              "#fb9f3a"
             ],
             [
              0.8888888888888888,
              "#fdca26"
             ],
             [
              1,
              "#f0f921"
             ]
            ],
            "type": "histogram2dcontour"
           }
          ],
          "mesh3d": [
           {
            "colorbar": {
             "outlinewidth": 0,
             "ticks": ""
            },
            "type": "mesh3d"
           }
          ],
          "parcoords": [
           {
            "line": {
             "colorbar": {
              "outlinewidth": 0,
              "ticks": ""
             }
            },
            "type": "parcoords"
           }
          ],
          "pie": [
           {
            "automargin": true,
            "type": "pie"
           }
          ],
          "scatter": [
           {
            "marker": {
             "colorbar": {
              "outlinewidth": 0,
              "ticks": ""
             }
            },
            "type": "scatter"
           }
          ],
          "scatter3d": [
           {
            "line": {
             "colorbar": {
              "outlinewidth": 0,
              "ticks": ""
             }
            },
            "marker": {
             "colorbar": {
              "outlinewidth": 0,
              "ticks": ""
             }
            },
            "type": "scatter3d"
           }
          ],
          "scattercarpet": [
           {
            "marker": {
             "colorbar": {
              "outlinewidth": 0,
              "ticks": ""
             }
            },
            "type": "scattercarpet"
           }
          ],
          "scattergeo": [
           {
            "marker": {
             "colorbar": {
              "outlinewidth": 0,
              "ticks": ""
             }
            },
            "type": "scattergeo"
           }
          ],
          "scattergl": [
           {
            "marker": {
             "colorbar": {
              "outlinewidth": 0,
              "ticks": ""
             }
            },
            "type": "scattergl"
           }
          ],
          "scattermapbox": [
           {
            "marker": {
             "colorbar": {
              "outlinewidth": 0,
              "ticks": ""
             }
            },
            "type": "scattermapbox"
           }
          ],
          "scatterpolar": [
           {
            "marker": {
             "colorbar": {
              "outlinewidth": 0,
              "ticks": ""
             }
            },
            "type": "scatterpolar"
           }
          ],
          "scatterpolargl": [
           {
            "marker": {
             "colorbar": {
              "outlinewidth": 0,
              "ticks": ""
             }
            },
            "type": "scatterpolargl"
           }
          ],
          "scatterternary": [
           {
            "marker": {
             "colorbar": {
              "outlinewidth": 0,
              "ticks": ""
             }
            },
            "type": "scatterternary"
           }
          ],
          "surface": [
           {
            "colorbar": {
             "outlinewidth": 0,
             "ticks": ""
            },
            "colorscale": [
             [
              0,
              "#0d0887"
             ],
             [
              0.1111111111111111,
              "#46039f"
             ],
             [
              0.2222222222222222,
              "#7201a8"
             ],
             [
              0.3333333333333333,
              "#9c179e"
             ],
             [
              0.4444444444444444,
              "#bd3786"
             ],
             [
              0.5555555555555556,
              "#d8576b"
             ],
             [
              0.6666666666666666,
              "#ed7953"
             ],
             [
              0.7777777777777778,
              "#fb9f3a"
             ],
             [
              0.8888888888888888,
              "#fdca26"
             ],
             [
              1,
              "#f0f921"
             ]
            ],
            "type": "surface"
           }
          ],
          "table": [
           {
            "cells": {
             "fill": {
              "color": "#EBF0F8"
             },
             "line": {
              "color": "white"
             }
            },
            "header": {
             "fill": {
              "color": "#C8D4E3"
             },
             "line": {
              "color": "white"
             }
            },
            "type": "table"
           }
          ]
         },
         "layout": {
          "annotationdefaults": {
           "arrowcolor": "#2a3f5f",
           "arrowhead": 0,
           "arrowwidth": 1
          },
          "autotypenumbers": "strict",
          "coloraxis": {
           "colorbar": {
            "outlinewidth": 0,
            "ticks": ""
           }
          },
          "colorscale": {
           "diverging": [
            [
             0,
             "#8e0152"
            ],
            [
             0.1,
             "#c51b7d"
            ],
            [
             0.2,
             "#de77ae"
            ],
            [
             0.3,
             "#f1b6da"
            ],
            [
             0.4,
             "#fde0ef"
            ],
            [
             0.5,
             "#f7f7f7"
            ],
            [
             0.6,
             "#e6f5d0"
            ],
            [
             0.7,
             "#b8e186"
            ],
            [
             0.8,
             "#7fbc41"
            ],
            [
             0.9,
             "#4d9221"
            ],
            [
             1,
             "#276419"
            ]
           ],
           "sequential": [
            [
             0,
             "#0d0887"
            ],
            [
             0.1111111111111111,
             "#46039f"
            ],
            [
             0.2222222222222222,
             "#7201a8"
            ],
            [
             0.3333333333333333,
             "#9c179e"
            ],
            [
             0.4444444444444444,
             "#bd3786"
            ],
            [
             0.5555555555555556,
             "#d8576b"
            ],
            [
             0.6666666666666666,
             "#ed7953"
            ],
            [
             0.7777777777777778,
             "#fb9f3a"
            ],
            [
             0.8888888888888888,
             "#fdca26"
            ],
            [
             1,
             "#f0f921"
            ]
           ],
           "sequentialminus": [
            [
             0,
             "#0d0887"
            ],
            [
             0.1111111111111111,
             "#46039f"
            ],
            [
             0.2222222222222222,
             "#7201a8"
            ],
            [
             0.3333333333333333,
             "#9c179e"
            ],
            [
             0.4444444444444444,
             "#bd3786"
            ],
            [
             0.5555555555555556,
             "#d8576b"
            ],
            [
             0.6666666666666666,
             "#ed7953"
            ],
            [
             0.7777777777777778,
             "#fb9f3a"
            ],
            [
             0.8888888888888888,
             "#fdca26"
            ],
            [
             1,
             "#f0f921"
            ]
           ]
          },
          "colorway": [
           "#636efa",
           "#EF553B",
           "#00cc96",
           "#ab63fa",
           "#FFA15A",
           "#19d3f3",
           "#FF6692",
           "#B6E880",
           "#FF97FF",
           "#FECB52"
          ],
          "font": {
           "color": "#2a3f5f"
          },
          "geo": {
           "bgcolor": "white",
           "lakecolor": "white",
           "landcolor": "#E5ECF6",
           "showlakes": true,
           "showland": true,
           "subunitcolor": "white"
          },
          "hoverlabel": {
           "align": "left"
          },
          "hovermode": "closest",
          "mapbox": {
           "style": "light"
          },
          "paper_bgcolor": "white",
          "plot_bgcolor": "#E5ECF6",
          "polar": {
           "angularaxis": {
            "gridcolor": "white",
            "linecolor": "white",
            "ticks": ""
           },
           "bgcolor": "#E5ECF6",
           "radialaxis": {
            "gridcolor": "white",
            "linecolor": "white",
            "ticks": ""
           }
          },
          "scene": {
           "xaxis": {
            "backgroundcolor": "#E5ECF6",
            "gridcolor": "white",
            "gridwidth": 2,
            "linecolor": "white",
            "showbackground": true,
            "ticks": "",
            "zerolinecolor": "white"
           },
           "yaxis": {
            "backgroundcolor": "#E5ECF6",
            "gridcolor": "white",
            "gridwidth": 2,
            "linecolor": "white",
            "showbackground": true,
            "ticks": "",
            "zerolinecolor": "white"
           },
           "zaxis": {
            "backgroundcolor": "#E5ECF6",
            "gridcolor": "white",
            "gridwidth": 2,
            "linecolor": "white",
            "showbackground": true,
            "ticks": "",
            "zerolinecolor": "white"
           }
          },
          "shapedefaults": {
           "line": {
            "color": "#2a3f5f"
           }
          },
          "ternary": {
           "aaxis": {
            "gridcolor": "white",
            "linecolor": "white",
            "ticks": ""
           },
           "baxis": {
            "gridcolor": "white",
            "linecolor": "white",
            "ticks": ""
           },
           "bgcolor": "#E5ECF6",
           "caxis": {
            "gridcolor": "white",
            "linecolor": "white",
            "ticks": ""
           }
          },
          "title": {
           "x": 0.05
          },
          "xaxis": {
           "automargin": true,
           "gridcolor": "white",
           "linecolor": "white",
           "ticks": "",
           "title": {
            "standoff": 15
           },
           "zerolinecolor": "white",
           "zerolinewidth": 2
          },
          "yaxis": {
           "automargin": true,
           "gridcolor": "white",
           "linecolor": "white",
           "ticks": "",
           "title": {
            "standoff": 15
           },
           "zerolinecolor": "white",
           "zerolinewidth": 2
          }
         }
        },
        "title": {
         "font": {
          "color": "#D9D9D9"
         }
        },
        "xaxis": {
         "autorange": true,
         "gridcolor": "#434343",
         "range": [
          0,
          206
         ],
         "showgrid": true,
         "tickfont": {
          "color": "#C2C2C2"
         },
         "title": {
          "font": {
           "color": "#D9D9D9"
          },
          "text": ""
         },
         "type": "category",
         "zerolinecolor": "#666570"
        },
        "yaxis": {
         "autorange": true,
         "gridcolor": "#434343",
         "range": [
          -6352203846.388893,
          730348632581.3889
         ],
         "showgrid": true,
         "tickfont": {
          "color": "#C2C2C2"
         },
         "title": {
          "font": {
           "color": "#D9D9D9"
          },
          "text": ""
         },
         "type": "linear",
         "zerolinecolor": "#666570"
        }
       }
      },
      "image/png": "[encoded data removed]",
      "text/html": [
       "<div>                            <div id=\"af7e4024-3fdc-4f35-bb32-9f96722069ce\" class=\"plotly-graph-div\" style=\"height:525px; width:100%;\"></div>            <script type=\"text/javascript\">                require([\"plotly\"], function(Plotly) {                    window.PLOTLYENV=window.PLOTLYENV || {};\n",
       "                    window.PLOTLYENV.BASE_URL='https://plot.ly';                                    if (document.getElementById(\"af7e4024-3fdc-4f35-bb32-9f96722069ce\")) {                    Plotly.newPlot(                        \"af7e4024-3fdc-4f35-bb32-9f96722069ce\",                        [{\"line\":{\"color\":\"rgba(255, 153, 51, 1.0)\",\"dash\":\"solid\",\"shape\":\"linear\",\"width\":1.3},\"mode\":\"lines\",\"name\":\"MktCapCompanyUsd\",\"text\":\"\",\"x\":[\"Berkshire Hathaway Inc\",\"Berkshire Hathaway Inc\",\"UnitedHealth Group Inc\",\"Johnson & Johnson\",\"Exxon Mobil Corp\",\"Visa Inc\",\"JPMorgan Chase & Co\",\"Walmart Inc\",\"Procter & Gamble Co\",\"Eli Lilly and Co\",\"Mastercard Inc\",\"Chevron Corp\",\"Home Depot Inc\",\"Abbvie Inc\",\"Merck & Co Inc\",\"Pfizer Inc\",\"Bank of America Corp\",\"Coca-Cola Co\",\"Oracle Corp\",\"Thermo Fisher Scientific Inc\",\"Danaher Corp\",\"Abbott Laboratories\",\"McDonald's Corp\",\"Nike Inc\",\"Accenture PLC\",\"Verizon Communications Inc\",\"Nextera Energy Inc\",\"Walt Disney Co\",\"Wells Fargo & Co\",\"Philip Morris International Inc\",\"Linde PLC\",\"Charles Schwab Corp\",\"Bristol-Myers Squibb Co\",\"United Parcel Service Inc\",\"Raytheon Technologies Corp\",\"Morgan Stanley\",\"Conocophillips\",\"Salesforce Inc\",\"AT&T Inc\",\"Royal Bank of Canada\",\"International Business Machines Corp\",\"Union Pacific Corp\",\"Deere & Co\",\"Caterpillar Inc\",\"Lockheed Martin Corp\",\"Lowe's Companies Inc\",\"Boeing Co\",\"CVS Health Corp\",\"Toronto-Dominion Bank\",\"Goldman Sachs Group Inc\",\"Elevance Health Inc\",\"American Express Co\",\"S&P Global Inc\",\"BlackRock Inc\",\"Prologis Inc\",\"Medtronic PLC\",\"American Tower Corp\",\"Stryker Corp\",\"Cigna Corp\",\"Blackstone Inc\",\"Estee Lauder Companies Inc\",\"Chubb Ltd\",\"TJX Companies Inc\",\"Citigroup Inc\",\"Marsh & McLennan Companies Inc\",\"Canadian National Railway Co\",\"Altria Group Inc\",\"Northrop Grumman Corp\",\"Duke Energy Corp\",\"Enbridge Inc\",\"ServiceNow Inc\",\"Southern Co\",\"Progressive Corp\",\"General Electric Co\",\"Schlumberger NV\",\"Becton Dickinson and Co\",\"EOG Resources Inc\",\"Canadian Pacific Railway Ltd\",\"US Bancorp\",\"HCA Healthcare Inc\",\"Target Corp\",\"Zoetis Inc\",\"3M Co\",\"UBS Group AG\",\"Air Products and Chemicals Inc\",\"Illinois Tool Works Inc\",\"General Dynamics Corp\",\"Boston Scientific Corp\",\"Colgate-Palmolive Co\",\"PNC Financial Services Group Inc\",\"Waste Management Inc\",\"Bank of Montreal\",\"Sherwin-Williams Co\",\"Eaton Corporation PLC\",\"Aon PLC\",\"Humana Inc\",\"Crown Castle Inc\",\"Truist Financial Corp\",\"Bank of Nova Scotia\",\"Norfolk Southern Corp\",\"Intercontinental Exchange Inc\",\"Canadian Natural Resources Ltd\",\"MetLife Inc\",\"Thomson Reuters Corp\",\"Emerson Electric Co\",\"Freeport-McMoRan Inc\",\"Occidental Petroleum Corp\",\"Dollar General Corp\",\"Brookfield Corp\",\"Mckesson Corp\",\"Pioneer Natural Resources Co\",\"Dominion Energy Inc\",\"VMware Inc\",\"Moody's Corp\",\"Marathon Petroleum Corp\",\"Uber Technologies Inc\",\"Constellation Brands Inc\",\"General Mills Inc\",\"General Motors Co\",\"Southern Copper Corp\",\"Public Storage\",\"Sempra Energy\",\"Stellantis NV\",\"Ford Motor Co\",\"Phillips 66\",\"Archer-Daniels-Midland Co\",\"American International Group Inc\",\"Edwards Lifesciences Corp\",\"Shopify Inc\",\"Roper Technologies Inc\",\"Kimberly-Clark Corp\",\"Amphenol Corp\",\"Valero Energy Corp\",\"Autozone Inc\",\"FedEx Corp\",\"Hershey Co\",\"Johnson Controls International PLC\",\"Centene Corp\",\"Agilent Technologies Inc\",\"Aflac Inc\",\"Travelers Companies Inc\",\"Motorola Solutions Inc\",\"Ecolab Inc\",\"Corteva Inc\",\"Ferrari NV\",\"Hess Corp\",\"Snowflake Inc.\",\"Simon Property Group Inc\",\"KKR & Co Inc\",\"Fidelity National Information Services Inc\",\"Kinder Morgan Inc\",\"BCE Inc\",\"Newmont Corporation\",\"Republic Services Inc\",\"Realty Income Corp\",\"Suncor Energy Inc\",\"Trane Technologies PLC\",\"TC Energy Corp\",\"Arthur J. Gallagher & Co.\",\"Las Vegas Sands Corp\",\"Block Inc\",\"Williams Companies Inc\",\"L3harris Technologies Inc\",\"PG&E Corp\",\"Sysco Corp\",\"IQVIA Holdings Inc\",\"Devon Energy Corp\",\"Bank of New York Mellon Corp\",\"Chipotle Mexican Grill Inc\",\"Parker-Hannifin Corp\",\"MSCI Inc\",\"Canadian Imperial Bank of Commerce\",\"Nutrien Ltd\",\"TE Connectivity Ltd\",\"Prudential Financial Inc\",\"Allstate Corp\",\"Apollo Global Management Inc\",\"Dow Inc\",\"Capital One Financial Corp\",\"Yum! Brands Inc\",\"Carrier Global Corp\",\"Nucor Corp\",\"Dupont De Nemours Inc\",\"Alcon AG\",\"Halliburton Co\",\"Arista Networks Inc\",\"Cenovus Energy Inc\",\"Hilton Worldwide Holdings Inc\",\"TransDigm Group Inc\",\"Manulife Financial Corp\",\"Consolidated Edison Inc\",\"Waste Connections Inc\",\"Cummins Inc\",\"Otis Worldwide Corp\",\"Ameriprise Financial Inc\",\"Barrick Gold Corp\",\"Mettler-Toledo International Inc\",\"Amerisourcebergen Corp\",\"Welltower Inc\",\"AMETEK Inc\",\"Kroger Co\",\"VICI Properties Inc\",\"D R Horton Inc\",\"Brown-Forman Corp\",\"Brown-Forman Corp\",\"Public Service Enterprise Group Inc\",\"Resmed Inc\",\"PPG Industries Inc\",\"Keysight Technologies Inc\"],\"y\":[693513590760,693513590760,471379107328,470946932128,439884760000,438335389155,400030482625,387691975763,360739431000,345009595490,341462439091,332856539308,325864346814,289482574354,284167180765,281395457739,273885836639,272098374570,227779453440,220382527389,193907424931,193902839740,193645552805,189644067958,177330362091,172738491595,167895456957,167733991056,162517436799,156926979335,156028465293,155592726656,154401764399,153185654963,148240928551,146447981156,141229694620,139590000000,136410780000,132811532632,128928419363,128640919392,126297513594,125606001922,124878243369,121781051579,121366017218,120858676565,120052244843,117743246247,115936461406,112488410055,111299796000,108426187036,107963270365,107704672818,101967627057,95542216000,94870812941,94633271737,93452716564,93137281485,92278561339,90954610493,83929768510,81630649527,81382558583,81027054526,80710279133,80566364302,79557700000,78939666758,76775400000,76705303428,73310600000,73136458415,73047757722,71340264520,70437037234,70362532296,70298556639,69426084375,69175775812,69078157603,68059211089,67832896210,67324896216,66602474613,66516459684,66035425273,64407961133,63544996118,63277639318,63162714000,62618520785,62302548494,62077430943,59505455100,58711205149,58086916041,58050270386,57904258824,57425328143,56581690010,56431388000,55743760449,55543743645,54440463556,53888084332,53109420000,52996397395,52671325708,52293428330,52048952000,51824514913,51675094179,49813560368,49462443049,49283971541,48875285210,48846792086,48734244599,48335868976,48286134128,47584611204,47456983870,47446703438,47278380358,47261793488,46953486387,46172293380,46137679686,46116294514,45890697803,45797461053,45788786743,45185115896,44994995205,44905246306,44719033235,43876887105,43141771986,42655850265,42648027480,42361694369,42105687201,41949504000,41547389846,41419480610,41103394917,40976337954,40961626145,40885482033,40527120042,40520410959,40235083780,40144864765,40084904231,40004781600,39652587231,39652113797,39402300000,39400050369,39151245559,38858933893,38593061978,38502930000,38344803200,38145636167,38122377476,37909765663,37635873339,37465854886,37312658820,37234240000,36853522403,36832174105,36827722546,36566723197,36247594596,35148071475,35146488270,35038524502,34915556272,34896237640,34786386605,34785142377,34575097213,34449569041,34427107157,34276202488,34098104500,33904860000,33647657439,33295813223,33257789919,33253343486,32971633423,32528376342,32346821817,32190509718,31866055688,31574373496,31403785144,31403785144,31189348497,30893401785,30546510398,30482837975],\"type\":\"scatter\"}],                        {\"legend\":{\"bgcolor\":\"#151516\",\"font\":{\"color\":\"#D9D9D9\"}},\"paper_bgcolor\":\"#151516\",\"plot_bgcolor\":\"#151516\",\"template\":{\"data\":{\"barpolar\":[{\"marker\":{\"line\":{\"color\":\"#E5ECF6\",\"width\":0.5},\"pattern\":{\"fillmode\":\"overlay\",\"size\":10,\"solidity\":0.2}},\"type\":\"barpolar\"}],\"bar\":[{\"error_x\":{\"color\":\"#2a3f5f\"},\"error_y\":{\"color\":\"#2a3f5f\"},\"marker\":{\"line\":{\"color\":\"#E5ECF6\",\"width\":0.5},\"pattern\":{\"fillmode\":\"overlay\",\"size\":10,\"solidity\":0.2}},\"type\":\"bar\"}],\"carpet\":[{\"aaxis\":{\"endlinecolor\":\"#2a3f5f\",\"gridcolor\":\"white\",\"linecolor\":\"white\",\"minorgridcolor\":\"white\",\"startlinecolor\":\"#2a3f5f\"},\"baxis\":{\"endlinecolor\":\"#2a3f5f\",\"gridcolor\":\"white\",\"linecolor\":\"white\",\"minorgridcolor\":\"white\",\"startlinecolor\":\"#2a3f5f\"},\"type\":\"carpet\"}],\"choropleth\":[{\"colorbar\":{\"outlinewidth\":0,\"ticks\":\"\"},\"type\":\"choropleth\"}],\"contourcarpet\":[{\"colorbar\":{\"outlinewidth\":0,\"ticks\":\"\"},\"type\":\"contourcarpet\"}],\"contour\":[{\"colorbar\":{\"outlinewidth\":0,\"ticks\":\"\"},\"colorscale\":[[0.0,\"#0d0887\"],[0.1111111111111111,\"#46039f\"],[0.2222222222222222,\"#7201a8\"],[0.3333333333333333,\"#9c179e\"],[0.4444444444444444,\"#bd3786\"],[0.5555555555555556,\"#d8576b\"],[0.6666666666666666,\"#ed7953\"],[0.7777777777777778,\"#fb9f3a\"],[0.8888888888888888,\"#fdca26\"],[1.0,\"#f0f921\"]],\"type\":\"contour\"}],\"heatmapgl\":[{\"colorbar\":{\"outlinewidth\":0,\"ticks\":\"\"},\"colorscale\":[[0.0,\"#0d0887\"],[0.1111111111111111,\"#46039f\"],[0.2222222222222222,\"#7201a8\"],[0.3333333333333333,\"#9c179e\"],[0.4444444444444444,\"#bd3786\"],[0.5555555555555556,\"#d8576b\"],[0.6666666666666666,\"#ed7953\"],[0.7777777777777778,\"#fb9f3a\"],[0.8888888888888888,\"#fdca26\"],[1.0,\"#f0f921\"]],\"type\":\"heatmapgl\"}],\"heatmap\":[{\"colorbar\":{\"outlinewidth\":0,\"ticks\":\"\"},\"colorscale\":[[0.0,\"#0d0887\"],[0.1111111111111111,\"#46039f\"],[0.2222222222222222,\"#7201a8\"],[0.3333333333333333,\"#9c179e\"],[0.4444444444444444,\"#bd3786\"],[0.5555555555555556,\"#d8576b\"],[0.6666666666666666,\"#ed7953\"],[0.7777777777777778,\"#fb9f3a\"],[0.8888888888888888,\"#fdca26\"],[1.0,\"#f0f921\"]],\"type\":\"heatmap\"}],\"histogram2dcontour\":[{\"colorbar\":{\"outlinewidth\":0,\"ticks\":\"\"},\"colorscale\":[[0.0,\"#0d0887\"],[0.1111111111111111,\"#46039f\"],[0.2222222222222222,\"#7201a8\"],[0.3333333333333333,\"#9c179e\"],[0.4444444444444444,\"#bd3786\"],[0.5555555555555556,\"#d8576b\"],[0.6666666666666666,\"#ed7953\"],[0.7777777777777778,\"#fb9f3a\"],[0.8888888888888888,\"#fdca26\"],[1.0,\"#f0f921\"]],\"type\":\"histogram2dcontour\"}],\"histogram2d\":[{\"colorbar\":{\"outlinewidth\":0,\"ticks\":\"\"},\"colorscale\":[[0.0,\"#0d0887\"],[0.1111111111111111,\"#46039f\"],[0.2222222222222222,\"#7201a8\"],[0.3333333333333333,\"#9c179e\"],[0.4444444444444444,\"#bd3786\"],[0.5555555555555556,\"#d8576b\"],[0.6666666666666666,\"#ed7953\"],[0.7777777777777778,\"#fb9f3a\"],[0.8888888888888888,\"#fdca26\"],[1.0,\"#f0f921\"]],\"type\":\"histogram2d\"}],\"histogram\":[{\"marker\":{\"pattern\":{\"fillmode\":\"overlay\",\"size\":10,\"solidity\":0.2}},\"type\":\"histogram\"}],\"mesh3d\":[{\"colorbar\":{\"outlinewidth\":0,\"ticks\":\"\"},\"type\":\"mesh3d\"}],\"parcoords\":[{\"line\":{\"colorbar\":{\"outlinewidth\":0,\"ticks\":\"\"}},\"type\":\"parcoords\"}],\"pie\":[{\"automargin\":true,\"type\":\"pie\"}],\"scatter3d\":[{\"line\":{\"colorbar\":{\"outlinewidth\":0,\"ticks\":\"\"}},\"marker\":{\"colorbar\":{\"outlinewidth\":0,\"ticks\":\"\"}},\"type\":\"scatter3d\"}],\"scattercarpet\":[{\"marker\":{\"colorbar\":{\"outlinewidth\":0,\"ticks\":\"\"}},\"type\":\"scattercarpet\"}],\"scattergeo\":[{\"marker\":{\"colorbar\":{\"outlinewidth\":0,\"ticks\":\"\"}},\"type\":\"scattergeo\"}],\"scattergl\":[{\"marker\":{\"colorbar\":{\"outlinewidth\":0,\"ticks\":\"\"}},\"type\":\"scattergl\"}],\"scattermapbox\":[{\"marker\":{\"colorbar\":{\"outlinewidth\":0,\"ticks\":\"\"}},\"type\":\"scattermapbox\"}],\"scatterpolargl\":[{\"marker\":{\"colorbar\":{\"outlinewidth\":0,\"ticks\":\"\"}},\"type\":\"scatterpolargl\"}],\"scatterpolar\":[{\"marker\":{\"colorbar\":{\"outlinewidth\":0,\"ticks\":\"\"}},\"type\":\"scatterpolar\"}],\"scatter\":[{\"marker\":{\"colorbar\":{\"outlinewidth\":0,\"ticks\":\"\"}},\"type\":\"scatter\"}],\"scatterternary\":[{\"marker\":{\"colorbar\":{\"outlinewidth\":0,\"ticks\":\"\"}},\"type\":\"scatterternary\"}],\"surface\":[{\"colorbar\":{\"outlinewidth\":0,\"ticks\":\"\"},\"colorscale\":[[0.0,\"#0d0887\"],[0.1111111111111111,\"#46039f\"],[0.2222222222222222,\"#7201a8\"],[0.3333333333333333,\"#9c179e\"],[0.4444444444444444,\"#bd3786\"],[0.5555555555555556,\"#d8576b\"],[0.6666666666666666,\"#ed7953\"],[0.7777777777777778,\"#fb9f3a\"],[0.8888888888888888,\"#fdca26\"],[1.0,\"#f0f921\"]],\"type\":\"surface\"}],\"table\":[{\"cells\":{\"fill\":{\"color\":\"#EBF0F8\"},\"line\":{\"color\":\"white\"}},\"header\":{\"fill\":{\"color\":\"#C8D4E3\"},\"line\":{\"color\":\"white\"}},\"type\":\"table\"}]},\"layout\":{\"annotationdefaults\":{\"arrowcolor\":\"#2a3f5f\",\"arrowhead\":0,\"arrowwidth\":1},\"autotypenumbers\":\"strict\",\"coloraxis\":{\"colorbar\":{\"outlinewidth\":0,\"ticks\":\"\"}},\"colorscale\":{\"diverging\":[[0,\"#8e0152\"],[0.1,\"#c51b7d\"],[0.2,\"#de77ae\"],[0.3,\"#f1b6da\"],[0.4,\"#fde0ef\"],[0.5,\"#f7f7f7\"],[0.6,\"#e6f5d0\"],[0.7,\"#b8e186\"],[0.8,\"#7fbc41\"],[0.9,\"#4d9221\"],[1,\"#276419\"]],\"sequential\":[[0.0,\"#0d0887\"],[0.1111111111111111,\"#46039f\"],[0.2222222222222222,\"#7201a8\"],[0.3333333333333333,\"#9c179e\"],[0.4444444444444444,\"#bd3786\"],[0.5555555555555556,\"#d8576b\"],[0.6666666666666666,\"#ed7953\"],[0.7777777777777778,\"#fb9f3a\"],[0.8888888888888888,\"#fdca26\"],[1.0,\"#f0f921\"]],\"sequentialminus\":[[0.0,\"#0d0887\"],[0.1111111111111111,\"#46039f\"],[0.2222222222222222,\"#7201a8\"],[0.3333333333333333,\"#9c179e\"],[0.4444444444444444,\"#bd3786\"],[0.5555555555555556,\"#d8576b\"],[0.6666666666666666,\"#ed7953\"],[0.7777777777777778,\"#fb9f3a\"],[0.8888888888888888,\"#fdca26\"],[1.0,\"#f0f921\"]]},\"colorway\":[\"#636efa\",\"#EF553B\",\"#00cc96\",\"#ab63fa\",\"#FFA15A\",\"#19d3f3\",\"#FF6692\",\"#B6E880\",\"#FF97FF\",\"#FECB52\"],\"font\":{\"color\":\"#2a3f5f\"},\"geo\":{\"bgcolor\":\"white\",\"lakecolor\":\"white\",\"landcolor\":\"#E5ECF6\",\"showlakes\":true,\"showland\":true,\"subunitcolor\":\"white\"},\"hoverlabel\":{\"align\":\"left\"},\"hovermode\":\"closest\",\"mapbox\":{\"style\":\"light\"},\"paper_bgcolor\":\"white\",\"plot_bgcolor\":\"#E5ECF6\",\"polar\":{\"angularaxis\":{\"gridcolor\":\"white\",\"linecolor\":\"white\",\"ticks\":\"\"},\"bgcolor\":\"#E5ECF6\",\"radialaxis\":{\"gridcolor\":\"white\",\"linecolor\":\"white\",\"ticks\":\"\"}},\"scene\":{\"xaxis\":{\"backgroundcolor\":\"#E5ECF6\",\"gridcolor\":\"white\",\"gridwidth\":2,\"linecolor\":\"white\",\"showbackground\":true,\"ticks\":\"\",\"zerolinecolor\":\"white\"},\"yaxis\":{\"backgroundcolor\":\"#E5ECF6\",\"gridcolor\":\"white\",\"gridwidth\":2,\"linecolor\":\"white\",\"showbackground\":true,\"ticks\":\"\",\"zerolinecolor\":\"white\"},\"zaxis\":{\"backgroundcolor\":\"#E5ECF6\",\"gridcolor\":\"white\",\"gridwidth\":2,\"linecolor\":\"white\",\"showbackground\":true,\"ticks\":\"\",\"zerolinecolor\":\"white\"}},\"shapedefaults\":{\"line\":{\"color\":\"#2a3f5f\"}},\"ternary\":{\"aaxis\":{\"gridcolor\":\"white\",\"linecolor\":\"white\",\"ticks\":\"\"},\"baxis\":{\"gridcolor\":\"white\",\"linecolor\":\"white\",\"ticks\":\"\"},\"bgcolor\":\"#E5ECF6\",\"caxis\":{\"gridcolor\":\"white\",\"linecolor\":\"white\",\"ticks\":\"\"}},\"title\":{\"x\":0.05},\"xaxis\":{\"automargin\":true,\"gridcolor\":\"white\",\"linecolor\":\"white\",\"ticks\":\"\",\"title\":{\"standoff\":15},\"zerolinecolor\":\"white\",\"zerolinewidth\":2},\"yaxis\":{\"automargin\":true,\"gridcolor\":\"white\",\"linecolor\":\"white\",\"ticks\":\"\",\"title\":{\"standoff\":15},\"zerolinecolor\":\"white\",\"zerolinewidth\":2}}},\"title\":{\"font\":{\"color\":\"#D9D9D9\"}},\"xaxis\":{\"gridcolor\":\"#434343\",\"showgrid\":true,\"tickfont\":{\"color\":\"#C2C2C2\"},\"title\":{\"font\":{\"color\":\"#D9D9D9\"},\"text\":\"\"},\"zerolinecolor\":\"#666570\"},\"yaxis\":{\"gridcolor\":\"#434343\",\"showgrid\":true,\"tickfont\":{\"color\":\"#C2C2C2\"},\"title\":{\"font\":{\"color\":\"#D9D9D9\"},\"text\":\"\"},\"zerolinecolor\":\"#666570\"}},                        {\"showLink\": true, \"linkText\": \"Export to plot.ly\", \"plotlyServerURL\": \"https://plot.ly\", \"responsive\": true}                    ).then(function(){\n",
       "                            \n",
       "var gd = document.getElementById('af7e4024-3fdc-4f35-bb32-9f96722069ce');\n",
       "var x = new MutationObserver(function (mutations, observer) {{\n",
       "        var display = window.getComputedStyle(gd).display;\n",
       "        if (!display || display === 'none') {{\n",
       "            console.log([gd, 'removed!']);\n",
       "            Plotly.purge(gd);\n",
       "            observer.disconnect();\n",
       "        }}\n",
       "}});\n",
       "\n",
       "// Listen for the removal of the full notebook cells\n",
       "var notebookContainer = gd.closest('#notebook-container');\n",
       "if (notebookContainer) {{\n",
       "    x.observe(notebookContainer, {childList: true});\n",
       "}}\n",
       "\n",
       "// Listen for the clearing of the current output cell\n",
       "var outputEl = gd.closest('.output');\n",
       "if (outputEl) {{\n",
       "    x.observe(outputEl, {childList: true});\n",
       "}}\n",
       "\n",
       "                        })                };                });            </script>        </div>"
      ]
     },
     "metadata": {},
     "output_type": "display_data"
    },
    {
     "data": {
      "text/html": [
       "<div>\n",
       "<style scoped>\n",
       "    .dataframe tbody tr th:only-of-type {\n",
       "        vertical-align: middle;\n",
       "    }\n",
       "\n",
       "    .dataframe tbody tr th {\n",
       "        vertical-align: top;\n",
       "    }\n",
       "\n",
       "    .dataframe thead th {\n",
       "        text-align: right;\n",
       "    }\n",
       "</style>\n",
       "<table border=\"1\" class=\"dataframe\">\n",
       "  <thead>\n",
       "    <tr style=\"text-align: right;\">\n",
       "      <th></th>\n",
       "      <th>DTSubjectName</th>\n",
       "      <th>ExchangeName</th>\n",
       "      <th>RIC</th>\n",
       "      <th>MktCapCompanyUsd</th>\n",
       "      <th>ShareholdersEquityUsd</th>\n",
       "      <th>Pe</th>\n",
       "      <th>DebtToAssets</th>\n",
       "      <th>Beta</th>\n",
       "      <th>Eps</th>\n",
       "      <th>Gics</th>\n",
       "      <th>...</th>\n",
       "      <th>SearchAllCategory</th>\n",
       "      <th>RCSAssetCategory</th>\n",
       "      <th>RCSCurrencyLeaf</th>\n",
       "      <th>AssetState</th>\n",
       "      <th>BusinessEntity</th>\n",
       "      <th>PI</th>\n",
       "      <th>IssueISIN</th>\n",
       "      <th>CUSIP</th>\n",
       "      <th>CinCUSIP</th>\n",
       "      <th>SolvencyMargin</th>\n",
       "    </tr>\n",
       "  </thead>\n",
       "  <tbody>\n",
       "    <tr>\n",
       "      <th>0</th>\n",
       "      <td>Berkshire Hathaway Inc</td>\n",
       "      <td>NYSE Consolidated</td>\n",
       "      <td>BRKa</td>\n",
       "      <td>693513590760</td>\n",
       "      <td>506199000000</td>\n",
       "      <td>&lt;NA&gt;</td>\n",
       "      <td>0.462934</td>\n",
       "      <td>0.896323</td>\n",
       "      <td>-1189.17575</td>\n",
       "      <td>Financials/Diversified Financials/Diversified ...</td>\n",
       "      <td>...</td>\n",
       "      <td>Equities</td>\n",
       "      <td>A:1L</td>\n",
       "      <td>US Dollar</td>\n",
       "      <td>AC</td>\n",
       "      <td>QUOTExEQUITY</td>\n",
       "      <td>727363</td>\n",
       "      <td>US0846701086</td>\n",
       "      <td>084670108</td>\n",
       "      <td>&lt;NA&gt;</td>\n",
       "      <td>&lt;NA&gt;</td>\n",
       "    </tr>\n",
       "    <tr>\n",
       "      <th>1796</th>\n",
       "      <td>Berkshire Hathaway Inc</td>\n",
       "      <td>NYSE Consolidated</td>\n",
       "      <td>BRKb</td>\n",
       "      <td>693513590760</td>\n",
       "      <td>506199000000</td>\n",
       "      <td>&lt;NA&gt;</td>\n",
       "      <td>0.462934</td>\n",
       "      <td>0.891957</td>\n",
       "      <td>-0.8</td>\n",
       "      <td>Financials/Diversified Financials/Diversified ...</td>\n",
       "      <td>...</td>\n",
       "      <td>Equities</td>\n",
       "      <td>A:1L</td>\n",
       "      <td>US Dollar</td>\n",
       "      <td>AC</td>\n",
       "      <td>QUOTExEQUITY</td>\n",
       "      <td>727365</td>\n",
       "      <td>US0846707026</td>\n",
       "      <td>084670702</td>\n",
       "      <td>&lt;NA&gt;</td>\n",
       "      <td>&lt;NA&gt;</td>\n",
       "    </tr>\n",
       "    <tr>\n",
       "      <th>3</th>\n",
       "      <td>UnitedHealth Group Inc</td>\n",
       "      <td>NYSE Consolidated</td>\n",
       "      <td>UNH</td>\n",
       "      <td>471379107328</td>\n",
       "      <td>71760000000</td>\n",
       "      <td>24.711943</td>\n",
       "      <td>0.6396</td>\n",
       "      <td>0.693955</td>\n",
       "      <td>20.41523</td>\n",
       "      <td>Health Care/Health Care Equipment &amp; Services/H...</td>\n",
       "      <td>...</td>\n",
       "      <td>Equities</td>\n",
       "      <td>A:1L</td>\n",
       "      <td>US Dollar</td>\n",
       "      <td>AC</td>\n",
       "      <td>QUOTExEQUITY</td>\n",
       "      <td>1096631</td>\n",
       "      <td>US91324P1021</td>\n",
       "      <td>91324P102</td>\n",
       "      <td>&lt;NA&gt;</td>\n",
       "      <td>24.05608</td>\n",
       "    </tr>\n",
       "    <tr>\n",
       "      <th>10</th>\n",
       "      <td>Johnson &amp; Johnson</td>\n",
       "      <td>NYSE Consolidated</td>\n",
       "      <td>JNJ</td>\n",
       "      <td>470946932128</td>\n",
       "      <td>74023000000</td>\n",
       "      <td>25.077755</td>\n",
       "      <td>0.59332</td>\n",
       "      <td>0.560998</td>\n",
       "      <td>7.18286</td>\n",
       "      <td>Health Care/Pharmaceuticals, Biotechnology &amp; L...</td>\n",
       "      <td>...</td>\n",
       "      <td>Equities</td>\n",
       "      <td>A:1L</td>\n",
       "      <td>US Dollar</td>\n",
       "      <td>AC</td>\n",
       "      <td>QUOTExEQUITY</td>\n",
       "      <td>1097390</td>\n",
       "      <td>US4781601046</td>\n",
       "      <td>478160104</td>\n",
       "      <td>&lt;NA&gt;</td>\n",
       "      <td>&lt;NA&gt;</td>\n",
       "    </tr>\n",
       "    <tr>\n",
       "      <th>2</th>\n",
       "      <td>Exxon Mobil Corp</td>\n",
       "      <td>NYSE Consolidated</td>\n",
       "      <td>XOM</td>\n",
       "      <td>439884760000</td>\n",
       "      <td>168577000000</td>\n",
       "      <td>8.711722</td>\n",
       "      <td>0.481643</td>\n",
       "      <td>1.122766</td>\n",
       "      <td>12.26164</td>\n",
       "      <td>Energy/Energy/Oil, Gas &amp; Consumable Fuels/Inte...</td>\n",
       "      <td>...</td>\n",
       "      <td>Equities</td>\n",
       "      <td>A:1L</td>\n",
       "      <td>US Dollar</td>\n",
       "      <td>AC</td>\n",
       "      <td>QUOTExEQUITY</td>\n",
       "      <td>728548</td>\n",
       "      <td>US30231G1022</td>\n",
       "      <td>30231G102</td>\n",
       "      <td>&lt;NA&gt;</td>\n",
       "      <td>&lt;NA&gt;</td>\n",
       "    </tr>\n",
       "    <tr>\n",
       "      <th>...</th>\n",
       "      <td>...</td>\n",
       "      <td>...</td>\n",
       "      <td>...</td>\n",
       "      <td>...</td>\n",
       "      <td>...</td>\n",
       "      <td>...</td>\n",
       "      <td>...</td>\n",
       "      <td>...</td>\n",
       "      <td>...</td>\n",
       "      <td>...</td>\n",
       "      <td>...</td>\n",
       "      <td>...</td>\n",
       "      <td>...</td>\n",
       "      <td>...</td>\n",
       "      <td>...</td>\n",
       "      <td>...</td>\n",
       "      <td>...</td>\n",
       "      <td>...</td>\n",
       "      <td>...</td>\n",
       "      <td>...</td>\n",
       "      <td>...</td>\n",
       "    </tr>\n",
       "    <tr>\n",
       "      <th>488</th>\n",
       "      <td>Brown-Forman Corp</td>\n",
       "      <td>NYSE Consolidated</td>\n",
       "      <td>BFb</td>\n",
       "      <td>31403785144</td>\n",
       "      <td>2737000000</td>\n",
       "      <td>35.531481</td>\n",
       "      <td>0.570532</td>\n",
       "      <td>0.687191</td>\n",
       "      <td>1.84428</td>\n",
       "      <td>Consumer Staples/Food, Beverage &amp; Tobacco/Beve...</td>\n",
       "      <td>...</td>\n",
       "      <td>Equities</td>\n",
       "      <td>A:1L</td>\n",
       "      <td>US Dollar</td>\n",
       "      <td>AC</td>\n",
       "      <td>QUOTExEQUITY</td>\n",
       "      <td>725177</td>\n",
       "      <td>US1156372096</td>\n",
       "      <td>115637209</td>\n",
       "      <td>&lt;NA&gt;</td>\n",
       "      <td>&lt;NA&gt;</td>\n",
       "    </tr>\n",
       "    <tr>\n",
       "      <th>264</th>\n",
       "      <td>Public Service Enterprise Group Inc</td>\n",
       "      <td>NYSE Consolidated</td>\n",
       "      <td>PEG</td>\n",
       "      <td>31189348497</td>\n",
       "      <td>14438000000</td>\n",
       "      <td>45.662734</td>\n",
       "      <td>0.705341</td>\n",
       "      <td>0.595018</td>\n",
       "      <td>1.36895</td>\n",
       "      <td>Utilities/Utilities/Multi-Utilities/Multi-Util...</td>\n",
       "      <td>...</td>\n",
       "      <td>Equities</td>\n",
       "      <td>A:1L</td>\n",
       "      <td>US Dollar</td>\n",
       "      <td>AC</td>\n",
       "      <td>QUOTExEQUITY</td>\n",
       "      <td>724638</td>\n",
       "      <td>US7445731067</td>\n",
       "      <td>744573106</td>\n",
       "      <td>&lt;NA&gt;</td>\n",
       "      <td>&lt;NA&gt;</td>\n",
       "    </tr>\n",
       "    <tr>\n",
       "      <th>250</th>\n",
       "      <td>Resmed Inc</td>\n",
       "      <td>NYSE Consolidated</td>\n",
       "      <td>RMD</td>\n",
       "      <td>30893401785</td>\n",
       "      <td>3360751000</td>\n",
       "      <td>39.442752</td>\n",
       "      <td>0.340493</td>\n",
       "      <td>0.462311</td>\n",
       "      <td>5.34699</td>\n",
       "      <td>Health Care/Health Care Equipment &amp; Services/H...</td>\n",
       "      <td>...</td>\n",
       "      <td>Equities</td>\n",
       "      <td>A:1L</td>\n",
       "      <td>US Dollar</td>\n",
       "      <td>AC</td>\n",
       "      <td>QUOTExEQUITY</td>\n",
       "      <td>726786</td>\n",
       "      <td>US7611521078</td>\n",
       "      <td>761152107</td>\n",
       "      <td>&lt;NA&gt;</td>\n",
       "      <td>&lt;NA&gt;</td>\n",
       "    </tr>\n",
       "    <tr>\n",
       "      <th>306</th>\n",
       "      <td>PPG Industries Inc</td>\n",
       "      <td>NYSE Consolidated</td>\n",
       "      <td>PPG</td>\n",
       "      <td>30546510398</td>\n",
       "      <td>6286000000</td>\n",
       "      <td>29.22467</td>\n",
       "      <td>0.699733</td>\n",
       "      <td>1.194683</td>\n",
       "      <td>4.44727</td>\n",
       "      <td>Materials/Materials/Chemicals/Specialty Chemicals</td>\n",
       "      <td>...</td>\n",
       "      <td>Equities</td>\n",
       "      <td>A:1L</td>\n",
       "      <td>US Dollar</td>\n",
       "      <td>AC</td>\n",
       "      <td>QUOTExEQUITY</td>\n",
       "      <td>724680</td>\n",
       "      <td>US6935061076</td>\n",
       "      <td>693506107</td>\n",
       "      <td>&lt;NA&gt;</td>\n",
       "      <td>&lt;NA&gt;</td>\n",
       "    </tr>\n",
       "    <tr>\n",
       "      <th>286</th>\n",
       "      <td>Keysight Technologies Inc</td>\n",
       "      <td>NYSE Consolidated</td>\n",
       "      <td>KEYS.K</td>\n",
       "      <td>30482837975</td>\n",
       "      <td>4161000000</td>\n",
       "      <td>27.655982</td>\n",
       "      <td>0.486169</td>\n",
       "      <td>1.026481</td>\n",
       "      <td>6.16467</td>\n",
       "      <td>Information Technology/Technology Hardware &amp; E...</td>\n",
       "      <td>...</td>\n",
       "      <td>Equities</td>\n",
       "      <td>A:1L</td>\n",
       "      <td>US Dollar</td>\n",
       "      <td>AC</td>\n",
       "      <td>QUOTExEQUITY</td>\n",
       "      <td>169648531</td>\n",
       "      <td>US49338L1035</td>\n",
       "      <td>49338L103</td>\n",
       "      <td>&lt;NA&gt;</td>\n",
       "      <td>&lt;NA&gt;</td>\n",
       "    </tr>\n",
       "  </tbody>\n",
       "</table>\n",
       "<p>209 rows × 42 columns</p>\n",
       "</div>"
      ],
      "text/plain": [
       "                            DTSubjectName       ExchangeName     RIC  \\\n",
       "0                  Berkshire Hathaway Inc  NYSE Consolidated    BRKa   \n",
       "1796               Berkshire Hathaway Inc  NYSE Consolidated    BRKb   \n",
       "3                  UnitedHealth Group Inc  NYSE Consolidated     UNH   \n",
       "10                      Johnson & Johnson  NYSE Consolidated     JNJ   \n",
       "2                        Exxon Mobil Corp  NYSE Consolidated     XOM   \n",
       "...                                   ...                ...     ...   \n",
       "488                     Brown-Forman Corp  NYSE Consolidated     BFb   \n",
       "264   Public Service Enterprise Group Inc  NYSE Consolidated     PEG   \n",
       "250                            Resmed Inc  NYSE Consolidated     RMD   \n",
       "306                    PPG Industries Inc  NYSE Consolidated     PPG   \n",
       "286             Keysight Technologies Inc  NYSE Consolidated  KEYS.K   \n",
       "\n",
       "      MktCapCompanyUsd  ShareholdersEquityUsd         Pe  DebtToAssets  \\\n",
       "0         693513590760           506199000000       <NA>      0.462934   \n",
       "1796      693513590760           506199000000       <NA>      0.462934   \n",
       "3         471379107328            71760000000  24.711943        0.6396   \n",
       "10        470946932128            74023000000  25.077755       0.59332   \n",
       "2         439884760000           168577000000   8.711722      0.481643   \n",
       "...                ...                    ...        ...           ...   \n",
       "488        31403785144             2737000000  35.531481      0.570532   \n",
       "264        31189348497            14438000000  45.662734      0.705341   \n",
       "250        30893401785             3360751000  39.442752      0.340493   \n",
       "306        30546510398             6286000000   29.22467      0.699733   \n",
       "286        30482837975             4161000000  27.655982      0.486169   \n",
       "\n",
       "          Beta         Eps                                               Gics  \\\n",
       "0     0.896323 -1189.17575  Financials/Diversified Financials/Diversified ...   \n",
       "1796  0.891957        -0.8  Financials/Diversified Financials/Diversified ...   \n",
       "3     0.693955    20.41523  Health Care/Health Care Equipment & Services/H...   \n",
       "10    0.560998     7.18286  Health Care/Pharmaceuticals, Biotechnology & L...   \n",
       "2     1.122766    12.26164  Energy/Energy/Oil, Gas & Consumable Fuels/Inte...   \n",
       "...        ...         ...                                                ...   \n",
       "488   0.687191     1.84428  Consumer Staples/Food, Beverage & Tobacco/Beve...   \n",
       "264   0.595018     1.36895  Utilities/Utilities/Multi-Utilities/Multi-Util...   \n",
       "250   0.462311     5.34699  Health Care/Health Care Equipment & Services/H...   \n",
       "306   1.194683     4.44727  Materials/Materials/Chemicals/Specialty Chemicals   \n",
       "286   1.026481     6.16467  Information Technology/Technology Hardware & E...   \n",
       "\n",
       "      ...  SearchAllCategory  RCSAssetCategory  RCSCurrencyLeaf  AssetState  \\\n",
       "0     ...           Equities              A:1L        US Dollar          AC   \n",
       "1796  ...           Equities              A:1L        US Dollar          AC   \n",
       "3     ...           Equities              A:1L        US Dollar          AC   \n",
       "10    ...           Equities              A:1L        US Dollar          AC   \n",
       "2     ...           Equities              A:1L        US Dollar          AC   \n",
       "...   ...                ...               ...              ...         ...   \n",
       "488   ...           Equities              A:1L        US Dollar          AC   \n",
       "264   ...           Equities              A:1L        US Dollar          AC   \n",
       "250   ...           Equities              A:1L        US Dollar          AC   \n",
       "306   ...           Equities              A:1L        US Dollar          AC   \n",
       "286   ...           Equities              A:1L        US Dollar          AC   \n",
       "\n",
       "      BusinessEntity         PI     IssueISIN      CUSIP  CinCUSIP  \\\n",
       "0       QUOTExEQUITY     727363  US0846701086  084670108      <NA>   \n",
       "1796    QUOTExEQUITY     727365  US0846707026  084670702      <NA>   \n",
       "3       QUOTExEQUITY    1096631  US91324P1021  91324P102      <NA>   \n",
       "10      QUOTExEQUITY    1097390  US4781601046  478160104      <NA>   \n",
       "2       QUOTExEQUITY     728548  US30231G1022  30231G102      <NA>   \n",
       "...              ...        ...           ...        ...       ...   \n",
       "488     QUOTExEQUITY     725177  US1156372096  115637209      <NA>   \n",
       "264     QUOTExEQUITY     724638  US7445731067  744573106      <NA>   \n",
       "250     QUOTExEQUITY     726786  US7611521078  761152107      <NA>   \n",
       "306     QUOTExEQUITY     724680  US6935061076  693506107      <NA>   \n",
       "286     QUOTExEQUITY  169648531  US49338L1035  49338L103      <NA>   \n",
       "\n",
       "      SolvencyMargin  \n",
       "0               <NA>  \n",
       "1796            <NA>  \n",
       "3           24.05608  \n",
       "10              <NA>  \n",
       "2               <NA>  \n",
       "...              ...  \n",
       "488             <NA>  \n",
       "264             <NA>  \n",
       "250             <NA>  \n",
       "306             <NA>  \n",
       "286             <NA>  \n",
       "\n",
       "[209 rows x 42 columns]"
      ]
     },
     "metadata": {},
     "output_type": "display_data"
    }
   ],
   "source": [
    "equities = nyse_equities.query(\"MktCapCompanyUsd >= 30_000_000_000\")\n",
    "plot_and_display(equities, \"MktCapCompanyUsd\")"
   ]
  },
  {
   "cell_type": "code",
   "execution_count": 10,
   "id": "d1395725-3c07-4ba9-a498-c83b7485a114",
   "metadata": {
    "tags": []
   },
   "outputs": [
    {
     "data": {
      "application/vnd.plotly.v1+json": {
       "config": {
        "linkText": "Export to plot.ly",
        "plotlyServerURL": "https://plot.ly",
        "showLink": true
       },
       "data": [
        {
         "line": {
          "color": "rgba(255, 153, 51, 1.0)",
          "dash": "solid",
          "shape": "linear",
          "width": 1.3
         },
         "mode": "lines",
         "name": "Beta",
         "text": "",
         "type": "scatter",
         "x": [
          "Permian Resources Corp",
          "SM Energy Co",
          "Independence Contract Drilling Inc",
          "Borr Drilling Ltd",
          "Matador Resources Co",
          "Sunlight Financial Holdings Inc",
          "Nine Energy Service Inc",
          "Quantumscape Corp",
          "Rayonier Advanced Materials Inc",
          "Innovid Corp",
          "Oil States International Inc",
          "Helix Energy Solutions Group Inc",
          "Superior Industries International Inc",
          "Forum Energy Technologies Inc",
          "Laredo Petroleum Inc",
          "Nabors Industries Ltd",
          "Amplify Energy Corp",
          "Oceaneering International Inc",
          "Bakkt Holdings Inc",
          "Newpark Resources Inc",
          "Ovintiv Inc",
          "Kosmos Energy Ltd",
          "Seritage Growth Properties"
         ],
         "y": [
          4.102281,
          4.099876,
          3.603619,
          3.546276,
          3.501395,
          3.406618,
          3.404719,
          3.381766,
          3.374165,
          3.373576,
          3.343317,
          3.241385,
          3.217959,
          3.188829,
          3.165203,
          3.161918,
          3.120985,
          3.103988,
          3.103145,
          3.098999,
          3.09392,
          3.059593,
          3.02347
         ]
        }
       ],
       "layout": {
        "autosize": true,
        "legend": {
         "bgcolor": "#151516",
         "font": {
          "color": "#D9D9D9"
         }
        },
        "paper_bgcolor": "#151516",
        "plot_bgcolor": "#151516",
        "template": {
         "data": {
          "bar": [
           {
            "error_x": {
             "color": "#2a3f5f"
            },
            "error_y": {
             "color": "#2a3f5f"
            },
            "marker": {
             "line": {
              "color": "#E5ECF6",
              "width": 0.5
             },
             "pattern": {
              "fillmode": "overlay",
              "size": 10,
              "solidity": 0.2
             }
            },
            "type": "bar"
           }
          ],
          "barpolar": [
           {
            "marker": {
             "line": {
              "color": "#E5ECF6",
              "width": 0.5
             },
             "pattern": {
              "fillmode": "overlay",
              "size": 10,
              "solidity": 0.2
             }
            },
            "type": "barpolar"
           }
          ],
          "carpet": [
           {
            "aaxis": {
             "endlinecolor": "#2a3f5f",
             "gridcolor": "white",
             "linecolor": "white",
             "minorgridcolor": "white",
             "startlinecolor": "#2a3f5f"
            },
            "baxis": {
             "endlinecolor": "#2a3f5f",
             "gridcolor": "white",
             "linecolor": "white",
             "minorgridcolor": "white",
             "startlinecolor": "#2a3f5f"
            },
            "type": "carpet"
           }
          ],
          "choropleth": [
           {
            "colorbar": {
             "outlinewidth": 0,
             "ticks": ""
            },
            "type": "choropleth"
           }
          ],
          "contour": [
           {
            "colorbar": {
             "outlinewidth": 0,
             "ticks": ""
            },
            "colorscale": [
             [
              0,
              "#0d0887"
             ],
             [
              0.1111111111111111,
              "#46039f"
             ],
             [
              0.2222222222222222,
              "#7201a8"
             ],
             [
              0.3333333333333333,
              "#9c179e"
             ],
             [
              0.4444444444444444,
              "#bd3786"
             ],
             [
              0.5555555555555556,
              "#d8576b"
             ],
             [
              0.6666666666666666,
              "#ed7953"
             ],
             [
              0.7777777777777778,
              "#fb9f3a"
             ],
             [
              0.8888888888888888,
              "#fdca26"
             ],
             [
              1,
              "#f0f921"
             ]
            ],
            "type": "contour"
           }
          ],
          "contourcarpet": [
           {
            "colorbar": {
             "outlinewidth": 0,
             "ticks": ""
            },
            "type": "contourcarpet"
           }
          ],
          "heatmap": [
           {
            "colorbar": {
             "outlinewidth": 0,
             "ticks": ""
            },
            "colorscale": [
             [
              0,
              "#0d0887"
             ],
             [
              0.1111111111111111,
              "#46039f"
             ],
             [
              0.2222222222222222,
              "#7201a8"
             ],
             [
              0.3333333333333333,
              "#9c179e"
             ],
             [
              0.4444444444444444,
              "#bd3786"
             ],
             [
              0.5555555555555556,
              "#d8576b"
             ],
             [
              0.6666666666666666,
              "#ed7953"
             ],
             [
              0.7777777777777778,
              "#fb9f3a"
             ],
             [
              0.8888888888888888,
              "#fdca26"
             ],
             [
              1,
              "#f0f921"
             ]
            ],
            "type": "heatmap"
           }
          ],
          "heatmapgl": [
           {
            "colorbar": {
             "outlinewidth": 0,
             "ticks": ""
            },
            "colorscale": [
             [
              0,
              "#0d0887"
             ],
             [
              0.1111111111111111,
              "#46039f"
             ],
             [
              0.2222222222222222,
              "#7201a8"
             ],
             [
              0.3333333333333333,
              "#9c179e"
             ],
             [
              0.4444444444444444,
              "#bd3786"
             ],
             [
              0.5555555555555556,
              "#d8576b"
             ],
             [
              0.6666666666666666,
              "#ed7953"
             ],
             [
              0.7777777777777778,
              "#fb9f3a"
             ],
             [
              0.8888888888888888,
              "#fdca26"
             ],
             [
              1,
              "#f0f921"
             ]
            ],
            "type": "heatmapgl"
           }
          ],
          "histogram": [
           {
            "marker": {
             "pattern": {
              "fillmode": "overlay",
              "size": 10,
              "solidity": 0.2
             }
            },
            "type": "histogram"
           }
          ],
          "histogram2d": [
           {
            "colorbar": {
             "outlinewidth": 0,
             "ticks": ""
            },
            "colorscale": [
             [
              0,
              "#0d0887"
             ],
             [
              0.1111111111111111,
              "#46039f"
             ],
             [
              0.2222222222222222,
              "#7201a8"
             ],
             [
              0.3333333333333333,
              "#9c179e"
             ],
             [
              0.4444444444444444,
              "#bd3786"
             ],
             [
              0.5555555555555556,
              "#d8576b"
             ],
             [
              0.6666666666666666,
              "#ed7953"
             ],
             [
              0.7777777777777778,
              "#fb9f3a"
             ],
             [
              0.8888888888888888,
              "#fdca26"
             ],
             [
              1,
              "#f0f921"
             ]
            ],
            "type": "histogram2d"
           }
          ],
          "histogram2dcontour": [
           {
            "colorbar": {
             "outlinewidth": 0,
             "ticks": ""
            },
            "colorscale": [
             [
              0,
              "#0d0887"
             ],
             [
              0.1111111111111111,
              "#46039f"
             ],
             [
              0.2222222222222222,
              "#7201a8"
             ],
             [
              0.3333333333333333,
              "#9c179e"
             ],
             [
              0.4444444444444444,
              "#bd3786"
             ],
             [
              0.5555555555555556,
              "#d8576b"
             ],
             [
              0.6666666666666666,
              "#ed7953"
             ],
             [
              0.7777777777777778,
              "#fb9f3a"
             ],
             [
              0.8888888888888888,
              "#fdca26"
             ],
             [
              1,
              "#f0f921"
             ]
            ],
            "type": "histogram2dcontour"
           }
          ],
          "mesh3d": [
           {
            "colorbar": {
             "outlinewidth": 0,
             "ticks": ""
            },
            "type": "mesh3d"
           }
          ],
          "parcoords": [
           {
            "line": {
             "colorbar": {
              "outlinewidth": 0,
              "ticks": ""
             }
            },
            "type": "parcoords"
           }
          ],
          "pie": [
           {
            "automargin": true,
            "type": "pie"
           }
          ],
          "scatter": [
           {
            "marker": {
             "colorbar": {
              "outlinewidth": 0,
              "ticks": ""
             }
            },
            "type": "scatter"
           }
          ],
          "scatter3d": [
           {
            "line": {
             "colorbar": {
              "outlinewidth": 0,
              "ticks": ""
             }
            },
            "marker": {
             "colorbar": {
              "outlinewidth": 0,
              "ticks": ""
             }
            },
            "type": "scatter3d"
           }
          ],
          "scattercarpet": [
           {
            "marker": {
             "colorbar": {
              "outlinewidth": 0,
              "ticks": ""
             }
            },
            "type": "scattercarpet"
           }
          ],
          "scattergeo": [
           {
            "marker": {
             "colorbar": {
              "outlinewidth": 0,
              "ticks": ""
             }
            },
            "type": "scattergeo"
           }
          ],
          "scattergl": [
           {
            "marker": {
             "colorbar": {
              "outlinewidth": 0,
              "ticks": ""
             }
            },
            "type": "scattergl"
           }
          ],
          "scattermapbox": [
           {
            "marker": {
             "colorbar": {
              "outlinewidth": 0,
              "ticks": ""
             }
            },
            "type": "scattermapbox"
           }
          ],
          "scatterpolar": [
           {
            "marker": {
             "colorbar": {
              "outlinewidth": 0,
              "ticks": ""
             }
            },
            "type": "scatterpolar"
           }
          ],
          "scatterpolargl": [
           {
            "marker": {
             "colorbar": {
              "outlinewidth": 0,
              "ticks": ""
             }
            },
            "type": "scatterpolargl"
           }
          ],
          "scatterternary": [
           {
            "marker": {
             "colorbar": {
              "outlinewidth": 0,
              "ticks": ""
             }
            },
            "type": "scatterternary"
           }
          ],
          "surface": [
           {
            "colorbar": {
             "outlinewidth": 0,
             "ticks": ""
            },
            "colorscale": [
             [
              0,
              "#0d0887"
             ],
             [
              0.1111111111111111,
              "#46039f"
             ],
             [
              0.2222222222222222,
              "#7201a8"
             ],
             [
              0.3333333333333333,
              "#9c179e"
             ],
             [
              0.4444444444444444,
              "#bd3786"
             ],
             [
              0.5555555555555556,
              "#d8576b"
             ],
             [
              0.6666666666666666,
              "#ed7953"
             ],
             [
              0.7777777777777778,
              "#fb9f3a"
             ],
             [
              0.8888888888888888,
              "#fdca26"
             ],
             [
              1,
              "#f0f921"
             ]
            ],
            "type": "surface"
           }
          ],
          "table": [
           {
            "cells": {
             "fill": {
              "color": "#EBF0F8"
             },
             "line": {
              "color": "white"
             }
            },
            "header": {
             "fill": {
              "color": "#C8D4E3"
             },
             "line": {
              "color": "white"
             }
            },
            "type": "table"
           }
          ]
         },
         "layout": {
          "annotationdefaults": {
           "arrowcolor": "#2a3f5f",
           "arrowhead": 0,
           "arrowwidth": 1
          },
          "autotypenumbers": "strict",
          "coloraxis": {
           "colorbar": {
            "outlinewidth": 0,
            "ticks": ""
           }
          },
          "colorscale": {
           "diverging": [
            [
             0,
             "#8e0152"
            ],
            [
             0.1,
             "#c51b7d"
            ],
            [
             0.2,
             "#de77ae"
            ],
            [
             0.3,
             "#f1b6da"
            ],
            [
             0.4,
             "#fde0ef"
            ],
            [
             0.5,
             "#f7f7f7"
            ],
            [
             0.6,
             "#e6f5d0"
            ],
            [
             0.7,
             "#b8e186"
            ],
            [
             0.8,
             "#7fbc41"
            ],
            [
             0.9,
             "#4d9221"
            ],
            [
             1,
             "#276419"
            ]
           ],
           "sequential": [
            [
             0,
             "#0d0887"
            ],
            [
             0.1111111111111111,
             "#46039f"
            ],
            [
             0.2222222222222222,
             "#7201a8"
            ],
            [
             0.3333333333333333,
             "#9c179e"
            ],
            [
             0.4444444444444444,
             "#bd3786"
            ],
            [
             0.5555555555555556,
             "#d8576b"
            ],
            [
             0.6666666666666666,
             "#ed7953"
            ],
            [
             0.7777777777777778,
             "#fb9f3a"
            ],
            [
             0.8888888888888888,
             "#fdca26"
            ],
            [
             1,
             "#f0f921"
            ]
           ],
           "sequentialminus": [
            [
             0,
             "#0d0887"
            ],
            [
             0.1111111111111111,
             "#46039f"
            ],
            [
             0.2222222222222222,
             "#7201a8"
            ],
            [
             0.3333333333333333,
             "#9c179e"
            ],
            [
             0.4444444444444444,
             "#bd3786"
            ],
            [
             0.5555555555555556,
             "#d8576b"
            ],
            [
             0.6666666666666666,
             "#ed7953"
            ],
            [
             0.7777777777777778,
             "#fb9f3a"
            ],
            [
             0.8888888888888888,
             "#fdca26"
            ],
            [
             1,
             "#f0f921"
            ]
           ]
          },
          "colorway": [
           "#636efa",
           "#EF553B",
           "#00cc96",
           "#ab63fa",
           "#FFA15A",
           "#19d3f3",
           "#FF6692",
           "#B6E880",
           "#FF97FF",
           "#FECB52"
          ],
          "font": {
           "color": "#2a3f5f"
          },
          "geo": {
           "bgcolor": "white",
           "lakecolor": "white",
           "landcolor": "#E5ECF6",
           "showlakes": true,
           "showland": true,
           "subunitcolor": "white"
          },
          "hoverlabel": {
           "align": "left"
          },
          "hovermode": "closest",
          "mapbox": {
           "style": "light"
          },
          "paper_bgcolor": "white",
          "plot_bgcolor": "#E5ECF6",
          "polar": {
           "angularaxis": {
            "gridcolor": "white",
            "linecolor": "white",
            "ticks": ""
           },
           "bgcolor": "#E5ECF6",
           "radialaxis": {
            "gridcolor": "white",
            "linecolor": "white",
            "ticks": ""
           }
          },
          "scene": {
           "xaxis": {
            "backgroundcolor": "#E5ECF6",
            "gridcolor": "white",
            "gridwidth": 2,
            "linecolor": "white",
            "showbackground": true,
            "ticks": "",
            "zerolinecolor": "white"
           },
           "yaxis": {
            "backgroundcolor": "#E5ECF6",
            "gridcolor": "white",
            "gridwidth": 2,
            "linecolor": "white",
            "showbackground": true,
            "ticks": "",
            "zerolinecolor": "white"
           },
           "zaxis": {
            "backgroundcolor": "#E5ECF6",
            "gridcolor": "white",
            "gridwidth": 2,
            "linecolor": "white",
            "showbackground": true,
            "ticks": "",
            "zerolinecolor": "white"
           }
          },
          "shapedefaults": {
           "line": {
            "color": "#2a3f5f"
           }
          },
          "ternary": {
           "aaxis": {
            "gridcolor": "white",
            "linecolor": "white",
            "ticks": ""
           },
           "baxis": {
            "gridcolor": "white",
            "linecolor": "white",
            "ticks": ""
           },
           "bgcolor": "#E5ECF6",
           "caxis": {
            "gridcolor": "white",
            "linecolor": "white",
            "ticks": ""
           }
          },
          "title": {
           "x": 0.05
          },
          "xaxis": {
           "automargin": true,
           "gridcolor": "white",
           "linecolor": "white",
           "ticks": "",
           "title": {
            "standoff": 15
           },
           "zerolinecolor": "white",
           "zerolinewidth": 2
          },
          "yaxis": {
           "automargin": true,
           "gridcolor": "white",
           "linecolor": "white",
           "ticks": "",
           "title": {
            "standoff": 15
           },
           "zerolinecolor": "white",
           "zerolinewidth": 2
          }
         }
        },
        "title": {
         "font": {
          "color": "#D9D9D9"
         }
        },
        "xaxis": {
         "autorange": true,
         "gridcolor": "#434343",
         "range": [
          0,
          22
         ],
         "showgrid": true,
         "tickfont": {
          "color": "#C2C2C2"
         },
         "title": {
          "font": {
           "color": "#D9D9D9"
          },
          "text": ""
         },
         "type": "category",
         "zerolinecolor": "#666570"
        },
        "yaxis": {
         "autorange": true,
         "gridcolor": "#434343",
         "range": [
          2.9635360555555557,
          4.162214944444444
         ],
         "showgrid": true,
         "tickfont": {
          "color": "#C2C2C2"
         },
         "title": {
          "font": {
           "color": "#D9D9D9"
          },
          "text": ""
         },
         "type": "linear",
         "zerolinecolor": "#666570"
        }
       }
      },
      "image/png": "[encoded data removed]",
      "text/html": [
       "<div>                            <div id=\"174ff518-3542-438f-ad82-ec911027c293\" class=\"plotly-graph-div\" style=\"height:525px; width:100%;\"></div>            <script type=\"text/javascript\">                require([\"plotly\"], function(Plotly) {                    window.PLOTLYENV=window.PLOTLYENV || {};\n",
       "                    window.PLOTLYENV.BASE_URL='https://plot.ly';                                    if (document.getElementById(\"174ff518-3542-438f-ad82-ec911027c293\")) {                    Plotly.newPlot(                        \"174ff518-3542-438f-ad82-ec911027c293\",                        [{\"line\":{\"color\":\"rgba(255, 153, 51, 1.0)\",\"dash\":\"solid\",\"shape\":\"linear\",\"width\":1.3},\"mode\":\"lines\",\"name\":\"Beta\",\"text\":\"\",\"x\":[\"Permian Resources Corp\",\"SM Energy Co\",\"Independence Contract Drilling Inc\",\"Borr Drilling Ltd\",\"Matador Resources Co\",\"Sunlight Financial Holdings Inc\",\"Nine Energy Service Inc\",\"Quantumscape Corp\",\"Rayonier Advanced Materials Inc\",\"Innovid Corp\",\"Oil States International Inc\",\"Helix Energy Solutions Group Inc\",\"Superior Industries International Inc\",\"Forum Energy Technologies Inc\",\"Laredo Petroleum Inc\",\"Nabors Industries Ltd\",\"Amplify Energy Corp\",\"Oceaneering International Inc\",\"Bakkt Holdings Inc\",\"Newpark Resources Inc\",\"Ovintiv Inc\",\"Kosmos Energy Ltd\",\"Seritage Growth Properties\"],\"y\":[4.102281,4.099876,3.603619,3.546276,3.501395,3.406618,3.404719,3.381766,3.374165,3.373576,3.343317,3.241385,3.217959,3.188829,3.165203,3.161918,3.120985,3.103988,3.103145,3.098999,3.09392,3.059593,3.02347],\"type\":\"scatter\"}],                        {\"legend\":{\"bgcolor\":\"#151516\",\"font\":{\"color\":\"#D9D9D9\"}},\"paper_bgcolor\":\"#151516\",\"plot_bgcolor\":\"#151516\",\"template\":{\"data\":{\"barpolar\":[{\"marker\":{\"line\":{\"color\":\"#E5ECF6\",\"width\":0.5},\"pattern\":{\"fillmode\":\"overlay\",\"size\":10,\"solidity\":0.2}},\"type\":\"barpolar\"}],\"bar\":[{\"error_x\":{\"color\":\"#2a3f5f\"},\"error_y\":{\"color\":\"#2a3f5f\"},\"marker\":{\"line\":{\"color\":\"#E5ECF6\",\"width\":0.5},\"pattern\":{\"fillmode\":\"overlay\",\"size\":10,\"solidity\":0.2}},\"type\":\"bar\"}],\"carpet\":[{\"aaxis\":{\"endlinecolor\":\"#2a3f5f\",\"gridcolor\":\"white\",\"linecolor\":\"white\",\"minorgridcolor\":\"white\",\"startlinecolor\":\"#2a3f5f\"},\"baxis\":{\"endlinecolor\":\"#2a3f5f\",\"gridcolor\":\"white\",\"linecolor\":\"white\",\"minorgridcolor\":\"white\",\"startlinecolor\":\"#2a3f5f\"},\"type\":\"carpet\"}],\"choropleth\":[{\"colorbar\":{\"outlinewidth\":0,\"ticks\":\"\"},\"type\":\"choropleth\"}],\"contourcarpet\":[{\"colorbar\":{\"outlinewidth\":0,\"ticks\":\"\"},\"type\":\"contourcarpet\"}],\"contour\":[{\"colorbar\":{\"outlinewidth\":0,\"ticks\":\"\"},\"colorscale\":[[0.0,\"#0d0887\"],[0.1111111111111111,\"#46039f\"],[0.2222222222222222,\"#7201a8\"],[0.3333333333333333,\"#9c179e\"],[0.4444444444444444,\"#bd3786\"],[0.5555555555555556,\"#d8576b\"],[0.6666666666666666,\"#ed7953\"],[0.7777777777777778,\"#fb9f3a\"],[0.8888888888888888,\"#fdca26\"],[1.0,\"#f0f921\"]],\"type\":\"contour\"}],\"heatmapgl\":[{\"colorbar\":{\"outlinewidth\":0,\"ticks\":\"\"},\"colorscale\":[[0.0,\"#0d0887\"],[0.1111111111111111,\"#46039f\"],[0.2222222222222222,\"#7201a8\"],[0.3333333333333333,\"#9c179e\"],[0.4444444444444444,\"#bd3786\"],[0.5555555555555556,\"#d8576b\"],[0.6666666666666666,\"#ed7953\"],[0.7777777777777778,\"#fb9f3a\"],[0.8888888888888888,\"#fdca26\"],[1.0,\"#f0f921\"]],\"type\":\"heatmapgl\"}],\"heatmap\":[{\"colorbar\":{\"outlinewidth\":0,\"ticks\":\"\"},\"colorscale\":[[0.0,\"#0d0887\"],[0.1111111111111111,\"#46039f\"],[0.2222222222222222,\"#7201a8\"],[0.3333333333333333,\"#9c179e\"],[0.4444444444444444,\"#bd3786\"],[0.5555555555555556,\"#d8576b\"],[0.6666666666666666,\"#ed7953\"],[0.7777777777777778,\"#fb9f3a\"],[0.8888888888888888,\"#fdca26\"],[1.0,\"#f0f921\"]],\"type\":\"heatmap\"}],\"histogram2dcontour\":[{\"colorbar\":{\"outlinewidth\":0,\"ticks\":\"\"},\"colorscale\":[[0.0,\"#0d0887\"],[0.1111111111111111,\"#46039f\"],[0.2222222222222222,\"#7201a8\"],[0.3333333333333333,\"#9c179e\"],[0.4444444444444444,\"#bd3786\"],[0.5555555555555556,\"#d8576b\"],[0.6666666666666666,\"#ed7953\"],[0.7777777777777778,\"#fb9f3a\"],[0.8888888888888888,\"#fdca26\"],[1.0,\"#f0f921\"]],\"type\":\"histogram2dcontour\"}],\"histogram2d\":[{\"colorbar\":{\"outlinewidth\":0,\"ticks\":\"\"},\"colorscale\":[[0.0,\"#0d0887\"],[0.1111111111111111,\"#46039f\"],[0.2222222222222222,\"#7201a8\"],[0.3333333333333333,\"#9c179e\"],[0.4444444444444444,\"#bd3786\"],[0.5555555555555556,\"#d8576b\"],[0.6666666666666666,\"#ed7953\"],[0.7777777777777778,\"#fb9f3a\"],[0.8888888888888888,\"#fdca26\"],[1.0,\"#f0f921\"]],\"type\":\"histogram2d\"}],\"histogram\":[{\"marker\":{\"pattern\":{\"fillmode\":\"overlay\",\"size\":10,\"solidity\":0.2}},\"type\":\"histogram\"}],\"mesh3d\":[{\"colorbar\":{\"outlinewidth\":0,\"ticks\":\"\"},\"type\":\"mesh3d\"}],\"parcoords\":[{\"line\":{\"colorbar\":{\"outlinewidth\":0,\"ticks\":\"\"}},\"type\":\"parcoords\"}],\"pie\":[{\"automargin\":true,\"type\":\"pie\"}],\"scatter3d\":[{\"line\":{\"colorbar\":{\"outlinewidth\":0,\"ticks\":\"\"}},\"marker\":{\"colorbar\":{\"outlinewidth\":0,\"ticks\":\"\"}},\"type\":\"scatter3d\"}],\"scattercarpet\":[{\"marker\":{\"colorbar\":{\"outlinewidth\":0,\"ticks\":\"\"}},\"type\":\"scattercarpet\"}],\"scattergeo\":[{\"marker\":{\"colorbar\":{\"outlinewidth\":0,\"ticks\":\"\"}},\"type\":\"scattergeo\"}],\"scattergl\":[{\"marker\":{\"colorbar\":{\"outlinewidth\":0,\"ticks\":\"\"}},\"type\":\"scattergl\"}],\"scattermapbox\":[{\"marker\":{\"colorbar\":{\"outlinewidth\":0,\"ticks\":\"\"}},\"type\":\"scattermapbox\"}],\"scatterpolargl\":[{\"marker\":{\"colorbar\":{\"outlinewidth\":0,\"ticks\":\"\"}},\"type\":\"scatterpolargl\"}],\"scatterpolar\":[{\"marker\":{\"colorbar\":{\"outlinewidth\":0,\"ticks\":\"\"}},\"type\":\"scatterpolar\"}],\"scatter\":[{\"marker\":{\"colorbar\":{\"outlinewidth\":0,\"ticks\":\"\"}},\"type\":\"scatter\"}],\"scatterternary\":[{\"marker\":{\"colorbar\":{\"outlinewidth\":0,\"ticks\":\"\"}},\"type\":\"scatterternary\"}],\"surface\":[{\"colorbar\":{\"outlinewidth\":0,\"ticks\":\"\"},\"colorscale\":[[0.0,\"#0d0887\"],[0.1111111111111111,\"#46039f\"],[0.2222222222222222,\"#7201a8\"],[0.3333333333333333,\"#9c179e\"],[0.4444444444444444,\"#bd3786\"],[0.5555555555555556,\"#d8576b\"],[0.6666666666666666,\"#ed7953\"],[0.7777777777777778,\"#fb9f3a\"],[0.8888888888888888,\"#fdca26\"],[1.0,\"#f0f921\"]],\"type\":\"surface\"}],\"table\":[{\"cells\":{\"fill\":{\"color\":\"#EBF0F8\"},\"line\":{\"color\":\"white\"}},\"header\":{\"fill\":{\"color\":\"#C8D4E3\"},\"line\":{\"color\":\"white\"}},\"type\":\"table\"}]},\"layout\":{\"annotationdefaults\":{\"arrowcolor\":\"#2a3f5f\",\"arrowhead\":0,\"arrowwidth\":1},\"autotypenumbers\":\"strict\",\"coloraxis\":{\"colorbar\":{\"outlinewidth\":0,\"ticks\":\"\"}},\"colorscale\":{\"diverging\":[[0,\"#8e0152\"],[0.1,\"#c51b7d\"],[0.2,\"#de77ae\"],[0.3,\"#f1b6da\"],[0.4,\"#fde0ef\"],[0.5,\"#f7f7f7\"],[0.6,\"#e6f5d0\"],[0.7,\"#b8e186\"],[0.8,\"#7fbc41\"],[0.9,\"#4d9221\"],[1,\"#276419\"]],\"sequential\":[[0.0,\"#0d0887\"],[0.1111111111111111,\"#46039f\"],[0.2222222222222222,\"#7201a8\"],[0.3333333333333333,\"#9c179e\"],[0.4444444444444444,\"#bd3786\"],[0.5555555555555556,\"#d8576b\"],[0.6666666666666666,\"#ed7953\"],[0.7777777777777778,\"#fb9f3a\"],[0.8888888888888888,\"#fdca26\"],[1.0,\"#f0f921\"]],\"sequentialminus\":[[0.0,\"#0d0887\"],[0.1111111111111111,\"#46039f\"],[0.2222222222222222,\"#7201a8\"],[0.3333333333333333,\"#9c179e\"],[0.4444444444444444,\"#bd3786\"],[0.5555555555555556,\"#d8576b\"],[0.6666666666666666,\"#ed7953\"],[0.7777777777777778,\"#fb9f3a\"],[0.8888888888888888,\"#fdca26\"],[1.0,\"#f0f921\"]]},\"colorway\":[\"#636efa\",\"#EF553B\",\"#00cc96\",\"#ab63fa\",\"#FFA15A\",\"#19d3f3\",\"#FF6692\",\"#B6E880\",\"#FF97FF\",\"#FECB52\"],\"font\":{\"color\":\"#2a3f5f\"},\"geo\":{\"bgcolor\":\"white\",\"lakecolor\":\"white\",\"landcolor\":\"#E5ECF6\",\"showlakes\":true,\"showland\":true,\"subunitcolor\":\"white\"},\"hoverlabel\":{\"align\":\"left\"},\"hovermode\":\"closest\",\"mapbox\":{\"style\":\"light\"},\"paper_bgcolor\":\"white\",\"plot_bgcolor\":\"#E5ECF6\",\"polar\":{\"angularaxis\":{\"gridcolor\":\"white\",\"linecolor\":\"white\",\"ticks\":\"\"},\"bgcolor\":\"#E5ECF6\",\"radialaxis\":{\"gridcolor\":\"white\",\"linecolor\":\"white\",\"ticks\":\"\"}},\"scene\":{\"xaxis\":{\"backgroundcolor\":\"#E5ECF6\",\"gridcolor\":\"white\",\"gridwidth\":2,\"linecolor\":\"white\",\"showbackground\":true,\"ticks\":\"\",\"zerolinecolor\":\"white\"},\"yaxis\":{\"backgroundcolor\":\"#E5ECF6\",\"gridcolor\":\"white\",\"gridwidth\":2,\"linecolor\":\"white\",\"showbackground\":true,\"ticks\":\"\",\"zerolinecolor\":\"white\"},\"zaxis\":{\"backgroundcolor\":\"#E5ECF6\",\"gridcolor\":\"white\",\"gridwidth\":2,\"linecolor\":\"white\",\"showbackground\":true,\"ticks\":\"\",\"zerolinecolor\":\"white\"}},\"shapedefaults\":{\"line\":{\"color\":\"#2a3f5f\"}},\"ternary\":{\"aaxis\":{\"gridcolor\":\"white\",\"linecolor\":\"white\",\"ticks\":\"\"},\"baxis\":{\"gridcolor\":\"white\",\"linecolor\":\"white\",\"ticks\":\"\"},\"bgcolor\":\"#E5ECF6\",\"caxis\":{\"gridcolor\":\"white\",\"linecolor\":\"white\",\"ticks\":\"\"}},\"title\":{\"x\":0.05},\"xaxis\":{\"automargin\":true,\"gridcolor\":\"white\",\"linecolor\":\"white\",\"ticks\":\"\",\"title\":{\"standoff\":15},\"zerolinecolor\":\"white\",\"zerolinewidth\":2},\"yaxis\":{\"automargin\":true,\"gridcolor\":\"white\",\"linecolor\":\"white\",\"ticks\":\"\",\"title\":{\"standoff\":15},\"zerolinecolor\":\"white\",\"zerolinewidth\":2}}},\"title\":{\"font\":{\"color\":\"#D9D9D9\"}},\"xaxis\":{\"gridcolor\":\"#434343\",\"showgrid\":true,\"tickfont\":{\"color\":\"#C2C2C2\"},\"title\":{\"font\":{\"color\":\"#D9D9D9\"},\"text\":\"\"},\"zerolinecolor\":\"#666570\"},\"yaxis\":{\"gridcolor\":\"#434343\",\"showgrid\":true,\"tickfont\":{\"color\":\"#C2C2C2\"},\"title\":{\"font\":{\"color\":\"#D9D9D9\"},\"text\":\"\"},\"zerolinecolor\":\"#666570\"}},                        {\"showLink\": true, \"linkText\": \"Export to plot.ly\", \"plotlyServerURL\": \"https://plot.ly\", \"responsive\": true}                    ).then(function(){\n",
       "                            \n",
       "var gd = document.getElementById('174ff518-3542-438f-ad82-ec911027c293');\n",
       "var x = new MutationObserver(function (mutations, observer) {{\n",
       "        var display = window.getComputedStyle(gd).display;\n",
       "        if (!display || display === 'none') {{\n",
       "            console.log([gd, 'removed!']);\n",
       "            Plotly.purge(gd);\n",
       "            observer.disconnect();\n",
       "        }}\n",
       "}});\n",
       "\n",
       "// Listen for the removal of the full notebook cells\n",
       "var notebookContainer = gd.closest('#notebook-container');\n",
       "if (notebookContainer) {{\n",
       "    x.observe(notebookContainer, {childList: true});\n",
       "}}\n",
       "\n",
       "// Listen for the clearing of the current output cell\n",
       "var outputEl = gd.closest('.output');\n",
       "if (outputEl) {{\n",
       "    x.observe(outputEl, {childList: true});\n",
       "}}\n",
       "\n",
       "                        })                };                });            </script>        </div>"
      ]
     },
     "metadata": {},
     "output_type": "display_data"
    },
    {
     "data": {
      "text/html": [
       "<div>\n",
       "<style scoped>\n",
       "    .dataframe tbody tr th:only-of-type {\n",
       "        vertical-align: middle;\n",
       "    }\n",
       "\n",
       "    .dataframe tbody tr th {\n",
       "        vertical-align: top;\n",
       "    }\n",
       "\n",
       "    .dataframe thead th {\n",
       "        text-align: right;\n",
       "    }\n",
       "</style>\n",
       "<table border=\"1\" class=\"dataframe\">\n",
       "  <thead>\n",
       "    <tr style=\"text-align: right;\">\n",
       "      <th></th>\n",
       "      <th>DTSubjectName</th>\n",
       "      <th>ExchangeName</th>\n",
       "      <th>RIC</th>\n",
       "      <th>MktCapCompanyUsd</th>\n",
       "      <th>ShareholdersEquityUsd</th>\n",
       "      <th>Pe</th>\n",
       "      <th>DebtToAssets</th>\n",
       "      <th>Beta</th>\n",
       "      <th>Eps</th>\n",
       "      <th>Gics</th>\n",
       "      <th>...</th>\n",
       "      <th>SearchAllCategory</th>\n",
       "      <th>RCSAssetCategory</th>\n",
       "      <th>RCSCurrencyLeaf</th>\n",
       "      <th>AssetState</th>\n",
       "      <th>BusinessEntity</th>\n",
       "      <th>PI</th>\n",
       "      <th>IssueISIN</th>\n",
       "      <th>CUSIP</th>\n",
       "      <th>CinCUSIP</th>\n",
       "      <th>SolvencyMargin</th>\n",
       "    </tr>\n",
       "  </thead>\n",
       "  <tbody>\n",
       "    <tr>\n",
       "      <th>507</th>\n",
       "      <td>Permian Resources Corp</td>\n",
       "      <td>NYSE Consolidated</td>\n",
       "      <td>PR</td>\n",
       "      <td>4824974662</td>\n",
       "      <td>2750720000</td>\n",
       "      <td>4.730654</td>\n",
       "      <td>0.277</td>\n",
       "      <td>4.102281</td>\n",
       "      <td>1.8285</td>\n",
       "      <td>Energy/Energy/Oil, Gas &amp; Consumable Fuels/Oil ...</td>\n",
       "      <td>...</td>\n",
       "      <td>Equities</td>\n",
       "      <td>A:1L</td>\n",
       "      <td>US Dollar</td>\n",
       "      <td>AC</td>\n",
       "      <td>QUOTExEQUITY</td>\n",
       "      <td>223957549</td>\n",
       "      <td>US71424F1057</td>\n",
       "      <td>71424F105</td>\n",
       "      <td>&lt;NA&gt;</td>\n",
       "      <td>&lt;NA&gt;</td>\n",
       "    </tr>\n",
       "    <tr>\n",
       "      <th>476</th>\n",
       "      <td>SM Energy Co</td>\n",
       "      <td>NYSE Consolidated</td>\n",
       "      <td>SM</td>\n",
       "      <td>3688793221</td>\n",
       "      <td>2063131000</td>\n",
       "      <td>3.034469</td>\n",
       "      <td>0.60582</td>\n",
       "      <td>4.099876</td>\n",
       "      <td>9.89959</td>\n",
       "      <td>Energy/Energy/Oil, Gas &amp; Consumable Fuels/Oil ...</td>\n",
       "      <td>...</td>\n",
       "      <td>Equities</td>\n",
       "      <td>A:1L</td>\n",
       "      <td>US Dollar</td>\n",
       "      <td>AC</td>\n",
       "      <td>QUOTExEQUITY</td>\n",
       "      <td>10189842</td>\n",
       "      <td>US78454L1008</td>\n",
       "      <td>78454L100</td>\n",
       "      <td>&lt;NA&gt;</td>\n",
       "      <td>&lt;NA&gt;</td>\n",
       "    </tr>\n",
       "    <tr>\n",
       "      <th>1589</th>\n",
       "      <td>Independence Contract Drilling Inc</td>\n",
       "      <td>NYSE Consolidated</td>\n",
       "      <td>ICD</td>\n",
       "      <td>41123355</td>\n",
       "      <td>195229000</td>\n",
       "      <td>&lt;NA&gt;</td>\n",
       "      <td>0.508368</td>\n",
       "      <td>3.603619</td>\n",
       "      <td>-9.16037</td>\n",
       "      <td>Energy/Energy/Energy Equipment &amp; Services/Oil ...</td>\n",
       "      <td>...</td>\n",
       "      <td>Equities</td>\n",
       "      <td>A:1L</td>\n",
       "      <td>US Dollar</td>\n",
       "      <td>AC</td>\n",
       "      <td>QUOTExEQUITY</td>\n",
       "      <td>163898233</td>\n",
       "      <td>US4534156066</td>\n",
       "      <td>453415606</td>\n",
       "      <td>&lt;NA&gt;</td>\n",
       "      <td>&lt;NA&gt;</td>\n",
       "    </tr>\n",
       "    <tr>\n",
       "      <th>1883</th>\n",
       "      <td>Borr Drilling Ltd</td>\n",
       "      <td>NYSE Consolidated</td>\n",
       "      <td>BORR.K</td>\n",
       "      <td>1079716528</td>\n",
       "      <td>889900000</td>\n",
       "      <td>&lt;NA&gt;</td>\n",
       "      <td>0.7111</td>\n",
       "      <td>3.546276</td>\n",
       "      <td>-2.0769</td>\n",
       "      <td>Energy/Energy/Energy Equipment &amp; Services/Oil ...</td>\n",
       "      <td>...</td>\n",
       "      <td>Equities</td>\n",
       "      <td>A:1L</td>\n",
       "      <td>US Dollar</td>\n",
       "      <td>AC</td>\n",
       "      <td>QUOTExEQUITY</td>\n",
       "      <td>305320672</td>\n",
       "      <td>BMG1466R1732</td>\n",
       "      <td>&lt;NA&gt;</td>\n",
       "      <td>G1466R173</td>\n",
       "      <td>&lt;NA&gt;</td>\n",
       "    </tr>\n",
       "    <tr>\n",
       "      <th>463</th>\n",
       "      <td>Matador Resources Co</td>\n",
       "      <td>NYSE Consolidated</td>\n",
       "      <td>MTDR.K</td>\n",
       "      <td>6354726545</td>\n",
       "      <td>1907210000</td>\n",
       "      <td>5.48883</td>\n",
       "      <td>0.500865</td>\n",
       "      <td>3.501395</td>\n",
       "      <td>9.79808</td>\n",
       "      <td>Energy/Energy/Oil, Gas &amp; Consumable Fuels/Oil ...</td>\n",
       "      <td>...</td>\n",
       "      <td>Equities</td>\n",
       "      <td>A:1L</td>\n",
       "      <td>US Dollar</td>\n",
       "      <td>AC</td>\n",
       "      <td>QUOTExEQUITY</td>\n",
       "      <td>91596806</td>\n",
       "      <td>US5764852050</td>\n",
       "      <td>576485205</td>\n",
       "      <td>&lt;NA&gt;</td>\n",
       "      <td>&lt;NA&gt;</td>\n",
       "    </tr>\n",
       "    <tr>\n",
       "      <th>1346</th>\n",
       "      <td>Sunlight Financial Holdings Inc</td>\n",
       "      <td>NYSE Consolidated</td>\n",
       "      <td>SUNL.K</td>\n",
       "      <td>160354820</td>\n",
       "      <td>562818000</td>\n",
       "      <td>&lt;NA&gt;</td>\n",
       "      <td>0.123008</td>\n",
       "      <td>3.406618</td>\n",
       "      <td>-5.04392</td>\n",
       "      <td>Financials/Diversified Financials/Consumer Fin...</td>\n",
       "      <td>...</td>\n",
       "      <td>Equities</td>\n",
       "      <td>A:1L</td>\n",
       "      <td>US Dollar</td>\n",
       "      <td>AC</td>\n",
       "      <td>QUOTExEQUITY</td>\n",
       "      <td>487508575</td>\n",
       "      <td>US86738J1060</td>\n",
       "      <td>86738J106</td>\n",
       "      <td>&lt;NA&gt;</td>\n",
       "      <td>&lt;NA&gt;</td>\n",
       "    </tr>\n",
       "    <tr>\n",
       "      <th>772</th>\n",
       "      <td>Nine Energy Service Inc</td>\n",
       "      <td>NYSE Consolidated</td>\n",
       "      <td>NINE.K</td>\n",
       "      <td>400980680</td>\n",
       "      <td>-39267000</td>\n",
       "      <td>&lt;NA&gt;</td>\n",
       "      <td>1.102897</td>\n",
       "      <td>3.404719</td>\n",
       "      <td>-0.32771</td>\n",
       "      <td>Energy/Energy/Energy Equipment &amp; Services/Oil ...</td>\n",
       "      <td>...</td>\n",
       "      <td>Equities</td>\n",
       "      <td>A:1L</td>\n",
       "      <td>US Dollar</td>\n",
       "      <td>AC</td>\n",
       "      <td>QUOTExEQUITY</td>\n",
       "      <td>269524295</td>\n",
       "      <td>US65441V1017</td>\n",
       "      <td>65441V101</td>\n",
       "      <td>&lt;NA&gt;</td>\n",
       "      <td>&lt;NA&gt;</td>\n",
       "    </tr>\n",
       "    <tr>\n",
       "      <th>627</th>\n",
       "      <td>Quantumscape Corp</td>\n",
       "      <td>NYSE Consolidated</td>\n",
       "      <td>QS</td>\n",
       "      <td>2423922854</td>\n",
       "      <td>1606895000</td>\n",
       "      <td>&lt;NA&gt;</td>\n",
       "      <td>0.062402</td>\n",
       "      <td>3.381766</td>\n",
       "      <td>-0.85948</td>\n",
       "      <td>Consumer Discretionary/Automobiles &amp; Component...</td>\n",
       "      <td>...</td>\n",
       "      <td>Equities</td>\n",
       "      <td>A:1L</td>\n",
       "      <td>US Dollar</td>\n",
       "      <td>AC</td>\n",
       "      <td>QUOTExEQUITY</td>\n",
       "      <td>452653999</td>\n",
       "      <td>US74767V1098</td>\n",
       "      <td>74767V109</td>\n",
       "      <td>&lt;NA&gt;</td>\n",
       "      <td>&lt;NA&gt;</td>\n",
       "    </tr>\n",
       "    <tr>\n",
       "      <th>1206</th>\n",
       "      <td>Rayonier Advanced Materials Inc</td>\n",
       "      <td>NYSE Consolidated</td>\n",
       "      <td>RYAM.K</td>\n",
       "      <td>614762905</td>\n",
       "      <td>814343000</td>\n",
       "      <td>&lt;NA&gt;</td>\n",
       "      <td>0.666939</td>\n",
       "      <td>3.374165</td>\n",
       "      <td>-0.93897</td>\n",
       "      <td>Materials/Materials/Chemicals/Specialty Chemicals</td>\n",
       "      <td>...</td>\n",
       "      <td>Equities</td>\n",
       "      <td>A:1L</td>\n",
       "      <td>US Dollar</td>\n",
       "      <td>AC</td>\n",
       "      <td>QUOTExEQUITY</td>\n",
       "      <td>160720930</td>\n",
       "      <td>US75508B1044</td>\n",
       "      <td>75508B104</td>\n",
       "      <td>&lt;NA&gt;</td>\n",
       "      <td>&lt;NA&gt;</td>\n",
       "    </tr>\n",
       "    <tr>\n",
       "      <th>1528</th>\n",
       "      <td>Innovid Corp</td>\n",
       "      <td>NYSE Consolidated</td>\n",
       "      <td>CTV</td>\n",
       "      <td>203148880</td>\n",
       "      <td>161255000</td>\n",
       "      <td>&lt;NA&gt;</td>\n",
       "      <td>0.215426</td>\n",
       "      <td>3.373576</td>\n",
       "      <td>-0.38396</td>\n",
       "      <td>Communication Services/Media &amp; Entertainment/M...</td>\n",
       "      <td>...</td>\n",
       "      <td>Equities</td>\n",
       "      <td>A:1L</td>\n",
       "      <td>US Dollar</td>\n",
       "      <td>AC</td>\n",
       "      <td>QUOTExEQUITY</td>\n",
       "      <td>505191096</td>\n",
       "      <td>US4576791085</td>\n",
       "      <td>457679108</td>\n",
       "      <td>&lt;NA&gt;</td>\n",
       "      <td>&lt;NA&gt;</td>\n",
       "    </tr>\n",
       "    <tr>\n",
       "      <th>1325</th>\n",
       "      <td>Oil States International Inc</td>\n",
       "      <td>NYSE Consolidated</td>\n",
       "      <td>OIS</td>\n",
       "      <td>466485643</td>\n",
       "      <td>695826000</td>\n",
       "      <td>&lt;NA&gt;</td>\n",
       "      <td>0.359128</td>\n",
       "      <td>3.343317</td>\n",
       "      <td>-0.5354</td>\n",
       "      <td>Energy/Energy/Energy Equipment &amp; Services/Oil ...</td>\n",
       "      <td>...</td>\n",
       "      <td>Equities</td>\n",
       "      <td>A:1L</td>\n",
       "      <td>US Dollar</td>\n",
       "      <td>AC</td>\n",
       "      <td>QUOTExEQUITY</td>\n",
       "      <td>829798</td>\n",
       "      <td>US6780261052</td>\n",
       "      <td>678026105</td>\n",
       "      <td>&lt;NA&gt;</td>\n",
       "      <td>&lt;NA&gt;</td>\n",
       "    </tr>\n",
       "    <tr>\n",
       "      <th>936</th>\n",
       "      <td>Helix Energy Solutions Group Inc</td>\n",
       "      <td>NYSE Consolidated</td>\n",
       "      <td>HLX</td>\n",
       "      <td>1055156756</td>\n",
       "      <td>1647469000</td>\n",
       "      <td>&lt;NA&gt;</td>\n",
       "      <td>0.291724</td>\n",
       "      <td>3.241385</td>\n",
       "      <td>-0.77102</td>\n",
       "      <td>Energy/Energy/Energy Equipment &amp; Services/Oil ...</td>\n",
       "      <td>...</td>\n",
       "      <td>Equities</td>\n",
       "      <td>A:1L</td>\n",
       "      <td>US Dollar</td>\n",
       "      <td>AC</td>\n",
       "      <td>QUOTExEQUITY</td>\n",
       "      <td>747038</td>\n",
       "      <td>US42330P1075</td>\n",
       "      <td>42330P107</td>\n",
       "      <td>&lt;NA&gt;</td>\n",
       "      <td>&lt;NA&gt;</td>\n",
       "    </tr>\n",
       "    <tr>\n",
       "      <th>1660</th>\n",
       "      <td>Superior Industries International Inc</td>\n",
       "      <td>NYSE Consolidated</td>\n",
       "      <td>SUP</td>\n",
       "      <td>121842723</td>\n",
       "      <td>&lt;NA&gt;</td>\n",
       "      <td>&lt;NA&gt;</td>\n",
       "      <td>&lt;NA&gt;</td>\n",
       "      <td>3.217959</td>\n",
       "      <td>-0.72482</td>\n",
       "      <td>Consumer Discretionary/Automobiles &amp; Component...</td>\n",
       "      <td>...</td>\n",
       "      <td>Equities</td>\n",
       "      <td>A:1L</td>\n",
       "      <td>US Dollar</td>\n",
       "      <td>AC</td>\n",
       "      <td>QUOTExEQUITY</td>\n",
       "      <td>725723</td>\n",
       "      <td>US8681681057</td>\n",
       "      <td>868168105</td>\n",
       "      <td>&lt;NA&gt;</td>\n",
       "      <td>&lt;NA&gt;</td>\n",
       "    </tr>\n",
       "    <tr>\n",
       "      <th>1429</th>\n",
       "      <td>Forum Energy Technologies Inc</td>\n",
       "      <td>NYSE Consolidated</td>\n",
       "      <td>FET</td>\n",
       "      <td>156812991</td>\n",
       "      <td>329126000</td>\n",
       "      <td>&lt;NA&gt;</td>\n",
       "      <td>0.584088</td>\n",
       "      <td>3.188829</td>\n",
       "      <td>-2.6347</td>\n",
       "      <td>Energy/Energy/Energy Equipment &amp; Services/Oil ...</td>\n",
       "      <td>...</td>\n",
       "      <td>Equities</td>\n",
       "      <td>A:1L</td>\n",
       "      <td>US Dollar</td>\n",
       "      <td>AC</td>\n",
       "      <td>QUOTExEQUITY</td>\n",
       "      <td>92927968</td>\n",
       "      <td>US34984V2097</td>\n",
       "      <td>34984V209</td>\n",
       "      <td>&lt;NA&gt;</td>\n",
       "      <td>&lt;NA&gt;</td>\n",
       "    </tr>\n",
       "    <tr>\n",
       "      <th>637</th>\n",
       "      <td>Laredo Petroleum Inc</td>\n",
       "      <td>NYSE Consolidated</td>\n",
       "      <td>LPI</td>\n",
       "      <td>807890597</td>\n",
       "      <td>513780000</td>\n",
       "      <td>1.125376</td>\n",
       "      <td>0.798662</td>\n",
       "      <td>3.165203</td>\n",
       "      <td>42.69683</td>\n",
       "      <td>Energy/Energy/Oil, Gas &amp; Consumable Fuels/Oil ...</td>\n",
       "      <td>...</td>\n",
       "      <td>Equities</td>\n",
       "      <td>A:1L</td>\n",
       "      <td>US Dollar</td>\n",
       "      <td>AC</td>\n",
       "      <td>QUOTExEQUITY</td>\n",
       "      <td>92425611</td>\n",
       "      <td>US5168062058</td>\n",
       "      <td>516806205</td>\n",
       "      <td>&lt;NA&gt;</td>\n",
       "      <td>&lt;NA&gt;</td>\n",
       "    </tr>\n",
       "    <tr>\n",
       "      <th>843</th>\n",
       "      <td>Nabors Industries Ltd</td>\n",
       "      <td>NYSE Consolidated</td>\n",
       "      <td>NBR</td>\n",
       "      <td>1398705948</td>\n",
       "      <td>590656000</td>\n",
       "      <td>&lt;NA&gt;</td>\n",
       "      <td>0.747669</td>\n",
       "      <td>3.161918</td>\n",
       "      <td>-48.31725</td>\n",
       "      <td>Energy/Energy/Energy Equipment &amp; Services/Oil ...</td>\n",
       "      <td>...</td>\n",
       "      <td>Equities</td>\n",
       "      <td>A:1L</td>\n",
       "      <td>US Dollar</td>\n",
       "      <td>AC</td>\n",
       "      <td>QUOTExEQUITY</td>\n",
       "      <td>731116</td>\n",
       "      <td>BMG6359F1370</td>\n",
       "      <td>&lt;NA&gt;</td>\n",
       "      <td>G6359F137</td>\n",
       "      <td>&lt;NA&gt;</td>\n",
       "    </tr>\n",
       "    <tr>\n",
       "      <th>1237</th>\n",
       "      <td>Amplify Energy Corp</td>\n",
       "      <td>NYSE Consolidated</td>\n",
       "      <td>AMPY.K</td>\n",
       "      <td>304851443</td>\n",
       "      <td>-64841000</td>\n",
       "      <td>4.947962</td>\n",
       "      <td>1.142476</td>\n",
       "      <td>3.120985</td>\n",
       "      <td>1.60268</td>\n",
       "      <td>Energy/Energy/Oil, Gas &amp; Consumable Fuels/Oil ...</td>\n",
       "      <td>...</td>\n",
       "      <td>Equities</td>\n",
       "      <td>A:1L</td>\n",
       "      <td>US Dollar</td>\n",
       "      <td>AC</td>\n",
       "      <td>QUOTExEQUITY</td>\n",
       "      <td>240601293</td>\n",
       "      <td>US03212B1035</td>\n",
       "      <td>03212B103</td>\n",
       "      <td>&lt;NA&gt;</td>\n",
       "      <td>&lt;NA&gt;</td>\n",
       "    </tr>\n",
       "    <tr>\n",
       "      <th>812</th>\n",
       "      <td>Oceaneering International Inc</td>\n",
       "      <td>NYSE Consolidated</td>\n",
       "      <td>OII</td>\n",
       "      <td>1691378186</td>\n",
       "      <td>504961000</td>\n",
       "      <td>&lt;NA&gt;</td>\n",
       "      <td>0.739653</td>\n",
       "      <td>3.103988</td>\n",
       "      <td>-0.36374</td>\n",
       "      <td>Energy/Energy/Energy Equipment &amp; Services/Oil ...</td>\n",
       "      <td>...</td>\n",
       "      <td>Equities</td>\n",
       "      <td>A:1L</td>\n",
       "      <td>US Dollar</td>\n",
       "      <td>AC</td>\n",
       "      <td>QUOTExEQUITY</td>\n",
       "      <td>725290</td>\n",
       "      <td>US6752321025</td>\n",
       "      <td>675232102</td>\n",
       "      <td>&lt;NA&gt;</td>\n",
       "      <td>&lt;NA&gt;</td>\n",
       "    </tr>\n",
       "    <tr>\n",
       "      <th>1421</th>\n",
       "      <td>Bakkt Holdings Inc</td>\n",
       "      <td>NYSE Consolidated</td>\n",
       "      <td>BKKT.K</td>\n",
       "      <td>340605466</td>\n",
       "      <td>468396000</td>\n",
       "      <td>&lt;NA&gt;</td>\n",
       "      <td>0.049751</td>\n",
       "      <td>3.103145</td>\n",
       "      <td>-9.44427</td>\n",
       "      <td>Financials/Diversified Financials/Capital Mark...</td>\n",
       "      <td>...</td>\n",
       "      <td>Equities</td>\n",
       "      <td>A:1L</td>\n",
       "      <td>US Dollar</td>\n",
       "      <td>AC</td>\n",
       "      <td>QUOTExEQUITY</td>\n",
       "      <td>473952645</td>\n",
       "      <td>US05759B1070</td>\n",
       "      <td>05759B107</td>\n",
       "      <td>&lt;NA&gt;</td>\n",
       "      <td>&lt;NA&gt;</td>\n",
       "    </tr>\n",
       "    <tr>\n",
       "      <th>1345</th>\n",
       "      <td>Newpark Resources Inc</td>\n",
       "      <td>NYSE Consolidated</td>\n",
       "      <td>NR</td>\n",
       "      <td>404401571</td>\n",
       "      <td>462386000</td>\n",
       "      <td>&lt;NA&gt;</td>\n",
       "      <td>0.385849</td>\n",
       "      <td>3.098999</td>\n",
       "      <td>-0.35919</td>\n",
       "      <td>Energy/Energy/Energy Equipment &amp; Services/Oil ...</td>\n",
       "      <td>...</td>\n",
       "      <td>Equities</td>\n",
       "      <td>A:1L</td>\n",
       "      <td>US Dollar</td>\n",
       "      <td>AC</td>\n",
       "      <td>QUOTExEQUITY</td>\n",
       "      <td>727179</td>\n",
       "      <td>US6517185046</td>\n",
       "      <td>651718504</td>\n",
       "      <td>&lt;NA&gt;</td>\n",
       "      <td>&lt;NA&gt;</td>\n",
       "    </tr>\n",
       "    <tr>\n",
       "      <th>232</th>\n",
       "      <td>Ovintiv Inc</td>\n",
       "      <td>NYSE Consolidated</td>\n",
       "      <td>OVV</td>\n",
       "      <td>11596320215</td>\n",
       "      <td>5074000000</td>\n",
       "      <td>3.312738</td>\n",
       "      <td>0.63899</td>\n",
       "      <td>3.09392</td>\n",
       "      <td>14.10012</td>\n",
       "      <td>Energy/Energy/Oil, Gas &amp; Consumable Fuels/Oil ...</td>\n",
       "      <td>...</td>\n",
       "      <td>Equities</td>\n",
       "      <td>A:1L</td>\n",
       "      <td>US Dollar</td>\n",
       "      <td>AC</td>\n",
       "      <td>QUOTExEQUITY</td>\n",
       "      <td>7169639</td>\n",
       "      <td>US69047Q1022</td>\n",
       "      <td>69047Q102</td>\n",
       "      <td>&lt;NA&gt;</td>\n",
       "      <td>&lt;NA&gt;</td>\n",
       "    </tr>\n",
       "    <tr>\n",
       "      <th>721</th>\n",
       "      <td>Kosmos Energy Ltd</td>\n",
       "      <td>NYSE Consolidated</td>\n",
       "      <td>KOS</td>\n",
       "      <td>2753596746</td>\n",
       "      <td>&lt;NA&gt;</td>\n",
       "      <td>6.437242</td>\n",
       "      <td>&lt;NA&gt;</td>\n",
       "      <td>3.059593</td>\n",
       "      <td>0.93829</td>\n",
       "      <td>Energy/Energy/Oil, Gas &amp; Consumable Fuels/Oil ...</td>\n",
       "      <td>...</td>\n",
       "      <td>Equities</td>\n",
       "      <td>A:1L</td>\n",
       "      <td>US Dollar</td>\n",
       "      <td>AC</td>\n",
       "      <td>QUOTExEQUITY</td>\n",
       "      <td>80906316</td>\n",
       "      <td>US5006881065</td>\n",
       "      <td>500688106</td>\n",
       "      <td>&lt;NA&gt;</td>\n",
       "      <td>&lt;NA&gt;</td>\n",
       "    </tr>\n",
       "    <tr>\n",
       "      <th>1250</th>\n",
       "      <td>Seritage Growth Properties</td>\n",
       "      <td>NYSE Consolidated</td>\n",
       "      <td>SRG</td>\n",
       "      <td>677991810</td>\n",
       "      <td>687713000</td>\n",
       "      <td>&lt;NA&gt;</td>\n",
       "      <td>0.650061</td>\n",
       "      <td>3.02347</td>\n",
       "      <td>-2.2167</td>\n",
       "      <td>Real Estate/Real Estate/Real Estate Management...</td>\n",
       "      <td>...</td>\n",
       "      <td>Equities</td>\n",
       "      <td>A:1L</td>\n",
       "      <td>US Dollar</td>\n",
       "      <td>AC</td>\n",
       "      <td>QUOTExEQUITY</td>\n",
       "      <td>194140961</td>\n",
       "      <td>US81752R1005</td>\n",
       "      <td>81752R100</td>\n",
       "      <td>&lt;NA&gt;</td>\n",
       "      <td>&lt;NA&gt;</td>\n",
       "    </tr>\n",
       "  </tbody>\n",
       "</table>\n",
       "<p>23 rows × 42 columns</p>\n",
       "</div>"
      ],
      "text/plain": [
       "                              DTSubjectName       ExchangeName     RIC  \\\n",
       "507                  Permian Resources Corp  NYSE Consolidated      PR   \n",
       "476                            SM Energy Co  NYSE Consolidated      SM   \n",
       "1589     Independence Contract Drilling Inc  NYSE Consolidated     ICD   \n",
       "1883                      Borr Drilling Ltd  NYSE Consolidated  BORR.K   \n",
       "463                    Matador Resources Co  NYSE Consolidated  MTDR.K   \n",
       "1346        Sunlight Financial Holdings Inc  NYSE Consolidated  SUNL.K   \n",
       "772                 Nine Energy Service Inc  NYSE Consolidated  NINE.K   \n",
       "627                       Quantumscape Corp  NYSE Consolidated      QS   \n",
       "1206        Rayonier Advanced Materials Inc  NYSE Consolidated  RYAM.K   \n",
       "1528                           Innovid Corp  NYSE Consolidated     CTV   \n",
       "1325           Oil States International Inc  NYSE Consolidated     OIS   \n",
       "936        Helix Energy Solutions Group Inc  NYSE Consolidated     HLX   \n",
       "1660  Superior Industries International Inc  NYSE Consolidated     SUP   \n",
       "1429          Forum Energy Technologies Inc  NYSE Consolidated     FET   \n",
       "637                    Laredo Petroleum Inc  NYSE Consolidated     LPI   \n",
       "843                   Nabors Industries Ltd  NYSE Consolidated     NBR   \n",
       "1237                    Amplify Energy Corp  NYSE Consolidated  AMPY.K   \n",
       "812           Oceaneering International Inc  NYSE Consolidated     OII   \n",
       "1421                     Bakkt Holdings Inc  NYSE Consolidated  BKKT.K   \n",
       "1345                  Newpark Resources Inc  NYSE Consolidated      NR   \n",
       "232                             Ovintiv Inc  NYSE Consolidated     OVV   \n",
       "721                       Kosmos Energy Ltd  NYSE Consolidated     KOS   \n",
       "1250             Seritage Growth Properties  NYSE Consolidated     SRG   \n",
       "\n",
       "      MktCapCompanyUsd  ShareholdersEquityUsd        Pe  DebtToAssets  \\\n",
       "507         4824974662             2750720000  4.730654         0.277   \n",
       "476         3688793221             2063131000  3.034469       0.60582   \n",
       "1589          41123355              195229000      <NA>      0.508368   \n",
       "1883        1079716528              889900000      <NA>        0.7111   \n",
       "463         6354726545             1907210000   5.48883      0.500865   \n",
       "1346         160354820              562818000      <NA>      0.123008   \n",
       "772          400980680              -39267000      <NA>      1.102897   \n",
       "627         2423922854             1606895000      <NA>      0.062402   \n",
       "1206         614762905              814343000      <NA>      0.666939   \n",
       "1528         203148880              161255000      <NA>      0.215426   \n",
       "1325         466485643              695826000      <NA>      0.359128   \n",
       "936         1055156756             1647469000      <NA>      0.291724   \n",
       "1660         121842723                   <NA>      <NA>          <NA>   \n",
       "1429         156812991              329126000      <NA>      0.584088   \n",
       "637          807890597              513780000  1.125376      0.798662   \n",
       "843         1398705948              590656000      <NA>      0.747669   \n",
       "1237         304851443              -64841000  4.947962      1.142476   \n",
       "812         1691378186              504961000      <NA>      0.739653   \n",
       "1421         340605466              468396000      <NA>      0.049751   \n",
       "1345         404401571              462386000      <NA>      0.385849   \n",
       "232        11596320215             5074000000  3.312738       0.63899   \n",
       "721         2753596746                   <NA>  6.437242          <NA>   \n",
       "1250         677991810              687713000      <NA>      0.650061   \n",
       "\n",
       "          Beta       Eps                                               Gics  \\\n",
       "507   4.102281    1.8285  Energy/Energy/Oil, Gas & Consumable Fuels/Oil ...   \n",
       "476   4.099876   9.89959  Energy/Energy/Oil, Gas & Consumable Fuels/Oil ...   \n",
       "1589  3.603619  -9.16037  Energy/Energy/Energy Equipment & Services/Oil ...   \n",
       "1883  3.546276   -2.0769  Energy/Energy/Energy Equipment & Services/Oil ...   \n",
       "463   3.501395   9.79808  Energy/Energy/Oil, Gas & Consumable Fuels/Oil ...   \n",
       "1346  3.406618  -5.04392  Financials/Diversified Financials/Consumer Fin...   \n",
       "772   3.404719  -0.32771  Energy/Energy/Energy Equipment & Services/Oil ...   \n",
       "627   3.381766  -0.85948  Consumer Discretionary/Automobiles & Component...   \n",
       "1206  3.374165  -0.93897  Materials/Materials/Chemicals/Specialty Chemicals   \n",
       "1528  3.373576  -0.38396  Communication Services/Media & Entertainment/M...   \n",
       "1325  3.343317   -0.5354  Energy/Energy/Energy Equipment & Services/Oil ...   \n",
       "936   3.241385  -0.77102  Energy/Energy/Energy Equipment & Services/Oil ...   \n",
       "1660  3.217959  -0.72482  Consumer Discretionary/Automobiles & Component...   \n",
       "1429  3.188829   -2.6347  Energy/Energy/Energy Equipment & Services/Oil ...   \n",
       "637   3.165203  42.69683  Energy/Energy/Oil, Gas & Consumable Fuels/Oil ...   \n",
       "843   3.161918 -48.31725  Energy/Energy/Energy Equipment & Services/Oil ...   \n",
       "1237  3.120985   1.60268  Energy/Energy/Oil, Gas & Consumable Fuels/Oil ...   \n",
       "812   3.103988  -0.36374  Energy/Energy/Energy Equipment & Services/Oil ...   \n",
       "1421  3.103145  -9.44427  Financials/Diversified Financials/Capital Mark...   \n",
       "1345  3.098999  -0.35919  Energy/Energy/Energy Equipment & Services/Oil ...   \n",
       "232    3.09392  14.10012  Energy/Energy/Oil, Gas & Consumable Fuels/Oil ...   \n",
       "721   3.059593   0.93829  Energy/Energy/Oil, Gas & Consumable Fuels/Oil ...   \n",
       "1250   3.02347   -2.2167  Real Estate/Real Estate/Real Estate Management...   \n",
       "\n",
       "      ...  SearchAllCategory  RCSAssetCategory  RCSCurrencyLeaf  AssetState  \\\n",
       "507   ...           Equities              A:1L        US Dollar          AC   \n",
       "476   ...           Equities              A:1L        US Dollar          AC   \n",
       "1589  ...           Equities              A:1L        US Dollar          AC   \n",
       "1883  ...           Equities              A:1L        US Dollar          AC   \n",
       "463   ...           Equities              A:1L        US Dollar          AC   \n",
       "1346  ...           Equities              A:1L        US Dollar          AC   \n",
       "772   ...           Equities              A:1L        US Dollar          AC   \n",
       "627   ...           Equities              A:1L        US Dollar          AC   \n",
       "1206  ...           Equities              A:1L        US Dollar          AC   \n",
       "1528  ...           Equities              A:1L        US Dollar          AC   \n",
       "1325  ...           Equities              A:1L        US Dollar          AC   \n",
       "936   ...           Equities              A:1L        US Dollar          AC   \n",
       "1660  ...           Equities              A:1L        US Dollar          AC   \n",
       "1429  ...           Equities              A:1L        US Dollar          AC   \n",
       "637   ...           Equities              A:1L        US Dollar          AC   \n",
       "843   ...           Equities              A:1L        US Dollar          AC   \n",
       "1237  ...           Equities              A:1L        US Dollar          AC   \n",
       "812   ...           Equities              A:1L        US Dollar          AC   \n",
       "1421  ...           Equities              A:1L        US Dollar          AC   \n",
       "1345  ...           Equities              A:1L        US Dollar          AC   \n",
       "232   ...           Equities              A:1L        US Dollar          AC   \n",
       "721   ...           Equities              A:1L        US Dollar          AC   \n",
       "1250  ...           Equities              A:1L        US Dollar          AC   \n",
       "\n",
       "      BusinessEntity         PI     IssueISIN      CUSIP   CinCUSIP  \\\n",
       "507     QUOTExEQUITY  223957549  US71424F1057  71424F105       <NA>   \n",
       "476     QUOTExEQUITY   10189842  US78454L1008  78454L100       <NA>   \n",
       "1589    QUOTExEQUITY  163898233  US4534156066  453415606       <NA>   \n",
       "1883    QUOTExEQUITY  305320672  BMG1466R1732       <NA>  G1466R173   \n",
       "463     QUOTExEQUITY   91596806  US5764852050  576485205       <NA>   \n",
       "1346    QUOTExEQUITY  487508575  US86738J1060  86738J106       <NA>   \n",
       "772     QUOTExEQUITY  269524295  US65441V1017  65441V101       <NA>   \n",
       "627     QUOTExEQUITY  452653999  US74767V1098  74767V109       <NA>   \n",
       "1206    QUOTExEQUITY  160720930  US75508B1044  75508B104       <NA>   \n",
       "1528    QUOTExEQUITY  505191096  US4576791085  457679108       <NA>   \n",
       "1325    QUOTExEQUITY     829798  US6780261052  678026105       <NA>   \n",
       "936     QUOTExEQUITY     747038  US42330P1075  42330P107       <NA>   \n",
       "1660    QUOTExEQUITY     725723  US8681681057  868168105       <NA>   \n",
       "1429    QUOTExEQUITY   92927968  US34984V2097  34984V209       <NA>   \n",
       "637     QUOTExEQUITY   92425611  US5168062058  516806205       <NA>   \n",
       "843     QUOTExEQUITY     731116  BMG6359F1370       <NA>  G6359F137   \n",
       "1237    QUOTExEQUITY  240601293  US03212B1035  03212B103       <NA>   \n",
       "812     QUOTExEQUITY     725290  US6752321025  675232102       <NA>   \n",
       "1421    QUOTExEQUITY  473952645  US05759B1070  05759B107       <NA>   \n",
       "1345    QUOTExEQUITY     727179  US6517185046  651718504       <NA>   \n",
       "232     QUOTExEQUITY    7169639  US69047Q1022  69047Q102       <NA>   \n",
       "721     QUOTExEQUITY   80906316  US5006881065  500688106       <NA>   \n",
       "1250    QUOTExEQUITY  194140961  US81752R1005  81752R100       <NA>   \n",
       "\n",
       "      SolvencyMargin  \n",
       "507             <NA>  \n",
       "476             <NA>  \n",
       "1589            <NA>  \n",
       "1883            <NA>  \n",
       "463             <NA>  \n",
       "1346            <NA>  \n",
       "772             <NA>  \n",
       "627             <NA>  \n",
       "1206            <NA>  \n",
       "1528            <NA>  \n",
       "1325            <NA>  \n",
       "936             <NA>  \n",
       "1660            <NA>  \n",
       "1429            <NA>  \n",
       "637             <NA>  \n",
       "843             <NA>  \n",
       "1237            <NA>  \n",
       "812             <NA>  \n",
       "1421            <NA>  \n",
       "1345            <NA>  \n",
       "232             <NA>  \n",
       "721             <NA>  \n",
       "1250            <NA>  \n",
       "\n",
       "[23 rows x 42 columns]"
      ]
     },
     "metadata": {},
     "output_type": "display_data"
    }
   ],
   "source": [
    "equities = nyse_equities.query(\"Beta >= 3\")\n",
    "plot_and_display(equities, \"Beta\")"
   ]
  },
  {
   "cell_type": "markdown",
   "id": "1ae0e1d1-957d-4246-9e8b-67ffe18ab724",
   "metadata": {
    "tags": []
   },
   "source": [
    "#### Get the Equities by Share Holders Equity"
   ]
  },
  {
   "cell_type": "code",
   "execution_count": 11,
   "id": "894eae3f-ba13-4c32-af94-71c3e6fd254a",
   "metadata": {
    "tags": []
   },
   "outputs": [
    {
     "data": {
      "application/vnd.plotly.v1+json": {
       "config": {
        "linkText": "Export to plot.ly",
        "plotlyServerURL": "https://plot.ly",
        "showLink": true
       },
       "data": [
        {
         "line": {
          "color": "rgba(255, 153, 51, 1.0)",
          "dash": "solid",
          "shape": "linear",
          "width": 1.3
         },
         "mode": "lines",
         "name": "ShareholdersEquityUsd",
         "text": "",
         "type": "scatter",
         "x": [
          "Berkshire Hathaway Inc",
          "Berkshire Hathaway Inc",
          "JPMorgan Chase & Co",
          "Bank of America Corp",
          "Citigroup Inc",
          "Exxon Mobil Corp",
          "Wells Fargo & Co",
          "AT&T Inc",
          "Chevron Corp",
          "Goldman Sachs Group Inc",
          "Morgan Stanley",
          "Walt Disney Co",
          "Walmart Inc",
          "Verizon Communications Inc",
          "Pfizer Inc",
          "CVS Health Corp",
          "Royal Bank of Canada",
          "Toronto-Dominion Bank",
          "Johnson & Johnson",
          "Raytheon Technologies Corp",
          "UnitedHealth Group Inc",
          "Deutsche Bank AG",
          "MetLife Inc",
          "American International Group Inc",
          "Truist Financial Corp",
          "Prudential Financial Inc",
          "UBS Group AG",
          "General Motors Co",
          "Chubb Ltd",
          "Stellantis NV",
          "Salesforce Inc",
          "Capital One Financial Corp",
          "PNC Financial Services Group Inc",
          "Medtronic PLC",
          "Bank of Montreal",
          "US Bancorp",
          "Ford Motor Co",
          "Bank of Nova Scotia",
          "Fidelity National Information Services Inc",
          "Duke Energy Corp",
          "Charles Schwab Corp",
          "Procter & Gamble Co",
          "Conocophillips",
          "Brookfield Corp",
          "Danaher Corp",
          "Thermo Fisher Scientific Inc",
          "General Electric Co",
          "Enbridge Inc",
          "Bank of New York Mellon Corp",
          "Merck & Co Inc",
          "BlackRock Inc",
          "Manulife Financial Corp",
          "Nextera Energy Inc",
          "Elevance Health Inc",
          "Bristol-Myers Squibb Co",
          "Abbott Laboratories",
          "Canadian Imperial Bank of Commerce",
          "Prologis Inc",
          "Visa Inc",
          "Aflac Inc",
          "Kinder Morgan Inc"
         ],
         "y": [
          506199000000,
          506199000000,
          259289000000,
          245358000000,
          182977000000,
          168577000000,
          167549000000,
          166332000000,
          139067000000,
          99223000000,
          97691000000,
          88553000000,
          83253000000,
          81790000000,
          77200000000,
          75075000000,
          74759572573,
          74307658058,
          74023000000,
          73068000000,
          71760000000,
          70305286800,
          67482000000,
          65471000000,
          62598000000,
          61876000000,
          60662000000,
          59744000000,
          59714000000,
          59255829300,
          58131000000,
          56184000000,
          55695000000,
          52551000000,
          50747996438,
          48547000000,
          48519000000,
          48345206292,
          47347000000,
          47334000000,
          46307000000,
          45746000000,
          45406000000,
          42210000000,
          41899000000,
          40793000000,
          40304000000,
          39387800534,
          38196000000,
          38184000000,
          37693000000,
          37692193529,
          37202000000,
          36060000000,
          35946000000,
          35802000000,
          33584149599,
          33362925000,
          33257001000,
          33253000000,
          30823000000
         ]
        }
       ],
       "layout": {
        "autosize": true,
        "legend": {
         "bgcolor": "#151516",
         "font": {
          "color": "#D9D9D9"
         }
        },
        "paper_bgcolor": "#151516",
        "plot_bgcolor": "#151516",
        "template": {
         "data": {
          "bar": [
           {
            "error_x": {
             "color": "#2a3f5f"
            },
            "error_y": {
             "color": "#2a3f5f"
            },
            "marker": {
             "line": {
              "color": "#E5ECF6",
              "width": 0.5
             },
             "pattern": {
              "fillmode": "overlay",
              "size": 10,
              "solidity": 0.2
             }
            },
            "type": "bar"
           }
          ],
          "barpolar": [
           {
            "marker": {
             "line": {
              "color": "#E5ECF6",
              "width": 0.5
             },
             "pattern": {
              "fillmode": "overlay",
              "size": 10,
              "solidity": 0.2
             }
            },
            "type": "barpolar"
           }
          ],
          "carpet": [
           {
            "aaxis": {
             "endlinecolor": "#2a3f5f",
             "gridcolor": "white",
             "linecolor": "white",
             "minorgridcolor": "white",
             "startlinecolor": "#2a3f5f"
            },
            "baxis": {
             "endlinecolor": "#2a3f5f",
             "gridcolor": "white",
             "linecolor": "white",
             "minorgridcolor": "white",
             "startlinecolor": "#2a3f5f"
            },
            "type": "carpet"
           }
          ],
          "choropleth": [
           {
            "colorbar": {
             "outlinewidth": 0,
             "ticks": ""
            },
            "type": "choropleth"
           }
          ],
          "contour": [
           {
            "colorbar": {
             "outlinewidth": 0,
             "ticks": ""
            },
            "colorscale": [
             [
              0,
              "#0d0887"
             ],
             [
              0.1111111111111111,
              "#46039f"
             ],
             [
              0.2222222222222222,
              "#7201a8"
             ],
             [
              0.3333333333333333,
              "#9c179e"
             ],
             [
              0.4444444444444444,
              "#bd3786"
             ],
             [
              0.5555555555555556,
              "#d8576b"
             ],
             [
              0.6666666666666666,
              "#ed7953"
             ],
             [
              0.7777777777777778,
              "#fb9f3a"
             ],
             [
              0.8888888888888888,
              "#fdca26"
             ],
             [
              1,
              "#f0f921"
             ]
            ],
            "type": "contour"
           }
          ],
          "contourcarpet": [
           {
            "colorbar": {
             "outlinewidth": 0,
             "ticks": ""
            },
            "type": "contourcarpet"
           }
          ],
          "heatmap": [
           {
            "colorbar": {
             "outlinewidth": 0,
             "ticks": ""
            },
            "colorscale": [
             [
              0,
              "#0d0887"
             ],
             [
              0.1111111111111111,
              "#46039f"
             ],
             [
              0.2222222222222222,
              "#7201a8"
             ],
             [
              0.3333333333333333,
              "#9c179e"
             ],
             [
              0.4444444444444444,
              "#bd3786"
             ],
             [
              0.5555555555555556,
              "#d8576b"
             ],
             [
              0.6666666666666666,
              "#ed7953"
             ],
             [
              0.7777777777777778,
              "#fb9f3a"
             ],
             [
              0.8888888888888888,
              "#fdca26"
             ],
             [
              1,
              "#f0f921"
             ]
            ],
            "type": "heatmap"
           }
          ],
          "heatmapgl": [
           {
            "colorbar": {
             "outlinewidth": 0,
             "ticks": ""
            },
            "colorscale": [
             [
              0,
              "#0d0887"
             ],
             [
              0.1111111111111111,
              "#46039f"
             ],
             [
              0.2222222222222222,
              "#7201a8"
             ],
             [
              0.3333333333333333,
              "#9c179e"
             ],
             [
              0.4444444444444444,
              "#bd3786"
             ],
             [
              0.5555555555555556,
              "#d8576b"
             ],
             [
              0.6666666666666666,
              "#ed7953"
             ],
             [
              0.7777777777777778,
              "#fb9f3a"
             ],
             [
              0.8888888888888888,
              "#fdca26"
             ],
             [
              1,
              "#f0f921"
             ]
            ],
            "type": "heatmapgl"
           }
          ],
          "histogram": [
           {
            "marker": {
             "pattern": {
              "fillmode": "overlay",
              "size": 10,
              "solidity": 0.2
             }
            },
            "type": "histogram"
           }
          ],
          "histogram2d": [
           {
            "colorbar": {
             "outlinewidth": 0,
             "ticks": ""
            },
            "colorscale": [
             [
              0,
              "#0d0887"
             ],
             [
              0.1111111111111111,
              "#46039f"
             ],
             [
              0.2222222222222222,
              "#7201a8"
             ],
             [
              0.3333333333333333,
              "#9c179e"
             ],
             [
              0.4444444444444444,
              "#bd3786"
             ],
             [
              0.5555555555555556,
              "#d8576b"
             ],
             [
              0.6666666666666666,
              "#ed7953"
             ],
             [
              0.7777777777777778,
              "#fb9f3a"
             ],
             [
              0.8888888888888888,
              "#fdca26"
             ],
             [
              1,
              "#f0f921"
             ]
            ],
            "type": "histogram2d"
           }
          ],
          "histogram2dcontour": [
           {
            "colorbar": {
             "outlinewidth": 0,
             "ticks": ""
            },
            "colorscale": [
             [
              0,
              "#0d0887"
             ],
             [
              0.1111111111111111,
              "#46039f"
             ],
             [
              0.2222222222222222,
              "#7201a8"
             ],
             [
              0.3333333333333333,
              "#9c179e"
             ],
             [
              0.4444444444444444,
              "#bd3786"
             ],
             [
              0.5555555555555556,
              "#d8576b"
             ],
             [
              0.6666666666666666,
              "#ed7953"
             ],
             [
              0.7777777777777778,
              "#fb9f3a"
             ],
             [
              0.8888888888888888,
              "#fdca26"
             ],
             [
              1,
              "#f0f921"
             ]
            ],
            "type": "histogram2dcontour"
           }
          ],
          "mesh3d": [
           {
            "colorbar": {
             "outlinewidth": 0,
             "ticks": ""
            },
            "type": "mesh3d"
           }
          ],
          "parcoords": [
           {
            "line": {
             "colorbar": {
              "outlinewidth": 0,
              "ticks": ""
             }
            },
            "type": "parcoords"
           }
          ],
          "pie": [
           {
            "automargin": true,
            "type": "pie"
           }
          ],
          "scatter": [
           {
            "marker": {
             "colorbar": {
              "outlinewidth": 0,
              "ticks": ""
             }
            },
            "type": "scatter"
           }
          ],
          "scatter3d": [
           {
            "line": {
             "colorbar": {
              "outlinewidth": 0,
              "ticks": ""
             }
            },
            "marker": {
             "colorbar": {
              "outlinewidth": 0,
              "ticks": ""
             }
            },
            "type": "scatter3d"
           }
          ],
          "scattercarpet": [
           {
            "marker": {
             "colorbar": {
              "outlinewidth": 0,
              "ticks": ""
             }
            },
            "type": "scattercarpet"
           }
          ],
          "scattergeo": [
           {
            "marker": {
             "colorbar": {
              "outlinewidth": 0,
              "ticks": ""
             }
            },
            "type": "scattergeo"
           }
          ],
          "scattergl": [
           {
            "marker": {
             "colorbar": {
              "outlinewidth": 0,
              "ticks": ""
             }
            },
            "type": "scattergl"
           }
          ],
          "scattermapbox": [
           {
            "marker": {
             "colorbar": {
              "outlinewidth": 0,
              "ticks": ""
             }
            },
            "type": "scattermapbox"
           }
          ],
          "scatterpolar": [
           {
            "marker": {
             "colorbar": {
              "outlinewidth": 0,
              "ticks": ""
             }
            },
            "type": "scatterpolar"
           }
          ],
          "scatterpolargl": [
           {
            "marker": {
             "colorbar": {
              "outlinewidth": 0,
              "ticks": ""
             }
            },
            "type": "scatterpolargl"
           }
          ],
          "scatterternary": [
           {
            "marker": {
             "colorbar": {
              "outlinewidth": 0,
              "ticks": ""
             }
            },
            "type": "scatterternary"
           }
          ],
          "surface": [
           {
            "colorbar": {
             "outlinewidth": 0,
             "ticks": ""
            },
            "colorscale": [
             [
              0,
              "#0d0887"
             ],
             [
              0.1111111111111111,
              "#46039f"
             ],
             [
              0.2222222222222222,
              "#7201a8"
             ],
             [
              0.3333333333333333,
              "#9c179e"
             ],
             [
              0.4444444444444444,
              "#bd3786"
             ],
             [
              0.5555555555555556,
              "#d8576b"
             ],
             [
              0.6666666666666666,
              "#ed7953"
             ],
             [
              0.7777777777777778,
              "#fb9f3a"
             ],
             [
              0.8888888888888888,
              "#fdca26"
             ],
             [
              1,
              "#f0f921"
             ]
            ],
            "type": "surface"
           }
          ],
          "table": [
           {
            "cells": {
             "fill": {
              "color": "#EBF0F8"
             },
             "line": {
              "color": "white"
             }
            },
            "header": {
             "fill": {
              "color": "#C8D4E3"
             },
             "line": {
              "color": "white"
             }
            },
            "type": "table"
           }
          ]
         },
         "layout": {
          "annotationdefaults": {
           "arrowcolor": "#2a3f5f",
           "arrowhead": 0,
           "arrowwidth": 1
          },
          "autotypenumbers": "strict",
          "coloraxis": {
           "colorbar": {
            "outlinewidth": 0,
            "ticks": ""
           }
          },
          "colorscale": {
           "diverging": [
            [
             0,
             "#8e0152"
            ],
            [
             0.1,
             "#c51b7d"
            ],
            [
             0.2,
             "#de77ae"
            ],
            [
             0.3,
             "#f1b6da"
            ],
            [
             0.4,
             "#fde0ef"
            ],
            [
             0.5,
             "#f7f7f7"
            ],
            [
             0.6,
             "#e6f5d0"
            ],
            [
             0.7,
             "#b8e186"
            ],
            [
             0.8,
             "#7fbc41"
            ],
            [
             0.9,
             "#4d9221"
            ],
            [
             1,
             "#276419"
            ]
           ],
           "sequential": [
            [
             0,
             "#0d0887"
            ],
            [
             0.1111111111111111,
             "#46039f"
            ],
            [
             0.2222222222222222,
             "#7201a8"
            ],
            [
             0.3333333333333333,
             "#9c179e"
            ],
            [
             0.4444444444444444,
             "#bd3786"
            ],
            [
             0.5555555555555556,
             "#d8576b"
            ],
            [
             0.6666666666666666,
             "#ed7953"
            ],
            [
             0.7777777777777778,
             "#fb9f3a"
            ],
            [
             0.8888888888888888,
             "#fdca26"
            ],
            [
             1,
             "#f0f921"
            ]
           ],
           "sequentialminus": [
            [
             0,
             "#0d0887"
            ],
            [
             0.1111111111111111,
             "#46039f"
            ],
            [
             0.2222222222222222,
             "#7201a8"
            ],
            [
             0.3333333333333333,
             "#9c179e"
            ],
            [
             0.4444444444444444,
             "#bd3786"
            ],
            [
             0.5555555555555556,
             "#d8576b"
            ],
            [
             0.6666666666666666,
             "#ed7953"
            ],
            [
             0.7777777777777778,
             "#fb9f3a"
            ],
            [
             0.8888888888888888,
             "#fdca26"
            ],
            [
             1,
             "#f0f921"
            ]
           ]
          },
          "colorway": [
           "#636efa",
           "#EF553B",
           "#00cc96",
           "#ab63fa",
           "#FFA15A",
           "#19d3f3",
           "#FF6692",
           "#B6E880",
           "#FF97FF",
           "#FECB52"
          ],
          "font": {
           "color": "#2a3f5f"
          },
          "geo": {
           "bgcolor": "white",
           "lakecolor": "white",
           "landcolor": "#E5ECF6",
           "showlakes": true,
           "showland": true,
           "subunitcolor": "white"
          },
          "hoverlabel": {
           "align": "left"
          },
          "hovermode": "closest",
          "mapbox": {
           "style": "light"
          },
          "paper_bgcolor": "white",
          "plot_bgcolor": "#E5ECF6",
          "polar": {
           "angularaxis": {
            "gridcolor": "white",
            "linecolor": "white",
            "ticks": ""
           },
           "bgcolor": "#E5ECF6",
           "radialaxis": {
            "gridcolor": "white",
            "linecolor": "white",
            "ticks": ""
           }
          },
          "scene": {
           "xaxis": {
            "backgroundcolor": "#E5ECF6",
            "gridcolor": "white",
            "gridwidth": 2,
            "linecolor": "white",
            "showbackground": true,
            "ticks": "",
            "zerolinecolor": "white"
           },
           "yaxis": {
            "backgroundcolor": "#E5ECF6",
            "gridcolor": "white",
            "gridwidth": 2,
            "linecolor": "white",
            "showbackground": true,
            "ticks": "",
            "zerolinecolor": "white"
           },
           "zaxis": {
            "backgroundcolor": "#E5ECF6",
            "gridcolor": "white",
            "gridwidth": 2,
            "linecolor": "white",
            "showbackground": true,
            "ticks": "",
            "zerolinecolor": "white"
           }
          },
          "shapedefaults": {
           "line": {
            "color": "#2a3f5f"
           }
          },
          "ternary": {
           "aaxis": {
            "gridcolor": "white",
            "linecolor": "white",
            "ticks": ""
           },
           "baxis": {
            "gridcolor": "white",
            "linecolor": "white",
            "ticks": ""
           },
           "bgcolor": "#E5ECF6",
           "caxis": {
            "gridcolor": "white",
            "linecolor": "white",
            "ticks": ""
           }
          },
          "title": {
           "x": 0.05
          },
          "xaxis": {
           "automargin": true,
           "gridcolor": "white",
           "linecolor": "white",
           "ticks": "",
           "title": {
            "standoff": 15
           },
           "zerolinecolor": "white",
           "zerolinewidth": 2
          },
          "yaxis": {
           "automargin": true,
           "gridcolor": "white",
           "linecolor": "white",
           "ticks": "",
           "title": {
            "standoff": 15
           },
           "zerolinecolor": "white",
           "zerolinewidth": 2
          }
         }
        },
        "title": {
         "font": {
          "color": "#D9D9D9"
         }
        },
        "xaxis": {
         "autorange": true,
         "gridcolor": "#434343",
         "range": [
          0,
          59
         ],
         "showgrid": true,
         "tickfont": {
          "color": "#C2C2C2"
         },
         "title": {
          "font": {
           "color": "#D9D9D9"
          },
          "text": ""
         },
         "type": "category",
         "zerolinecolor": "#666570"
        },
        "yaxis": {
         "autorange": true,
         "gridcolor": "#434343",
         "range": [
          4413222222.222218,
          532608777777.7778
         ],
         "showgrid": true,
         "tickfont": {
          "color": "#C2C2C2"
         },
         "title": {
          "font": {
           "color": "#D9D9D9"
          },
          "text": ""
         },
         "type": "linear",
         "zerolinecolor": "#666570"
        }
       }
      },
      "image/png": "[encoded data removed]",
      "text/html": [
       "<div>                            <div id=\"cf7e40eb-6c1f-4126-aa7a-4bfce7d12830\" class=\"plotly-graph-div\" style=\"height:525px; width:100%;\"></div>            <script type=\"text/javascript\">                require([\"plotly\"], function(Plotly) {                    window.PLOTLYENV=window.PLOTLYENV || {};\n",
       "                    window.PLOTLYENV.BASE_URL='https://plot.ly';                                    if (document.getElementById(\"cf7e40eb-6c1f-4126-aa7a-4bfce7d12830\")) {                    Plotly.newPlot(                        \"cf7e40eb-6c1f-4126-aa7a-4bfce7d12830\",                        [{\"line\":{\"color\":\"rgba(255, 153, 51, 1.0)\",\"dash\":\"solid\",\"shape\":\"linear\",\"width\":1.3},\"mode\":\"lines\",\"name\":\"ShareholdersEquityUsd\",\"text\":\"\",\"x\":[\"Berkshire Hathaway Inc\",\"Berkshire Hathaway Inc\",\"JPMorgan Chase & Co\",\"Bank of America Corp\",\"Citigroup Inc\",\"Exxon Mobil Corp\",\"Wells Fargo & Co\",\"AT&T Inc\",\"Chevron Corp\",\"Goldman Sachs Group Inc\",\"Morgan Stanley\",\"Walt Disney Co\",\"Walmart Inc\",\"Verizon Communications Inc\",\"Pfizer Inc\",\"CVS Health Corp\",\"Royal Bank of Canada\",\"Toronto-Dominion Bank\",\"Johnson & Johnson\",\"Raytheon Technologies Corp\",\"UnitedHealth Group Inc\",\"Deutsche Bank AG\",\"MetLife Inc\",\"American International Group Inc\",\"Truist Financial Corp\",\"Prudential Financial Inc\",\"UBS Group AG\",\"General Motors Co\",\"Chubb Ltd\",\"Stellantis NV\",\"Salesforce Inc\",\"Capital One Financial Corp\",\"PNC Financial Services Group Inc\",\"Medtronic PLC\",\"Bank of Montreal\",\"US Bancorp\",\"Ford Motor Co\",\"Bank of Nova Scotia\",\"Fidelity National Information Services Inc\",\"Duke Energy Corp\",\"Charles Schwab Corp\",\"Procter & Gamble Co\",\"Conocophillips\",\"Brookfield Corp\",\"Danaher Corp\",\"Thermo Fisher Scientific Inc\",\"General Electric Co\",\"Enbridge Inc\",\"Bank of New York Mellon Corp\",\"Merck & Co Inc\",\"BlackRock Inc\",\"Manulife Financial Corp\",\"Nextera Energy Inc\",\"Elevance Health Inc\",\"Bristol-Myers Squibb Co\",\"Abbott Laboratories\",\"Canadian Imperial Bank of Commerce\",\"Prologis Inc\",\"Visa Inc\",\"Aflac Inc\",\"Kinder Morgan Inc\"],\"y\":[506199000000,506199000000,259289000000,245358000000,182977000000,168577000000,167549000000,166332000000,139067000000,99223000000,97691000000,88553000000,83253000000,81790000000,77200000000,75075000000,74759572573,74307658058,74023000000,73068000000,71760000000,70305286800,67482000000,65471000000,62598000000,61876000000,60662000000,59744000000,59714000000,59255829300,58131000000,56184000000,55695000000,52551000000,50747996438,48547000000,48519000000,48345206292,47347000000,47334000000,46307000000,45746000000,45406000000,42210000000,41899000000,40793000000,40304000000,39387800534,38196000000,38184000000,37693000000,37692193529,37202000000,36060000000,35946000000,35802000000,33584149599,33362925000,33257001000,33253000000,30823000000],\"type\":\"scatter\"}],                        {\"legend\":{\"bgcolor\":\"#151516\",\"font\":{\"color\":\"#D9D9D9\"}},\"paper_bgcolor\":\"#151516\",\"plot_bgcolor\":\"#151516\",\"template\":{\"data\":{\"barpolar\":[{\"marker\":{\"line\":{\"color\":\"#E5ECF6\",\"width\":0.5},\"pattern\":{\"fillmode\":\"overlay\",\"size\":10,\"solidity\":0.2}},\"type\":\"barpolar\"}],\"bar\":[{\"error_x\":{\"color\":\"#2a3f5f\"},\"error_y\":{\"color\":\"#2a3f5f\"},\"marker\":{\"line\":{\"color\":\"#E5ECF6\",\"width\":0.5},\"pattern\":{\"fillmode\":\"overlay\",\"size\":10,\"solidity\":0.2}},\"type\":\"bar\"}],\"carpet\":[{\"aaxis\":{\"endlinecolor\":\"#2a3f5f\",\"gridcolor\":\"white\",\"linecolor\":\"white\",\"minorgridcolor\":\"white\",\"startlinecolor\":\"#2a3f5f\"},\"baxis\":{\"endlinecolor\":\"#2a3f5f\",\"gridcolor\":\"white\",\"linecolor\":\"white\",\"minorgridcolor\":\"white\",\"startlinecolor\":\"#2a3f5f\"},\"type\":\"carpet\"}],\"choropleth\":[{\"colorbar\":{\"outlinewidth\":0,\"ticks\":\"\"},\"type\":\"choropleth\"}],\"contourcarpet\":[{\"colorbar\":{\"outlinewidth\":0,\"ticks\":\"\"},\"type\":\"contourcarpet\"}],\"contour\":[{\"colorbar\":{\"outlinewidth\":0,\"ticks\":\"\"},\"colorscale\":[[0.0,\"#0d0887\"],[0.1111111111111111,\"#46039f\"],[0.2222222222222222,\"#7201a8\"],[0.3333333333333333,\"#9c179e\"],[0.4444444444444444,\"#bd3786\"],[0.5555555555555556,\"#d8576b\"],[0.6666666666666666,\"#ed7953\"],[0.7777777777777778,\"#fb9f3a\"],[0.8888888888888888,\"#fdca26\"],[1.0,\"#f0f921\"]],\"type\":\"contour\"}],\"heatmapgl\":[{\"colorbar\":{\"outlinewidth\":0,\"ticks\":\"\"},\"colorscale\":[[0.0,\"#0d0887\"],[0.1111111111111111,\"#46039f\"],[0.2222222222222222,\"#7201a8\"],[0.3333333333333333,\"#9c179e\"],[0.4444444444444444,\"#bd3786\"],[0.5555555555555556,\"#d8576b\"],[0.6666666666666666,\"#ed7953\"],[0.7777777777777778,\"#fb9f3a\"],[0.8888888888888888,\"#fdca26\"],[1.0,\"#f0f921\"]],\"type\":\"heatmapgl\"}],\"heatmap\":[{\"colorbar\":{\"outlinewidth\":0,\"ticks\":\"\"},\"colorscale\":[[0.0,\"#0d0887\"],[0.1111111111111111,\"#46039f\"],[0.2222222222222222,\"#7201a8\"],[0.3333333333333333,\"#9c179e\"],[0.4444444444444444,\"#bd3786\"],[0.5555555555555556,\"#d8576b\"],[0.6666666666666666,\"#ed7953\"],[0.7777777777777778,\"#fb9f3a\"],[0.8888888888888888,\"#fdca26\"],[1.0,\"#f0f921\"]],\"type\":\"heatmap\"}],\"histogram2dcontour\":[{\"colorbar\":{\"outlinewidth\":0,\"ticks\":\"\"},\"colorscale\":[[0.0,\"#0d0887\"],[0.1111111111111111,\"#46039f\"],[0.2222222222222222,\"#7201a8\"],[0.3333333333333333,\"#9c179e\"],[0.4444444444444444,\"#bd3786\"],[0.5555555555555556,\"#d8576b\"],[0.6666666666666666,\"#ed7953\"],[0.7777777777777778,\"#fb9f3a\"],[0.8888888888888888,\"#fdca26\"],[1.0,\"#f0f921\"]],\"type\":\"histogram2dcontour\"}],\"histogram2d\":[{\"colorbar\":{\"outlinewidth\":0,\"ticks\":\"\"},\"colorscale\":[[0.0,\"#0d0887\"],[0.1111111111111111,\"#46039f\"],[0.2222222222222222,\"#7201a8\"],[0.3333333333333333,\"#9c179e\"],[0.4444444444444444,\"#bd3786\"],[0.5555555555555556,\"#d8576b\"],[0.6666666666666666,\"#ed7953\"],[0.7777777777777778,\"#fb9f3a\"],[0.8888888888888888,\"#fdca26\"],[1.0,\"#f0f921\"]],\"type\":\"histogram2d\"}],\"histogram\":[{\"marker\":{\"pattern\":{\"fillmode\":\"overlay\",\"size\":10,\"solidity\":0.2}},\"type\":\"histogram\"}],\"mesh3d\":[{\"colorbar\":{\"outlinewidth\":0,\"ticks\":\"\"},\"type\":\"mesh3d\"}],\"parcoords\":[{\"line\":{\"colorbar\":{\"outlinewidth\":0,\"ticks\":\"\"}},\"type\":\"parcoords\"}],\"pie\":[{\"automargin\":true,\"type\":\"pie\"}],\"scatter3d\":[{\"line\":{\"colorbar\":{\"outlinewidth\":0,\"ticks\":\"\"}},\"marker\":{\"colorbar\":{\"outlinewidth\":0,\"ticks\":\"\"}},\"type\":\"scatter3d\"}],\"scattercarpet\":[{\"marker\":{\"colorbar\":{\"outlinewidth\":0,\"ticks\":\"\"}},\"type\":\"scattercarpet\"}],\"scattergeo\":[{\"marker\":{\"colorbar\":{\"outlinewidth\":0,\"ticks\":\"\"}},\"type\":\"scattergeo\"}],\"scattergl\":[{\"marker\":{\"colorbar\":{\"outlinewidth\":0,\"ticks\":\"\"}},\"type\":\"scattergl\"}],\"scattermapbox\":[{\"marker\":{\"colorbar\":{\"outlinewidth\":0,\"ticks\":\"\"}},\"type\":\"scattermapbox\"}],\"scatterpolargl\":[{\"marker\":{\"colorbar\":{\"outlinewidth\":0,\"ticks\":\"\"}},\"type\":\"scatterpolargl\"}],\"scatterpolar\":[{\"marker\":{\"colorbar\":{\"outlinewidth\":0,\"ticks\":\"\"}},\"type\":\"scatterpolar\"}],\"scatter\":[{\"marker\":{\"colorbar\":{\"outlinewidth\":0,\"ticks\":\"\"}},\"type\":\"scatter\"}],\"scatterternary\":[{\"marker\":{\"colorbar\":{\"outlinewidth\":0,\"ticks\":\"\"}},\"type\":\"scatterternary\"}],\"surface\":[{\"colorbar\":{\"outlinewidth\":0,\"ticks\":\"\"},\"colorscale\":[[0.0,\"#0d0887\"],[0.1111111111111111,\"#46039f\"],[0.2222222222222222,\"#7201a8\"],[0.3333333333333333,\"#9c179e\"],[0.4444444444444444,\"#bd3786\"],[0.5555555555555556,\"#d8576b\"],[0.6666666666666666,\"#ed7953\"],[0.7777777777777778,\"#fb9f3a\"],[0.8888888888888888,\"#fdca26\"],[1.0,\"#f0f921\"]],\"type\":\"surface\"}],\"table\":[{\"cells\":{\"fill\":{\"color\":\"#EBF0F8\"},\"line\":{\"color\":\"white\"}},\"header\":{\"fill\":{\"color\":\"#C8D4E3\"},\"line\":{\"color\":\"white\"}},\"type\":\"table\"}]},\"layout\":{\"annotationdefaults\":{\"arrowcolor\":\"#2a3f5f\",\"arrowhead\":0,\"arrowwidth\":1},\"autotypenumbers\":\"strict\",\"coloraxis\":{\"colorbar\":{\"outlinewidth\":0,\"ticks\":\"\"}},\"colorscale\":{\"diverging\":[[0,\"#8e0152\"],[0.1,\"#c51b7d\"],[0.2,\"#de77ae\"],[0.3,\"#f1b6da\"],[0.4,\"#fde0ef\"],[0.5,\"#f7f7f7\"],[0.6,\"#e6f5d0\"],[0.7,\"#b8e186\"],[0.8,\"#7fbc41\"],[0.9,\"#4d9221\"],[1,\"#276419\"]],\"sequential\":[[0.0,\"#0d0887\"],[0.1111111111111111,\"#46039f\"],[0.2222222222222222,\"#7201a8\"],[0.3333333333333333,\"#9c179e\"],[0.4444444444444444,\"#bd3786\"],[0.5555555555555556,\"#d8576b\"],[0.6666666666666666,\"#ed7953\"],[0.7777777777777778,\"#fb9f3a\"],[0.8888888888888888,\"#fdca26\"],[1.0,\"#f0f921\"]],\"sequentialminus\":[[0.0,\"#0d0887\"],[0.1111111111111111,\"#46039f\"],[0.2222222222222222,\"#7201a8\"],[0.3333333333333333,\"#9c179e\"],[0.4444444444444444,\"#bd3786\"],[0.5555555555555556,\"#d8576b\"],[0.6666666666666666,\"#ed7953\"],[0.7777777777777778,\"#fb9f3a\"],[0.8888888888888888,\"#fdca26\"],[1.0,\"#f0f921\"]]},\"colorway\":[\"#636efa\",\"#EF553B\",\"#00cc96\",\"#ab63fa\",\"#FFA15A\",\"#19d3f3\",\"#FF6692\",\"#B6E880\",\"#FF97FF\",\"#FECB52\"],\"font\":{\"color\":\"#2a3f5f\"},\"geo\":{\"bgcolor\":\"white\",\"lakecolor\":\"white\",\"landcolor\":\"#E5ECF6\",\"showlakes\":true,\"showland\":true,\"subunitcolor\":\"white\"},\"hoverlabel\":{\"align\":\"left\"},\"hovermode\":\"closest\",\"mapbox\":{\"style\":\"light\"},\"paper_bgcolor\":\"white\",\"plot_bgcolor\":\"#E5ECF6\",\"polar\":{\"angularaxis\":{\"gridcolor\":\"white\",\"linecolor\":\"white\",\"ticks\":\"\"},\"bgcolor\":\"#E5ECF6\",\"radialaxis\":{\"gridcolor\":\"white\",\"linecolor\":\"white\",\"ticks\":\"\"}},\"scene\":{\"xaxis\":{\"backgroundcolor\":\"#E5ECF6\",\"gridcolor\":\"white\",\"gridwidth\":2,\"linecolor\":\"white\",\"showbackground\":true,\"ticks\":\"\",\"zerolinecolor\":\"white\"},\"yaxis\":{\"backgroundcolor\":\"#E5ECF6\",\"gridcolor\":\"white\",\"gridwidth\":2,\"linecolor\":\"white\",\"showbackground\":true,\"ticks\":\"\",\"zerolinecolor\":\"white\"},\"zaxis\":{\"backgroundcolor\":\"#E5ECF6\",\"gridcolor\":\"white\",\"gridwidth\":2,\"linecolor\":\"white\",\"showbackground\":true,\"ticks\":\"\",\"zerolinecolor\":\"white\"}},\"shapedefaults\":{\"line\":{\"color\":\"#2a3f5f\"}},\"ternary\":{\"aaxis\":{\"gridcolor\":\"white\",\"linecolor\":\"white\",\"ticks\":\"\"},\"baxis\":{\"gridcolor\":\"white\",\"linecolor\":\"white\",\"ticks\":\"\"},\"bgcolor\":\"#E5ECF6\",\"caxis\":{\"gridcolor\":\"white\",\"linecolor\":\"white\",\"ticks\":\"\"}},\"title\":{\"x\":0.05},\"xaxis\":{\"automargin\":true,\"gridcolor\":\"white\",\"linecolor\":\"white\",\"ticks\":\"\",\"title\":{\"standoff\":15},\"zerolinecolor\":\"white\",\"zerolinewidth\":2},\"yaxis\":{\"automargin\":true,\"gridcolor\":\"white\",\"linecolor\":\"white\",\"ticks\":\"\",\"title\":{\"standoff\":15},\"zerolinecolor\":\"white\",\"zerolinewidth\":2}}},\"title\":{\"font\":{\"color\":\"#D9D9D9\"}},\"xaxis\":{\"gridcolor\":\"#434343\",\"showgrid\":true,\"tickfont\":{\"color\":\"#C2C2C2\"},\"title\":{\"font\":{\"color\":\"#D9D9D9\"},\"text\":\"\"},\"zerolinecolor\":\"#666570\"},\"yaxis\":{\"gridcolor\":\"#434343\",\"showgrid\":true,\"tickfont\":{\"color\":\"#C2C2C2\"},\"title\":{\"font\":{\"color\":\"#D9D9D9\"},\"text\":\"\"},\"zerolinecolor\":\"#666570\"}},                        {\"showLink\": true, \"linkText\": \"Export to plot.ly\", \"plotlyServerURL\": \"https://plot.ly\", \"responsive\": true}                    ).then(function(){\n",
       "                            \n",
       "var gd = document.getElementById('cf7e40eb-6c1f-4126-aa7a-4bfce7d12830');\n",
       "var x = new MutationObserver(function (mutations, observer) {{\n",
       "        var display = window.getComputedStyle(gd).display;\n",
       "        if (!display || display === 'none') {{\n",
       "            console.log([gd, 'removed!']);\n",
       "            Plotly.purge(gd);\n",
       "            observer.disconnect();\n",
       "        }}\n",
       "}});\n",
       "\n",
       "// Listen for the removal of the full notebook cells\n",
       "var notebookContainer = gd.closest('#notebook-container');\n",
       "if (notebookContainer) {{\n",
       "    x.observe(notebookContainer, {childList: true});\n",
       "}}\n",
       "\n",
       "// Listen for the clearing of the current output cell\n",
       "var outputEl = gd.closest('.output');\n",
       "if (outputEl) {{\n",
       "    x.observe(outputEl, {childList: true});\n",
       "}}\n",
       "\n",
       "                        })                };                });            </script>        </div>"
      ]
     },
     "metadata": {},
     "output_type": "display_data"
    },
    {
     "data": {
      "text/html": [
       "<div>\n",
       "<style scoped>\n",
       "    .dataframe tbody tr th:only-of-type {\n",
       "        vertical-align: middle;\n",
       "    }\n",
       "\n",
       "    .dataframe tbody tr th {\n",
       "        vertical-align: top;\n",
       "    }\n",
       "\n",
       "    .dataframe thead th {\n",
       "        text-align: right;\n",
       "    }\n",
       "</style>\n",
       "<table border=\"1\" class=\"dataframe\">\n",
       "  <thead>\n",
       "    <tr style=\"text-align: right;\">\n",
       "      <th></th>\n",
       "      <th>DTSubjectName</th>\n",
       "      <th>ExchangeName</th>\n",
       "      <th>RIC</th>\n",
       "      <th>MktCapCompanyUsd</th>\n",
       "      <th>ShareholdersEquityUsd</th>\n",
       "      <th>Pe</th>\n",
       "      <th>DebtToAssets</th>\n",
       "      <th>Beta</th>\n",
       "      <th>Eps</th>\n",
       "      <th>Gics</th>\n",
       "      <th>...</th>\n",
       "      <th>SearchAllCategory</th>\n",
       "      <th>RCSAssetCategory</th>\n",
       "      <th>RCSCurrencyLeaf</th>\n",
       "      <th>AssetState</th>\n",
       "      <th>BusinessEntity</th>\n",
       "      <th>PI</th>\n",
       "      <th>IssueISIN</th>\n",
       "      <th>CUSIP</th>\n",
       "      <th>CinCUSIP</th>\n",
       "      <th>SolvencyMargin</th>\n",
       "    </tr>\n",
       "  </thead>\n",
       "  <tbody>\n",
       "    <tr>\n",
       "      <th>0</th>\n",
       "      <td>Berkshire Hathaway Inc</td>\n",
       "      <td>NYSE Consolidated</td>\n",
       "      <td>BRKa</td>\n",
       "      <td>693513590760</td>\n",
       "      <td>506199000000</td>\n",
       "      <td>&lt;NA&gt;</td>\n",
       "      <td>0.462934</td>\n",
       "      <td>0.896323</td>\n",
       "      <td>-1189.17575</td>\n",
       "      <td>Financials/Diversified Financials/Diversified ...</td>\n",
       "      <td>...</td>\n",
       "      <td>Equities</td>\n",
       "      <td>A:1L</td>\n",
       "      <td>US Dollar</td>\n",
       "      <td>AC</td>\n",
       "      <td>QUOTExEQUITY</td>\n",
       "      <td>727363</td>\n",
       "      <td>US0846701086</td>\n",
       "      <td>084670108</td>\n",
       "      <td>&lt;NA&gt;</td>\n",
       "      <td>&lt;NA&gt;</td>\n",
       "    </tr>\n",
       "    <tr>\n",
       "      <th>1796</th>\n",
       "      <td>Berkshire Hathaway Inc</td>\n",
       "      <td>NYSE Consolidated</td>\n",
       "      <td>BRKb</td>\n",
       "      <td>693513590760</td>\n",
       "      <td>506199000000</td>\n",
       "      <td>&lt;NA&gt;</td>\n",
       "      <td>0.462934</td>\n",
       "      <td>0.891957</td>\n",
       "      <td>-0.8</td>\n",
       "      <td>Financials/Diversified Financials/Diversified ...</td>\n",
       "      <td>...</td>\n",
       "      <td>Equities</td>\n",
       "      <td>A:1L</td>\n",
       "      <td>US Dollar</td>\n",
       "      <td>AC</td>\n",
       "      <td>QUOTExEQUITY</td>\n",
       "      <td>727365</td>\n",
       "      <td>US0846707026</td>\n",
       "      <td>084670702</td>\n",
       "      <td>&lt;NA&gt;</td>\n",
       "      <td>&lt;NA&gt;</td>\n",
       "    </tr>\n",
       "    <tr>\n",
       "      <th>4</th>\n",
       "      <td>JPMorgan Chase &amp; Co</td>\n",
       "      <td>NYSE Consolidated</td>\n",
       "      <td>JPM</td>\n",
       "      <td>400030482625</td>\n",
       "      <td>259289000000</td>\n",
       "      <td>11.515216</td>\n",
       "      <td>0.921431</td>\n",
       "      <td>1.133849</td>\n",
       "      <td>11.84346</td>\n",
       "      <td>Financials/Banks/Banks/Diversified Banks</td>\n",
       "      <td>...</td>\n",
       "      <td>Equities</td>\n",
       "      <td>A:1L</td>\n",
       "      <td>US Dollar</td>\n",
       "      <td>AC</td>\n",
       "      <td>QUOTExEQUITY</td>\n",
       "      <td>1113813</td>\n",
       "      <td>US46625H1005</td>\n",
       "      <td>46625H100</td>\n",
       "      <td>&lt;NA&gt;</td>\n",
       "      <td>&lt;NA&gt;</td>\n",
       "    </tr>\n",
       "    <tr>\n",
       "      <th>8</th>\n",
       "      <td>Bank of America Corp</td>\n",
       "      <td>NYSE Consolidated</td>\n",
       "      <td>BAC</td>\n",
       "      <td>273885836639</td>\n",
       "      <td>245358000000</td>\n",
       "      <td>10.816017</td>\n",
       "      <td>0.914792</td>\n",
       "      <td>1.42705</td>\n",
       "      <td>3.15643</td>\n",
       "      <td>Financials/Banks/Banks/Diversified Banks</td>\n",
       "      <td>...</td>\n",
       "      <td>Equities</td>\n",
       "      <td>A:1L</td>\n",
       "      <td>US Dollar</td>\n",
       "      <td>AC</td>\n",
       "      <td>QUOTExEQUITY</td>\n",
       "      <td>728529</td>\n",
       "      <td>US0605051046</td>\n",
       "      <td>060505104</td>\n",
       "      <td>&lt;NA&gt;</td>\n",
       "      <td>&lt;NA&gt;</td>\n",
       "    </tr>\n",
       "    <tr>\n",
       "      <th>15</th>\n",
       "      <td>Citigroup Inc</td>\n",
       "      <td>NYSE Consolidated</td>\n",
       "      <td>C</td>\n",
       "      <td>90954610493</td>\n",
       "      <td>182977000000</td>\n",
       "      <td>6.330462</td>\n",
       "      <td>0.911552</td>\n",
       "      <td>1.606259</td>\n",
       "      <td>7.4181</td>\n",
       "      <td>Financials/Banks/Banks/Diversified Banks</td>\n",
       "      <td>...</td>\n",
       "      <td>Equities</td>\n",
       "      <td>A:1L</td>\n",
       "      <td>US Dollar</td>\n",
       "      <td>AC</td>\n",
       "      <td>QUOTExEQUITY</td>\n",
       "      <td>727057</td>\n",
       "      <td>US1729674242</td>\n",
       "      <td>172967424</td>\n",
       "      <td>&lt;NA&gt;</td>\n",
       "      <td>&lt;NA&gt;</td>\n",
       "    </tr>\n",
       "    <tr>\n",
       "      <th>...</th>\n",
       "      <td>...</td>\n",
       "      <td>...</td>\n",
       "      <td>...</td>\n",
       "      <td>...</td>\n",
       "      <td>...</td>\n",
       "      <td>...</td>\n",
       "      <td>...</td>\n",
       "      <td>...</td>\n",
       "      <td>...</td>\n",
       "      <td>...</td>\n",
       "      <td>...</td>\n",
       "      <td>...</td>\n",
       "      <td>...</td>\n",
       "      <td>...</td>\n",
       "      <td>...</td>\n",
       "      <td>...</td>\n",
       "      <td>...</td>\n",
       "      <td>...</td>\n",
       "      <td>...</td>\n",
       "      <td>...</td>\n",
       "      <td>...</td>\n",
       "    </tr>\n",
       "    <tr>\n",
       "      <th>1850</th>\n",
       "      <td>Canadian Imperial Bank of Commerce</td>\n",
       "      <td>NYSE Consolidated</td>\n",
       "      <td>CM</td>\n",
       "      <td>37635873339</td>\n",
       "      <td>33584149599</td>\n",
       "      <td>8.460167</td>\n",
       "      <td>0.946606</td>\n",
       "      <td>1.081751</td>\n",
       "      <td>6.685275</td>\n",
       "      <td>Financials/Banks/Banks/Diversified Banks</td>\n",
       "      <td>...</td>\n",
       "      <td>Equities</td>\n",
       "      <td>A:1L</td>\n",
       "      <td>US Dollar</td>\n",
       "      <td>AC</td>\n",
       "      <td>QUOTExEQUITY</td>\n",
       "      <td>728714</td>\n",
       "      <td>CA1360691010</td>\n",
       "      <td>136069101</td>\n",
       "      <td>&lt;NA&gt;</td>\n",
       "      <td>&lt;NA&gt;</td>\n",
       "    </tr>\n",
       "    <tr>\n",
       "      <th>92</th>\n",
       "      <td>Prologis Inc</td>\n",
       "      <td>NYSE Consolidated</td>\n",
       "      <td>PLD</td>\n",
       "      <td>107963270365</td>\n",
       "      <td>33362925000</td>\n",
       "      <td>21.664314</td>\n",
       "      <td>0.354682</td>\n",
       "      <td>0.976277</td>\n",
       "      <td>5.39874</td>\n",
       "      <td>Real Estate/Real Estate/Equity Real Estate Inv...</td>\n",
       "      <td>...</td>\n",
       "      <td>Equities</td>\n",
       "      <td>A:1L</td>\n",
       "      <td>US Dollar</td>\n",
       "      <td>AC</td>\n",
       "      <td>QUOTExEQUITY</td>\n",
       "      <td>728942</td>\n",
       "      <td>US74340W1036</td>\n",
       "      <td>74340W103</td>\n",
       "      <td>&lt;NA&gt;</td>\n",
       "      <td>&lt;NA&gt;</td>\n",
       "    </tr>\n",
       "    <tr>\n",
       "      <th>11</th>\n",
       "      <td>Visa Inc</td>\n",
       "      <td>NYSE Consolidated</td>\n",
       "      <td>V</td>\n",
       "      <td>438335389155</td>\n",
       "      <td>33257001000</td>\n",
       "      <td>30.416309</td>\n",
       "      <td>0.583853</td>\n",
       "      <td>0.927027</td>\n",
       "      <td>6.99</td>\n",
       "      <td>Information Technology/Software &amp; Services/IT ...</td>\n",
       "      <td>...</td>\n",
       "      <td>Equities</td>\n",
       "      <td>A:1L</td>\n",
       "      <td>US Dollar</td>\n",
       "      <td>AC</td>\n",
       "      <td>QUOTExEQUITY</td>\n",
       "      <td>42290789</td>\n",
       "      <td>US92826C8394</td>\n",
       "      <td>92826C839</td>\n",
       "      <td>&lt;NA&gt;</td>\n",
       "      <td>&lt;NA&gt;</td>\n",
       "    </tr>\n",
       "    <tr>\n",
       "      <th>175</th>\n",
       "      <td>Aflac Inc</td>\n",
       "      <td>NYSE Consolidated</td>\n",
       "      <td>AFL</td>\n",
       "      <td>44719033235</td>\n",
       "      <td>33253000000</td>\n",
       "      <td>9.181878</td>\n",
       "      <td>0.788926</td>\n",
       "      <td>0.930207</td>\n",
       "      <td>7.83282</td>\n",
       "      <td>Financials/Insurance/Insurance/Life &amp; Health I...</td>\n",
       "      <td>...</td>\n",
       "      <td>Equities</td>\n",
       "      <td>A:1L</td>\n",
       "      <td>US Dollar</td>\n",
       "      <td>AC</td>\n",
       "      <td>QUOTExEQUITY</td>\n",
       "      <td>1096564</td>\n",
       "      <td>US0010551028</td>\n",
       "      <td>001055102</td>\n",
       "      <td>&lt;NA&gt;</td>\n",
       "      <td>187.463524</td>\n",
       "    </tr>\n",
       "    <tr>\n",
       "      <th>174</th>\n",
       "      <td>Kinder Morgan Inc</td>\n",
       "      <td>NYSE Consolidated</td>\n",
       "      <td>KMI</td>\n",
       "      <td>40976337954</td>\n",
       "      <td>30823000000</td>\n",
       "      <td>16.500873</td>\n",
       "      <td>0.54668</td>\n",
       "      <td>0.979541</td>\n",
       "      <td>1.10479</td>\n",
       "      <td>Energy/Energy/Oil, Gas &amp; Consumable Fuels/Oil ...</td>\n",
       "      <td>...</td>\n",
       "      <td>Equities</td>\n",
       "      <td>A:1L</td>\n",
       "      <td>US Dollar</td>\n",
       "      <td>AC</td>\n",
       "      <td>QUOTExEQUITY</td>\n",
       "      <td>79405805</td>\n",
       "      <td>US49456B1017</td>\n",
       "      <td>49456B101</td>\n",
       "      <td>&lt;NA&gt;</td>\n",
       "      <td>&lt;NA&gt;</td>\n",
       "    </tr>\n",
       "  </tbody>\n",
       "</table>\n",
       "<p>61 rows × 42 columns</p>\n",
       "</div>"
      ],
      "text/plain": [
       "                           DTSubjectName       ExchangeName   RIC  \\\n",
       "0                 Berkshire Hathaway Inc  NYSE Consolidated  BRKa   \n",
       "1796              Berkshire Hathaway Inc  NYSE Consolidated  BRKb   \n",
       "4                    JPMorgan Chase & Co  NYSE Consolidated   JPM   \n",
       "8                   Bank of America Corp  NYSE Consolidated   BAC   \n",
       "15                         Citigroup Inc  NYSE Consolidated     C   \n",
       "...                                  ...                ...   ...   \n",
       "1850  Canadian Imperial Bank of Commerce  NYSE Consolidated    CM   \n",
       "92                          Prologis Inc  NYSE Consolidated   PLD   \n",
       "11                              Visa Inc  NYSE Consolidated     V   \n",
       "175                            Aflac Inc  NYSE Consolidated   AFL   \n",
       "174                    Kinder Morgan Inc  NYSE Consolidated   KMI   \n",
       "\n",
       "      MktCapCompanyUsd  ShareholdersEquityUsd         Pe  DebtToAssets  \\\n",
       "0         693513590760           506199000000       <NA>      0.462934   \n",
       "1796      693513590760           506199000000       <NA>      0.462934   \n",
       "4         400030482625           259289000000  11.515216      0.921431   \n",
       "8         273885836639           245358000000  10.816017      0.914792   \n",
       "15         90954610493           182977000000   6.330462      0.911552   \n",
       "...                ...                    ...        ...           ...   \n",
       "1850       37635873339            33584149599   8.460167      0.946606   \n",
       "92        107963270365            33362925000  21.664314      0.354682   \n",
       "11        438335389155            33257001000  30.416309      0.583853   \n",
       "175        44719033235            33253000000   9.181878      0.788926   \n",
       "174        40976337954            30823000000  16.500873       0.54668   \n",
       "\n",
       "          Beta         Eps                                               Gics  \\\n",
       "0     0.896323 -1189.17575  Financials/Diversified Financials/Diversified ...   \n",
       "1796  0.891957        -0.8  Financials/Diversified Financials/Diversified ...   \n",
       "4     1.133849    11.84346           Financials/Banks/Banks/Diversified Banks   \n",
       "8      1.42705     3.15643           Financials/Banks/Banks/Diversified Banks   \n",
       "15    1.606259      7.4181           Financials/Banks/Banks/Diversified Banks   \n",
       "...        ...         ...                                                ...   \n",
       "1850  1.081751    6.685275           Financials/Banks/Banks/Diversified Banks   \n",
       "92    0.976277     5.39874  Real Estate/Real Estate/Equity Real Estate Inv...   \n",
       "11    0.927027        6.99  Information Technology/Software & Services/IT ...   \n",
       "175   0.930207     7.83282  Financials/Insurance/Insurance/Life & Health I...   \n",
       "174   0.979541     1.10479  Energy/Energy/Oil, Gas & Consumable Fuels/Oil ...   \n",
       "\n",
       "      ...  SearchAllCategory  RCSAssetCategory  RCSCurrencyLeaf  AssetState  \\\n",
       "0     ...           Equities              A:1L        US Dollar          AC   \n",
       "1796  ...           Equities              A:1L        US Dollar          AC   \n",
       "4     ...           Equities              A:1L        US Dollar          AC   \n",
       "8     ...           Equities              A:1L        US Dollar          AC   \n",
       "15    ...           Equities              A:1L        US Dollar          AC   \n",
       "...   ...                ...               ...              ...         ...   \n",
       "1850  ...           Equities              A:1L        US Dollar          AC   \n",
       "92    ...           Equities              A:1L        US Dollar          AC   \n",
       "11    ...           Equities              A:1L        US Dollar          AC   \n",
       "175   ...           Equities              A:1L        US Dollar          AC   \n",
       "174   ...           Equities              A:1L        US Dollar          AC   \n",
       "\n",
       "      BusinessEntity        PI     IssueISIN      CUSIP  CinCUSIP  \\\n",
       "0       QUOTExEQUITY    727363  US0846701086  084670108      <NA>   \n",
       "1796    QUOTExEQUITY    727365  US0846707026  084670702      <NA>   \n",
       "4       QUOTExEQUITY   1113813  US46625H1005  46625H100      <NA>   \n",
       "8       QUOTExEQUITY    728529  US0605051046  060505104      <NA>   \n",
       "15      QUOTExEQUITY    727057  US1729674242  172967424      <NA>   \n",
       "...              ...       ...           ...        ...       ...   \n",
       "1850    QUOTExEQUITY    728714  CA1360691010  136069101      <NA>   \n",
       "92      QUOTExEQUITY    728942  US74340W1036  74340W103      <NA>   \n",
       "11      QUOTExEQUITY  42290789  US92826C8394  92826C839      <NA>   \n",
       "175     QUOTExEQUITY   1096564  US0010551028  001055102      <NA>   \n",
       "174     QUOTExEQUITY  79405805  US49456B1017  49456B101      <NA>   \n",
       "\n",
       "      SolvencyMargin  \n",
       "0               <NA>  \n",
       "1796            <NA>  \n",
       "4               <NA>  \n",
       "8               <NA>  \n",
       "15              <NA>  \n",
       "...              ...  \n",
       "1850            <NA>  \n",
       "92              <NA>  \n",
       "11              <NA>  \n",
       "175       187.463524  \n",
       "174             <NA>  \n",
       "\n",
       "[61 rows x 42 columns]"
      ]
     },
     "metadata": {},
     "output_type": "display_data"
    }
   ],
   "source": [
    "equities = nyse_equities.query(\"ShareholdersEquityUsd >= 30_000_000_000\")\n",
    "plot_and_display(equities, \"ShareholdersEquityUsd\")"
   ]
  },
  {
   "cell_type": "markdown",
   "id": "473eaf10-db64-414e-b282-c6182722810d",
   "metadata": {
    "tags": []
   },
   "source": [
    "#### Get Equities by PE"
   ]
  },
  {
   "cell_type": "code",
   "execution_count": 12,
   "id": "166d52ea-9473-416b-ab7f-5dcb1b84eba3",
   "metadata": {
    "tags": []
   },
   "outputs": [
    {
     "data": {
      "application/vnd.plotly.v1+json": {
       "config": {
        "linkText": "Export to plot.ly",
        "plotlyServerURL": "https://plot.ly",
        "showLink": true
       },
       "data": [
        {
         "line": {
          "color": "rgba(255, 153, 51, 1.0)",
          "dash": "solid",
          "shape": "linear",
          "width": 1.3
         },
         "mode": "lines",
         "name": "Pe",
         "text": "",
         "type": "scatter",
         "x": [
          "Bite Acquisition Corp",
          "ShoulderUP Technology Acquisition Corp",
          "Pinterest Inc",
          "Global Net Lease Inc",
          "AP Acquisition Corp",
          "AltC Acquisition Corp",
          "Excelerate Energy Inc",
          "GoGreen Investments Corp",
          "Cars.com Inc",
          "Braemar Hotels & Resorts Inc",
          "Motive Capital Corp II",
          "Helmerich and Payne Inc",
          "EVe Mobility Acquisition Corp",
          "Nov Inc",
          "Andretti Acquisition Corp",
          "Waverley Capital Acquisition Corp 1",
          "Constellation Brands Inc",
          "Nabors Energy Transition Corp",
          "10X Capital Venture Acquisition III Corp",
          "Pure Storage Inc",
          "Marcus Corp",
          "Metals Acquisition Corp",
          "Salesforce Inc",
          "Paramount Group Inc",
          "Global Payments Inc",
          "Equity Commonwealth",
          "Dynatrace Inc",
          "ServiceNow Inc",
          "Custom Truck One Source Inc",
          "Navigator Holdings Ltd",
          "Paymentus Holdings Inc",
          "ATI Inc",
          "Meridianlink Inc",
          "Delta Air Lines Inc",
          "American Axle & Manufacturing Holdings Inc",
          "Cadre Holdings Inc",
          "dMY Technology Group Inc VI",
          "Vertiv Holdings Co",
          "EngageSmart Inc",
          "Welltower Inc",
          "Seabridge Gold Inc",
          "Maxar Technologies Inc",
          "Crown PropTech Acquisitions",
          "Alamos Gold Inc",
          "N-Able Inc",
          "Boston Beer Company Inc",
          "Alaska Air Group Inc",
          "Prudential Financial Inc",
          "Shift4 Payments Inc",
          "Adit EdTech Acquisition Cor",
          "Aris Water Solutions Inc",
          "Empire State Realty Trust Inc",
          "Algonquin Power & Utilities Corp",
          "DHI Group Inc",
          "Netstreit Corp",
          "Enovis Corp",
          "Brightview Holdings Inc",
          "Altus Power Inc",
          "Ryan Specialty Holdings Inc",
          "Boston Scientific Corp",
          "Postal Realty Trust Inc",
          "RPT Realty",
          "Gap Inc",
          "Coty Inc",
          "Cameco Corp",
          "CTO Realty Growth Inc",
          "WideOpenWest Inc",
          "Live Nation Entertainment Inc",
          "Bausch + Lomb Corp",
          "Markforged Holding Corp",
          "Mayville Engineering Company Inc",
          "Calix Inc",
          "Greenhill & Co Inc",
          "Planet Fitness Inc",
          "Progressive Corp",
          "Madison Square Garden Sports Corp",
          "elf Beauty Inc",
          "International Business Machines Corp",
          "Burlington Stores Inc",
          "Aptiv PLC",
          "PennantPark Floating Rate Capital Ltd",
          "Black Spade Acquisition Co",
          "MSA Safety Inc",
          "Ares Management Corp",
          "Barnes Group Inc",
          "Zimmer Biomet Holdings Inc",
          "UDR Inc",
          "Hyatt Hotels Corp",
          "WEX Inc",
          "ESM Acquisition Corp",
          "Ryman Hospitality Properties Inc",
          "DoubleVerify Holdings Inc",
          "Tyler Technologies Inc",
          "Alta Equipment Group Inc",
          "Ormat Technologies Inc",
          "Westwood Holdings Group Inc",
          "Paycom Software Inc",
          "EG Acquisition Corp"
         ],
         "y": [
          15287.878788,
          13666.666667,
          12194.871795,
          5351.020408,
          2960,
          1721.070812,
          1504.975124,
          1362.565445,
          1347.497639,
          1302.469136,
          1052.523172,
          992.950224,
          966.981132,
          834.437086,
          826.923077,
          728.924419,
          713.434771,
          687.51045,
          669.761273,
          665.100173,
          550.188679,
          507.099391,
          503.081414,
          486.042693,
          461.716937,
          426.700252,
          399.151841,
          398.097702,
          384.023669,
          330.996202,
          329.253366,
          327.73553,
          323.663773,
          302.436021,
          301.682243,
          240.418528,
          222.492267,
          212.73243,
          199.56367,
          181.996034,
          174.878304,
          170.278121,
          164.524003,
          164.021164,
          159.496005,
          152.289076,
          149.945843,
          140.055092,
          139.08008,
          135.326305,
          131.206657,
          124.727273,
          124.591355,
          122.626026,
          120.297407,
          120.197326,
          118.296782,
          114.790638,
          113.139876,
          112.031995,
          110.968521,
          109.652427,
          109.084174,
          108.640788,
          107.689109,
          107.326747,
          106.669587,
          103.406096,
          98.847384,
          98.785425,
          94.874673,
          93.644264,
          93.241951,
          92.969467,
          92.91459,
          91.651186,
          89.440378,
          88.047518,
          87.423499,
          83.718981,
          83.043059,
          82.844635,
          82.333597,
          82.301599,
          81.443603,
          79.94623,
          79.485622,
          79.048145,
          73.513894,
          73.230858,
          73.07734,
          73.027439,
          72.402481,
          72.336316,
          71.809748,
          71.467873,
          70.638606,
          70.375053
         ]
        }
       ],
       "layout": {
        "autosize": true,
        "legend": {
         "bgcolor": "#151516",
         "font": {
          "color": "#D9D9D9"
         }
        },
        "paper_bgcolor": "#151516",
        "plot_bgcolor": "#151516",
        "template": {
         "data": {
          "bar": [
           {
            "error_x": {
             "color": "#2a3f5f"
            },
            "error_y": {
             "color": "#2a3f5f"
            },
            "marker": {
             "line": {
              "color": "#E5ECF6",
              "width": 0.5
             },
             "pattern": {
              "fillmode": "overlay",
              "size": 10,
              "solidity": 0.2
             }
            },
            "type": "bar"
           }
          ],
          "barpolar": [
           {
            "marker": {
             "line": {
              "color": "#E5ECF6",
              "width": 0.5
             },
             "pattern": {
              "fillmode": "overlay",
              "size": 10,
              "solidity": 0.2
             }
            },
            "type": "barpolar"
           }
          ],
          "carpet": [
           {
            "aaxis": {
             "endlinecolor": "#2a3f5f",
             "gridcolor": "white",
             "linecolor": "white",
             "minorgridcolor": "white",
             "startlinecolor": "#2a3f5f"
            },
            "baxis": {
             "endlinecolor": "#2a3f5f",
             "gridcolor": "white",
             "linecolor": "white",
             "minorgridcolor": "white",
             "startlinecolor": "#2a3f5f"
            },
            "type": "carpet"
           }
          ],
          "choropleth": [
           {
            "colorbar": {
             "outlinewidth": 0,
             "ticks": ""
            },
            "type": "choropleth"
           }
          ],
          "contour": [
           {
            "colorbar": {
             "outlinewidth": 0,
             "ticks": ""
            },
            "colorscale": [
             [
              0,
              "#0d0887"
             ],
             [
              0.1111111111111111,
              "#46039f"
             ],
             [
              0.2222222222222222,
              "#7201a8"
             ],
             [
              0.3333333333333333,
              "#9c179e"
             ],
             [
              0.4444444444444444,
              "#bd3786"
             ],
             [
              0.5555555555555556,
              "#d8576b"
             ],
             [
              0.6666666666666666,
              "#ed7953"
             ],
             [
              0.7777777777777778,
              "#fb9f3a"
             ],
             [
              0.8888888888888888,
              "#fdca26"
             ],
             [
              1,
              "#f0f921"
             ]
            ],
            "type": "contour"
           }
          ],
          "contourcarpet": [
           {
            "colorbar": {
             "outlinewidth": 0,
             "ticks": ""
            },
            "type": "contourcarpet"
           }
          ],
          "heatmap": [
           {
            "colorbar": {
             "outlinewidth": 0,
             "ticks": ""
            },
            "colorscale": [
             [
              0,
              "#0d0887"
             ],
             [
              0.1111111111111111,
              "#46039f"
             ],
             [
              0.2222222222222222,
              "#7201a8"
             ],
             [
              0.3333333333333333,
              "#9c179e"
             ],
             [
              0.4444444444444444,
              "#bd3786"
             ],
             [
              0.5555555555555556,
              "#d8576b"
             ],
             [
              0.6666666666666666,
              "#ed7953"
             ],
             [
              0.7777777777777778,
              "#fb9f3a"
             ],
             [
              0.8888888888888888,
              "#fdca26"
             ],
             [
              1,
              "#f0f921"
             ]
            ],
            "type": "heatmap"
           }
          ],
          "heatmapgl": [
           {
            "colorbar": {
             "outlinewidth": 0,
             "ticks": ""
            },
            "colorscale": [
             [
              0,
              "#0d0887"
             ],
             [
              0.1111111111111111,
              "#46039f"
             ],
             [
              0.2222222222222222,
              "#7201a8"
             ],
             [
              0.3333333333333333,
              "#9c179e"
             ],
             [
              0.4444444444444444,
              "#bd3786"
             ],
             [
              0.5555555555555556,
              "#d8576b"
             ],
             [
              0.6666666666666666,
              "#ed7953"
             ],
             [
              0.7777777777777778,
              "#fb9f3a"
             ],
             [
              0.8888888888888888,
              "#fdca26"
             ],
             [
              1,
              "#f0f921"
             ]
            ],
            "type": "heatmapgl"
           }
          ],
          "histogram": [
           {
            "marker": {
             "pattern": {
              "fillmode": "overlay",
              "size": 10,
              "solidity": 0.2
             }
            },
            "type": "histogram"
           }
          ],
          "histogram2d": [
           {
            "colorbar": {
             "outlinewidth": 0,
             "ticks": ""
            },
            "colorscale": [
             [
              0,
              "#0d0887"
             ],
             [
              0.1111111111111111,
              "#46039f"
             ],
             [
              0.2222222222222222,
              "#7201a8"
             ],
             [
              0.3333333333333333,
              "#9c179e"
             ],
             [
              0.4444444444444444,
              "#bd3786"
             ],
             [
              0.5555555555555556,
              "#d8576b"
             ],
             [
              0.6666666666666666,
              "#ed7953"
             ],
             [
              0.7777777777777778,
              "#fb9f3a"
             ],
             [
              0.8888888888888888,
              "#fdca26"
             ],
             [
              1,
              "#f0f921"
             ]
            ],
            "type": "histogram2d"
           }
          ],
          "histogram2dcontour": [
           {
            "colorbar": {
             "outlinewidth": 0,
             "ticks": ""
            },
            "colorscale": [
             [
              0,
              "#0d0887"
             ],
             [
              0.1111111111111111,
              "#46039f"
             ],
             [
              0.2222222222222222,
              "#7201a8"
             ],
             [
              0.3333333333333333,
              "#9c179e"
             ],
             [
              0.4444444444444444,
              "#bd3786"
             ],
             [
              0.5555555555555556,
              "#d8576b"
             ],
             [
              0.6666666666666666,
              "#ed7953"
             ],
             [
              0.7777777777777778,
              "#fb9f3a"
             ],
             [
              0.8888888888888888,
              "#fdca26"
             ],
             [
              1,
              "#f0f921"
             ]
            ],
            "type": "histogram2dcontour"
           }
          ],
          "mesh3d": [
           {
            "colorbar": {
             "outlinewidth": 0,
             "ticks": ""
            },
            "type": "mesh3d"
           }
          ],
          "parcoords": [
           {
            "line": {
             "colorbar": {
              "outlinewidth": 0,
              "ticks": ""
             }
            },
            "type": "parcoords"
           }
          ],
          "pie": [
           {
            "automargin": true,
            "type": "pie"
           }
          ],
          "scatter": [
           {
            "marker": {
             "colorbar": {
              "outlinewidth": 0,
              "ticks": ""
             }
            },
            "type": "scatter"
           }
          ],
          "scatter3d": [
           {
            "line": {
             "colorbar": {
              "outlinewidth": 0,
              "ticks": ""
             }
            },
            "marker": {
             "colorbar": {
              "outlinewidth": 0,
              "ticks": ""
             }
            },
            "type": "scatter3d"
           }
          ],
          "scattercarpet": [
           {
            "marker": {
             "colorbar": {
              "outlinewidth": 0,
              "ticks": ""
             }
            },
            "type": "scattercarpet"
           }
          ],
          "scattergeo": [
           {
            "marker": {
             "colorbar": {
              "outlinewidth": 0,
              "ticks": ""
             }
            },
            "type": "scattergeo"
           }
          ],
          "scattergl": [
           {
            "marker": {
             "colorbar": {
              "outlinewidth": 0,
              "ticks": ""
             }
            },
            "type": "scattergl"
           }
          ],
          "scattermapbox": [
           {
            "marker": {
             "colorbar": {
              "outlinewidth": 0,
              "ticks": ""
             }
            },
            "type": "scattermapbox"
           }
          ],
          "scatterpolar": [
           {
            "marker": {
             "colorbar": {
              "outlinewidth": 0,
              "ticks": ""
             }
            },
            "type": "scatterpolar"
           }
          ],
          "scatterpolargl": [
           {
            "marker": {
             "colorbar": {
              "outlinewidth": 0,
              "ticks": ""
             }
            },
            "type": "scatterpolargl"
           }
          ],
          "scatterternary": [
           {
            "marker": {
             "colorbar": {
              "outlinewidth": 0,
              "ticks": ""
             }
            },
            "type": "scatterternary"
           }
          ],
          "surface": [
           {
            "colorbar": {
             "outlinewidth": 0,
             "ticks": ""
            },
            "colorscale": [
             [
              0,
              "#0d0887"
             ],
             [
              0.1111111111111111,
              "#46039f"
             ],
             [
              0.2222222222222222,
              "#7201a8"
             ],
             [
              0.3333333333333333,
              "#9c179e"
             ],
             [
              0.4444444444444444,
              "#bd3786"
             ],
             [
              0.5555555555555556,
              "#d8576b"
             ],
             [
              0.6666666666666666,
              "#ed7953"
             ],
             [
              0.7777777777777778,
              "#fb9f3a"
             ],
             [
              0.8888888888888888,
              "#fdca26"
             ],
             [
              1,
              "#f0f921"
             ]
            ],
            "type": "surface"
           }
          ],
          "table": [
           {
            "cells": {
             "fill": {
              "color": "#EBF0F8"
             },
             "line": {
              "color": "white"
             }
            },
            "header": {
             "fill": {
              "color": "#C8D4E3"
             },
             "line": {
              "color": "white"
             }
            },
            "type": "table"
           }
          ]
         },
         "layout": {
          "annotationdefaults": {
           "arrowcolor": "#2a3f5f",
           "arrowhead": 0,
           "arrowwidth": 1
          },
          "autotypenumbers": "strict",
          "coloraxis": {
           "colorbar": {
            "outlinewidth": 0,
            "ticks": ""
           }
          },
          "colorscale": {
           "diverging": [
            [
             0,
             "#8e0152"
            ],
            [
             0.1,
             "#c51b7d"
            ],
            [
             0.2,
             "#de77ae"
            ],
            [
             0.3,
             "#f1b6da"
            ],
            [
             0.4,
             "#fde0ef"
            ],
            [
             0.5,
             "#f7f7f7"
            ],
            [
             0.6,
             "#e6f5d0"
            ],
            [
             0.7,
             "#b8e186"
            ],
            [
             0.8,
             "#7fbc41"
            ],
            [
             0.9,
             "#4d9221"
            ],
            [
             1,
             "#276419"
            ]
           ],
           "sequential": [
            [
             0,
             "#0d0887"
            ],
            [
             0.1111111111111111,
             "#46039f"
            ],
            [
             0.2222222222222222,
             "#7201a8"
            ],
            [
             0.3333333333333333,
             "#9c179e"
            ],
            [
             0.4444444444444444,
             "#bd3786"
            ],
            [
             0.5555555555555556,
             "#d8576b"
            ],
            [
             0.6666666666666666,
             "#ed7953"
            ],
            [
             0.7777777777777778,
             "#fb9f3a"
            ],
            [
             0.8888888888888888,
             "#fdca26"
            ],
            [
             1,
             "#f0f921"
            ]
           ],
           "sequentialminus": [
            [
             0,
             "#0d0887"
            ],
            [
             0.1111111111111111,
             "#46039f"
            ],
            [
             0.2222222222222222,
             "#7201a8"
            ],
            [
             0.3333333333333333,
             "#9c179e"
            ],
            [
             0.4444444444444444,
             "#bd3786"
            ],
            [
             0.5555555555555556,
             "#d8576b"
            ],
            [
             0.6666666666666666,
             "#ed7953"
            ],
            [
             0.7777777777777778,
             "#fb9f3a"
            ],
            [
             0.8888888888888888,
             "#fdca26"
            ],
            [
             1,
             "#f0f921"
            ]
           ]
          },
          "colorway": [
           "#636efa",
           "#EF553B",
           "#00cc96",
           "#ab63fa",
           "#FFA15A",
           "#19d3f3",
           "#FF6692",
           "#B6E880",
           "#FF97FF",
           "#FECB52"
          ],
          "font": {
           "color": "#2a3f5f"
          },
          "geo": {
           "bgcolor": "white",
           "lakecolor": "white",
           "landcolor": "#E5ECF6",
           "showlakes": true,
           "showland": true,
           "subunitcolor": "white"
          },
          "hoverlabel": {
           "align": "left"
          },
          "hovermode": "closest",
          "mapbox": {
           "style": "light"
          },
          "paper_bgcolor": "white",
          "plot_bgcolor": "#E5ECF6",
          "polar": {
           "angularaxis": {
            "gridcolor": "white",
            "linecolor": "white",
            "ticks": ""
           },
           "bgcolor": "#E5ECF6",
           "radialaxis": {
            "gridcolor": "white",
            "linecolor": "white",
            "ticks": ""
           }
          },
          "scene": {
           "xaxis": {
            "backgroundcolor": "#E5ECF6",
            "gridcolor": "white",
            "gridwidth": 2,
            "linecolor": "white",
            "showbackground": true,
            "ticks": "",
            "zerolinecolor": "white"
           },
           "yaxis": {
            "backgroundcolor": "#E5ECF6",
            "gridcolor": "white",
            "gridwidth": 2,
            "linecolor": "white",
            "showbackground": true,
            "ticks": "",
            "zerolinecolor": "white"
           },
           "zaxis": {
            "backgroundcolor": "#E5ECF6",
            "gridcolor": "white",
            "gridwidth": 2,
            "linecolor": "white",
            "showbackground": true,
            "ticks": "",
            "zerolinecolor": "white"
           }
          },
          "shapedefaults": {
           "line": {
            "color": "#2a3f5f"
           }
          },
          "ternary": {
           "aaxis": {
            "gridcolor": "white",
            "linecolor": "white",
            "ticks": ""
           },
           "baxis": {
            "gridcolor": "white",
            "linecolor": "white",
            "ticks": ""
           },
           "bgcolor": "#E5ECF6",
           "caxis": {
            "gridcolor": "white",
            "linecolor": "white",
            "ticks": ""
           }
          },
          "title": {
           "x": 0.05
          },
          "xaxis": {
           "automargin": true,
           "gridcolor": "white",
           "linecolor": "white",
           "ticks": "",
           "title": {
            "standoff": 15
           },
           "zerolinecolor": "white",
           "zerolinewidth": 2
          },
          "yaxis": {
           "automargin": true,
           "gridcolor": "white",
           "linecolor": "white",
           "ticks": "",
           "title": {
            "standoff": 15
           },
           "zerolinecolor": "white",
           "zerolinewidth": 2
          }
         }
        },
        "title": {
         "font": {
          "color": "#D9D9D9"
         }
        },
        "xaxis": {
         "autorange": true,
         "gridcolor": "#434343",
         "range": [
          0,
          97
         ],
         "showgrid": true,
         "tickfont": {
          "color": "#C2C2C2"
         },
         "title": {
          "font": {
           "color": "#D9D9D9"
          },
          "text": ""
         },
         "type": "category",
         "zerolinecolor": "#666570"
        },
        "yaxis": {
         "autorange": true,
         "gridcolor": "#434343",
         "range": [
          -775.0418211666669,
          16133.295662166667
         ],
         "showgrid": true,
         "tickfont": {
          "color": "#C2C2C2"
         },
         "title": {
          "font": {
           "color": "#D9D9D9"
          },
          "text": ""
         },
         "type": "linear",
         "zerolinecolor": "#666570"
        }
       }
      },
      "image/png": "[encoded data removed]",
      "text/html": [
       "<div>                            <div id=\"28676460-ecd3-499b-9167-cfc4ee05c3e8\" class=\"plotly-graph-div\" style=\"height:525px; width:100%;\"></div>            <script type=\"text/javascript\">                require([\"plotly\"], function(Plotly) {                    window.PLOTLYENV=window.PLOTLYENV || {};\n",
       "                    window.PLOTLYENV.BASE_URL='https://plot.ly';                                    if (document.getElementById(\"28676460-ecd3-499b-9167-cfc4ee05c3e8\")) {                    Plotly.newPlot(                        \"28676460-ecd3-499b-9167-cfc4ee05c3e8\",                        [{\"line\":{\"color\":\"rgba(255, 153, 51, 1.0)\",\"dash\":\"solid\",\"shape\":\"linear\",\"width\":1.3},\"mode\":\"lines\",\"name\":\"Pe\",\"text\":\"\",\"x\":[\"Bite Acquisition Corp\",\"ShoulderUP Technology Acquisition Corp\",\"Pinterest Inc\",\"Global Net Lease Inc\",\"AP Acquisition Corp\",\"AltC Acquisition Corp\",\"Excelerate Energy Inc\",\"GoGreen Investments Corp\",\"Cars.com Inc\",\"Braemar Hotels & Resorts Inc\",\"Motive Capital Corp II\",\"Helmerich and Payne Inc\",\"EVe Mobility Acquisition Corp\",\"Nov Inc\",\"Andretti Acquisition Corp\",\"Waverley Capital Acquisition Corp 1\",\"Constellation Brands Inc\",\"Nabors Energy Transition Corp\",\"10X Capital Venture Acquisition III Corp\",\"Pure Storage Inc\",\"Marcus Corp\",\"Metals Acquisition Corp\",\"Salesforce Inc\",\"Paramount Group Inc\",\"Global Payments Inc\",\"Equity Commonwealth\",\"Dynatrace Inc\",\"ServiceNow Inc\",\"Custom Truck One Source Inc\",\"Navigator Holdings Ltd\",\"Paymentus Holdings Inc\",\"ATI Inc\",\"Meridianlink Inc\",\"Delta Air Lines Inc\",\"American Axle & Manufacturing Holdings Inc\",\"Cadre Holdings Inc\",\"dMY Technology Group Inc VI\",\"Vertiv Holdings Co\",\"EngageSmart Inc\",\"Welltower Inc\",\"Seabridge Gold Inc\",\"Maxar Technologies Inc\",\"Crown PropTech Acquisitions\",\"Alamos Gold Inc\",\"N-Able Inc\",\"Boston Beer Company Inc\",\"Alaska Air Group Inc\",\"Prudential Financial Inc\",\"Shift4 Payments Inc\",\"Adit EdTech Acquisition Cor\",\"Aris Water Solutions Inc\",\"Empire State Realty Trust Inc\",\"Algonquin Power & Utilities Corp\",\"DHI Group Inc\",\"Netstreit Corp\",\"Enovis Corp\",\"Brightview Holdings Inc\",\"Altus Power Inc\",\"Ryan Specialty Holdings Inc\",\"Boston Scientific Corp\",\"Postal Realty Trust Inc\",\"RPT Realty\",\"Gap Inc\",\"Coty Inc\",\"Cameco Corp\",\"CTO Realty Growth Inc\",\"WideOpenWest Inc\",\"Live Nation Entertainment Inc\",\"Bausch + Lomb Corp\",\"Markforged Holding Corp\",\"Mayville Engineering Company Inc\",\"Calix Inc\",\"Greenhill & Co Inc\",\"Planet Fitness Inc\",\"Progressive Corp\",\"Madison Square Garden Sports Corp\",\"elf Beauty Inc\",\"International Business Machines Corp\",\"Burlington Stores Inc\",\"Aptiv PLC\",\"PennantPark Floating Rate Capital Ltd\",\"Black Spade Acquisition Co\",\"MSA Safety Inc\",\"Ares Management Corp\",\"Barnes Group Inc\",\"Zimmer Biomet Holdings Inc\",\"UDR Inc\",\"Hyatt Hotels Corp\",\"WEX Inc\",\"ESM Acquisition Corp\",\"Ryman Hospitality Properties Inc\",\"DoubleVerify Holdings Inc\",\"Tyler Technologies Inc\",\"Alta Equipment Group Inc\",\"Ormat Technologies Inc\",\"Westwood Holdings Group Inc\",\"Paycom Software Inc\",\"EG Acquisition Corp\"],\"y\":[15287.878788,13666.666667,12194.871795,5351.020408,2960.0,1721.070812,1504.975124,1362.565445,1347.497639,1302.469136,1052.523172,992.950224,966.981132,834.437086,826.923077,728.924419,713.434771,687.51045,669.761273,665.100173,550.188679,507.099391,503.081414,486.042693,461.716937,426.700252,399.151841,398.097702,384.023669,330.996202,329.253366,327.73553,323.663773,302.436021,301.682243,240.418528,222.492267,212.73243,199.56367,181.996034,174.878304,170.278121,164.524003,164.021164,159.496005,152.289076,149.945843,140.055092,139.08008,135.326305,131.206657,124.727273,124.591355,122.626026,120.297407,120.197326,118.296782,114.790638,113.139876,112.031995,110.968521,109.652427,109.084174,108.640788,107.689109,107.326747,106.669587,103.406096,98.847384,98.785425,94.874673,93.644264,93.241951,92.969467,92.91459,91.651186,89.440378,88.047518,87.423499,83.718981,83.043059,82.844635,82.333597,82.301599,81.443603,79.94623,79.485622,79.048145,73.513894,73.230858,73.07734,73.027439,72.402481,72.336316,71.809748,71.467873,70.638606,70.375053],\"type\":\"scatter\"}],                        {\"legend\":{\"bgcolor\":\"#151516\",\"font\":{\"color\":\"#D9D9D9\"}},\"paper_bgcolor\":\"#151516\",\"plot_bgcolor\":\"#151516\",\"template\":{\"data\":{\"barpolar\":[{\"marker\":{\"line\":{\"color\":\"#E5ECF6\",\"width\":0.5},\"pattern\":{\"fillmode\":\"overlay\",\"size\":10,\"solidity\":0.2}},\"type\":\"barpolar\"}],\"bar\":[{\"error_x\":{\"color\":\"#2a3f5f\"},\"error_y\":{\"color\":\"#2a3f5f\"},\"marker\":{\"line\":{\"color\":\"#E5ECF6\",\"width\":0.5},\"pattern\":{\"fillmode\":\"overlay\",\"size\":10,\"solidity\":0.2}},\"type\":\"bar\"}],\"carpet\":[{\"aaxis\":{\"endlinecolor\":\"#2a3f5f\",\"gridcolor\":\"white\",\"linecolor\":\"white\",\"minorgridcolor\":\"white\",\"startlinecolor\":\"#2a3f5f\"},\"baxis\":{\"endlinecolor\":\"#2a3f5f\",\"gridcolor\":\"white\",\"linecolor\":\"white\",\"minorgridcolor\":\"white\",\"startlinecolor\":\"#2a3f5f\"},\"type\":\"carpet\"}],\"choropleth\":[{\"colorbar\":{\"outlinewidth\":0,\"ticks\":\"\"},\"type\":\"choropleth\"}],\"contourcarpet\":[{\"colorbar\":{\"outlinewidth\":0,\"ticks\":\"\"},\"type\":\"contourcarpet\"}],\"contour\":[{\"colorbar\":{\"outlinewidth\":0,\"ticks\":\"\"},\"colorscale\":[[0.0,\"#0d0887\"],[0.1111111111111111,\"#46039f\"],[0.2222222222222222,\"#7201a8\"],[0.3333333333333333,\"#9c179e\"],[0.4444444444444444,\"#bd3786\"],[0.5555555555555556,\"#d8576b\"],[0.6666666666666666,\"#ed7953\"],[0.7777777777777778,\"#fb9f3a\"],[0.8888888888888888,\"#fdca26\"],[1.0,\"#f0f921\"]],\"type\":\"contour\"}],\"heatmapgl\":[{\"colorbar\":{\"outlinewidth\":0,\"ticks\":\"\"},\"colorscale\":[[0.0,\"#0d0887\"],[0.1111111111111111,\"#46039f\"],[0.2222222222222222,\"#7201a8\"],[0.3333333333333333,\"#9c179e\"],[0.4444444444444444,\"#bd3786\"],[0.5555555555555556,\"#d8576b\"],[0.6666666666666666,\"#ed7953\"],[0.7777777777777778,\"#fb9f3a\"],[0.8888888888888888,\"#fdca26\"],[1.0,\"#f0f921\"]],\"type\":\"heatmapgl\"}],\"heatmap\":[{\"colorbar\":{\"outlinewidth\":0,\"ticks\":\"\"},\"colorscale\":[[0.0,\"#0d0887\"],[0.1111111111111111,\"#46039f\"],[0.2222222222222222,\"#7201a8\"],[0.3333333333333333,\"#9c179e\"],[0.4444444444444444,\"#bd3786\"],[0.5555555555555556,\"#d8576b\"],[0.6666666666666666,\"#ed7953\"],[0.7777777777777778,\"#fb9f3a\"],[0.8888888888888888,\"#fdca26\"],[1.0,\"#f0f921\"]],\"type\":\"heatmap\"}],\"histogram2dcontour\":[{\"colorbar\":{\"outlinewidth\":0,\"ticks\":\"\"},\"colorscale\":[[0.0,\"#0d0887\"],[0.1111111111111111,\"#46039f\"],[0.2222222222222222,\"#7201a8\"],[0.3333333333333333,\"#9c179e\"],[0.4444444444444444,\"#bd3786\"],[0.5555555555555556,\"#d8576b\"],[0.6666666666666666,\"#ed7953\"],[0.7777777777777778,\"#fb9f3a\"],[0.8888888888888888,\"#fdca26\"],[1.0,\"#f0f921\"]],\"type\":\"histogram2dcontour\"}],\"histogram2d\":[{\"colorbar\":{\"outlinewidth\":0,\"ticks\":\"\"},\"colorscale\":[[0.0,\"#0d0887\"],[0.1111111111111111,\"#46039f\"],[0.2222222222222222,\"#7201a8\"],[0.3333333333333333,\"#9c179e\"],[0.4444444444444444,\"#bd3786\"],[0.5555555555555556,\"#d8576b\"],[0.6666666666666666,\"#ed7953\"],[0.7777777777777778,\"#fb9f3a\"],[0.8888888888888888,\"#fdca26\"],[1.0,\"#f0f921\"]],\"type\":\"histogram2d\"}],\"histogram\":[{\"marker\":{\"pattern\":{\"fillmode\":\"overlay\",\"size\":10,\"solidity\":0.2}},\"type\":\"histogram\"}],\"mesh3d\":[{\"colorbar\":{\"outlinewidth\":0,\"ticks\":\"\"},\"type\":\"mesh3d\"}],\"parcoords\":[{\"line\":{\"colorbar\":{\"outlinewidth\":0,\"ticks\":\"\"}},\"type\":\"parcoords\"}],\"pie\":[{\"automargin\":true,\"type\":\"pie\"}],\"scatter3d\":[{\"line\":{\"colorbar\":{\"outlinewidth\":0,\"ticks\":\"\"}},\"marker\":{\"colorbar\":{\"outlinewidth\":0,\"ticks\":\"\"}},\"type\":\"scatter3d\"}],\"scattercarpet\":[{\"marker\":{\"colorbar\":{\"outlinewidth\":0,\"ticks\":\"\"}},\"type\":\"scattercarpet\"}],\"scattergeo\":[{\"marker\":{\"colorbar\":{\"outlinewidth\":0,\"ticks\":\"\"}},\"type\":\"scattergeo\"}],\"scattergl\":[{\"marker\":{\"colorbar\":{\"outlinewidth\":0,\"ticks\":\"\"}},\"type\":\"scattergl\"}],\"scattermapbox\":[{\"marker\":{\"colorbar\":{\"outlinewidth\":0,\"ticks\":\"\"}},\"type\":\"scattermapbox\"}],\"scatterpolargl\":[{\"marker\":{\"colorbar\":{\"outlinewidth\":0,\"ticks\":\"\"}},\"type\":\"scatterpolargl\"}],\"scatterpolar\":[{\"marker\":{\"colorbar\":{\"outlinewidth\":0,\"ticks\":\"\"}},\"type\":\"scatterpolar\"}],\"scatter\":[{\"marker\":{\"colorbar\":{\"outlinewidth\":0,\"ticks\":\"\"}},\"type\":\"scatter\"}],\"scatterternary\":[{\"marker\":{\"colorbar\":{\"outlinewidth\":0,\"ticks\":\"\"}},\"type\":\"scatterternary\"}],\"surface\":[{\"colorbar\":{\"outlinewidth\":0,\"ticks\":\"\"},\"colorscale\":[[0.0,\"#0d0887\"],[0.1111111111111111,\"#46039f\"],[0.2222222222222222,\"#7201a8\"],[0.3333333333333333,\"#9c179e\"],[0.4444444444444444,\"#bd3786\"],[0.5555555555555556,\"#d8576b\"],[0.6666666666666666,\"#ed7953\"],[0.7777777777777778,\"#fb9f3a\"],[0.8888888888888888,\"#fdca26\"],[1.0,\"#f0f921\"]],\"type\":\"surface\"}],\"table\":[{\"cells\":{\"fill\":{\"color\":\"#EBF0F8\"},\"line\":{\"color\":\"white\"}},\"header\":{\"fill\":{\"color\":\"#C8D4E3\"},\"line\":{\"color\":\"white\"}},\"type\":\"table\"}]},\"layout\":{\"annotationdefaults\":{\"arrowcolor\":\"#2a3f5f\",\"arrowhead\":0,\"arrowwidth\":1},\"autotypenumbers\":\"strict\",\"coloraxis\":{\"colorbar\":{\"outlinewidth\":0,\"ticks\":\"\"}},\"colorscale\":{\"diverging\":[[0,\"#8e0152\"],[0.1,\"#c51b7d\"],[0.2,\"#de77ae\"],[0.3,\"#f1b6da\"],[0.4,\"#fde0ef\"],[0.5,\"#f7f7f7\"],[0.6,\"#e6f5d0\"],[0.7,\"#b8e186\"],[0.8,\"#7fbc41\"],[0.9,\"#4d9221\"],[1,\"#276419\"]],\"sequential\":[[0.0,\"#0d0887\"],[0.1111111111111111,\"#46039f\"],[0.2222222222222222,\"#7201a8\"],[0.3333333333333333,\"#9c179e\"],[0.4444444444444444,\"#bd3786\"],[0.5555555555555556,\"#d8576b\"],[0.6666666666666666,\"#ed7953\"],[0.7777777777777778,\"#fb9f3a\"],[0.8888888888888888,\"#fdca26\"],[1.0,\"#f0f921\"]],\"sequentialminus\":[[0.0,\"#0d0887\"],[0.1111111111111111,\"#46039f\"],[0.2222222222222222,\"#7201a8\"],[0.3333333333333333,\"#9c179e\"],[0.4444444444444444,\"#bd3786\"],[0.5555555555555556,\"#d8576b\"],[0.6666666666666666,\"#ed7953\"],[0.7777777777777778,\"#fb9f3a\"],[0.8888888888888888,\"#fdca26\"],[1.0,\"#f0f921\"]]},\"colorway\":[\"#636efa\",\"#EF553B\",\"#00cc96\",\"#ab63fa\",\"#FFA15A\",\"#19d3f3\",\"#FF6692\",\"#B6E880\",\"#FF97FF\",\"#FECB52\"],\"font\":{\"color\":\"#2a3f5f\"},\"geo\":{\"bgcolor\":\"white\",\"lakecolor\":\"white\",\"landcolor\":\"#E5ECF6\",\"showlakes\":true,\"showland\":true,\"subunitcolor\":\"white\"},\"hoverlabel\":{\"align\":\"left\"},\"hovermode\":\"closest\",\"mapbox\":{\"style\":\"light\"},\"paper_bgcolor\":\"white\",\"plot_bgcolor\":\"#E5ECF6\",\"polar\":{\"angularaxis\":{\"gridcolor\":\"white\",\"linecolor\":\"white\",\"ticks\":\"\"},\"bgcolor\":\"#E5ECF6\",\"radialaxis\":{\"gridcolor\":\"white\",\"linecolor\":\"white\",\"ticks\":\"\"}},\"scene\":{\"xaxis\":{\"backgroundcolor\":\"#E5ECF6\",\"gridcolor\":\"white\",\"gridwidth\":2,\"linecolor\":\"white\",\"showbackground\":true,\"ticks\":\"\",\"zerolinecolor\":\"white\"},\"yaxis\":{\"backgroundcolor\":\"#E5ECF6\",\"gridcolor\":\"white\",\"gridwidth\":2,\"linecolor\":\"white\",\"showbackground\":true,\"ticks\":\"\",\"zerolinecolor\":\"white\"},\"zaxis\":{\"backgroundcolor\":\"#E5ECF6\",\"gridcolor\":\"white\",\"gridwidth\":2,\"linecolor\":\"white\",\"showbackground\":true,\"ticks\":\"\",\"zerolinecolor\":\"white\"}},\"shapedefaults\":{\"line\":{\"color\":\"#2a3f5f\"}},\"ternary\":{\"aaxis\":{\"gridcolor\":\"white\",\"linecolor\":\"white\",\"ticks\":\"\"},\"baxis\":{\"gridcolor\":\"white\",\"linecolor\":\"white\",\"ticks\":\"\"},\"bgcolor\":\"#E5ECF6\",\"caxis\":{\"gridcolor\":\"white\",\"linecolor\":\"white\",\"ticks\":\"\"}},\"title\":{\"x\":0.05},\"xaxis\":{\"automargin\":true,\"gridcolor\":\"white\",\"linecolor\":\"white\",\"ticks\":\"\",\"title\":{\"standoff\":15},\"zerolinecolor\":\"white\",\"zerolinewidth\":2},\"yaxis\":{\"automargin\":true,\"gridcolor\":\"white\",\"linecolor\":\"white\",\"ticks\":\"\",\"title\":{\"standoff\":15},\"zerolinecolor\":\"white\",\"zerolinewidth\":2}}},\"title\":{\"font\":{\"color\":\"#D9D9D9\"}},\"xaxis\":{\"gridcolor\":\"#434343\",\"showgrid\":true,\"tickfont\":{\"color\":\"#C2C2C2\"},\"title\":{\"font\":{\"color\":\"#D9D9D9\"},\"text\":\"\"},\"zerolinecolor\":\"#666570\"},\"yaxis\":{\"gridcolor\":\"#434343\",\"showgrid\":true,\"tickfont\":{\"color\":\"#C2C2C2\"},\"title\":{\"font\":{\"color\":\"#D9D9D9\"},\"text\":\"\"},\"zerolinecolor\":\"#666570\"}},                        {\"showLink\": true, \"linkText\": \"Export to plot.ly\", \"plotlyServerURL\": \"https://plot.ly\", \"responsive\": true}                    ).then(function(){\n",
       "                            \n",
       "var gd = document.getElementById('28676460-ecd3-499b-9167-cfc4ee05c3e8');\n",
       "var x = new MutationObserver(function (mutations, observer) {{\n",
       "        var display = window.getComputedStyle(gd).display;\n",
       "        if (!display || display === 'none') {{\n",
       "            console.log([gd, 'removed!']);\n",
       "            Plotly.purge(gd);\n",
       "            observer.disconnect();\n",
       "        }}\n",
       "}});\n",
       "\n",
       "// Listen for the removal of the full notebook cells\n",
       "var notebookContainer = gd.closest('#notebook-container');\n",
       "if (notebookContainer) {{\n",
       "    x.observe(notebookContainer, {childList: true});\n",
       "}}\n",
       "\n",
       "// Listen for the clearing of the current output cell\n",
       "var outputEl = gd.closest('.output');\n",
       "if (outputEl) {{\n",
       "    x.observe(outputEl, {childList: true});\n",
       "}}\n",
       "\n",
       "                        })                };                });            </script>        </div>"
      ]
     },
     "metadata": {},
     "output_type": "display_data"
    },
    {
     "data": {
      "text/html": [
       "<div>\n",
       "<style scoped>\n",
       "    .dataframe tbody tr th:only-of-type {\n",
       "        vertical-align: middle;\n",
       "    }\n",
       "\n",
       "    .dataframe tbody tr th {\n",
       "        vertical-align: top;\n",
       "    }\n",
       "\n",
       "    .dataframe thead th {\n",
       "        text-align: right;\n",
       "    }\n",
       "</style>\n",
       "<table border=\"1\" class=\"dataframe\">\n",
       "  <thead>\n",
       "    <tr style=\"text-align: right;\">\n",
       "      <th></th>\n",
       "      <th>DTSubjectName</th>\n",
       "      <th>ExchangeName</th>\n",
       "      <th>RIC</th>\n",
       "      <th>MktCapCompanyUsd</th>\n",
       "      <th>ShareholdersEquityUsd</th>\n",
       "      <th>Pe</th>\n",
       "      <th>DebtToAssets</th>\n",
       "      <th>Beta</th>\n",
       "      <th>Eps</th>\n",
       "      <th>Gics</th>\n",
       "      <th>...</th>\n",
       "      <th>SearchAllCategory</th>\n",
       "      <th>RCSAssetCategory</th>\n",
       "      <th>RCSCurrencyLeaf</th>\n",
       "      <th>AssetState</th>\n",
       "      <th>BusinessEntity</th>\n",
       "      <th>PI</th>\n",
       "      <th>IssueISIN</th>\n",
       "      <th>CUSIP</th>\n",
       "      <th>CinCUSIP</th>\n",
       "      <th>SolvencyMargin</th>\n",
       "    </tr>\n",
       "  </thead>\n",
       "  <tbody>\n",
       "    <tr>\n",
       "      <th>1617</th>\n",
       "      <td>Bite Acquisition Corp</td>\n",
       "      <td>NYSE Consolidated</td>\n",
       "      <td>BITE.K</td>\n",
       "      <td>258707600</td>\n",
       "      <td>199858900</td>\n",
       "      <td>15287.878788</td>\n",
       "      <td>0.003253</td>\n",
       "      <td>0.017674</td>\n",
       "      <td>0.00066</td>\n",
       "      <td>&lt;NA&gt;</td>\n",
       "      <td>...</td>\n",
       "      <td>Equities</td>\n",
       "      <td>A:1L</td>\n",
       "      <td>US Dollar</td>\n",
       "      <td>AC</td>\n",
       "      <td>QUOTExEQUITY</td>\n",
       "      <td>505192748</td>\n",
       "      <td>US09175K1051</td>\n",
       "      <td>09175K105</td>\n",
       "      <td>&lt;NA&gt;</td>\n",
       "      <td>&lt;NA&gt;</td>\n",
       "    </tr>\n",
       "    <tr>\n",
       "      <th>1687</th>\n",
       "      <td>ShoulderUP Technology Acquisition Corp</td>\n",
       "      <td>NYSE Consolidated</td>\n",
       "      <td>SUAC.K</td>\n",
       "      <td>428450000</td>\n",
       "      <td>295674970</td>\n",
       "      <td>13666.666667</td>\n",
       "      <td>0.037916</td>\n",
       "      <td>&lt;NA&gt;</td>\n",
       "      <td>0.00075</td>\n",
       "      <td>&lt;NA&gt;</td>\n",
       "      <td>...</td>\n",
       "      <td>Equities</td>\n",
       "      <td>A:1L</td>\n",
       "      <td>US Dollar</td>\n",
       "      <td>AC</td>\n",
       "      <td>QUOTExEQUITY</td>\n",
       "      <td>574895596</td>\n",
       "      <td>US82537G1040</td>\n",
       "      <td>82537G104</td>\n",
       "      <td>&lt;NA&gt;</td>\n",
       "      <td>&lt;NA&gt;</td>\n",
       "    </tr>\n",
       "    <tr>\n",
       "      <th>113</th>\n",
       "      <td>Pinterest Inc</td>\n",
       "      <td>NYSE Consolidated</td>\n",
       "      <td>PINS.K</td>\n",
       "      <td>16128330778</td>\n",
       "      <td>3038743000</td>\n",
       "      <td>12194.871795</td>\n",
       "      <td>0.140928</td>\n",
       "      <td>0.943503</td>\n",
       "      <td>0.00195</td>\n",
       "      <td>Communication Services/Media &amp; Entertainment/I...</td>\n",
       "      <td>...</td>\n",
       "      <td>Equities</td>\n",
       "      <td>A:1L</td>\n",
       "      <td>US Dollar</td>\n",
       "      <td>AC</td>\n",
       "      <td>QUOTExEQUITY</td>\n",
       "      <td>357509714</td>\n",
       "      <td>US72352L1061</td>\n",
       "      <td>72352L106</td>\n",
       "      <td>&lt;NA&gt;</td>\n",
       "      <td>&lt;NA&gt;</td>\n",
       "    </tr>\n",
       "    <tr>\n",
       "      <th>1085</th>\n",
       "      <td>Global Net Lease Inc</td>\n",
       "      <td>NYSE Consolidated</td>\n",
       "      <td>GNL</td>\n",
       "      <td>1360757222</td>\n",
       "      <td>1620607000</td>\n",
       "      <td>5351.020408</td>\n",
       "      <td>0.611128</td>\n",
       "      <td>1.261984</td>\n",
       "      <td>0.00245</td>\n",
       "      <td>Real Estate/Real Estate/Equity Real Estate Inv...</td>\n",
       "      <td>...</td>\n",
       "      <td>Equities</td>\n",
       "      <td>A:1L</td>\n",
       "      <td>US Dollar</td>\n",
       "      <td>AC</td>\n",
       "      <td>QUOTExEQUITY</td>\n",
       "      <td>192602150</td>\n",
       "      <td>US3793782018</td>\n",
       "      <td>379378201</td>\n",
       "      <td>&lt;NA&gt;</td>\n",
       "      <td>&lt;NA&gt;</td>\n",
       "    </tr>\n",
       "    <tr>\n",
       "      <th>1758</th>\n",
       "      <td>AP Acquisition Corp</td>\n",
       "      <td>NYSE Consolidated</td>\n",
       "      <td>APCA.K</td>\n",
       "      <td>223387500</td>\n",
       "      <td>172638670</td>\n",
       "      <td>2960.0</td>\n",
       "      <td>0.035847</td>\n",
       "      <td>&lt;NA&gt;</td>\n",
       "      <td>0.0035</td>\n",
       "      <td>&lt;NA&gt;</td>\n",
       "      <td>...</td>\n",
       "      <td>Equities</td>\n",
       "      <td>A:1L</td>\n",
       "      <td>US Dollar</td>\n",
       "      <td>AC</td>\n",
       "      <td>QUOTExEQUITY</td>\n",
       "      <td>581981758</td>\n",
       "      <td>KYG040581061</td>\n",
       "      <td>&lt;NA&gt;</td>\n",
       "      <td>G04058106</td>\n",
       "      <td>&lt;NA&gt;</td>\n",
       "    </tr>\n",
       "    <tr>\n",
       "      <th>...</th>\n",
       "      <td>...</td>\n",
       "      <td>...</td>\n",
       "      <td>...</td>\n",
       "      <td>...</td>\n",
       "      <td>...</td>\n",
       "      <td>...</td>\n",
       "      <td>...</td>\n",
       "      <td>...</td>\n",
       "      <td>...</td>\n",
       "      <td>...</td>\n",
       "      <td>...</td>\n",
       "      <td>...</td>\n",
       "      <td>...</td>\n",
       "      <td>...</td>\n",
       "      <td>...</td>\n",
       "      <td>...</td>\n",
       "      <td>...</td>\n",
       "      <td>...</td>\n",
       "      <td>...</td>\n",
       "      <td>...</td>\n",
       "      <td>...</td>\n",
       "    </tr>\n",
       "    <tr>\n",
       "      <th>1461</th>\n",
       "      <td>Alta Equipment Group Inc</td>\n",
       "      <td>NYSE Consolidated</td>\n",
       "      <td>ALTG.K</td>\n",
       "      <td>458124077</td>\n",
       "      <td>134700000</td>\n",
       "      <td>72.336316</td>\n",
       "      <td>0.862915</td>\n",
       "      <td>1.699107</td>\n",
       "      <td>0.19672</td>\n",
       "      <td>Industrials/Capital Goods/Trading Companies &amp; ...</td>\n",
       "      <td>...</td>\n",
       "      <td>Equities</td>\n",
       "      <td>A:1L</td>\n",
       "      <td>US Dollar</td>\n",
       "      <td>AC</td>\n",
       "      <td>QUOTExEQUITY</td>\n",
       "      <td>361993873</td>\n",
       "      <td>US02128L1061</td>\n",
       "      <td>02128L106</td>\n",
       "      <td>&lt;NA&gt;</td>\n",
       "      <td>&lt;NA&gt;</td>\n",
       "    </tr>\n",
       "    <tr>\n",
       "      <th>770</th>\n",
       "      <td>Ormat Technologies Inc</td>\n",
       "      <td>NYSE Consolidated</td>\n",
       "      <td>ORA</td>\n",
       "      <td>4759051388</td>\n",
       "      <td>1854999000</td>\n",
       "      <td>71.809748</td>\n",
       "      <td>0.546332</td>\n",
       "      <td>0.478555</td>\n",
       "      <td>1.18243</td>\n",
       "      <td>Utilities/Utilities/Independent Power and Rene...</td>\n",
       "      <td>...</td>\n",
       "      <td>Equities</td>\n",
       "      <td>A:1L</td>\n",
       "      <td>US Dollar</td>\n",
       "      <td>AC</td>\n",
       "      <td>QUOTExEQUITY</td>\n",
       "      <td>18634332</td>\n",
       "      <td>US6866881021</td>\n",
       "      <td>686688102</td>\n",
       "      <td>&lt;NA&gt;</td>\n",
       "      <td>&lt;NA&gt;</td>\n",
       "    </tr>\n",
       "    <tr>\n",
       "      <th>1671</th>\n",
       "      <td>Westwood Holdings Group Inc</td>\n",
       "      <td>NYSE Consolidated</td>\n",
       "      <td>WHG</td>\n",
       "      <td>98350576</td>\n",
       "      <td>117906000</td>\n",
       "      <td>71.467873</td>\n",
       "      <td>0.155431</td>\n",
       "      <td>1.230869</td>\n",
       "      <td>0.16357</td>\n",
       "      <td>Financials/Diversified Financials/Capital Mark...</td>\n",
       "      <td>...</td>\n",
       "      <td>Equities</td>\n",
       "      <td>A:1L</td>\n",
       "      <td>US Dollar</td>\n",
       "      <td>AC</td>\n",
       "      <td>QUOTExEQUITY</td>\n",
       "      <td>7929251</td>\n",
       "      <td>US9617651040</td>\n",
       "      <td>961765104</td>\n",
       "      <td>&lt;NA&gt;</td>\n",
       "      <td>&lt;NA&gt;</td>\n",
       "    </tr>\n",
       "    <tr>\n",
       "      <th>289</th>\n",
       "      <td>Paycom Software Inc</td>\n",
       "      <td>NYSE Consolidated</td>\n",
       "      <td>PAYC.K</td>\n",
       "      <td>17585618713</td>\n",
       "      <td>893714000</td>\n",
       "      <td>70.638606</td>\n",
       "      <td>0.72203</td>\n",
       "      <td>1.362345</td>\n",
       "      <td>4.30218</td>\n",
       "      <td>Information Technology/Software &amp; Services/Sof...</td>\n",
       "      <td>...</td>\n",
       "      <td>Equities</td>\n",
       "      <td>A:1L</td>\n",
       "      <td>US Dollar</td>\n",
       "      <td>AC</td>\n",
       "      <td>QUOTExEQUITY</td>\n",
       "      <td>156409257</td>\n",
       "      <td>US70432V1026</td>\n",
       "      <td>70432V102</td>\n",
       "      <td>&lt;NA&gt;</td>\n",
       "      <td>&lt;NA&gt;</td>\n",
       "    </tr>\n",
       "    <tr>\n",
       "      <th>1393</th>\n",
       "      <td>EG Acquisition Corp</td>\n",
       "      <td>NYSE Consolidated</td>\n",
       "      <td>EGGF.K</td>\n",
       "      <td>281812500</td>\n",
       "      <td>210356070</td>\n",
       "      <td>70.375053</td>\n",
       "      <td>0.069105</td>\n",
       "      <td>&lt;NA&gt;</td>\n",
       "      <td>0.14238</td>\n",
       "      <td>&lt;NA&gt;</td>\n",
       "      <td>...</td>\n",
       "      <td>Equities</td>\n",
       "      <td>A:1L</td>\n",
       "      <td>US Dollar</td>\n",
       "      <td>AC</td>\n",
       "      <td>QUOTExEQUITY</td>\n",
       "      <td>526501048</td>\n",
       "      <td>US26846A1007</td>\n",
       "      <td>26846A100</td>\n",
       "      <td>&lt;NA&gt;</td>\n",
       "      <td>&lt;NA&gt;</td>\n",
       "    </tr>\n",
       "  </tbody>\n",
       "</table>\n",
       "<p>98 rows × 42 columns</p>\n",
       "</div>"
      ],
      "text/plain": [
       "                               DTSubjectName       ExchangeName     RIC  \\\n",
       "1617                   Bite Acquisition Corp  NYSE Consolidated  BITE.K   \n",
       "1687  ShoulderUP Technology Acquisition Corp  NYSE Consolidated  SUAC.K   \n",
       "113                            Pinterest Inc  NYSE Consolidated  PINS.K   \n",
       "1085                    Global Net Lease Inc  NYSE Consolidated     GNL   \n",
       "1758                     AP Acquisition Corp  NYSE Consolidated  APCA.K   \n",
       "...                                      ...                ...     ...   \n",
       "1461                Alta Equipment Group Inc  NYSE Consolidated  ALTG.K   \n",
       "770                   Ormat Technologies Inc  NYSE Consolidated     ORA   \n",
       "1671             Westwood Holdings Group Inc  NYSE Consolidated     WHG   \n",
       "289                      Paycom Software Inc  NYSE Consolidated  PAYC.K   \n",
       "1393                     EG Acquisition Corp  NYSE Consolidated  EGGF.K   \n",
       "\n",
       "      MktCapCompanyUsd  ShareholdersEquityUsd            Pe  DebtToAssets  \\\n",
       "1617         258707600              199858900  15287.878788      0.003253   \n",
       "1687         428450000              295674970  13666.666667      0.037916   \n",
       "113        16128330778             3038743000  12194.871795      0.140928   \n",
       "1085        1360757222             1620607000   5351.020408      0.611128   \n",
       "1758         223387500              172638670        2960.0      0.035847   \n",
       "...                ...                    ...           ...           ...   \n",
       "1461         458124077              134700000     72.336316      0.862915   \n",
       "770         4759051388             1854999000     71.809748      0.546332   \n",
       "1671          98350576              117906000     71.467873      0.155431   \n",
       "289        17585618713              893714000     70.638606       0.72203   \n",
       "1393         281812500              210356070     70.375053      0.069105   \n",
       "\n",
       "          Beta      Eps                                               Gics  \\\n",
       "1617  0.017674  0.00066                                               <NA>   \n",
       "1687      <NA>  0.00075                                               <NA>   \n",
       "113   0.943503  0.00195  Communication Services/Media & Entertainment/I...   \n",
       "1085  1.261984  0.00245  Real Estate/Real Estate/Equity Real Estate Inv...   \n",
       "1758      <NA>   0.0035                                               <NA>   \n",
       "...        ...      ...                                                ...   \n",
       "1461  1.699107  0.19672  Industrials/Capital Goods/Trading Companies & ...   \n",
       "770   0.478555  1.18243  Utilities/Utilities/Independent Power and Rene...   \n",
       "1671  1.230869  0.16357  Financials/Diversified Financials/Capital Mark...   \n",
       "289   1.362345  4.30218  Information Technology/Software & Services/Sof...   \n",
       "1393      <NA>  0.14238                                               <NA>   \n",
       "\n",
       "      ...  SearchAllCategory  RCSAssetCategory  RCSCurrencyLeaf  AssetState  \\\n",
       "1617  ...           Equities              A:1L        US Dollar          AC   \n",
       "1687  ...           Equities              A:1L        US Dollar          AC   \n",
       "113   ...           Equities              A:1L        US Dollar          AC   \n",
       "1085  ...           Equities              A:1L        US Dollar          AC   \n",
       "1758  ...           Equities              A:1L        US Dollar          AC   \n",
       "...   ...                ...               ...              ...         ...   \n",
       "1461  ...           Equities              A:1L        US Dollar          AC   \n",
       "770   ...           Equities              A:1L        US Dollar          AC   \n",
       "1671  ...           Equities              A:1L        US Dollar          AC   \n",
       "289   ...           Equities              A:1L        US Dollar          AC   \n",
       "1393  ...           Equities              A:1L        US Dollar          AC   \n",
       "\n",
       "      BusinessEntity         PI     IssueISIN      CUSIP   CinCUSIP  \\\n",
       "1617    QUOTExEQUITY  505192748  US09175K1051  09175K105       <NA>   \n",
       "1687    QUOTExEQUITY  574895596  US82537G1040  82537G104       <NA>   \n",
       "113     QUOTExEQUITY  357509714  US72352L1061  72352L106       <NA>   \n",
       "1085    QUOTExEQUITY  192602150  US3793782018  379378201       <NA>   \n",
       "1758    QUOTExEQUITY  581981758  KYG040581061       <NA>  G04058106   \n",
       "...              ...        ...           ...        ...        ...   \n",
       "1461    QUOTExEQUITY  361993873  US02128L1061  02128L106       <NA>   \n",
       "770     QUOTExEQUITY   18634332  US6866881021  686688102       <NA>   \n",
       "1671    QUOTExEQUITY    7929251  US9617651040  961765104       <NA>   \n",
       "289     QUOTExEQUITY  156409257  US70432V1026  70432V102       <NA>   \n",
       "1393    QUOTExEQUITY  526501048  US26846A1007  26846A100       <NA>   \n",
       "\n",
       "      SolvencyMargin  \n",
       "1617            <NA>  \n",
       "1687            <NA>  \n",
       "113             <NA>  \n",
       "1085            <NA>  \n",
       "1758            <NA>  \n",
       "...              ...  \n",
       "1461            <NA>  \n",
       "770             <NA>  \n",
       "1671            <NA>  \n",
       "289             <NA>  \n",
       "1393            <NA>  \n",
       "\n",
       "[98 rows x 42 columns]"
      ]
     },
     "metadata": {},
     "output_type": "display_data"
    }
   ],
   "source": [
    "equities = nyse_equities.query(\"Pe >= 70\")\n",
    "plot_and_display(equities, \"Pe\")"
   ]
  },
  {
   "cell_type": "markdown",
   "id": "e9b0f2ff-9f9e-46fe-926c-c48f0f619097",
   "metadata": {
    "tags": []
   },
   "source": [
    "#### Get Equities by Debt Ratio"
   ]
  },
  {
   "cell_type": "code",
   "execution_count": 13,
   "id": "6353722d-e72e-4823-b2de-b3d96fb52564",
   "metadata": {
    "tags": []
   },
   "outputs": [
    {
     "data": {
      "application/vnd.plotly.v1+json": {
       "config": {
        "linkText": "Export to plot.ly",
        "plotlyServerURL": "https://plot.ly",
        "showLink": true
       },
       "data": [
        {
         "line": {
          "color": "rgba(255, 153, 51, 1.0)",
          "dash": "solid",
          "shape": "linear",
          "width": 1.3
         },
         "mode": "lines",
         "name": "DebtToAssets",
         "text": "",
         "type": "scatter",
         "x": [
          "Domino's Pizza Inc",
          "Perfect Corp",
          "Yum! Brands Inc",
          "Chinos Holdings Inc"
         ],
         "y": [
          3.517942,
          3.142108,
          2.403453,
          2.123781
         ]
        }
       ],
       "layout": {
        "autosize": true,
        "legend": {
         "bgcolor": "#151516",
         "font": {
          "color": "#D9D9D9"
         }
        },
        "paper_bgcolor": "#151516",
        "plot_bgcolor": "#151516",
        "template": {
         "data": {
          "bar": [
           {
            "error_x": {
             "color": "#2a3f5f"
            },
            "error_y": {
             "color": "#2a3f5f"
            },
            "marker": {
             "line": {
              "color": "#E5ECF6",
              "width": 0.5
             },
             "pattern": {
              "fillmode": "overlay",
              "size": 10,
              "solidity": 0.2
             }
            },
            "type": "bar"
           }
          ],
          "barpolar": [
           {
            "marker": {
             "line": {
              "color": "#E5ECF6",
              "width": 0.5
             },
             "pattern": {
              "fillmode": "overlay",
              "size": 10,
              "solidity": 0.2
             }
            },
            "type": "barpolar"
           }
          ],
          "carpet": [
           {
            "aaxis": {
             "endlinecolor": "#2a3f5f",
             "gridcolor": "white",
             "linecolor": "white",
             "minorgridcolor": "white",
             "startlinecolor": "#2a3f5f"
            },
            "baxis": {
             "endlinecolor": "#2a3f5f",
             "gridcolor": "white",
             "linecolor": "white",
             "minorgridcolor": "white",
             "startlinecolor": "#2a3f5f"
            },
            "type": "carpet"
           }
          ],
          "choropleth": [
           {
            "colorbar": {
             "outlinewidth": 0,
             "ticks": ""
            },
            "type": "choropleth"
           }
          ],
          "contour": [
           {
            "colorbar": {
             "outlinewidth": 0,
             "ticks": ""
            },
            "colorscale": [
             [
              0,
              "#0d0887"
             ],
             [
              0.1111111111111111,
              "#46039f"
             ],
             [
              0.2222222222222222,
              "#7201a8"
             ],
             [
              0.3333333333333333,
              "#9c179e"
             ],
             [
              0.4444444444444444,
              "#bd3786"
             ],
             [
              0.5555555555555556,
              "#d8576b"
             ],
             [
              0.6666666666666666,
              "#ed7953"
             ],
             [
              0.7777777777777778,
              "#fb9f3a"
             ],
             [
              0.8888888888888888,
              "#fdca26"
             ],
             [
              1,
              "#f0f921"
             ]
            ],
            "type": "contour"
           }
          ],
          "contourcarpet": [
           {
            "colorbar": {
             "outlinewidth": 0,
             "ticks": ""
            },
            "type": "contourcarpet"
           }
          ],
          "heatmap": [
           {
            "colorbar": {
             "outlinewidth": 0,
             "ticks": ""
            },
            "colorscale": [
             [
              0,
              "#0d0887"
             ],
             [
              0.1111111111111111,
              "#46039f"
             ],
             [
              0.2222222222222222,
              "#7201a8"
             ],
             [
              0.3333333333333333,
              "#9c179e"
             ],
             [
              0.4444444444444444,
              "#bd3786"
             ],
             [
              0.5555555555555556,
              "#d8576b"
             ],
             [
              0.6666666666666666,
              "#ed7953"
             ],
             [
              0.7777777777777778,
              "#fb9f3a"
             ],
             [
              0.8888888888888888,
              "#fdca26"
             ],
             [
              1,
              "#f0f921"
             ]
            ],
            "type": "heatmap"
           }
          ],
          "heatmapgl": [
           {
            "colorbar": {
             "outlinewidth": 0,
             "ticks": ""
            },
            "colorscale": [
             [
              0,
              "#0d0887"
             ],
             [
              0.1111111111111111,
              "#46039f"
             ],
             [
              0.2222222222222222,
              "#7201a8"
             ],
             [
              0.3333333333333333,
              "#9c179e"
             ],
             [
              0.4444444444444444,
              "#bd3786"
             ],
             [
              0.5555555555555556,
              "#d8576b"
             ],
             [
              0.6666666666666666,
              "#ed7953"
             ],
             [
              0.7777777777777778,
              "#fb9f3a"
             ],
             [
              0.8888888888888888,
              "#fdca26"
             ],
             [
              1,
              "#f0f921"
             ]
            ],
            "type": "heatmapgl"
           }
          ],
          "histogram": [
           {
            "marker": {
             "pattern": {
              "fillmode": "overlay",
              "size": 10,
              "solidity": 0.2
             }
            },
            "type": "histogram"
           }
          ],
          "histogram2d": [
           {
            "colorbar": {
             "outlinewidth": 0,
             "ticks": ""
            },
            "colorscale": [
             [
              0,
              "#0d0887"
             ],
             [
              0.1111111111111111,
              "#46039f"
             ],
             [
              0.2222222222222222,
              "#7201a8"
             ],
             [
              0.3333333333333333,
              "#9c179e"
             ],
             [
              0.4444444444444444,
              "#bd3786"
             ],
             [
              0.5555555555555556,
              "#d8576b"
             ],
             [
              0.6666666666666666,
              "#ed7953"
             ],
             [
              0.7777777777777778,
              "#fb9f3a"
             ],
             [
              0.8888888888888888,
              "#fdca26"
             ],
             [
              1,
              "#f0f921"
             ]
            ],
            "type": "histogram2d"
           }
          ],
          "histogram2dcontour": [
           {
            "colorbar": {
             "outlinewidth": 0,
             "ticks": ""
            },
            "colorscale": [
             [
              0,
              "#0d0887"
             ],
             [
              0.1111111111111111,
              "#46039f"
             ],
             [
              0.2222222222222222,
              "#7201a8"
             ],
             [
              0.3333333333333333,
              "#9c179e"
             ],
             [
              0.4444444444444444,
              "#bd3786"
             ],
             [
              0.5555555555555556,
              "#d8576b"
             ],
             [
              0.6666666666666666,
              "#ed7953"
             ],
             [
              0.7777777777777778,
              "#fb9f3a"
             ],
             [
              0.8888888888888888,
              "#fdca26"
             ],
             [
              1,
              "#f0f921"
             ]
            ],
            "type": "histogram2dcontour"
           }
          ],
          "mesh3d": [
           {
            "colorbar": {
             "outlinewidth": 0,
             "ticks": ""
            },
            "type": "mesh3d"
           }
          ],
          "parcoords": [
           {
            "line": {
             "colorbar": {
              "outlinewidth": 0,
              "ticks": ""
             }
            },
            "type": "parcoords"
           }
          ],
          "pie": [
           {
            "automargin": true,
            "type": "pie"
           }
          ],
          "scatter": [
           {
            "marker": {
             "colorbar": {
              "outlinewidth": 0,
              "ticks": ""
             }
            },
            "type": "scatter"
           }
          ],
          "scatter3d": [
           {
            "line": {
             "colorbar": {
              "outlinewidth": 0,
              "ticks": ""
             }
            },
            "marker": {
             "colorbar": {
              "outlinewidth": 0,
              "ticks": ""
             }
            },
            "type": "scatter3d"
           }
          ],
          "scattercarpet": [
           {
            "marker": {
             "colorbar": {
              "outlinewidth": 0,
              "ticks": ""
             }
            },
            "type": "scattercarpet"
           }
          ],
          "scattergeo": [
           {
            "marker": {
             "colorbar": {
              "outlinewidth": 0,
              "ticks": ""
             }
            },
            "type": "scattergeo"
           }
          ],
          "scattergl": [
           {
            "marker": {
             "colorbar": {
              "outlinewidth": 0,
              "ticks": ""
             }
            },
            "type": "scattergl"
           }
          ],
          "scattermapbox": [
           {
            "marker": {
             "colorbar": {
              "outlinewidth": 0,
              "ticks": ""
             }
            },
            "type": "scattermapbox"
           }
          ],
          "scatterpolar": [
           {
            "marker": {
             "colorbar": {
              "outlinewidth": 0,
              "ticks": ""
             }
            },
            "type": "scatterpolar"
           }
          ],
          "scatterpolargl": [
           {
            "marker": {
             "colorbar": {
              "outlinewidth": 0,
              "ticks": ""
             }
            },
            "type": "scatterpolargl"
           }
          ],
          "scatterternary": [
           {
            "marker": {
             "colorbar": {
              "outlinewidth": 0,
              "ticks": ""
             }
            },
            "type": "scatterternary"
           }
          ],
          "surface": [
           {
            "colorbar": {
             "outlinewidth": 0,
             "ticks": ""
            },
            "colorscale": [
             [
              0,
              "#0d0887"
             ],
             [
              0.1111111111111111,
              "#46039f"
             ],
             [
              0.2222222222222222,
              "#7201a8"
             ],
             [
              0.3333333333333333,
              "#9c179e"
             ],
             [
              0.4444444444444444,
              "#bd3786"
             ],
             [
              0.5555555555555556,
              "#d8576b"
             ],
             [
              0.6666666666666666,
              "#ed7953"
             ],
             [
              0.7777777777777778,
              "#fb9f3a"
             ],
             [
              0.8888888888888888,
              "#fdca26"
             ],
             [
              1,
              "#f0f921"
             ]
            ],
            "type": "surface"
           }
          ],
          "table": [
           {
            "cells": {
             "fill": {
              "color": "#EBF0F8"
             },
             "line": {
              "color": "white"
             }
            },
            "header": {
             "fill": {
              "color": "#C8D4E3"
             },
             "line": {
              "color": "white"
             }
            },
            "type": "table"
           }
          ]
         },
         "layout": {
          "annotationdefaults": {
           "arrowcolor": "#2a3f5f",
           "arrowhead": 0,
           "arrowwidth": 1
          },
          "autotypenumbers": "strict",
          "coloraxis": {
           "colorbar": {
            "outlinewidth": 0,
            "ticks": ""
           }
          },
          "colorscale": {
           "diverging": [
            [
             0,
             "#8e0152"
            ],
            [
             0.1,
             "#c51b7d"
            ],
            [
             0.2,
             "#de77ae"
            ],
            [
             0.3,
             "#f1b6da"
            ],
            [
             0.4,
             "#fde0ef"
            ],
            [
             0.5,
             "#f7f7f7"
            ],
            [
             0.6,
             "#e6f5d0"
            ],
            [
             0.7,
             "#b8e186"
            ],
            [
             0.8,
             "#7fbc41"
            ],
            [
             0.9,
             "#4d9221"
            ],
            [
             1,
             "#276419"
            ]
           ],
           "sequential": [
            [
             0,
             "#0d0887"
            ],
            [
             0.1111111111111111,
             "#46039f"
            ],
            [
             0.2222222222222222,
             "#7201a8"
            ],
            [
             0.3333333333333333,
             "#9c179e"
            ],
            [
             0.4444444444444444,
             "#bd3786"
            ],
            [
             0.5555555555555556,
             "#d8576b"
            ],
            [
             0.6666666666666666,
             "#ed7953"
            ],
            [
             0.7777777777777778,
             "#fb9f3a"
            ],
            [
             0.8888888888888888,
             "#fdca26"
            ],
            [
             1,
             "#f0f921"
            ]
           ],
           "sequentialminus": [
            [
             0,
             "#0d0887"
            ],
            [
             0.1111111111111111,
             "#46039f"
            ],
            [
             0.2222222222222222,
             "#7201a8"
            ],
            [
             0.3333333333333333,
             "#9c179e"
            ],
            [
             0.4444444444444444,
             "#bd3786"
            ],
            [
             0.5555555555555556,
             "#d8576b"
            ],
            [
             0.6666666666666666,
             "#ed7953"
            ],
            [
             0.7777777777777778,
             "#fb9f3a"
            ],
            [
             0.8888888888888888,
             "#fdca26"
            ],
            [
             1,
             "#f0f921"
            ]
           ]
          },
          "colorway": [
           "#636efa",
           "#EF553B",
           "#00cc96",
           "#ab63fa",
           "#FFA15A",
           "#19d3f3",
           "#FF6692",
           "#B6E880",
           "#FF97FF",
           "#FECB52"
          ],
          "font": {
           "color": "#2a3f5f"
          },
          "geo": {
           "bgcolor": "white",
           "lakecolor": "white",
           "landcolor": "#E5ECF6",
           "showlakes": true,
           "showland": true,
           "subunitcolor": "white"
          },
          "hoverlabel": {
           "align": "left"
          },
          "hovermode": "closest",
          "mapbox": {
           "style": "light"
          },
          "paper_bgcolor": "white",
          "plot_bgcolor": "#E5ECF6",
          "polar": {
           "angularaxis": {
            "gridcolor": "white",
            "linecolor": "white",
            "ticks": ""
           },
           "bgcolor": "#E5ECF6",
           "radialaxis": {
            "gridcolor": "white",
            "linecolor": "white",
            "ticks": ""
           }
          },
          "scene": {
           "xaxis": {
            "backgroundcolor": "#E5ECF6",
            "gridcolor": "white",
            "gridwidth": 2,
            "linecolor": "white",
            "showbackground": true,
            "ticks": "",
            "zerolinecolor": "white"
           },
           "yaxis": {
            "backgroundcolor": "#E5ECF6",
            "gridcolor": "white",
            "gridwidth": 2,
            "linecolor": "white",
            "showbackground": true,
            "ticks": "",
            "zerolinecolor": "white"
           },
           "zaxis": {
            "backgroundcolor": "#E5ECF6",
            "gridcolor": "white",
            "gridwidth": 2,
            "linecolor": "white",
            "showbackground": true,
            "ticks": "",
            "zerolinecolor": "white"
           }
          },
          "shapedefaults": {
           "line": {
            "color": "#2a3f5f"
           }
          },
          "ternary": {
           "aaxis": {
            "gridcolor": "white",
            "linecolor": "white",
            "ticks": ""
           },
           "baxis": {
            "gridcolor": "white",
            "linecolor": "white",
            "ticks": ""
           },
           "bgcolor": "#E5ECF6",
           "caxis": {
            "gridcolor": "white",
            "linecolor": "white",
            "ticks": ""
           }
          },
          "title": {
           "x": 0.05
          },
          "xaxis": {
           "automargin": true,
           "gridcolor": "white",
           "linecolor": "white",
           "ticks": "",
           "title": {
            "standoff": 15
           },
           "zerolinecolor": "white",
           "zerolinewidth": 2
          },
          "yaxis": {
           "automargin": true,
           "gridcolor": "white",
           "linecolor": "white",
           "ticks": "",
           "title": {
            "standoff": 15
           },
           "zerolinecolor": "white",
           "zerolinewidth": 2
          }
         }
        },
        "title": {
         "font": {
          "color": "#D9D9D9"
         }
        },
        "xaxis": {
         "autorange": true,
         "gridcolor": "#434343",
         "range": [
          0,
          3
         ],
         "showgrid": true,
         "tickfont": {
          "color": "#C2C2C2"
         },
         "title": {
          "font": {
           "color": "#D9D9D9"
          },
          "text": ""
         },
         "type": "category",
         "zerolinecolor": "#666570"
        },
        "yaxis": {
         "autorange": true,
         "gridcolor": "#434343",
         "range": [
          2.0463276111111113,
          3.595395388888889
         ],
         "showgrid": true,
         "tickfont": {
          "color": "#C2C2C2"
         },
         "title": {
          "font": {
           "color": "#D9D9D9"
          },
          "text": ""
         },
         "type": "linear",
         "zerolinecolor": "#666570"
        }
       }
      },
      "image/png": "[encoded data removed]",
      "text/html": [
       "<div>                            <div id=\"4c1fc638-a03b-45f8-8301-60b598be789e\" class=\"plotly-graph-div\" style=\"height:525px; width:100%;\"></div>            <script type=\"text/javascript\">                require([\"plotly\"], function(Plotly) {                    window.PLOTLYENV=window.PLOTLYENV || {};\n",
       "                    window.PLOTLYENV.BASE_URL='https://plot.ly';                                    if (document.getElementById(\"4c1fc638-a03b-45f8-8301-60b598be789e\")) {                    Plotly.newPlot(                        \"4c1fc638-a03b-45f8-8301-60b598be789e\",                        [{\"line\":{\"color\":\"rgba(255, 153, 51, 1.0)\",\"dash\":\"solid\",\"shape\":\"linear\",\"width\":1.3},\"mode\":\"lines\",\"name\":\"DebtToAssets\",\"text\":\"\",\"x\":[\"Domino's Pizza Inc\",\"Perfect Corp\",\"Yum! Brands Inc\",\"Chinos Holdings Inc\"],\"y\":[3.517942,3.142108,2.403453,2.123781],\"type\":\"scatter\"}],                        {\"legend\":{\"bgcolor\":\"#151516\",\"font\":{\"color\":\"#D9D9D9\"}},\"paper_bgcolor\":\"#151516\",\"plot_bgcolor\":\"#151516\",\"template\":{\"data\":{\"barpolar\":[{\"marker\":{\"line\":{\"color\":\"#E5ECF6\",\"width\":0.5},\"pattern\":{\"fillmode\":\"overlay\",\"size\":10,\"solidity\":0.2}},\"type\":\"barpolar\"}],\"bar\":[{\"error_x\":{\"color\":\"#2a3f5f\"},\"error_y\":{\"color\":\"#2a3f5f\"},\"marker\":{\"line\":{\"color\":\"#E5ECF6\",\"width\":0.5},\"pattern\":{\"fillmode\":\"overlay\",\"size\":10,\"solidity\":0.2}},\"type\":\"bar\"}],\"carpet\":[{\"aaxis\":{\"endlinecolor\":\"#2a3f5f\",\"gridcolor\":\"white\",\"linecolor\":\"white\",\"minorgridcolor\":\"white\",\"startlinecolor\":\"#2a3f5f\"},\"baxis\":{\"endlinecolor\":\"#2a3f5f\",\"gridcolor\":\"white\",\"linecolor\":\"white\",\"minorgridcolor\":\"white\",\"startlinecolor\":\"#2a3f5f\"},\"type\":\"carpet\"}],\"choropleth\":[{\"colorbar\":{\"outlinewidth\":0,\"ticks\":\"\"},\"type\":\"choropleth\"}],\"contourcarpet\":[{\"colorbar\":{\"outlinewidth\":0,\"ticks\":\"\"},\"type\":\"contourcarpet\"}],\"contour\":[{\"colorbar\":{\"outlinewidth\":0,\"ticks\":\"\"},\"colorscale\":[[0.0,\"#0d0887\"],[0.1111111111111111,\"#46039f\"],[0.2222222222222222,\"#7201a8\"],[0.3333333333333333,\"#9c179e\"],[0.4444444444444444,\"#bd3786\"],[0.5555555555555556,\"#d8576b\"],[0.6666666666666666,\"#ed7953\"],[0.7777777777777778,\"#fb9f3a\"],[0.8888888888888888,\"#fdca26\"],[1.0,\"#f0f921\"]],\"type\":\"contour\"}],\"heatmapgl\":[{\"colorbar\":{\"outlinewidth\":0,\"ticks\":\"\"},\"colorscale\":[[0.0,\"#0d0887\"],[0.1111111111111111,\"#46039f\"],[0.2222222222222222,\"#7201a8\"],[0.3333333333333333,\"#9c179e\"],[0.4444444444444444,\"#bd3786\"],[0.5555555555555556,\"#d8576b\"],[0.6666666666666666,\"#ed7953\"],[0.7777777777777778,\"#fb9f3a\"],[0.8888888888888888,\"#fdca26\"],[1.0,\"#f0f921\"]],\"type\":\"heatmapgl\"}],\"heatmap\":[{\"colorbar\":{\"outlinewidth\":0,\"ticks\":\"\"},\"colorscale\":[[0.0,\"#0d0887\"],[0.1111111111111111,\"#46039f\"],[0.2222222222222222,\"#7201a8\"],[0.3333333333333333,\"#9c179e\"],[0.4444444444444444,\"#bd3786\"],[0.5555555555555556,\"#d8576b\"],[0.6666666666666666,\"#ed7953\"],[0.7777777777777778,\"#fb9f3a\"],[0.8888888888888888,\"#fdca26\"],[1.0,\"#f0f921\"]],\"type\":\"heatmap\"}],\"histogram2dcontour\":[{\"colorbar\":{\"outlinewidth\":0,\"ticks\":\"\"},\"colorscale\":[[0.0,\"#0d0887\"],[0.1111111111111111,\"#46039f\"],[0.2222222222222222,\"#7201a8\"],[0.3333333333333333,\"#9c179e\"],[0.4444444444444444,\"#bd3786\"],[0.5555555555555556,\"#d8576b\"],[0.6666666666666666,\"#ed7953\"],[0.7777777777777778,\"#fb9f3a\"],[0.8888888888888888,\"#fdca26\"],[1.0,\"#f0f921\"]],\"type\":\"histogram2dcontour\"}],\"histogram2d\":[{\"colorbar\":{\"outlinewidth\":0,\"ticks\":\"\"},\"colorscale\":[[0.0,\"#0d0887\"],[0.1111111111111111,\"#46039f\"],[0.2222222222222222,\"#7201a8\"],[0.3333333333333333,\"#9c179e\"],[0.4444444444444444,\"#bd3786\"],[0.5555555555555556,\"#d8576b\"],[0.6666666666666666,\"#ed7953\"],[0.7777777777777778,\"#fb9f3a\"],[0.8888888888888888,\"#fdca26\"],[1.0,\"#f0f921\"]],\"type\":\"histogram2d\"}],\"histogram\":[{\"marker\":{\"pattern\":{\"fillmode\":\"overlay\",\"size\":10,\"solidity\":0.2}},\"type\":\"histogram\"}],\"mesh3d\":[{\"colorbar\":{\"outlinewidth\":0,\"ticks\":\"\"},\"type\":\"mesh3d\"}],\"parcoords\":[{\"line\":{\"colorbar\":{\"outlinewidth\":0,\"ticks\":\"\"}},\"type\":\"parcoords\"}],\"pie\":[{\"automargin\":true,\"type\":\"pie\"}],\"scatter3d\":[{\"line\":{\"colorbar\":{\"outlinewidth\":0,\"ticks\":\"\"}},\"marker\":{\"colorbar\":{\"outlinewidth\":0,\"ticks\":\"\"}},\"type\":\"scatter3d\"}],\"scattercarpet\":[{\"marker\":{\"colorbar\":{\"outlinewidth\":0,\"ticks\":\"\"}},\"type\":\"scattercarpet\"}],\"scattergeo\":[{\"marker\":{\"colorbar\":{\"outlinewidth\":0,\"ticks\":\"\"}},\"type\":\"scattergeo\"}],\"scattergl\":[{\"marker\":{\"colorbar\":{\"outlinewidth\":0,\"ticks\":\"\"}},\"type\":\"scattergl\"}],\"scattermapbox\":[{\"marker\":{\"colorbar\":{\"outlinewidth\":0,\"ticks\":\"\"}},\"type\":\"scattermapbox\"}],\"scatterpolargl\":[{\"marker\":{\"colorbar\":{\"outlinewidth\":0,\"ticks\":\"\"}},\"type\":\"scatterpolargl\"}],\"scatterpolar\":[{\"marker\":{\"colorbar\":{\"outlinewidth\":0,\"ticks\":\"\"}},\"type\":\"scatterpolar\"}],\"scatter\":[{\"marker\":{\"colorbar\":{\"outlinewidth\":0,\"ticks\":\"\"}},\"type\":\"scatter\"}],\"scatterternary\":[{\"marker\":{\"colorbar\":{\"outlinewidth\":0,\"ticks\":\"\"}},\"type\":\"scatterternary\"}],\"surface\":[{\"colorbar\":{\"outlinewidth\":0,\"ticks\":\"\"},\"colorscale\":[[0.0,\"#0d0887\"],[0.1111111111111111,\"#46039f\"],[0.2222222222222222,\"#7201a8\"],[0.3333333333333333,\"#9c179e\"],[0.4444444444444444,\"#bd3786\"],[0.5555555555555556,\"#d8576b\"],[0.6666666666666666,\"#ed7953\"],[0.7777777777777778,\"#fb9f3a\"],[0.8888888888888888,\"#fdca26\"],[1.0,\"#f0f921\"]],\"type\":\"surface\"}],\"table\":[{\"cells\":{\"fill\":{\"color\":\"#EBF0F8\"},\"line\":{\"color\":\"white\"}},\"header\":{\"fill\":{\"color\":\"#C8D4E3\"},\"line\":{\"color\":\"white\"}},\"type\":\"table\"}]},\"layout\":{\"annotationdefaults\":{\"arrowcolor\":\"#2a3f5f\",\"arrowhead\":0,\"arrowwidth\":1},\"autotypenumbers\":\"strict\",\"coloraxis\":{\"colorbar\":{\"outlinewidth\":0,\"ticks\":\"\"}},\"colorscale\":{\"diverging\":[[0,\"#8e0152\"],[0.1,\"#c51b7d\"],[0.2,\"#de77ae\"],[0.3,\"#f1b6da\"],[0.4,\"#fde0ef\"],[0.5,\"#f7f7f7\"],[0.6,\"#e6f5d0\"],[0.7,\"#b8e186\"],[0.8,\"#7fbc41\"],[0.9,\"#4d9221\"],[1,\"#276419\"]],\"sequential\":[[0.0,\"#0d0887\"],[0.1111111111111111,\"#46039f\"],[0.2222222222222222,\"#7201a8\"],[0.3333333333333333,\"#9c179e\"],[0.4444444444444444,\"#bd3786\"],[0.5555555555555556,\"#d8576b\"],[0.6666666666666666,\"#ed7953\"],[0.7777777777777778,\"#fb9f3a\"],[0.8888888888888888,\"#fdca26\"],[1.0,\"#f0f921\"]],\"sequentialminus\":[[0.0,\"#0d0887\"],[0.1111111111111111,\"#46039f\"],[0.2222222222222222,\"#7201a8\"],[0.3333333333333333,\"#9c179e\"],[0.4444444444444444,\"#bd3786\"],[0.5555555555555556,\"#d8576b\"],[0.6666666666666666,\"#ed7953\"],[0.7777777777777778,\"#fb9f3a\"],[0.8888888888888888,\"#fdca26\"],[1.0,\"#f0f921\"]]},\"colorway\":[\"#636efa\",\"#EF553B\",\"#00cc96\",\"#ab63fa\",\"#FFA15A\",\"#19d3f3\",\"#FF6692\",\"#B6E880\",\"#FF97FF\",\"#FECB52\"],\"font\":{\"color\":\"#2a3f5f\"},\"geo\":{\"bgcolor\":\"white\",\"lakecolor\":\"white\",\"landcolor\":\"#E5ECF6\",\"showlakes\":true,\"showland\":true,\"subunitcolor\":\"white\"},\"hoverlabel\":{\"align\":\"left\"},\"hovermode\":\"closest\",\"mapbox\":{\"style\":\"light\"},\"paper_bgcolor\":\"white\",\"plot_bgcolor\":\"#E5ECF6\",\"polar\":{\"angularaxis\":{\"gridcolor\":\"white\",\"linecolor\":\"white\",\"ticks\":\"\"},\"bgcolor\":\"#E5ECF6\",\"radialaxis\":{\"gridcolor\":\"white\",\"linecolor\":\"white\",\"ticks\":\"\"}},\"scene\":{\"xaxis\":{\"backgroundcolor\":\"#E5ECF6\",\"gridcolor\":\"white\",\"gridwidth\":2,\"linecolor\":\"white\",\"showbackground\":true,\"ticks\":\"\",\"zerolinecolor\":\"white\"},\"yaxis\":{\"backgroundcolor\":\"#E5ECF6\",\"gridcolor\":\"white\",\"gridwidth\":2,\"linecolor\":\"white\",\"showbackground\":true,\"ticks\":\"\",\"zerolinecolor\":\"white\"},\"zaxis\":{\"backgroundcolor\":\"#E5ECF6\",\"gridcolor\":\"white\",\"gridwidth\":2,\"linecolor\":\"white\",\"showbackground\":true,\"ticks\":\"\",\"zerolinecolor\":\"white\"}},\"shapedefaults\":{\"line\":{\"color\":\"#2a3f5f\"}},\"ternary\":{\"aaxis\":{\"gridcolor\":\"white\",\"linecolor\":\"white\",\"ticks\":\"\"},\"baxis\":{\"gridcolor\":\"white\",\"linecolor\":\"white\",\"ticks\":\"\"},\"bgcolor\":\"#E5ECF6\",\"caxis\":{\"gridcolor\":\"white\",\"linecolor\":\"white\",\"ticks\":\"\"}},\"title\":{\"x\":0.05},\"xaxis\":{\"automargin\":true,\"gridcolor\":\"white\",\"linecolor\":\"white\",\"ticks\":\"\",\"title\":{\"standoff\":15},\"zerolinecolor\":\"white\",\"zerolinewidth\":2},\"yaxis\":{\"automargin\":true,\"gridcolor\":\"white\",\"linecolor\":\"white\",\"ticks\":\"\",\"title\":{\"standoff\":15},\"zerolinecolor\":\"white\",\"zerolinewidth\":2}}},\"title\":{\"font\":{\"color\":\"#D9D9D9\"}},\"xaxis\":{\"gridcolor\":\"#434343\",\"showgrid\":true,\"tickfont\":{\"color\":\"#C2C2C2\"},\"title\":{\"font\":{\"color\":\"#D9D9D9\"},\"text\":\"\"},\"zerolinecolor\":\"#666570\"},\"yaxis\":{\"gridcolor\":\"#434343\",\"showgrid\":true,\"tickfont\":{\"color\":\"#C2C2C2\"},\"title\":{\"font\":{\"color\":\"#D9D9D9\"},\"text\":\"\"},\"zerolinecolor\":\"#666570\"}},                        {\"showLink\": true, \"linkText\": \"Export to plot.ly\", \"plotlyServerURL\": \"https://plot.ly\", \"responsive\": true}                    ).then(function(){\n",
       "                            \n",
       "var gd = document.getElementById('4c1fc638-a03b-45f8-8301-60b598be789e');\n",
       "var x = new MutationObserver(function (mutations, observer) {{\n",
       "        var display = window.getComputedStyle(gd).display;\n",
       "        if (!display || display === 'none') {{\n",
       "            console.log([gd, 'removed!']);\n",
       "            Plotly.purge(gd);\n",
       "            observer.disconnect();\n",
       "        }}\n",
       "}});\n",
       "\n",
       "// Listen for the removal of the full notebook cells\n",
       "var notebookContainer = gd.closest('#notebook-container');\n",
       "if (notebookContainer) {{\n",
       "    x.observe(notebookContainer, {childList: true});\n",
       "}}\n",
       "\n",
       "// Listen for the clearing of the current output cell\n",
       "var outputEl = gd.closest('.output');\n",
       "if (outputEl) {{\n",
       "    x.observe(outputEl, {childList: true});\n",
       "}}\n",
       "\n",
       "                        })                };                });            </script>        </div>"
      ]
     },
     "metadata": {},
     "output_type": "display_data"
    },
    {
     "data": {
      "text/html": [
       "<div>\n",
       "<style scoped>\n",
       "    .dataframe tbody tr th:only-of-type {\n",
       "        vertical-align: middle;\n",
       "    }\n",
       "\n",
       "    .dataframe tbody tr th {\n",
       "        vertical-align: top;\n",
       "    }\n",
       "\n",
       "    .dataframe thead th {\n",
       "        text-align: right;\n",
       "    }\n",
       "</style>\n",
       "<table border=\"1\" class=\"dataframe\">\n",
       "  <thead>\n",
       "    <tr style=\"text-align: right;\">\n",
       "      <th></th>\n",
       "      <th>DTSubjectName</th>\n",
       "      <th>ExchangeName</th>\n",
       "      <th>RIC</th>\n",
       "      <th>MktCapCompanyUsd</th>\n",
       "      <th>ShareholdersEquityUsd</th>\n",
       "      <th>Pe</th>\n",
       "      <th>DebtToAssets</th>\n",
       "      <th>Beta</th>\n",
       "      <th>Eps</th>\n",
       "      <th>Gics</th>\n",
       "      <th>...</th>\n",
       "      <th>SearchAllCategory</th>\n",
       "      <th>RCSAssetCategory</th>\n",
       "      <th>RCSCurrencyLeaf</th>\n",
       "      <th>AssetState</th>\n",
       "      <th>BusinessEntity</th>\n",
       "      <th>PI</th>\n",
       "      <th>IssueISIN</th>\n",
       "      <th>CUSIP</th>\n",
       "      <th>CinCUSIP</th>\n",
       "      <th>SolvencyMargin</th>\n",
       "    </tr>\n",
       "  </thead>\n",
       "  <tbody>\n",
       "    <tr>\n",
       "      <th>216</th>\n",
       "      <td>Domino's Pizza Inc</td>\n",
       "      <td>NYSE Consolidated</td>\n",
       "      <td>DPZ</td>\n",
       "      <td>12191192133</td>\n",
       "      <td>-4209536000</td>\n",
       "      <td>27.903611</td>\n",
       "      <td>3.517942</td>\n",
       "      <td>0.747829</td>\n",
       "      <td>12.34213</td>\n",
       "      <td>Consumer Discretionary/Consumer Services/Hotel...</td>\n",
       "      <td>...</td>\n",
       "      <td>Equities</td>\n",
       "      <td>A:1L</td>\n",
       "      <td>US Dollar</td>\n",
       "      <td>AC</td>\n",
       "      <td>QUOTExEQUITY</td>\n",
       "      <td>17480310</td>\n",
       "      <td>US25754A2015</td>\n",
       "      <td>25754A201</td>\n",
       "      <td>&lt;NA&gt;</td>\n",
       "      <td>&lt;NA&gt;</td>\n",
       "    </tr>\n",
       "    <tr>\n",
       "      <th>1720</th>\n",
       "      <td>Perfect Corp</td>\n",
       "      <td>NYSE Consolidated</td>\n",
       "      <td>PERF.K</td>\n",
       "      <td>864508341</td>\n",
       "      <td>-190442000</td>\n",
       "      <td>22.739999</td>\n",
       "      <td>3.142108</td>\n",
       "      <td>-0.201858</td>\n",
       "      <td>0.32146</td>\n",
       "      <td>Information Technology/Software &amp; Services/Sof...</td>\n",
       "      <td>...</td>\n",
       "      <td>Equities</td>\n",
       "      <td>A:1L</td>\n",
       "      <td>US Dollar</td>\n",
       "      <td>AC</td>\n",
       "      <td>QUOTExEQUITY</td>\n",
       "      <td>497816921</td>\n",
       "      <td>KYG7006A1094</td>\n",
       "      <td>&lt;NA&gt;</td>\n",
       "      <td>G7006A109</td>\n",
       "      <td>&lt;NA&gt;</td>\n",
       "    </tr>\n",
       "    <tr>\n",
       "      <th>165</th>\n",
       "      <td>Yum! Brands Inc</td>\n",
       "      <td>NYSE Consolidated</td>\n",
       "      <td>YUM</td>\n",
       "      <td>36247594596</td>\n",
       "      <td>-8373000000</td>\n",
       "      <td>29.313809</td>\n",
       "      <td>2.403453</td>\n",
       "      <td>0.990615</td>\n",
       "      <td>4.38974</td>\n",
       "      <td>Consumer Discretionary/Consumer Services/Hotel...</td>\n",
       "      <td>...</td>\n",
       "      <td>Equities</td>\n",
       "      <td>A:1L</td>\n",
       "      <td>US Dollar</td>\n",
       "      <td>AC</td>\n",
       "      <td>QUOTExEQUITY</td>\n",
       "      <td>728177</td>\n",
       "      <td>US9884981013</td>\n",
       "      <td>988498101</td>\n",
       "      <td>&lt;NA&gt;</td>\n",
       "      <td>&lt;NA&gt;</td>\n",
       "    </tr>\n",
       "    <tr>\n",
       "      <th>1765</th>\n",
       "      <td>Chinos Holdings Inc</td>\n",
       "      <td>NYSE Consolidated</td>\n",
       "      <td>CHIHO.K</td>\n",
       "      <td>&lt;NA&gt;</td>\n",
       "      <td>-1569749000</td>\n",
       "      <td>&lt;NA&gt;</td>\n",
       "      <td>2.123781</td>\n",
       "      <td>&lt;NA&gt;</td>\n",
       "      <td>&lt;NA&gt;</td>\n",
       "      <td>&lt;NA&gt;</td>\n",
       "      <td>...</td>\n",
       "      <td>Equities</td>\n",
       "      <td>A:1L</td>\n",
       "      <td>US Dollar</td>\n",
       "      <td>AC</td>\n",
       "      <td>QUOTExEQUITY</td>\n",
       "      <td>439963932</td>\n",
       "      <td>&lt;NA&gt;</td>\n",
       "      <td>&lt;NA&gt;</td>\n",
       "      <td>&lt;NA&gt;</td>\n",
       "      <td>&lt;NA&gt;</td>\n",
       "    </tr>\n",
       "  </tbody>\n",
       "</table>\n",
       "<p>4 rows × 42 columns</p>\n",
       "</div>"
      ],
      "text/plain": [
       "            DTSubjectName       ExchangeName      RIC  MktCapCompanyUsd  \\\n",
       "216    Domino's Pizza Inc  NYSE Consolidated      DPZ       12191192133   \n",
       "1720         Perfect Corp  NYSE Consolidated   PERF.K         864508341   \n",
       "165       Yum! Brands Inc  NYSE Consolidated      YUM       36247594596   \n",
       "1765  Chinos Holdings Inc  NYSE Consolidated  CHIHO.K              <NA>   \n",
       "\n",
       "      ShareholdersEquityUsd         Pe  DebtToAssets      Beta       Eps  \\\n",
       "216             -4209536000  27.903611      3.517942  0.747829  12.34213   \n",
       "1720             -190442000  22.739999      3.142108 -0.201858   0.32146   \n",
       "165             -8373000000  29.313809      2.403453  0.990615   4.38974   \n",
       "1765            -1569749000       <NA>      2.123781      <NA>      <NA>   \n",
       "\n",
       "                                                   Gics  ...  \\\n",
       "216   Consumer Discretionary/Consumer Services/Hotel...  ...   \n",
       "1720  Information Technology/Software & Services/Sof...  ...   \n",
       "165   Consumer Discretionary/Consumer Services/Hotel...  ...   \n",
       "1765                                               <NA>  ...   \n",
       "\n",
       "      SearchAllCategory  RCSAssetCategory  RCSCurrencyLeaf  AssetState  \\\n",
       "216            Equities              A:1L        US Dollar          AC   \n",
       "1720           Equities              A:1L        US Dollar          AC   \n",
       "165            Equities              A:1L        US Dollar          AC   \n",
       "1765           Equities              A:1L        US Dollar          AC   \n",
       "\n",
       "      BusinessEntity         PI     IssueISIN      CUSIP   CinCUSIP  \\\n",
       "216     QUOTExEQUITY   17480310  US25754A2015  25754A201       <NA>   \n",
       "1720    QUOTExEQUITY  497816921  KYG7006A1094       <NA>  G7006A109   \n",
       "165     QUOTExEQUITY     728177  US9884981013  988498101       <NA>   \n",
       "1765    QUOTExEQUITY  439963932          <NA>       <NA>       <NA>   \n",
       "\n",
       "      SolvencyMargin  \n",
       "216             <NA>  \n",
       "1720            <NA>  \n",
       "165             <NA>  \n",
       "1765            <NA>  \n",
       "\n",
       "[4 rows x 42 columns]"
      ]
     },
     "metadata": {},
     "output_type": "display_data"
    }
   ],
   "source": [
    "equities = nyse_equities.query(\"DebtToAssets >= 2\")\n",
    "plot_and_display(equities, \"DebtToAssets\")"
   ]
  },
  {
   "cell_type": "markdown",
   "id": "6b21e8fc-5207-4272-a947-c2f6874ff76c",
   "metadata": {
    "tags": []
   },
   "source": [
    "### Get Vodafone related equities and use get_data() to retrieve additional information "
   ]
  },
  {
   "cell_type": "code",
   "execution_count": 14,
   "id": "8637a711-90ea-4642-b517-e793ae70327f",
   "metadata": {},
   "outputs": [
    {
     "data": {
      "text/html": [
       "<div>\n",
       "<style scoped>\n",
       "    .dataframe tbody tr th:only-of-type {\n",
       "        vertical-align: middle;\n",
       "    }\n",
       "\n",
       "    .dataframe tbody tr th {\n",
       "        vertical-align: top;\n",
       "    }\n",
       "\n",
       "    .dataframe thead th {\n",
       "        text-align: right;\n",
       "    }\n",
       "</style>\n",
       "<table border=\"1\" class=\"dataframe\">\n",
       "  <thead>\n",
       "    <tr style=\"text-align: right;\">\n",
       "      <th></th>\n",
       "      <th>Instrument</th>\n",
       "      <th>Date</th>\n",
       "      <th>Revenue - SmartEstimate®</th>\n",
       "      <th>Net Income - SmartEstimate®</th>\n",
       "      <th>Earnings Per Share - SmartEstimate®</th>\n",
       "    </tr>\n",
       "  </thead>\n",
       "  <tbody>\n",
       "    <tr>\n",
       "      <th>0</th>\n",
       "      <td>VOD.L</td>\n",
       "      <td>2023-01-04</td>\n",
       "      <td>45912254370</td>\n",
       "      <td>3012292230</td>\n",
       "      <td>0.10508</td>\n",
       "    </tr>\n",
       "    <tr>\n",
       "      <th>1</th>\n",
       "      <td>VODA.NS</td>\n",
       "      <td>2023-01-02</td>\n",
       "      <td>426431254480</td>\n",
       "      <td>-285111247260</td>\n",
       "      <td>-8.93096</td>\n",
       "    </tr>\n",
       "    <tr>\n",
       "      <th>2</th>\n",
       "      <td>IPO-VOD.NZ</td>\n",
       "      <td>NaT</td>\n",
       "      <td>&lt;NA&gt;</td>\n",
       "      <td>&lt;NA&gt;</td>\n",
       "      <td>&lt;NA&gt;</td>\n",
       "    </tr>\n",
       "    <tr>\n",
       "      <th>3</th>\n",
       "      <td>SYN.IC</td>\n",
       "      <td>NaT</td>\n",
       "      <td>&lt;NA&gt;</td>\n",
       "      <td>&lt;NA&gt;</td>\n",
       "      <td>&lt;NA&gt;</td>\n",
       "    </tr>\n",
       "    <tr>\n",
       "      <th>4</th>\n",
       "      <td>VFQS.QA</td>\n",
       "      <td>2022-12-21</td>\n",
       "      <td>2976909840</td>\n",
       "      <td>453932380</td>\n",
       "      <td>0.10543</td>\n",
       "    </tr>\n",
       "    <tr>\n",
       "      <th>...</th>\n",
       "      <td>...</td>\n",
       "      <td>...</td>\n",
       "      <td>...</td>\n",
       "      <td>...</td>\n",
       "      <td>...</td>\n",
       "    </tr>\n",
       "    <tr>\n",
       "      <th>77</th>\n",
       "      <td>VODl.TWEA</td>\n",
       "      <td>2023-01-04</td>\n",
       "      <td>45912254370</td>\n",
       "      <td>3012292230</td>\n",
       "      <td>0.10508</td>\n",
       "    </tr>\n",
       "    <tr>\n",
       "      <th>78</th>\n",
       "      <td>SYNr.BCO</td>\n",
       "      <td>NaT</td>\n",
       "      <td>&lt;NA&gt;</td>\n",
       "      <td>&lt;NA&gt;</td>\n",
       "      <td>&lt;NA&gt;</td>\n",
       "    </tr>\n",
       "    <tr>\n",
       "      <th>79</th>\n",
       "      <td>VODl.TRXA</td>\n",
       "      <td>2023-01-04</td>\n",
       "      <td>45912254370</td>\n",
       "      <td>3012292230</td>\n",
       "      <td>0.10508</td>\n",
       "    </tr>\n",
       "    <tr>\n",
       "      <th>80</th>\n",
       "      <td>AU0000090128.TWEA</td>\n",
       "      <td>2023-01-04</td>\n",
       "      <td>5345513460</td>\n",
       "      <td>294331200</td>\n",
       "      <td>0.16103</td>\n",
       "    </tr>\n",
       "    <tr>\n",
       "      <th>81</th>\n",
       "      <td>VODl.STp</td>\n",
       "      <td>2023-01-04</td>\n",
       "      <td>45912254370</td>\n",
       "      <td>3012292230</td>\n",
       "      <td>0.10508</td>\n",
       "    </tr>\n",
       "  </tbody>\n",
       "</table>\n",
       "<p>82 rows × 5 columns</p>\n",
       "</div>"
      ],
      "text/plain": [
       "           Instrument       Date  Revenue - SmartEstimate®  \\\n",
       "0               VOD.L 2023-01-04               45912254370   \n",
       "1             VODA.NS 2023-01-02              426431254480   \n",
       "2          IPO-VOD.NZ        NaT                      <NA>   \n",
       "3              SYN.IC        NaT                      <NA>   \n",
       "4             VFQS.QA 2022-12-21                2976909840   \n",
       "..                ...        ...                       ...   \n",
       "77          VODl.TWEA 2023-01-04               45912254370   \n",
       "78           SYNr.BCO        NaT                      <NA>   \n",
       "79          VODl.TRXA 2023-01-04               45912254370   \n",
       "80  AU0000090128.TWEA 2023-01-04                5345513460   \n",
       "81           VODl.STp 2023-01-04               45912254370   \n",
       "\n",
       "    Net Income - SmartEstimate®  Earnings Per Share - SmartEstimate®  \n",
       "0                    3012292230                              0.10508  \n",
       "1                 -285111247260                             -8.93096  \n",
       "2                          <NA>                                 <NA>  \n",
       "3                          <NA>                                 <NA>  \n",
       "4                     453932380                              0.10543  \n",
       "..                          ...                                  ...  \n",
       "77                   3012292230                              0.10508  \n",
       "78                         <NA>                                 <NA>  \n",
       "79                   3012292230                              0.10508  \n",
       "80                    294331200                              0.16103  \n",
       "81                   3012292230                              0.10508  \n",
       "\n",
       "[82 rows x 5 columns]"
      ]
     },
     "execution_count": 14,
     "metadata": {},
     "output_type": "execute_result"
    }
   ],
   "source": [
    "vod_equities = equity.search(what=\"vodafone\")\n",
    "rd.get_data(\n",
    "    universe=vod_equities['RIC'].to_list(),\n",
    "    fields=['TR.RevenueSmartEst.date', 'TR.RevenueSmartEst', 'TR.NetprofitSmartEst', 'TR.EpsSmartEst']\n",
    ")"
   ]
  },
  {
   "cell_type": "markdown",
   "id": "6ad8f2b3-9d4e-43a6-be6a-eb61501d40bd",
   "metadata": {},
   "source": [
    "## Close the session"
   ]
  },
  {
   "cell_type": "code",
   "execution_count": 15,
   "id": "856a79a5-6862-44ba-8b4d-e4b1cdc4da18",
   "metadata": {
    "tags": []
   },
   "outputs": [],
   "source": [
    "rd.close_session()"
   ]
  },
  {
   "cell_type": "code",
   "execution_count": null,
   "id": "7e28cae5-e84e-495c-8698-fa19e908187c",
   "metadata": {},
   "outputs": [],
   "source": []
  }
 ],
 "metadata": {
  "kernelspec": {
   "display_name": "Python 3 (ipykernel)",
   "language": "python",
   "name": "python3"
  },
  "language_info": {
   "codemirror_mode": {
    "name": "ipython",
    "version": 3
   },
   "file_extension": ".py",
   "mimetype": "text/x-python",
   "name": "python",
   "nbconvert_exporter": "python",
   "pygments_lexer": "ipython3",
   "version": "3.9.7"
  }
 },
 "nbformat": 4,
 "nbformat_minor": 5
}
