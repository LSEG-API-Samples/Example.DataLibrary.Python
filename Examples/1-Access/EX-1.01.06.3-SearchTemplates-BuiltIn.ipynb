{
 "cells": [
  {
   "cell_type": "markdown",
   "id": "c5b30ef8-32e8-4422-a8c2-ba4daa1c1466",
   "metadata": {},
   "source": [
    "----\n",
    "<img src=\"../../files/refinitiv.png\" width=\"20%\" style=\"vertical-align: top;\">\n",
    "\n",
    "# Data Library for Python\n",
    "\n",
    "----"
   ]
  },
  {
   "cell_type": "markdown",
   "id": "39e8ef94-7bca-43d7-945a-f883bdfd4622",
   "metadata": {
    "tags": []
   },
   "source": [
    "## Access layer - Search templates examples - Built-In search templates\n",
    "\n",
    "This notebook demonstrates built-in Search Templates pre-defined by LSEG. Because these templates are built in the Refinitiv Data Library, they do not require any additional search template configuration file. "
   ]
  },
  {
   "cell_type": "markdown",
   "id": "317eafb5-e6cf-4832-9547-f8b481bb4cb4",
   "metadata": {},
   "source": [
    "#### Learn more\n",
    "\n",
    "To learn more about the Refinitiv Data Library for Python please join the Refinitiv Developer Community. By [registering](https://developers.refinitiv.com/iam/register) and [logging](https://developers.refinitiv.com/content/devportal/en_us/initCookie.html) into the Refinitiv Developer Community portal you will have free access to a number of learning materials like \n",
    " [Quick Start guides](https://developers.refinitiv.com/en/api-catalog/refinitiv-data-platform/refinitiv-data-library-for-python/quick-start), \n",
    " [Tutorials](https://developers.refinitiv.com/en/api-catalog/refinitiv-data-platform/refinitiv-data-library-for-python/learning), \n",
    " [Documentation](https://developers.refinitiv.com/en/api-catalog/refinitiv-data-platform/refinitiv-data-library-for-python/docs)\n",
    " and much more.\n",
    "\n",
    "#### Getting Help and Support\n",
    "\n",
    "If you have any questions regarding using the API, please post them on \n",
    "the [Refinitiv Data Q&A Forum](https://community.developers.refinitiv.com/spaces/321/index.html). \n",
    "The Refinitiv Developer Community will be happy to help. \n",
    "\n",
    "----"
   ]
  },
  {
   "cell_type": "markdown",
   "id": "fd27f87c-b88e-41d3-aaa9-3c988f3cd840",
   "metadata": {
    "tags": []
   },
   "source": [
    "## Set the configuration file location\n",
    "For a better ease of use, you have the option to set initialization parameters of the Refinitiv Data Library in the _refinitiv-data.config.json_ configuration file. This file must be located beside your notebook, in your user folder or in a folder defined by the _RD_LIB_CONFIG_PATH_ environment variable. The _RD_LIB_CONFIG_PATH_ environment variable is the option used by this series of examples. The following code sets this environment variable.      "
   ]
  },
  {
   "cell_type": "code",
   "execution_count": 1,
   "id": "739a2e80-35ea-4356-a97a-8192920aac0f",
   "metadata": {},
   "outputs": [],
   "source": [
    "import os\n",
    "os.environ[\"RD_LIB_CONFIG_PATH\"] = \"../../Configuration\""
   ]
  },
  {
   "cell_type": "markdown",
   "id": "018d3917-d879-4651-961f-067e47ec1f2f",
   "metadata": {
    "tags": []
   },
   "source": [
    "## Some Imports to start with"
   ]
  },
  {
   "cell_type": "code",
   "execution_count": 2,
   "id": "72e9936a-da3c-439f-a4c7-4a86c017581a",
   "metadata": {
    "tags": []
   },
   "outputs": [],
   "source": [
    "import refinitiv.data as rd\n",
    "from refinitiv.data.discovery import search_templates as st"
   ]
  },
  {
   "cell_type": "markdown",
   "id": "9a4038d0-89fa-46e2-93aa-513e04a8643e",
   "metadata": {},
   "source": [
    "## Open the data session\n",
    "\n",
    "The open_session() function creates and open sessions based on the information contained in the refinitiv-data.config.json configuration file. Please edit this file to set the session type and other parameters required for the session you want to open."
   ]
  },
  {
   "cell_type": "code",
   "execution_count": 3,
   "id": "9807577a-b58e-449a-863d-cff7b55050c5",
   "metadata": {},
   "outputs": [
    {
     "data": {
      "text/plain": [
       "<refinitiv.data.session.Definition object at 0x7f806176a130 {name='workspace'}>"
      ]
     },
     "execution_count": 3,
     "metadata": {},
     "output_type": "execute_result"
    }
   ],
   "source": [
    "rd.open_session()"
   ]
  },
  {
   "cell_type": "markdown",
   "id": "a7216d47-65a0-4498-a1a2-43de0e6a50ad",
   "metadata": {
    "tags": []
   },
   "source": [
    "## Use BuiltIn Search Templates"
   ]
  },
  {
   "cell_type": "markdown",
   "id": "b415933a-deed-4776-a239-b542aa6d6b68",
   "metadata": {},
   "source": [
    "### Get category for RIC"
   ]
  },
  {
   "cell_type": "code",
   "execution_count": 4,
   "id": "f22d23e1-a980-48bd-9e90-e3d85a199835",
   "metadata": {},
   "outputs": [
    {
     "data": {
      "text/html": [
       "<div>\n",
       "<style scoped>\n",
       "    .dataframe tbody tr th:only-of-type {\n",
       "        vertical-align: middle;\n",
       "    }\n",
       "\n",
       "    .dataframe tbody tr th {\n",
       "        vertical-align: top;\n",
       "    }\n",
       "\n",
       "    .dataframe thead th {\n",
       "        text-align: right;\n",
       "    }\n",
       "</style>\n",
       "<table border=\"1\" class=\"dataframe\">\n",
       "  <thead>\n",
       "    <tr style=\"text-align: right;\">\n",
       "      <th></th>\n",
       "      <th>RCSAssetCategoryLeaf</th>\n",
       "    </tr>\n",
       "  </thead>\n",
       "  <tbody>\n",
       "    <tr>\n",
       "      <th>0</th>\n",
       "      <td>Ordinary Share</td>\n",
       "    </tr>\n",
       "  </tbody>\n",
       "</table>\n",
       "</div>"
      ],
      "text/plain": [
       "  RCSAssetCategoryLeaf\n",
       "0       Ordinary Share"
      ]
     },
     "execution_count": 4,
     "metadata": {},
     "output_type": "execute_result"
    }
   ],
   "source": [
    "st.RICCategory.search(ric='VOD.L')"
   ]
  },
  {
   "cell_type": "markdown",
   "id": "b264d873-5137-4728-8ab6-0ec516a89472",
   "metadata": {
    "tags": []
   },
   "source": [
    "### Simple search for options on any underlying"
   ]
  },
  {
   "cell_type": "code",
   "execution_count": 5,
   "id": "af7c64db-901d-4e44-a64d-ae13eb405e1c",
   "metadata": {},
   "outputs": [
    {
     "data": {
      "text/html": [
       "<div>\n",
       "<style scoped>\n",
       "    .dataframe tbody tr th:only-of-type {\n",
       "        vertical-align: middle;\n",
       "    }\n",
       "\n",
       "    .dataframe tbody tr th {\n",
       "        vertical-align: top;\n",
       "    }\n",
       "\n",
       "    .dataframe thead th {\n",
       "        text-align: right;\n",
       "    }\n",
       "</style>\n",
       "<table border=\"1\" class=\"dataframe\">\n",
       "  <thead>\n",
       "    <tr style=\"text-align: right;\">\n",
       "      <th></th>\n",
       "      <th>RIC</th>\n",
       "      <th>DTSubjectName</th>\n",
       "      <th>ExpiryDateString</th>\n",
       "      <th>StrikePrice</th>\n",
       "      <th>CallPutOption</th>\n",
       "      <th>ContractType</th>\n",
       "      <th>Currency</th>\n",
       "    </tr>\n",
       "  </thead>\n",
       "  <tbody>\n",
       "    <tr>\n",
       "      <th>0</th>\n",
       "      <td>VOD010bA3.EX</td>\n",
       "      <td>Eurex Vodafone Group Equity Option 1 Call Jan ...</td>\n",
       "      <td>2023-01-20</td>\n",
       "      <td>1</td>\n",
       "      <td>Call</td>\n",
       "      <td>Standard</td>\n",
       "      <td>GBp</td>\n",
       "    </tr>\n",
       "    <tr>\n",
       "      <th>1</th>\n",
       "      <td>VOD010bM3.EX</td>\n",
       "      <td>Eurex Vodafone Group Equity Option 1 Put Jan 2023</td>\n",
       "      <td>2023-01-20</td>\n",
       "      <td>1</td>\n",
       "      <td>Put</td>\n",
       "      <td>Standard</td>\n",
       "      <td>GBp</td>\n",
       "    </tr>\n",
       "    <tr>\n",
       "      <th>2</th>\n",
       "      <td>VOD060A3.L</td>\n",
       "      <td>Intercontinental Exchange (ICE) Vodafone Group...</td>\n",
       "      <td>2023-01-20</td>\n",
       "      <td>60</td>\n",
       "      <td>Call</td>\n",
       "      <td>Standard</td>\n",
       "      <td>GBp</td>\n",
       "    </tr>\n",
       "    <tr>\n",
       "      <th>3</th>\n",
       "      <td>VOD060M3.L</td>\n",
       "      <td>Intercontinental Exchange (ICE) Vodafone Group...</td>\n",
       "      <td>2023-01-20</td>\n",
       "      <td>60</td>\n",
       "      <td>Put</td>\n",
       "      <td>Standard</td>\n",
       "      <td>GBp</td>\n",
       "    </tr>\n",
       "    <tr>\n",
       "      <th>4</th>\n",
       "      <td>VOD640bA3.EX</td>\n",
       "      <td>Eurex Vodafone Group Equity Option 64 Call Jan...</td>\n",
       "      <td>2023-01-20</td>\n",
       "      <td>64</td>\n",
       "      <td>Call</td>\n",
       "      <td>Standard</td>\n",
       "      <td>GBp</td>\n",
       "    </tr>\n",
       "    <tr>\n",
       "      <th>...</th>\n",
       "      <td>...</td>\n",
       "      <td>...</td>\n",
       "      <td>...</td>\n",
       "      <td>...</td>\n",
       "      <td>...</td>\n",
       "      <td>...</td>\n",
       "      <td>...</td>\n",
       "    </tr>\n",
       "    <tr>\n",
       "      <th>995</th>\n",
       "      <td>VOD100M26.L</td>\n",
       "      <td>Intercontinental Exchange (ICE) Vodafone Group...</td>\n",
       "      <td>2026-01-16</td>\n",
       "      <td>100</td>\n",
       "      <td>Put</td>\n",
       "      <td>Standard</td>\n",
       "      <td>GBp</td>\n",
       "    </tr>\n",
       "    <tr>\n",
       "      <th>996</th>\n",
       "      <td>VOD120A26.L</td>\n",
       "      <td>Intercontinental Exchange (ICE) Vodafone Group...</td>\n",
       "      <td>2026-01-16</td>\n",
       "      <td>120</td>\n",
       "      <td>Call</td>\n",
       "      <td>Standard</td>\n",
       "      <td>GBp</td>\n",
       "    </tr>\n",
       "    <tr>\n",
       "      <th>997</th>\n",
       "      <td>VOD120M26.L</td>\n",
       "      <td>Intercontinental Exchange (ICE) Vodafone Group...</td>\n",
       "      <td>2026-01-16</td>\n",
       "      <td>120</td>\n",
       "      <td>Put</td>\n",
       "      <td>Standard</td>\n",
       "      <td>GBp</td>\n",
       "    </tr>\n",
       "    <tr>\n",
       "      <th>998</th>\n",
       "      <td>VOD140A26.L</td>\n",
       "      <td>Intercontinental Exchange (ICE) Vodafone Group...</td>\n",
       "      <td>2026-01-16</td>\n",
       "      <td>140</td>\n",
       "      <td>Call</td>\n",
       "      <td>Standard</td>\n",
       "      <td>GBp</td>\n",
       "    </tr>\n",
       "    <tr>\n",
       "      <th>999</th>\n",
       "      <td>VOD140M26.L</td>\n",
       "      <td>Intercontinental Exchange (ICE) Vodafone Group...</td>\n",
       "      <td>2026-01-16</td>\n",
       "      <td>140</td>\n",
       "      <td>Put</td>\n",
       "      <td>Standard</td>\n",
       "      <td>GBp</td>\n",
       "    </tr>\n",
       "  </tbody>\n",
       "</table>\n",
       "<p>1000 rows × 7 columns</p>\n",
       "</div>"
      ],
      "text/plain": [
       "              RIC                                      DTSubjectName  \\\n",
       "0    VOD010bA3.EX  Eurex Vodafone Group Equity Option 1 Call Jan ...   \n",
       "1    VOD010bM3.EX  Eurex Vodafone Group Equity Option 1 Put Jan 2023   \n",
       "2      VOD060A3.L  Intercontinental Exchange (ICE) Vodafone Group...   \n",
       "3      VOD060M3.L  Intercontinental Exchange (ICE) Vodafone Group...   \n",
       "4    VOD640bA3.EX  Eurex Vodafone Group Equity Option 64 Call Jan...   \n",
       "..            ...                                                ...   \n",
       "995   VOD100M26.L  Intercontinental Exchange (ICE) Vodafone Group...   \n",
       "996   VOD120A26.L  Intercontinental Exchange (ICE) Vodafone Group...   \n",
       "997   VOD120M26.L  Intercontinental Exchange (ICE) Vodafone Group...   \n",
       "998   VOD140A26.L  Intercontinental Exchange (ICE) Vodafone Group...   \n",
       "999   VOD140M26.L  Intercontinental Exchange (ICE) Vodafone Group...   \n",
       "\n",
       "    ExpiryDateString  StrikePrice CallPutOption ContractType Currency  \n",
       "0         2023-01-20            1          Call     Standard      GBp  \n",
       "1         2023-01-20            1           Put     Standard      GBp  \n",
       "2         2023-01-20           60          Call     Standard      GBp  \n",
       "3         2023-01-20           60           Put     Standard      GBp  \n",
       "4         2023-01-20           64          Call     Standard      GBp  \n",
       "..               ...          ...           ...          ...      ...  \n",
       "995       2026-01-16          100           Put     Standard      GBp  \n",
       "996       2026-01-16          120          Call     Standard      GBp  \n",
       "997       2026-01-16          120           Put     Standard      GBp  \n",
       "998       2026-01-16          140          Call     Standard      GBp  \n",
       "999       2026-01-16          140           Put     Standard      GBp  \n",
       "\n",
       "[1000 rows x 7 columns]"
      ]
     },
     "execution_count": 5,
     "metadata": {},
     "output_type": "execute_result"
    }
   ],
   "source": [
    "st.UnderlyingRICToOption.search(ric='VOD.L')"
   ]
  },
  {
   "cell_type": "markdown",
   "id": "73666e6f-a2fc-4d93-9a9f-8b115a4a6451",
   "metadata": {
    "tags": []
   },
   "source": [
    "### Search options with optional filter parameters"
   ]
  },
  {
   "cell_type": "code",
   "execution_count": 6,
   "id": "0b19dd5b-d8a7-4a64-80ce-7b0232ce7f84",
   "metadata": {},
   "outputs": [
    {
     "data": {
      "text/html": [
       "<div>\n",
       "<style scoped>\n",
       "    .dataframe tbody tr th:only-of-type {\n",
       "        vertical-align: middle;\n",
       "    }\n",
       "\n",
       "    .dataframe tbody tr th {\n",
       "        vertical-align: top;\n",
       "    }\n",
       "\n",
       "    .dataframe thead th {\n",
       "        text-align: right;\n",
       "    }\n",
       "</style>\n",
       "<table border=\"1\" class=\"dataframe\">\n",
       "  <thead>\n",
       "    <tr style=\"text-align: right;\">\n",
       "      <th></th>\n",
       "      <th>RIC</th>\n",
       "      <th>DTSubjectName</th>\n",
       "      <th>ExpiryDateString</th>\n",
       "      <th>StrikePrice</th>\n",
       "      <th>CallPutOption</th>\n",
       "      <th>ContractType</th>\n",
       "      <th>Currency</th>\n",
       "    </tr>\n",
       "  </thead>\n",
       "  <tbody>\n",
       "    <tr>\n",
       "      <th>0</th>\n",
       "      <td>VOD060B3.L</td>\n",
       "      <td>Intercontinental Exchange (ICE) Vodafone Group...</td>\n",
       "      <td>2023-02-17</td>\n",
       "      <td>60</td>\n",
       "      <td>Call</td>\n",
       "      <td>Standard</td>\n",
       "      <td>GBp</td>\n",
       "    </tr>\n",
       "  </tbody>\n",
       "</table>\n",
       "</div>"
      ],
      "text/plain": [
       "          RIC                                      DTSubjectName  \\\n",
       "0  VOD060B3.L  Intercontinental Exchange (ICE) Vodafone Group...   \n",
       "\n",
       "  ExpiryDateString  StrikePrice CallPutOption ContractType Currency  \n",
       "0       2023-02-17           60          Call     Standard      GBp  "
      ]
     },
     "execution_count": 6,
     "metadata": {},
     "output_type": "execute_result"
    }
   ],
   "source": [
    "st.UnderlyingRICToOption.search(ric='VOD.L', strike_price=60, expiry_date='2023-02-17', put_call='Call')"
   ]
  },
  {
   "cell_type": "markdown",
   "id": "6a74f429-478f-4b93-9961-7c329bf29feb",
   "metadata": {},
   "source": [
    "### Search Futures of a RIC"
   ]
  },
  {
   "cell_type": "code",
   "execution_count": 7,
   "id": "62268665-afa5-4ad3-9c81-a17e376b312e",
   "metadata": {},
   "outputs": [
    {
     "data": {
      "text/html": [
       "<div>\n",
       "<style scoped>\n",
       "    .dataframe tbody tr th:only-of-type {\n",
       "        vertical-align: middle;\n",
       "    }\n",
       "\n",
       "    .dataframe tbody tr th {\n",
       "        vertical-align: top;\n",
       "    }\n",
       "\n",
       "    .dataframe thead th {\n",
       "        text-align: right;\n",
       "    }\n",
       "</style>\n",
       "<table border=\"1\" class=\"dataframe\">\n",
       "  <thead>\n",
       "    <tr style=\"text-align: right;\">\n",
       "      <th></th>\n",
       "      <th>RIC</th>\n",
       "      <th>DTSubjectName</th>\n",
       "      <th>ExpiryDateString</th>\n",
       "      <th>ContractType</th>\n",
       "      <th>Currency</th>\n",
       "    </tr>\n",
       "  </thead>\n",
       "  <tbody>\n",
       "    <tr>\n",
       "      <th>0</th>\n",
       "      <td>FTUKM2</td>\n",
       "      <td>Eurex Exchange FTSE 100 Index Future Jun 2022</td>\n",
       "      <td>2022-06-17</td>\n",
       "      <td>Standard</td>\n",
       "      <td>GBP</td>\n",
       "    </tr>\n",
       "    <tr>\n",
       "      <th>1</th>\n",
       "      <td>FTUKU2</td>\n",
       "      <td>Eurex Exchange FTSE 100 Index Future Sep 2022</td>\n",
       "      <td>2022-09-16</td>\n",
       "      <td>Standard</td>\n",
       "      <td>GBP</td>\n",
       "    </tr>\n",
       "    <tr>\n",
       "      <th>2</th>\n",
       "      <td>FTUKZ2</td>\n",
       "      <td>Eurex Exchange FTSE 100 Index Future Dec 2022</td>\n",
       "      <td>2022-12-16</td>\n",
       "      <td>Standard</td>\n",
       "      <td>GBP</td>\n",
       "    </tr>\n",
       "    <tr>\n",
       "      <th>3</th>\n",
       "      <td>FFITIH3</td>\n",
       "      <td>Intercontinental Exchange Europe FTSE 100 Inde...</td>\n",
       "      <td>2023-03-16</td>\n",
       "      <td>TIC – Trade at Index Close</td>\n",
       "      <td>GBP</td>\n",
       "    </tr>\n",
       "    <tr>\n",
       "      <th>4</th>\n",
       "      <td>DVTH3</td>\n",
       "      <td>CME Chicago Mercantile Exchange Developed Euro...</td>\n",
       "      <td>2023-03-16</td>\n",
       "      <td>TIC – Trade at Index Close</td>\n",
       "      <td>EUR</td>\n",
       "    </tr>\n",
       "    <tr>\n",
       "      <th>...</th>\n",
       "      <td>...</td>\n",
       "      <td>...</td>\n",
       "      <td>...</td>\n",
       "      <td>...</td>\n",
       "      <td>...</td>\n",
       "    </tr>\n",
       "    <tr>\n",
       "      <th>276</th>\n",
       "      <td>DE000VX8JJC6=TXEA</td>\n",
       "      <td>Vontobel Financial Products GmbH Frankfurt am ...</td>\n",
       "      <td>NaT</td>\n",
       "      <td>&lt;NA&gt;</td>\n",
       "      <td>EUR</td>\n",
       "    </tr>\n",
       "    <tr>\n",
       "      <th>277</th>\n",
       "      <td>DE000VV4E1F5=TXEA</td>\n",
       "      <td>Vontobel Financial Products GmbH Frankfurt am ...</td>\n",
       "      <td>NaT</td>\n",
       "      <td>&lt;NA&gt;</td>\n",
       "      <td>EUR</td>\n",
       "    </tr>\n",
       "    <tr>\n",
       "      <th>278</th>\n",
       "      <td>DE000VX6R3Y1=TXEA</td>\n",
       "      <td>Vontobel Financial Products GmbH Frankfurt am ...</td>\n",
       "      <td>NaT</td>\n",
       "      <td>&lt;NA&gt;</td>\n",
       "      <td>EUR</td>\n",
       "    </tr>\n",
       "    <tr>\n",
       "      <th>279</th>\n",
       "      <td>DE000VV08S00=TXEA</td>\n",
       "      <td>Vontobel Financial Products GmbH Frankfurt am ...</td>\n",
       "      <td>NaT</td>\n",
       "      <td>&lt;NA&gt;</td>\n",
       "      <td>EUR</td>\n",
       "    </tr>\n",
       "    <tr>\n",
       "      <th>280</th>\n",
       "      <td>DE000VV88PP8=TXEA</td>\n",
       "      <td>Vontobel Financial Products GmbH Frankfurt am ...</td>\n",
       "      <td>NaT</td>\n",
       "      <td>&lt;NA&gt;</td>\n",
       "      <td>EUR</td>\n",
       "    </tr>\n",
       "  </tbody>\n",
       "</table>\n",
       "<p>281 rows × 5 columns</p>\n",
       "</div>"
      ],
      "text/plain": [
       "                   RIC                                      DTSubjectName  \\\n",
       "0               FTUKM2      Eurex Exchange FTSE 100 Index Future Jun 2022   \n",
       "1               FTUKU2      Eurex Exchange FTSE 100 Index Future Sep 2022   \n",
       "2               FTUKZ2      Eurex Exchange FTSE 100 Index Future Dec 2022   \n",
       "3              FFITIH3  Intercontinental Exchange Europe FTSE 100 Inde...   \n",
       "4                DVTH3  CME Chicago Mercantile Exchange Developed Euro...   \n",
       "..                 ...                                                ...   \n",
       "276  DE000VX8JJC6=TXEA  Vontobel Financial Products GmbH Frankfurt am ...   \n",
       "277  DE000VV4E1F5=TXEA  Vontobel Financial Products GmbH Frankfurt am ...   \n",
       "278  DE000VX6R3Y1=TXEA  Vontobel Financial Products GmbH Frankfurt am ...   \n",
       "279  DE000VV08S00=TXEA  Vontobel Financial Products GmbH Frankfurt am ...   \n",
       "280  DE000VV88PP8=TXEA  Vontobel Financial Products GmbH Frankfurt am ...   \n",
       "\n",
       "    ExpiryDateString                ContractType Currency  \n",
       "0         2022-06-17                    Standard      GBP  \n",
       "1         2022-09-16                    Standard      GBP  \n",
       "2         2022-12-16                    Standard      GBP  \n",
       "3         2023-03-16  TIC – Trade at Index Close      GBP  \n",
       "4         2023-03-16  TIC – Trade at Index Close      EUR  \n",
       "..               ...                         ...      ...  \n",
       "276              NaT                        <NA>      EUR  \n",
       "277              NaT                        <NA>      EUR  \n",
       "278              NaT                        <NA>      EUR  \n",
       "279              NaT                        <NA>      EUR  \n",
       "280              NaT                        <NA>      EUR  \n",
       "\n",
       "[281 rows x 5 columns]"
      ]
     },
     "execution_count": 7,
     "metadata": {},
     "output_type": "execute_result"
    }
   ],
   "source": [
    "st.UnderlyingRICToFuture.search(ric='.FTSE')"
   ]
  },
  {
   "cell_type": "markdown",
   "id": "75e32851-cedd-4b23-a790-3d99b16cf896",
   "metadata": {
    "tags": []
   },
   "source": [
    "### Find issuer of a RIC"
   ]
  },
  {
   "cell_type": "code",
   "execution_count": 8,
   "id": "0fd4ca64-ea34-4f7c-9fab-e66a5dc9de49",
   "metadata": {},
   "outputs": [
    {
     "data": {
      "text/html": [
       "<div>\n",
       "<style scoped>\n",
       "    .dataframe tbody tr th:only-of-type {\n",
       "        vertical-align: middle;\n",
       "    }\n",
       "\n",
       "    .dataframe tbody tr th {\n",
       "        vertical-align: top;\n",
       "    }\n",
       "\n",
       "    .dataframe thead th {\n",
       "        text-align: right;\n",
       "    }\n",
       "</style>\n",
       "<table border=\"1\" class=\"dataframe\">\n",
       "  <thead>\n",
       "    <tr style=\"text-align: right;\">\n",
       "      <th></th>\n",
       "      <th>DTSubjectName</th>\n",
       "      <th>RCSIssuerCountryLeaf</th>\n",
       "      <th>IssuerOAPermID</th>\n",
       "      <th>PrimaryRIC</th>\n",
       "    </tr>\n",
       "  </thead>\n",
       "  <tbody>\n",
       "    <tr>\n",
       "      <th>0</th>\n",
       "      <td>Microsoft Corp</td>\n",
       "      <td>United States</td>\n",
       "      <td>4295907168</td>\n",
       "      <td>MSFT.O</td>\n",
       "    </tr>\n",
       "  </tbody>\n",
       "</table>\n",
       "</div>"
      ],
      "text/plain": [
       "    DTSubjectName RCSIssuerCountryLeaf IssuerOAPermID PrimaryRIC\n",
       "0  Microsoft Corp        United States     4295907168     MSFT.O"
      ]
     },
     "execution_count": 8,
     "metadata": {},
     "output_type": "execute_result"
    }
   ],
   "source": [
    "st.RICToIssuer.search(ric='0QYP.L')"
   ]
  },
  {
   "cell_type": "markdown",
   "id": "859abbcb-2faf-454e-8004-cf5d2b04c36a",
   "metadata": {},
   "source": [
    "### Find ultimate parent of an organisation"
   ]
  },
  {
   "cell_type": "code",
   "execution_count": 9,
   "id": "98de4e11-e1e2-42e8-966d-2a8ff6c3deb2",
   "metadata": {},
   "outputs": [
    {
     "data": {
      "text/html": [
       "<div>\n",
       "<style scoped>\n",
       "    .dataframe tbody tr th:only-of-type {\n",
       "        vertical-align: middle;\n",
       "    }\n",
       "\n",
       "    .dataframe tbody tr th {\n",
       "        vertical-align: top;\n",
       "    }\n",
       "\n",
       "    .dataframe thead th {\n",
       "        text-align: right;\n",
       "    }\n",
       "</style>\n",
       "<table border=\"1\" class=\"dataframe\">\n",
       "  <thead>\n",
       "    <tr style=\"text-align: right;\">\n",
       "      <th></th>\n",
       "      <th>UltimateParentCompanyOAPermID</th>\n",
       "      <th>UltimateParentOrganisationName</th>\n",
       "    </tr>\n",
       "  </thead>\n",
       "  <tbody>\n",
       "    <tr>\n",
       "      <th>0</th>\n",
       "      <td>5030853586</td>\n",
       "      <td>Alphabet Inc</td>\n",
       "    </tr>\n",
       "  </tbody>\n",
       "</table>\n",
       "</div>"
      ],
      "text/plain": [
       "  UltimateParentCompanyOAPermID UltimateParentOrganisationName\n",
       "0                    5030853586                   Alphabet Inc"
      ]
     },
     "execution_count": 9,
     "metadata": {},
     "output_type": "execute_result"
    }
   ],
   "source": [
    "st.OrganisationPermIDToUP.search(entity_id='5076100562')"
   ]
  },
  {
   "cell_type": "markdown",
   "id": "3374548d-a4dd-4210-9635-3e4aa4a884a7",
   "metadata": {},
   "source": [
    "## Close the session"
   ]
  },
  {
   "cell_type": "code",
   "execution_count": 10,
   "id": "1dc09a74-816f-4229-8d47-4a49573a2668",
   "metadata": {
    "tags": []
   },
   "outputs": [],
   "source": [
    "rd.close_session()"
   ]
  },
  {
   "cell_type": "code",
   "execution_count": null,
   "id": "24371314-a45a-4b69-8319-dea6a47d89cd",
   "metadata": {},
   "outputs": [],
   "source": []
  }
 ],
 "metadata": {
  "kernelspec": {
   "display_name": "Python 3 (ipykernel)",
   "language": "python",
   "name": "python3"
  },
  "language_info": {
   "codemirror_mode": {
    "name": "ipython",
    "version": 3
   },
   "file_extension": ".py",
   "mimetype": "text/x-python",
   "name": "python",
   "nbconvert_exporter": "python",
   "pygments_lexer": "ipython3",
   "version": "3.9.7"
  }
 },
 "nbformat": 4,
 "nbformat_minor": 5
}
