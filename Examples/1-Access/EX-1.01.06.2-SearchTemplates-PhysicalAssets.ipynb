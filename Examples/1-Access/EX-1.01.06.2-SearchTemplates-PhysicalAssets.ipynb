{
 "cells": [
  {
   "cell_type": "markdown",
   "id": "c5b30ef8-32e8-4422-a8c2-ba4daa1c1466",
   "metadata": {},
   "source": [
    "----\n",
    "<img src=\"../../files/refinitiv.png\" width=\"20%\" style=\"vertical-align: top;\">\n",
    "\n",
    "# Data Library for Python\n",
    "\n",
    "----"
   ]
  },
  {
   "cell_type": "markdown",
   "id": "39e8ef94-7bca-43d7-945a-f883bdfd4622",
   "metadata": {
    "tags": []
   },
   "source": [
    "## Access layer - Search templates examples - Physical Assets Search\n",
    "\n",
    "This notebook illustrates the Search Template functionality of the Refinitiv Data Library. The \"Mines\" and \"VesselsBoundFor\" templates shown here are template examples that you can modify and adapt to your needs. They are defined in the \"search-templates.config.json\" configuration file. Below is a brief description of the parameters you can use for each template definition."
   ]
  },
  {
   "cell_type": "markdown",
   "id": "0eb115d7-2c74-401a-890e-1abc71275e72",
   "metadata": {
    "tags": []
   },
   "source": [
    "**Search templates are defined using the following JSON structure:**\n",
    "- **description** (string): Description of the template.\n",
    "- **parameters** (object): Parameters of the template. These parameters can be used as placeholders in the request_body of the template and as named parameters of the search() method of the template. Each parameter has a name, a description, and an optional default value.\n",
    "- **request_body** (object): Body of the request sent to the Search REST API. This request body can include template parameters surrounded by '#{' and '}' (for example:  “#{my_param}”). More details on the structure of the request body can be found in the [Search API reference guide](https://apidocs.refinitiv.com/Apps/ApiDocs#/details/L2Rpc2NvdmVyeS9zZWFyY2gvdjE=/Lw==/POST/README) (access to this guide requires a Refinitiv Workspace account or RDP account to log in).\n",
    "  \n",
    "**Template example:**\n",
    "  \n",
    "```json\n",
    "\"MyTemplate\": {\n",
    "    \"description\": \"Search template example.\",\n",
    "    \"parameters\": {\n",
    "        \"name\": {\n",
    "            \"description\": \"Name of the person to search for.\",\n",
    "            \"default\": \"Edison\"\n",
    "        }\n",
    "    },\n",
    "    \"request_body\": {\n",
    "       \"Query\": \"#{name}\",\n",
    "       \"View\":\"People\",\n",
    "       \"Top\":10\n",
    "    }\n",
    "} \n",
    "```  \n",
    "\n",
    "**Example of usage:**\n",
    "\n",
    "```  \n",
    "rd.discovery.search_templates[\"MyTemplate\"].search(name=\"Pasteur\")\n",
    "```  \n",
    "  "
   ]
  },
  {
   "cell_type": "markdown",
   "id": "aad3a1d6-80aa-4dda-a86c-191ba30d42bf",
   "metadata": {},
   "source": [
    "#### Learn more\n",
    "\n",
    "To learn more about the Refinitiv Data Library for Python please join the Refinitiv Developer Community. By [registering](https://developers.refinitiv.com/iam/register) and [logging](https://developers.refinitiv.com/content/devportal/en_us/initCookie.html) into the Refinitiv Developer Community portal you will have free access to a number of learning materials like \n",
    " [Quick Start guides](https://developers.refinitiv.com/en/api-catalog/refinitiv-data-platform/refinitiv-data-library-for-python/quick-start), \n",
    " [Tutorials](https://developers.refinitiv.com/en/api-catalog/refinitiv-data-platform/refinitiv-data-library-for-python/learning), \n",
    " [Documentation](https://developers.refinitiv.com/en/api-catalog/refinitiv-data-platform/refinitiv-data-library-for-python/docs)\n",
    " and much more.\n",
    "\n",
    "#### Getting Help and Support\n",
    "\n",
    "If you have any questions regarding using the API, please post them on \n",
    "the [Refinitiv Data Q&A Forum](https://community.developers.refinitiv.com/spaces/321/index.html). \n",
    "The Refinitiv Developer Community will be happy to help. \n",
    "\n",
    "----"
   ]
  },
  {
   "cell_type": "markdown",
   "id": "842b6e91-6cd4-472f-9b28-54d04f25f4c2",
   "metadata": {
    "tags": []
   },
   "source": [
    "## Set the configuration file location\n",
    "For a better ease of use, you have the option to set initialization parameters of the Refinitiv Data Library in the _refinitiv-data.config.json_ configuration file. This file must be located beside your notebook, in your user folder or in a folder defined by the _RD_LIB_CONFIG_PATH_ environment variable. The _RD_LIB_CONFIG_PATH_ environment variable is the option used by this series of examples. The following code sets this environment variable.      "
   ]
  },
  {
   "cell_type": "code",
   "execution_count": 1,
   "id": "92bb79b3-cd2c-4e98-b79e-2d4f873856d6",
   "metadata": {},
   "outputs": [],
   "source": [
    "import os\n",
    "os.environ[\"RD_LIB_CONFIG_PATH\"] = \"../../Configuration\""
   ]
  },
  {
   "cell_type": "markdown",
   "id": "018d3917-d879-4651-961f-067e47ec1f2f",
   "metadata": {},
   "source": [
    "## Some Imports to start with"
   ]
  },
  {
   "cell_type": "code",
   "execution_count": 2,
   "id": "72e9936a-da3c-439f-a4c7-4a86c017581a",
   "metadata": {},
   "outputs": [],
   "source": [
    "import refinitiv.data as rd\n",
    "from physical_assets_map import PhysicalAssetsMap"
   ]
  },
  {
   "cell_type": "markdown",
   "id": "9a4038d0-89fa-46e2-93aa-513e04a8643e",
   "metadata": {},
   "source": [
    "## Open the data session\n",
    "\n",
    "The open_session() function creates and open sessions based on the information contained in the refinitiv-data.config.json configuration file. Please edit this file to set the session type and other parameters required for the session you want to open."
   ]
  },
  {
   "cell_type": "code",
   "execution_count": 3,
   "id": "9807577a-b58e-449a-863d-cff7b55050c5",
   "metadata": {},
   "outputs": [
    {
     "data": {
      "text/plain": [
       "<refinitiv.data.session.Definition object at 0x7fd0e9026220 {name='workspace'}>"
      ]
     },
     "execution_count": 3,
     "metadata": {},
     "output_type": "execute_result"
    }
   ],
   "source": [
    "rd.open_session()"
   ]
  },
  {
   "cell_type": "markdown",
   "id": "8483d5d5-c4d2-41e0-831d-8141788ac740",
   "metadata": {},
   "source": [
    "## Load the search templates configuration file"
   ]
  },
  {
   "cell_type": "code",
   "execution_count": 4,
   "id": "5cd7d982-ac37-43e5-a420-09246c0e74df",
   "metadata": {
    "tags": []
   },
   "outputs": [
    {
     "data": {
      "text/plain": [
       "<ConfigurationSet: 0x7fd0e7f4dc70>"
      ]
     },
     "execution_count": 4,
     "metadata": {},
     "output_type": "execute_result"
    }
   ],
   "source": [
    "rd.load_config(\"search-templates.config.json\")"
   ]
  },
  {
   "cell_type": "markdown",
   "id": "9e4763b3-8258-4b30-bb35-2169c0beac6d",
   "metadata": {},
   "source": [
    "## Mines Search Template example"
   ]
  },
  {
   "cell_type": "markdown",
   "id": "3304dcdd-c4c9-4c5f-b8fe-ebd5312a7ee3",
   "metadata": {},
   "source": [
    "### Access the template"
   ]
  },
  {
   "cell_type": "code",
   "execution_count": 5,
   "id": "4213c4fd",
   "metadata": {},
   "outputs": [],
   "source": [
    "mines = rd.discovery.search_templates[\"Mines\"]"
   ]
  },
  {
   "cell_type": "markdown",
   "id": "932cbe35-96b4-47f4-a311-f5e5399dbea8",
   "metadata": {
    "tags": []
   },
   "source": [
    "### Get help about this template"
   ]
  },
  {
   "cell_type": "code",
   "execution_count": 6,
   "id": "ff38bf27",
   "metadata": {},
   "outputs": [
    {
     "name": "stdout",
     "output_type": "stream",
     "text": [
      "Help on DiscoverySearchTemplate in module refinitiv.data.discovery._search_templates.search:\n",
      "\n",
      "<DiscoverySearchTemplate 'Mines'>\n",
      "    Find coordinates of mines in a region.\n",
      "    \n",
      "    Methods\n",
      "    -------\n",
      "    search\n",
      "        commodity\n",
      "            Commodity extracted from the mine. For example: 'Gold', 'Nickel', 'Zinc', 'Cooper', 'Palladium', 'Lead', etc.\n",
      "    \n",
      "        region\n",
      "            Region to search in. For example: 'Botswana', 'Brazil', 'Canada', 'Chile', 'Costa Rica', 'Cuba', 'United States', 'Guyana', 'Peru', 'South Africa', etc\n",
      "\n"
     ]
    }
   ],
   "source": [
    "help(mines)"
   ]
  },
  {
   "cell_type": "markdown",
   "id": "5bb0c4b9-072f-47fc-a5f7-182a39b5cf5b",
   "metadata": {
    "tags": []
   },
   "source": [
    "### Use the predefined parameters of the template to search for gold mines in south Africa"
   ]
  },
  {
   "cell_type": "code",
   "execution_count": 7,
   "id": "632a8500-bf51-4c39-8d83-360d9c6500aa",
   "metadata": {},
   "outputs": [
    {
     "data": {
      "application/vnd.jupyter.widget-view+json": {
       "model_id": "92b9c5198b4e4d6c9e4558b8490d50a3",
       "version_major": 2,
       "version_minor": 0
      },
      "text/plain": [
       "Map(center=[-26.416700363159, 27.666700363159], controls=(ZoomControl(options=['position', 'zoom_in_text', 'zo…"
      ]
     },
     "metadata": {},
     "output_type": "display_data"
    },
    {
     "data": {
      "text/html": [
       "<div>\n",
       "<style scoped>\n",
       "    .dataframe tbody tr th:only-of-type {\n",
       "        vertical-align: middle;\n",
       "    }\n",
       "\n",
       "    .dataframe tbody tr th {\n",
       "        vertical-align: top;\n",
       "    }\n",
       "\n",
       "    .dataframe thead th {\n",
       "        text-align: right;\n",
       "    }\n",
       "</style>\n",
       "<table border=\"1\" class=\"dataframe\">\n",
       "  <thead>\n",
       "    <tr style=\"text-align: right;\">\n",
       "      <th></th>\n",
       "      <th>RIC</th>\n",
       "      <th>RCSRegionLeaf</th>\n",
       "      <th>RCSCommodityTypeLeaf</th>\n",
       "      <th>DTSubjectName</th>\n",
       "      <th>PhysicalAssetStatus</th>\n",
       "      <th>Latitude</th>\n",
       "      <th>Longitude</th>\n",
       "    </tr>\n",
       "  </thead>\n",
       "  <tbody>\n",
       "    <tr>\n",
       "      <th>0</th>\n",
       "      <td>C}PX7309413492</td>\n",
       "      <td>South Africa</td>\n",
       "      <td>Gold</td>\n",
       "      <td>South Deep</td>\n",
       "      <td>Normal Operation</td>\n",
       "      <td>-26.4167</td>\n",
       "      <td>27.6667</td>\n",
       "    </tr>\n",
       "    <tr>\n",
       "      <th>1</th>\n",
       "      <td>C}PX7309413493</td>\n",
       "      <td>South Africa</td>\n",
       "      <td>Gold</td>\n",
       "      <td>Target</td>\n",
       "      <td>Normal Operation</td>\n",
       "      <td>-27.76</td>\n",
       "      <td>26.629999</td>\n",
       "    </tr>\n",
       "    <tr>\n",
       "      <th>2</th>\n",
       "      <td>C}PX7309413494</td>\n",
       "      <td>South Africa</td>\n",
       "      <td>Gold</td>\n",
       "      <td>Tshepong</td>\n",
       "      <td>Normal Operation</td>\n",
       "      <td>-27.866699</td>\n",
       "      <td>26.6833</td>\n",
       "    </tr>\n",
       "    <tr>\n",
       "      <th>3</th>\n",
       "      <td>C}PX7309413495</td>\n",
       "      <td>South Africa</td>\n",
       "      <td>Gold</td>\n",
       "      <td>Tau Lekoa</td>\n",
       "      <td>Normal Operation</td>\n",
       "      <td>-27.0</td>\n",
       "      <td>26.613001</td>\n",
       "    </tr>\n",
       "    <tr>\n",
       "      <th>4</th>\n",
       "      <td>C}PX7309413496</td>\n",
       "      <td>South Africa</td>\n",
       "      <td>Gold</td>\n",
       "      <td>Kopanang</td>\n",
       "      <td>Normal Operation</td>\n",
       "      <td>-26.98</td>\n",
       "      <td>26.745001</td>\n",
       "    </tr>\n",
       "    <tr>\n",
       "      <th>...</th>\n",
       "      <td>...</td>\n",
       "      <td>...</td>\n",
       "      <td>...</td>\n",
       "      <td>...</td>\n",
       "      <td>...</td>\n",
       "      <td>...</td>\n",
       "      <td>...</td>\n",
       "    </tr>\n",
       "    <tr>\n",
       "      <th>87</th>\n",
       "      <td>C}PX7310050420</td>\n",
       "      <td>South Africa</td>\n",
       "      <td>Gold</td>\n",
       "      <td>Mispah</td>\n",
       "      <td>Prefeasibility</td>\n",
       "      <td>-26.996561</td>\n",
       "      <td>26.785402</td>\n",
       "    </tr>\n",
       "    <tr>\n",
       "      <th>88</th>\n",
       "      <td>C}PX7310050444</td>\n",
       "      <td>South Africa</td>\n",
       "      <td>Gold</td>\n",
       "      <td>Bloemhoek</td>\n",
       "      <td>Feasibility</td>\n",
       "      <td>-27.534979</td>\n",
       "      <td>27.196499</td>\n",
       "    </tr>\n",
       "    <tr>\n",
       "      <th>89</th>\n",
       "      <td>C}PX7310050445</td>\n",
       "      <td>South Africa</td>\n",
       "      <td>Gold</td>\n",
       "      <td>De Bron Merriespruit</td>\n",
       "      <td>Feasibility</td>\n",
       "      <td>-27.571728</td>\n",
       "      <td>27.19503</td>\n",
       "    </tr>\n",
       "    <tr>\n",
       "      <th>90</th>\n",
       "      <td>C}PX7310050461</td>\n",
       "      <td>South Africa</td>\n",
       "      <td>Gold</td>\n",
       "      <td>Moab MOD</td>\n",
       "      <td>Normal Operation</td>\n",
       "      <td>-26.989622</td>\n",
       "      <td>26.802376</td>\n",
       "    </tr>\n",
       "    <tr>\n",
       "      <th>91</th>\n",
       "      <td>C}PX7310054031</td>\n",
       "      <td>South Africa</td>\n",
       "      <td>Gold</td>\n",
       "      <td>Far West Gold Recoveries (FWGR)</td>\n",
       "      <td>Normal Operation</td>\n",
       "      <td>-26.389465</td>\n",
       "      <td>27.360319</td>\n",
       "    </tr>\n",
       "  </tbody>\n",
       "</table>\n",
       "<p>92 rows × 7 columns</p>\n",
       "</div>"
      ],
      "text/plain": [
       "               RIC RCSRegionLeaf RCSCommodityTypeLeaf  \\\n",
       "0   C}PX7309413492  South Africa                 Gold   \n",
       "1   C}PX7309413493  South Africa                 Gold   \n",
       "2   C}PX7309413494  South Africa                 Gold   \n",
       "3   C}PX7309413495  South Africa                 Gold   \n",
       "4   C}PX7309413496  South Africa                 Gold   \n",
       "..             ...           ...                  ...   \n",
       "87  C}PX7310050420  South Africa                 Gold   \n",
       "88  C}PX7310050444  South Africa                 Gold   \n",
       "89  C}PX7310050445  South Africa                 Gold   \n",
       "90  C}PX7310050461  South Africa                 Gold   \n",
       "91  C}PX7310054031  South Africa                 Gold   \n",
       "\n",
       "                      DTSubjectName PhysicalAssetStatus   Latitude  Longitude  \n",
       "0                        South Deep    Normal Operation   -26.4167    27.6667  \n",
       "1                            Target    Normal Operation     -27.76  26.629999  \n",
       "2                          Tshepong    Normal Operation -27.866699    26.6833  \n",
       "3                         Tau Lekoa    Normal Operation      -27.0  26.613001  \n",
       "4                          Kopanang    Normal Operation     -26.98  26.745001  \n",
       "..                              ...                 ...        ...        ...  \n",
       "87                           Mispah      Prefeasibility -26.996561  26.785402  \n",
       "88                        Bloemhoek         Feasibility -27.534979  27.196499  \n",
       "89             De Bron Merriespruit         Feasibility -27.571728   27.19503  \n",
       "90                         Moab MOD    Normal Operation -26.989622  26.802376  \n",
       "91  Far West Gold Recoveries (FWGR)    Normal Operation -26.389465  27.360319  \n",
       "\n",
       "[92 rows x 7 columns]"
      ]
     },
     "metadata": {},
     "output_type": "display_data"
    }
   ],
   "source": [
    "mines_coordinates = mines.search(commodity=\"Gold\", region=\"South Africa\")\n",
    "\n",
    "PhysicalAssetsMap().plot(mines_coordinates).show()\n",
    "display(mines_coordinates)"
   ]
  },
  {
   "cell_type": "markdown",
   "id": "c43add9f-dc22-4309-bbc4-1f030cfcea99",
   "metadata": {},
   "source": [
    "## VesselsBoundFor Search Template example"
   ]
  },
  {
   "cell_type": "markdown",
   "id": "2b426576-4679-4bf9-bf9e-caaf71e39455",
   "metadata": {},
   "source": [
    "### Access the template"
   ]
  },
  {
   "cell_type": "code",
   "execution_count": 8,
   "id": "236edd44-4a3d-41c5-8850-f4e69af95e75",
   "metadata": {},
   "outputs": [],
   "source": [
    "vessels = rd.discovery.search_templates[\"VesselsBoundFor\"]"
   ]
  },
  {
   "cell_type": "markdown",
   "id": "c5cab7bf-5759-415f-9d85-4954e1c867eb",
   "metadata": {
    "tags": []
   },
   "source": [
    "### Get help about this template"
   ]
  },
  {
   "cell_type": "code",
   "execution_count": 9,
   "id": "1a03cf21-4a98-441a-baa6-f00e1dbe744b",
   "metadata": {},
   "outputs": [
    {
     "name": "stdout",
     "output_type": "stream",
     "text": [
      "Help on DiscoverySearchTemplate in module refinitiv.data.discovery._search_templates.search:\n",
      "\n",
      "<DiscoverySearchTemplate 'VesselsBoundFor'>\n",
      "    Search for vessels heading to a destination.\n",
      "    \n",
      "    Methods\n",
      "    -------\n",
      "    search\n",
      "        destination\n",
      "            Vessel's destination\n",
      "\n"
     ]
    }
   ],
   "source": [
    "help(vessels)"
   ]
  },
  {
   "cell_type": "markdown",
   "id": "b4a54bbb-7a0f-42d3-925b-db93e3ab5e88",
   "metadata": {
    "tags": []
   },
   "source": [
    "### Use the predefined parameters of the template to search for vessels heading to Le Havre"
   ]
  },
  {
   "cell_type": "code",
   "execution_count": 10,
   "id": "d67bdfb3-8559-4bc0-908c-5fb1fd38d6a4",
   "metadata": {},
   "outputs": [
    {
     "data": {
      "application/vnd.jupyter.widget-view+json": {
       "model_id": "ae1e546b2e864828837ff18ac7351979",
       "version_major": 2,
       "version_minor": 0
      },
      "text/plain": [
       "Map(center=[49.62451171875, -0.222780004144], controls=(ZoomControl(options=['position', 'zoom_in_text', 'zoom…"
      ]
     },
     "metadata": {},
     "output_type": "display_data"
    },
    {
     "data": {
      "text/html": [
       "<div>\n",
       "<style scoped>\n",
       "    .dataframe tbody tr th:only-of-type {\n",
       "        vertical-align: middle;\n",
       "    }\n",
       "\n",
       "    .dataframe tbody tr th {\n",
       "        vertical-align: top;\n",
       "    }\n",
       "\n",
       "    .dataframe thead th {\n",
       "        text-align: right;\n",
       "    }\n",
       "</style>\n",
       "<table border=\"1\" class=\"dataframe\">\n",
       "  <thead>\n",
       "    <tr style=\"text-align: right;\">\n",
       "      <th></th>\n",
       "      <th>RIC</th>\n",
       "      <th>DestinationPort</th>\n",
       "      <th>DTSubjectName</th>\n",
       "      <th>DTSimpleType</th>\n",
       "      <th>AISStatus</th>\n",
       "      <th>GrossTonnage</th>\n",
       "      <th>Latitude</th>\n",
       "      <th>Longitude</th>\n",
       "    </tr>\n",
       "  </thead>\n",
       "  <tbody>\n",
       "    <tr>\n",
       "      <th>0</th>\n",
       "      <td>C}KV7309507586</td>\n",
       "      <td>[FRLEH [Le Havre]]</td>\n",
       "      <td>BLUE NOVA</td>\n",
       "      <td>VLCC</td>\n",
       "      <td>At Anchor</td>\n",
       "      <td>157225</td>\n",
       "      <td>49.624512</td>\n",
       "      <td>-0.22278</td>\n",
       "    </tr>\n",
       "    <tr>\n",
       "      <th>1</th>\n",
       "      <td>C}CC7309502358</td>\n",
       "      <td>[FRLEH [Le Havre]]</td>\n",
       "      <td>COSCO FAITH</td>\n",
       "      <td>Container</td>\n",
       "      <td>At Anchor</td>\n",
       "      <td>141823</td>\n",
       "      <td>49.607471</td>\n",
       "      <td>-0.215615</td>\n",
       "    </tr>\n",
       "    <tr>\n",
       "      <th>2</th>\n",
       "      <td>C}CC7309488784</td>\n",
       "      <td>[FRLEH [Le Havre]]</td>\n",
       "      <td>ONE OLYMPUS</td>\n",
       "      <td>Container</td>\n",
       "      <td>Underway Using Engine</td>\n",
       "      <td>98799</td>\n",
       "      <td>50.684196</td>\n",
       "      <td>0.838658</td>\n",
       "    </tr>\n",
       "    <tr>\n",
       "      <th>3</th>\n",
       "      <td>C}CC7309490282</td>\n",
       "      <td>[FRLEH [Le Havre]]</td>\n",
       "      <td>MAERSK SURABAYA</td>\n",
       "      <td>Container</td>\n",
       "      <td>Underway Using Engine</td>\n",
       "      <td>94322</td>\n",
       "      <td>50.951145</td>\n",
       "      <td>1.354597</td>\n",
       "    </tr>\n",
       "    <tr>\n",
       "      <th>4</th>\n",
       "      <td>C}KS7309500780</td>\n",
       "      <td>[FR LEH [Le Havre]]</td>\n",
       "      <td>AFRODITI</td>\n",
       "      <td>Suezmax</td>\n",
       "      <td>At Anchor</td>\n",
       "      <td>84716</td>\n",
       "      <td>49.61507</td>\n",
       "      <td>-0.252658</td>\n",
       "    </tr>\n",
       "    <tr>\n",
       "      <th>...</th>\n",
       "      <td>...</td>\n",
       "      <td>...</td>\n",
       "      <td>...</td>\n",
       "      <td>...</td>\n",
       "      <td>...</td>\n",
       "      <td>...</td>\n",
       "      <td>...</td>\n",
       "      <td>...</td>\n",
       "    </tr>\n",
       "    <tr>\n",
       "      <th>59</th>\n",
       "      <td>C}VX7309985382</td>\n",
       "      <td>[LE HAVRE [Le Havre]]</td>\n",
       "      <td>FV PARTI DE RIEN</td>\n",
       "      <td>Other Miscellaneous</td>\n",
       "      <td>Underway Using Engine</td>\n",
       "      <td>&lt;NA&gt;</td>\n",
       "      <td>49.482353</td>\n",
       "      <td>0.11704</td>\n",
       "    </tr>\n",
       "    <tr>\n",
       "      <th>60</th>\n",
       "      <td>C}BT7309985659</td>\n",
       "      <td>[LEHAVRE [Le Havre]]</td>\n",
       "      <td>ROUEN BEN0</td>\n",
       "      <td>Other Dry</td>\n",
       "      <td>Underway Using Engine</td>\n",
       "      <td>&lt;NA&gt;</td>\n",
       "      <td>49.48555</td>\n",
       "      <td>0.114852</td>\n",
       "    </tr>\n",
       "    <tr>\n",
       "      <th>61</th>\n",
       "      <td>C}VX7309986488</td>\n",
       "      <td>[LE HAVRE [Le Havre]]</td>\n",
       "      <td>FV LOCEAN</td>\n",
       "      <td>Other Miscellaneous</td>\n",
       "      <td>Engaged In Fishing</td>\n",
       "      <td>&lt;NA&gt;</td>\n",
       "      <td>50.400105</td>\n",
       "      <td>0.308875</td>\n",
       "    </tr>\n",
       "    <tr>\n",
       "      <th>62</th>\n",
       "      <td>C}VX7310029866</td>\n",
       "      <td>[LE HAVRE [Le Havre]]</td>\n",
       "      <td>MA VICTOIRE</td>\n",
       "      <td>Other Miscellaneous</td>\n",
       "      <td>Engaged In Fishing</td>\n",
       "      <td>&lt;NA&gt;</td>\n",
       "      <td>49.481274</td>\n",
       "      <td>0.11961</td>\n",
       "    </tr>\n",
       "    <tr>\n",
       "      <th>63</th>\n",
       "      <td>C}VX7310029871</td>\n",
       "      <td>[LE HAVRE [Le Havre]]</td>\n",
       "      <td>FV MALOU</td>\n",
       "      <td>Other Miscellaneous</td>\n",
       "      <td>Underway Using Engine</td>\n",
       "      <td>&lt;NA&gt;</td>\n",
       "      <td>49.364086</td>\n",
       "      <td>0.078948</td>\n",
       "    </tr>\n",
       "  </tbody>\n",
       "</table>\n",
       "<p>64 rows × 8 columns</p>\n",
       "</div>"
      ],
      "text/plain": [
       "               RIC        DestinationPort     DTSubjectName  \\\n",
       "0   C}KV7309507586     [FRLEH [Le Havre]]         BLUE NOVA   \n",
       "1   C}CC7309502358     [FRLEH [Le Havre]]       COSCO FAITH   \n",
       "2   C}CC7309488784     [FRLEH [Le Havre]]       ONE OLYMPUS   \n",
       "3   C}CC7309490282     [FRLEH [Le Havre]]   MAERSK SURABAYA   \n",
       "4   C}KS7309500780    [FR LEH [Le Havre]]          AFRODITI   \n",
       "..             ...                    ...               ...   \n",
       "59  C}VX7309985382  [LE HAVRE [Le Havre]]  FV PARTI DE RIEN   \n",
       "60  C}BT7309985659   [LEHAVRE [Le Havre]]        ROUEN BEN0   \n",
       "61  C}VX7309986488  [LE HAVRE [Le Havre]]         FV LOCEAN   \n",
       "62  C}VX7310029866  [LE HAVRE [Le Havre]]       MA VICTOIRE   \n",
       "63  C}VX7310029871  [LE HAVRE [Le Havre]]          FV MALOU   \n",
       "\n",
       "           DTSimpleType              AISStatus  GrossTonnage   Latitude  \\\n",
       "0                  VLCC              At Anchor        157225  49.624512   \n",
       "1             Container              At Anchor        141823  49.607471   \n",
       "2             Container  Underway Using Engine         98799  50.684196   \n",
       "3             Container  Underway Using Engine         94322  50.951145   \n",
       "4               Suezmax              At Anchor         84716   49.61507   \n",
       "..                  ...                    ...           ...        ...   \n",
       "59  Other Miscellaneous  Underway Using Engine          <NA>  49.482353   \n",
       "60            Other Dry  Underway Using Engine          <NA>   49.48555   \n",
       "61  Other Miscellaneous     Engaged In Fishing          <NA>  50.400105   \n",
       "62  Other Miscellaneous     Engaged In Fishing          <NA>  49.481274   \n",
       "63  Other Miscellaneous  Underway Using Engine          <NA>  49.364086   \n",
       "\n",
       "    Longitude  \n",
       "0    -0.22278  \n",
       "1   -0.215615  \n",
       "2    0.838658  \n",
       "3    1.354597  \n",
       "4   -0.252658  \n",
       "..        ...  \n",
       "59    0.11704  \n",
       "60   0.114852  \n",
       "61   0.308875  \n",
       "62    0.11961  \n",
       "63   0.078948  \n",
       "\n",
       "[64 rows x 8 columns]"
      ]
     },
     "metadata": {},
     "output_type": "display_data"
    }
   ],
   "source": [
    "vessels_coordinates = vessels.search(destination=\"Le Havre\")\n",
    "\n",
    "PhysicalAssetsMap().plot(vessels_coordinates).show()\n",
    "display(vessels_coordinates)"
   ]
  },
  {
   "cell_type": "markdown",
   "id": "3374548d-a4dd-4210-9635-3e4aa4a884a7",
   "metadata": {},
   "source": [
    "## Close the session"
   ]
  },
  {
   "cell_type": "code",
   "execution_count": 11,
   "id": "1dc09a74-816f-4229-8d47-4a49573a2668",
   "metadata": {
    "tags": []
   },
   "outputs": [],
   "source": [
    "rd.close_session()"
   ]
  },
  {
   "cell_type": "code",
   "execution_count": null,
   "id": "9cd3e0fe-bd42-4838-b3ec-a45f26e75943",
   "metadata": {},
   "outputs": [],
   "source": []
  }
 ],
 "metadata": {
  "kernelspec": {
   "display_name": "Python 3 (ipykernel)",
   "language": "python",
   "name": "python3"
  },
  "language_info": {
   "codemirror_mode": {
    "name": "ipython",
    "version": 3
   },
   "file_extension": ".py",
   "mimetype": "text/x-python",
   "name": "python",
   "nbconvert_exporter": "python",
   "pygments_lexer": "ipython3",
   "version": "3.9.7"
  }
 },
 "nbformat": 4,
 "nbformat_minor": 5
}
