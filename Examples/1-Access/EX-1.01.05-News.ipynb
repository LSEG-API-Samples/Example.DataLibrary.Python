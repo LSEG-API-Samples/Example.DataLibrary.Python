{
 "cells": [
  {
   "cell_type": "markdown",
   "id": "3cd7a646-7bf9-419e-96bf-5b3df1ca2d4a",
   "metadata": {},
   "source": [
    "----\n",
    "<img src=\"../../files/refinitiv.png\" width=\"20%\" style=\"vertical-align: top;\">\n",
    "\n",
    "# Data Library for Python\n",
    "\n",
    "----"
   ]
  },
  {
   "cell_type": "markdown",
   "id": "21de9fed",
   "metadata": {},
   "source": [
    "## Access layer - News\n",
    "This notebook demonstrates how to retrieve News story and headlines data using the get_story() and get_headlines() functions."
   ]
  },
  {
   "cell_type": "markdown",
   "id": "0dbb74e0-321b-4a2f-9f1f-e7cbf4c00d2f",
   "metadata": {
    "jp-MarkdownHeadingCollapsed": true,
    "tags": []
   },
   "source": [
    "#### About the get_headlines function\n",
    "The get_headlines() function allows you to retrieve news headlines via a single function call.\n",
    "\n",
    "***get_headlines()*** parameters: \n",
    "- ***query***: The user search query.\n",
    "    - Type: String\n",
    "    - Optionnal: No  \n",
    "- ***count***: Count to limit number of headlines. Min value is 0. Default: 10\n",
    "    - Type: int\n",
    "    - Optionnal: Yes  \n",
    "- ***start***: Beginning of date range. String format is: '%Y-%m-%dT%H:%M:%S'. e.g. '2016-01-20T15:04:05'.\n",
    "    - Type: str or timedelta, optional\n",
    "    - Optionnal: Yes  \n",
    "- ***end***: End of date range. String format is: '%Y-%m-%dT%H:%M:%S'. e.g. '2016-01-20T15:04:05'.\n",
    "    - Type: str or timedelta, optional\n",
    "    - Optionnal: Yes  \n",
    "- ***order_by***: Value from SortOrder enum. Default: SortOrder.new_to_old\n",
    "    - Type: SortOrder\n",
    "    - Optionnal: Yes  \n",
    "    \n",
    "**get_headlines()** pd.DataFrame. Headlines dataframe.\n",
    "\n",
    "#### About the get_story function\n",
    "The get_story() function allows you to retrieve news story data.\n",
    "\n",
    "***get_story()*** parameters: \n",
    "- ***story_id***: News Story ID\n",
    "    - Type: String\n",
    "    - Optionnal: No  \n",
    "- ***format***: Specifies the type of response. If parameter Format.TEXT return text string, otherwise returns HTML response\n",
    "    - Type: String or Format enum\n",
    "    - Optionnal: Yes  \n",
    "    \n",
    "**get_story()** returns a story html or text response"
   ]
  },
  {
   "cell_type": "markdown",
   "id": "487b8730-3f8c-4d8d-a35c-b67e57647d7b",
   "metadata": {},
   "source": [
    "#### Learn more\n",
    "\n",
    "To learn more about the Refinitiv Data Library for Python please join the Refinitiv Developer Community. By [registering](https://developers.refinitiv.com/iam/register) and [logging](https://developers.refinitiv.com/content/devportal/en_us/initCookie.html) into the Refinitiv Developer Community portal you will have free access to a number of learning materials like \n",
    " [Quick Start guides](https://developers.refinitiv.com/en/api-catalog/refinitiv-data-platform/refinitiv-data-library-for-python/quick-start), \n",
    " [Tutorials](https://developers.refinitiv.com/en/api-catalog/refinitiv-data-platform/refinitiv-data-library-for-python/learning), \n",
    " [Documentation](https://developers.refinitiv.com/en/api-catalog/refinitiv-data-platform/refinitiv-data-library-for-python/docs)\n",
    " and much more.\n",
    "\n",
    "#### Getting Help and Support\n",
    "\n",
    "If you have any questions regarding using the API, please post them on \n",
    "the [Refinitiv Data Q&A Forum](https://community.developers.refinitiv.com/spaces/321/index.html). \n",
    "The Refinitiv Developer Community will be happy to help. \n",
    "\n",
    "----"
   ]
  },
  {
   "cell_type": "markdown",
   "id": "4b2bee84-023e-4e96-9efb-5159fab4f00e",
   "metadata": {
    "tags": []
   },
   "source": [
    "## Set the configuration file location\n",
    "For a better ease of use, you have the option to set initialization parameters of the Refinitiv Data Library in the _refinitiv-data.config.json_ configuration file. This file must be located beside your notebook, in your user folder or in a folder defined by the _RD_LIB_CONFIG_PATH_ environment variable. The _RD_LIB_CONFIG_PATH_ environment variable is the option used by this series of examples. The following code sets this environment variable.      "
   ]
  },
  {
   "cell_type": "code",
   "execution_count": 1,
   "id": "37736150-28f7-43fe-badc-0ed895a1e722",
   "metadata": {},
   "outputs": [],
   "source": [
    "import os\n",
    "os.environ[\"RD_LIB_CONFIG_PATH\"] = \"../../Configuration\""
   ]
  },
  {
   "cell_type": "markdown",
   "id": "1dd95573",
   "metadata": {},
   "source": [
    "## Some Imports to start with"
   ]
  },
  {
   "cell_type": "code",
   "execution_count": 2,
   "id": "3e6d79fd",
   "metadata": {},
   "outputs": [],
   "source": [
    "import refinitiv.data as rd\n",
    "from datetime import timedelta\n",
    "from IPython.display import HTML\n",
    "import pandas as pd\n",
    "pd.options.display.max_colwidth = 100"
   ]
  },
  {
   "cell_type": "markdown",
   "id": "a34e7d8a",
   "metadata": {},
   "source": [
    "## Open the data session\n",
    "\n",
    "The open_session() function creates and open sessions based on the information contained in the refinitiv-data.config.json configuration file. Please edit this file to set the session type and other parameters required for the session you want to open."
   ]
  },
  {
   "cell_type": "code",
   "execution_count": 3,
   "id": "478baaad-c743-4776-9286-7951cbbd157a",
   "metadata": {
    "tags": []
   },
   "outputs": [
    {
     "data": {
      "text/plain": [
       "<refinitiv.data.session.Definition object at 0x7fb14a063070 {name='workspace'}>"
      ]
     },
     "execution_count": 3,
     "metadata": {},
     "output_type": "execute_result"
    }
   ],
   "source": [
    "rd.open_session()"
   ]
  },
  {
   "cell_type": "markdown",
   "id": "442e6240",
   "metadata": {},
   "source": [
    "## Retrieve data"
   ]
  },
  {
   "cell_type": "markdown",
   "id": "5507075a",
   "metadata": {},
   "source": [
    "### Get headlines"
   ]
  },
  {
   "cell_type": "code",
   "execution_count": 4,
   "id": "22fd4706",
   "metadata": {
    "scrolled": true
   },
   "outputs": [
    {
     "data": {
      "text/html": [
       "<div>\n",
       "<style scoped>\n",
       "    .dataframe tbody tr th:only-of-type {\n",
       "        vertical-align: middle;\n",
       "    }\n",
       "\n",
       "    .dataframe tbody tr th {\n",
       "        vertical-align: top;\n",
       "    }\n",
       "\n",
       "    .dataframe thead th {\n",
       "        text-align: right;\n",
       "    }\n",
       "</style>\n",
       "<table border=\"1\" class=\"dataframe\">\n",
       "  <thead>\n",
       "    <tr style=\"text-align: right;\">\n",
       "      <th></th>\n",
       "      <th>headline</th>\n",
       "      <th>storyId</th>\n",
       "      <th>sourceCode</th>\n",
       "    </tr>\n",
       "    <tr>\n",
       "      <th>versionCreated</th>\n",
       "      <th></th>\n",
       "      <th></th>\n",
       "      <th></th>\n",
       "    </tr>\n",
       "  </thead>\n",
       "  <tbody>\n",
       "    <tr>\n",
       "      <th>2023-01-27 18:37:24.875</th>\n",
       "      <td>MARKET POST: LONGER-DATED MUNIS WEAKER AT MIDDAY</td>\n",
       "      <td>urn:newsml:newswire.refinitiv.com:20230127:nMnw145079:1</td>\n",
       "      <td>NS:TM3</td>\n",
       "    </tr>\n",
       "    <tr>\n",
       "      <th>2023-01-27 14:57:18.237</th>\n",
       "      <td>GENERAL OBLIGATION TOPS TYPE OF SECURITIES</td>\n",
       "      <td>urn:newsml:newswire.refinitiv.com:20230127:nMnw145064:1</td>\n",
       "      <td>NS:TM3</td>\n",
       "    </tr>\n",
       "    <tr>\n",
       "      <th>2023-01-27 10:53:26.611</th>\n",
       "      <td>CORRECTION-UPDATE 1 - NowCM takes over Nivaura's digital debt operations</td>\n",
       "      <td>urn:newsml:newswire.refinitiv.com:20230125:nIfp8TShzv:1</td>\n",
       "      <td>NS:IFR</td>\n",
       "    </tr>\n",
       "  </tbody>\n",
       "</table>\n",
       "</div>"
      ],
      "text/plain": [
       "                                                                                         headline  \\\n",
       "versionCreated                                                                                      \n",
       "2023-01-27 18:37:24.875                          MARKET POST: LONGER-DATED MUNIS WEAKER AT MIDDAY   \n",
       "2023-01-27 14:57:18.237                                GENERAL OBLIGATION TOPS TYPE OF SECURITIES   \n",
       "2023-01-27 10:53:26.611  CORRECTION-UPDATE 1 - NowCM takes over Nivaura's digital debt operations   \n",
       "\n",
       "                                                                         storyId  \\\n",
       "versionCreated                                                                     \n",
       "2023-01-27 18:37:24.875  urn:newsml:newswire.refinitiv.com:20230127:nMnw145079:1   \n",
       "2023-01-27 14:57:18.237  urn:newsml:newswire.refinitiv.com:20230127:nMnw145064:1   \n",
       "2023-01-27 10:53:26.611  urn:newsml:newswire.refinitiv.com:20230125:nIfp8TShzv:1   \n",
       "\n",
       "                        sourceCode  \n",
       "versionCreated                      \n",
       "2023-01-27 18:37:24.875     NS:TM3  \n",
       "2023-01-27 14:57:18.237     NS:TM3  \n",
       "2023-01-27 10:53:26.611     NS:IFR  "
      ]
     },
     "execution_count": 4,
     "metadata": {},
     "output_type": "execute_result"
    }
   ],
   "source": [
    "rd.news.get_headlines(\"LSEG\", start=\"20.03.2021\", end=timedelta(days=-4), count=3)"
   ]
  },
  {
   "cell_type": "markdown",
   "id": "b07a9aa4",
   "metadata": {},
   "source": [
    "### Get story"
   ]
  },
  {
   "cell_type": "code",
   "execution_count": 5,
   "id": "4ca8f820",
   "metadata": {},
   "outputs": [
    {
     "data": {
      "text/html": [
       "<div class=\"storyContent\" lang=\"en\"><style type=\"text/css\">.storyContent * {border-color:inherit !important;outline-color:inherit !important;}</style><p class=\"tr-advisory\">Adds details, Biden, analyst comments, updates markets</p><ul class=\"bulleted-list arrowlist\"><li class=\"tr-summaryitem\">Consumer price index jumps 1.3% in June</li><li class=\"tr-summaryitem\">Year-on-year CPI soars 9.1%, largest gain since 1981</li><li class=\"tr-summaryitem\">Core CPI increases 0.7%; up 5.9% on year-on-year basis</li></ul><p class=\"tr-by\">By Lucia Mutikani</p><p class=\"tr-story-p1\"><span class=\"tr-dateline\">WASHINGTON, July 13 (Reuters)</span><span class=\"tr-dl-sep\"> - </span>U.S. annual consumer prices jumped 9.1% in June, the largest increase in more than four decades, <span class=\"tr-strong\">leaving Americans to dig deeper to pay </span>for gasoline, food, <span class=\"tr-strong\">healthcare </span>and rents, <span class=\"tr-strong\">and the Federal Reserve most certain to</span> hike interest rates by another 75 basis points at the end of the month.</p><p>The bigger-than-expected rise in the year-on-year consumer price index reported by the Labor Department on Wednesday also reflected higher prices for <span class=\"tr-strong\">a range of other goods and services, </span>including motor vehicles, apparel and household furniture. The CPI increased by the most in nearly 17 years on a monthly basis. </p><p>The inflation data followed stronger-than-expected job growth in June and suggested that the U.S. central bank's aggressive monetary policy stance had made little progress thus far in cooling demand and bringing inflation down to its 2% target<span class=\"tr-strong\">. With rents surging by the most in 36 years, inflation could become entrenched.</span></p><p>Though a global problem, stubbornly high inflation is a political risk for U.S. President Joe Biden and his Democratic Party heading into congressional elections in November. </p><p>\"Despite the Fed's best intentions, the economy looks to be moving into a higher inflation regime,\" said Christopher Rupkey, chief economist at FWDBONDS in New York. \"The Fed is even further behind the curve after today's sizzling report.\" </p><p>The consumer price index increased 1.3% last month, the biggest monthly gain since September 2005, after advancing 1.0% in May. A 7.5% surge in energy prices accounted for nearly half of the increase in the CPI. Gasoline prices jumped 11.2% after rebounding by 4.1% in May. <span class=\"tr-strong\">Prices at the pump have since declined considerably from June's record highs.</span></p><p>Natural gas prices rose 8.2%, the most since October 2005.  The cost of food consumed at home rose 1.0%, posting the sixth straight monthly increase of at least 1.0%.</p><p>In the 12 months through June, the CPI jumped 9.1%. That was the biggest gain since November 1981 and followed an 8.6% rise in May. Economists polled by Reuters had forecast the CPI would rise 1.1% and accelerating 8.8% year-on-year. </p><p>Consumer prices are surging, driven by snarled global supply chains and massive fiscal stimulus from governments early in the COVID-19 pandemic.</p><p><span class=\"tr-resource-ref tr-graphic-static\" id=\"g16d70001-9a83-45a3-83cb-ba965e14253a\"><div class=\"tr-image\"><div class=\"tr-image-components\"><img src=\"https://graphics.reuters.com/USA-ECONOMY/JOBS/gdvzylweepw/chart.png\" data-internal-src=\"https://rp.cp.dtc.reuint.com/Apps/NewsServices/images?apiKey=95a7d790-a5d1-4907-9c62-c9d7a1d29f80&amp;type=base64Url&amp;id=aHR0cHM6Ly9ncmFwaGljcy5yZXV0ZXJzLmNvbS9VU0EtRUNPTk9NWS9KT0JTL2dkdnp5bHdlZXB3L2NoYXJ0LnBuZw==&amp;storyId=urn:newsml:newswire.refinitiv.com:20220713:nL1N2YU10J:4&amp;key=364c67544f05c8704aaca2bb11bce522991d716891ae96f58be6d4e92279941f7f0c13260aafec93ffb209fae99317c82e41af0b4bd359aafb51c3677c46f379\"/></div></div></span></p><p>The ongoing war in Ukraine, which has caused a spike in global food and fuel prices, has worsened the situation.</p><p><span class=\"tr-strong\">President Biden sought to draw some comfort from the retreat in gasoline prices </span>from June, when they averaged above $5 per gallon, according to data from motorist advocacy group AAA. They were averaging $4.631 per gallon on Wednesday, which could ease some of the pressure on consumers.</p><p><span class=\"tr-strong\">\"Those savings are providing important breathing room for American families,\" Biden said in a statement. \"And, other commodities like wheat have fallen sharply since this report.\"</span></p><p>    Annual food prices are rising at their fastest pace since February 1981, with energy prices posting their largest jump in more than 42 years.</p><p>    Financial markets overwhelmingly expect the Fed to raise its policy rate by 75 basis points at its July 26-27 meeting. <span class=\"tr-strong\">A full-percentage-point increase has not been ruled out and attention now shifts to the University of Michigan's consumer inflation expectations survey on Friday.</span> </p><p>The Bank of Canada surprised by hiking its policy rate by 100 basis points on Wednesday, a super-sized increase last seen in 1998. (<a href=\"reuters://REALTIME/verb=NewsStory/ric=nBCLDIEI21\" data-type=\"storyId\" data-story-id=\"nBCLDIEI21\" translate=\"no\" dir=\"ltr\" class=\"tr-pnac\">Full Story</a>) </p><p>The Fed has raised its overnight interest rate by 150 basis points since March. </p><p><span class=\"tr-strong\">U.S. stocks were mixed. The dollar fell against a basket of currencies. U.S. Treasury prices rose.</span></p><p><br/></p><p>UNDERLYING INFLATION </p><p>The economy created 372,000 jobs in June, with a broader measure of unemployment hitting a record low. (<a href=\"reuters://REALTIME/verb=NewsStory/ric=nL1N2YO2M6\" data-type=\"storyId\" data-story-id=\"nL1N2YO2M6\" translate=\"no\" dir=\"ltr\" class=\"tr-pnac\">Full Story</a>)</p><p><span class=\"tr-resource-ref tr-graphic-static\" id=\"a217805a-da64-4b76-9b67-0d3052257706\"><div class=\"tr-image\"><div class=\"tr-image-components\"><img src=\"https://graphics.reuters.com/USA-ECONOMY/INFLATION/egvbkxmwkpq/chart.png\" data-internal-src=\"https://rp.cp.dtc.reuint.com/Apps/NewsServices/images?apiKey=95a7d790-a5d1-4907-9c62-c9d7a1d29f80&amp;type=base64Url&amp;id=aHR0cHM6Ly9ncmFwaGljcy5yZXV0ZXJzLmNvbS9VU0EtRUNPTk9NWS9JTkZMQVRJT04vZWd2Ymt4bXdrcHEvY2hhcnQucG5n&amp;storyId=urn:newsml:newswire.refinitiv.com:20220713:nL1N2YU10J:4&amp;key=fc9eae9f254fa5ff2c060b8ebf6cfbaebca0a347f67f038837581c4dc0edff30ab7ff6e23c6823d4e848669a203407c2b037b7a2b53a477c529d9d28ceb8219e\"/></div></div></span></p><p>There had been hope that a shift in spending from goods to services would help cool inflation. But the very tight labor market is boosting wages, adding to higher prices for services.</p><p>Underlying inflation pressures sizzled last month.    Excluding the volatile food and energy components, the CPI gained 0.7% in June after climbing 0.6% in May. The so-called core CPI was lifted by the cost of rent, which shot up 0.8%, the largest monthly increase since April 1986. </p><p><span class=\"tr-strong\">Rents are one of the largest and stickiest inflation categories, which raises the risk of the Fed maintaining its aggressive rate hikes into the second-half of the year.</span></p><p><span class=\"tr-strong\">\"There remain miles to go before getting back toward anything resembling price stability,\" said Sarah House, a senior economist at Wells Fargo in Charlotte, North Carolina.</span></p><p>New vehicle prices maintained their upward trend as did those for used cars and trucks. The cost of motor vehicle maintenance and repairs surged 2.0%, the most since September 1974. Healthcare costs rose 0.7%, with a record increase in the cost of dental services. </p><p>Apparel prices increased 0.8%, despite retailers like Walmart <a href=\"reuters://REALTIME/Verb=FullQuote/ric=WMT.N\" data-type=\"ric\" data-ric=\"WMT.N\" translate=\"no\" dir=\"ltr\">WMT.N</a> and Target <a href=\"reuters://REALTIME/Verb=FullQuote/ric=TGT.N\" data-type=\"ric\" data-ric=\"TGT.N\" translate=\"no\" dir=\"ltr\">TGT.N</a> reporting excess inventory that would require discounts. <span class=\"tr-strong\">But prices for hotels, car rentals and airfares declined. Still, core goods prices rose a strong 0.8%, while services gained 0.7%.</span></p><p>The core CPI increased 5.9% in the 12 months through June. That followed a 6.0% rise in the 12 months through May <span class=\"tr-strong\">and marked a third straight month of deceleration.</span></p><p><span class=\"tr-strong\">High inflation is eroding wage gains, which together with rising borrowing costs could crimp consumer spending, leaving economists to expect a mild recession at the turn of the year. Inflation-adjusted average weekly earning fell 1.0% in June.</span></p><p><br/></p><div style=\"display:none;\" class=\"tr-sandwichbox\"></div><p class=\"tr-signoff\"> (Reporting by Lucia Mutikani; Editing by Chizu Nomiyama and Paul Simao)</p><p class=\"tr-contactinfo\">(( <a href=\"mailto:Lucia.Mutikani@thomsonreuters.com\" data-type=\"email\" translate=\"no\">Lucia.Mutikani@thomsonreuters.com</a> ))</p><p class=\"line-break\"><br/></p><p class=\"tr-copyright\">(c) Copyright Thomson Reuters 2022. Click For Restrictions - https://agency.reuters.com/en/copyright.html</p><p class=\"line-break\"><br/></p><p class=\"tr-slugline\">Keywords: USA-ECONOMY/ (WRAPUP 2, PIX, GRAPHICS)</p></div>"
      ],
      "text/plain": [
       "<IPython.core.display.HTML object>"
      ]
     },
     "execution_count": 5,
     "metadata": {},
     "output_type": "execute_result"
    }
   ],
   "source": [
    "story = rd.news.get_story(\"urn:newsml:reuters.com:20220713:nL1N2YU10J\", format=rd.news.Format.HTML)\n",
    "HTML(story)"
   ]
  },
  {
   "cell_type": "code",
   "execution_count": 6,
   "id": "2153c3f6",
   "metadata": {},
   "outputs": [
    {
     "name": "stdout",
     "output_type": "stream",
     "text": [
      "Adds details, Biden, analyst comments, updates markets\n",
      "By Lucia Mutikani\n",
      "WASHINGTON, July 13 (Reuters)\n",
      "The bigger-than-expected rise in the year-on-year consumer price index reported by the Labor Department on Wednesday also reflected higher prices for \n",
      "The inflation data followed stronger-than-expected job growth in June and suggested that the U.S. central bank's aggressive monetary policy stance had made little progress thus far in cooling demand and bringing inflation down to its 2% target\n",
      "Though a global problem, stubbornly high inflation is a political risk for U.S. President Joe Biden and his Democratic Party heading into congressional elections in November. \n",
      "\"Despite the Fed's best intentions, the economy looks to be moving into a higher inflation regime,\" said Christopher Rupkey, chief economist at FWDBONDS in New York. \"The Fed is even further behind the curve after today's sizzling report.\" \n",
      "The consumer price index increased 1.3% last month, the biggest monthly gain since September 2005, after advancing 1.0% in May. A 7.5% surge in energy prices accounted for nearly half of the increase in the CPI. Gasoline prices jumped 11.2% after rebounding by 4.1% in May. \n",
      "Natural gas prices rose 8.2%, the most since October 2005.  The cost of food consumed at home rose 1.0%, posting the sixth straight monthly increase of at least 1.0%.\n",
      "In the 12 months through June, the CPI jumped 9.1%. That was the biggest gain since November 1981 and followed an 8.6% rise in May. Economists polled by Reuters had forecast the CPI would rise 1.1% and accelerating 8.8% year-on-year. \n",
      "Consumer prices are surging, driven by snarled global supply chains and massive fiscal stimulus from governments early in the COVID-19 pandemic.\n",
      "The ongoing war in Ukraine, which has caused a spike in global food and fuel prices, has worsened the situation.\n",
      "President Biden sought to draw some comfort from the retreat in gasoline prices \n",
      "\"Those savings are providing important breathing room for American families,\" Biden said in a statement. \"And, other commodities like wheat have fallen sharply since this report.\"\n",
      "    Annual food prices are rising at their fastest pace since February 1981, with energy prices posting their largest jump in more than 42 years.\n",
      "    Financial markets overwhelmingly expect the Fed to raise its policy rate by 75 basis points at its July 26-27 meeting. \n",
      "The Bank of Canada surprised by hiking its policy rate by 100 basis points on Wednesday, a super-sized increase last seen in 1998. (\n",
      "The Fed has raised its overnight interest rate by 150 basis points since March. \n",
      "U.S. stocks were mixed. The dollar fell against a basket of currencies. U.S. Treasury prices rose.\n",
      "UNDERLYING INFLATION \n",
      "The economy created 372,000 jobs in June, with a broader measure of unemployment hitting a record low. (\n",
      "There had been hope that a shift in spending from goods to services would help cool inflation. But the very tight labor market is boosting wages, adding to higher prices for services.\n",
      "Underlying inflation pressures sizzled last month.    Excluding the volatile food and energy components, the CPI gained 0.7% in June after climbing 0.6% in May. The so-called core CPI was lifted by the cost of rent, which shot up 0.8%, the largest monthly increase since April 1986. \n",
      "Rents are one of the largest and stickiest inflation categories, which raises the risk of the Fed maintaining its aggressive rate hikes into the second-half of the year.\n",
      "\"There remain miles to go before getting back toward anything resembling price stability,\" said Sarah House, a senior economist at Wells Fargo in Charlotte, North Carolina.\n",
      "New vehicle prices maintained their upward trend as did those for used cars and trucks. The cost of motor vehicle maintenance and repairs surged 2.0%, the most since September 1974. Healthcare costs rose 0.7%, with a record increase in the cost of dental services. \n",
      "Apparel prices increased 0.8%, despite retailers like Walmart \n",
      "The core CPI increased 5.9% in the 12 months through June. That followed a 6.0% rise in the 12 months through May \n",
      "High inflation is eroding wage gains, which together with rising borrowing costs could crimp consumer spending, leaving economists to expect a mild recession at the turn of the year. Inflation-adjusted average weekly earning fell 1.0% in June.\n",
      " (Reporting by Lucia Mutikani; Editing by Chizu Nomiyama and Paul Simao)\n",
      "(( \n",
      "(c) Copyright Thomson Reuters 2022. Click For Restrictions - https://agency.reuters.com/en/copyright.html\n",
      "Keywords: USA-ECONOMY/ (WRAPUP 2, PIX, GRAPHICS)\n"
     ]
    }
   ],
   "source": [
    "text = rd.news.get_story(\"urn:newsml:reuters.com:20220713:nL1N2YU10J\", format=rd.news.Format.TEXT)\n",
    "print(text)"
   ]
  },
  {
   "cell_type": "markdown",
   "id": "5927b518",
   "metadata": {},
   "source": [
    "### Close the session"
   ]
  },
  {
   "cell_type": "code",
   "execution_count": 7,
   "id": "a3284410",
   "metadata": {},
   "outputs": [],
   "source": [
    "rd.close_session()"
   ]
  },
  {
   "cell_type": "code",
   "execution_count": null,
   "id": "9110fb0b-f565-4e25-bf46-b7af1e46a507",
   "metadata": {},
   "outputs": [],
   "source": []
  }
 ],
 "metadata": {
  "kernelspec": {
   "display_name": "Python 3 (ipykernel)",
   "language": "python",
   "name": "python3"
  },
  "language_info": {
   "codemirror_mode": {
    "name": "ipython",
    "version": 3
   },
   "file_extension": ".py",
   "mimetype": "text/x-python",
   "name": "python",
   "nbconvert_exporter": "python",
   "pygments_lexer": "ipython3",
   "version": "3.9.7"
  }
 },
 "nbformat": 4,
 "nbformat_minor": 5
}
