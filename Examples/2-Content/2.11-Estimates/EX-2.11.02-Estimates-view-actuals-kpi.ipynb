{
 "cells": [
  {
   "cell_type": "markdown",
   "source": [
    "----\n",
    "<img src=\"../../../files/refinitiv.png\" width=\"20%\" style=\"vertical-align: top;\">\n",
    "\n",
    "# Data Library for Python\n",
    "\n",
    "----"
   ],
   "metadata": {
    "collapsed": false
   }
  },
  {
   "cell_type": "markdown",
   "source": [
    "This notebook demonstrates how to work with Estimates API db from Refinitiv Data Library."
   ],
   "metadata": {
    "collapsed": false
   }
  },
  {
   "cell_type": "markdown",
   "source": [
    "#### Learn more\n",
    "\n",
    "To learn more about the Refinitiv Data Library for Python please join the Refinitiv Developer Community. By [registering](https://developers.refinitiv.com/iam/register) and [logging](https://developers.refinitiv.com/content/devportal/en_us/initCookie.html) into the Refinitiv Developer Community portal you will have free access to a number of learning materials like\n",
    " [Quick Start guides](https://developers.refinitiv.com/en/api-catalog/refinitiv-data-platform/refinitiv-data-library-for-python/quick-start),\n",
    " [Tutorials](https://developers.refinitiv.com/en/api-catalog/refinitiv-data-platform/refinitiv-data-library-for-python/learning),\n",
    " [Documentation](https://developers.refinitiv.com/en/api-catalog/refinitiv-data-platform/refinitiv-data-library-for-python/docs)\n",
    " and much more.\n",
    "\n",
    "#### Getting Help and Support\n",
    "\n",
    "If you have any questions regarding using the API, please post them on\n",
    "the [Refinitiv Data Q&A Forum](https://community.developers.refinitiv.com/spaces/321/index.html).\n",
    "The Refinitiv Developer Community will be happy to help."
   ],
   "metadata": {
    "collapsed": false
   }
  },
  {
   "cell_type": "markdown",
   "source": [
    "## Set the configuration file location\n",
    "For a better ease of use, you have the option to set initialization parameters of the Refinitiv Data Library in the _refinitiv-data.config.json_ configuration file. This file must be located beside your notebook, in your user folder or in a folder defined by the _RD_LIB_CONFIG_PATH_ environment variable. The _RD_LIB_CONFIG_PATH_ environment variable is the option used by this series of examples. The following code sets this environment variable."
   ],
   "metadata": {
    "collapsed": false
   }
  },
  {
   "cell_type": "code",
   "execution_count": 1,
   "outputs": [],
   "source": [
    "import os\n",
    "os.environ[\"RD_LIB_CONFIG_PATH\"] = \"../../../Configuration\""
   ],
   "metadata": {
    "collapsed": false,
    "pycharm": {
     "name": "#%%\n"
    }
   }
  },
  {
   "cell_type": "markdown",
   "source": [
    "## Some Imports to start with"
   ],
   "metadata": {
    "collapsed": false,
    "pycharm": {
     "name": "#%% md\n"
    }
   }
  },
  {
   "cell_type": "code",
   "execution_count": 2,
   "outputs": [],
   "source": [
    "import refinitiv.data as rd\n",
    "from refinitiv.data.content import estimates"
   ],
   "metadata": {
    "collapsed": false,
    "pycharm": {
     "name": "#%%\n"
    }
   }
  },
  {
   "cell_type": "markdown",
   "source": [
    "## Open the data session\n",
    "\n",
    "The open_session() function creates and open sessions based on the information contained in the refinitiv-data.config.json configuration file. Please edit this file to set the session type and other parameters required for the session you want to open."
   ],
   "metadata": {
    "collapsed": false
   }
  },
  {
   "cell_type": "code",
   "execution_count": 3,
   "outputs": [
    {
     "ename": "NameError",
     "evalue": "Cannot open session platform.rdp\nThis session is not defined in the default configuration file",
     "output_type": "error",
     "traceback": [
      "\u001B[1;31m---------------------------------------------------------------------------\u001B[0m",
      "\u001B[1;31mKeyError\u001B[0m                                  Traceback (most recent call last)",
      "File \u001B[1;32m~\\workspace\\lseg\\refinitiv-data\\.venv-py39-edev\\lib\\site-packages\\refinitiv\\data\\_data\\configure.py:295\u001B[0m, in \u001B[0;36m_RDPConfig.get_param\u001B[1;34m(self, param)\u001B[0m\n\u001B[0;32m    294\u001B[0m \u001B[38;5;28;01mtry\u001B[39;00m:\n\u001B[1;32m--> 295\u001B[0m     \u001B[38;5;28;01mreturn\u001B[39;00m \u001B[38;5;28;43mself\u001B[39;49m\u001B[43m[\u001B[49m\u001B[43mparam\u001B[49m\u001B[43m]\u001B[49m\n\u001B[0;32m    296\u001B[0m \u001B[38;5;28;01mexcept\u001B[39;00m \u001B[38;5;167;01mKeyError\u001B[39;00m:\n",
      "File \u001B[1;32m~\\workspace\\lseg\\refinitiv-data\\.venv-py39-edev\\lib\\site-packages\\config\\configuration_set.py:110\u001B[0m, in \u001B[0;36mConfigurationSet.__getitem__\u001B[1;34m(self, item)\u001B[0m\n\u001B[0;32m    109\u001B[0m \u001B[38;5;28;01mdef\u001B[39;00m \u001B[38;5;21m__getitem__\u001B[39m(\u001B[38;5;28mself\u001B[39m, item: \u001B[38;5;28mstr\u001B[39m) \u001B[38;5;241m-\u001B[39m\u001B[38;5;241m>\u001B[39m Union[Configuration, Any]:  \u001B[38;5;66;03m# noqa: D105\u001B[39;00m\n\u001B[1;32m--> 110\u001B[0m     \u001B[38;5;28;01mreturn\u001B[39;00m \u001B[38;5;28;43mself\u001B[39;49m\u001B[38;5;241;43m.\u001B[39;49m\u001B[43m_from_configs\u001B[49m\u001B[43m(\u001B[49m\u001B[38;5;124;43m\"\u001B[39;49m\u001B[38;5;124;43m__getitem__\u001B[39;49m\u001B[38;5;124;43m\"\u001B[39;49m\u001B[43m,\u001B[49m\u001B[43m \u001B[49m\u001B[43mitem\u001B[49m\u001B[43m)\u001B[49m\n",
      "File \u001B[1;32m~\\workspace\\lseg\\refinitiv-data\\.venv-py39-edev\\lib\\site-packages\\config\\configuration_set.py:67\u001B[0m, in \u001B[0;36mConfigurationSet._from_configs\u001B[1;34m(self, attr, *args, **kwargs)\u001B[0m\n\u001B[0;32m     65\u001B[0m \u001B[38;5;28;01mif\u001B[39;00m \u001B[38;5;129;01mnot\u001B[39;00m values:\n\u001B[0;32m     66\u001B[0m     \u001B[38;5;66;03m# raise the last error\u001B[39;00m\n\u001B[1;32m---> 67\u001B[0m     \u001B[38;5;28;01mraise\u001B[39;00m last_err\n\u001B[0;32m     68\u001B[0m \u001B[38;5;28;01mif\u001B[39;00m \u001B[38;5;28mall\u001B[39m(\u001B[38;5;28misinstance\u001B[39m(v, Configuration) \u001B[38;5;28;01mfor\u001B[39;00m v \u001B[38;5;129;01min\u001B[39;00m values):\n",
      "File \u001B[1;32m~\\workspace\\lseg\\refinitiv-data\\.venv-py39-edev\\lib\\site-packages\\config\\configuration_set.py:61\u001B[0m, in \u001B[0;36mConfigurationSet._from_configs\u001B[1;34m(self, attr, *args, **kwargs)\u001B[0m\n\u001B[0;32m     60\u001B[0m \u001B[38;5;28;01mtry\u001B[39;00m:\n\u001B[1;32m---> 61\u001B[0m     values\u001B[38;5;241m.\u001B[39mappend(\u001B[38;5;28mgetattr\u001B[39m(config_, attr)(\u001B[38;5;241m*\u001B[39margs, \u001B[38;5;241m*\u001B[39m\u001B[38;5;241m*\u001B[39mkwargs))\n\u001B[0;32m     62\u001B[0m \u001B[38;5;28;01mexcept\u001B[39;00m \u001B[38;5;167;01mException\u001B[39;00m \u001B[38;5;28;01mas\u001B[39;00m err:\n",
      "File \u001B[1;32m~\\workspace\\lseg\\refinitiv-data\\.venv-py39-edev\\lib\\site-packages\\config\\configuration.py:155\u001B[0m, in \u001B[0;36mConfiguration.__getitem__\u001B[1;34m(self, item)\u001B[0m\n\u001B[0;32m    154\u001B[0m \u001B[38;5;28;01mif\u001B[39;00m v \u001B[38;5;241m==\u001B[39m {}:\n\u001B[1;32m--> 155\u001B[0m     \u001B[38;5;28;01mraise\u001B[39;00m \u001B[38;5;167;01mKeyError\u001B[39;00m(item)\n\u001B[0;32m    156\u001B[0m \u001B[38;5;28;01mif\u001B[39;00m \u001B[38;5;28misinstance\u001B[39m(v, \u001B[38;5;28mdict\u001B[39m):\n",
      "\u001B[1;31mKeyError\u001B[0m: 'sessions.platform.rdp'",
      "\nDuring handling of the above exception, another exception occurred:\n",
      "\u001B[1;31mAttributeError\u001B[0m                            Traceback (most recent call last)",
      "File \u001B[1;32m~\\workspace\\lseg\\refinitiv-data\\.venv-py39-edev\\lib\\site-packages\\refinitiv\\data\\_data\\fin_coder_layer\\session.py:74\u001B[0m, in \u001B[0;36m_open_session\u001B[1;34m(**kwargs)\u001B[0m\n\u001B[0;32m     73\u001B[0m \u001B[38;5;28;01mtry\u001B[39;00m:\n\u001B[1;32m---> 74\u001B[0m     \u001B[43m_config_object\u001B[49m\u001B[38;5;241;43m.\u001B[39;49m\u001B[43mget_param\u001B[49m\u001B[43m(\u001B[49m\u001B[38;5;124;43mf\u001B[39;49m\u001B[38;5;124;43m\"\u001B[39;49m\u001B[38;5;124;43msessions.\u001B[39;49m\u001B[38;5;132;43;01m{\u001B[39;49;00m\u001B[43mname\u001B[49m\u001B[38;5;132;43;01m}\u001B[39;49;00m\u001B[38;5;124;43m\"\u001B[39;49m\u001B[43m)\u001B[49m\n\u001B[0;32m     75\u001B[0m \u001B[38;5;28;01mexcept\u001B[39;00m \u001B[38;5;167;01mException\u001B[39;00m:\n",
      "File \u001B[1;32m~\\workspace\\lseg\\refinitiv-data\\.venv-py39-edev\\lib\\site-packages\\refinitiv\\data\\_data\\configure.py:297\u001B[0m, in \u001B[0;36m_RDPConfig.get_param\u001B[1;34m(self, param)\u001B[0m\n\u001B[0;32m    296\u001B[0m \u001B[38;5;28;01mexcept\u001B[39;00m \u001B[38;5;167;01mKeyError\u001B[39;00m:\n\u001B[1;32m--> 297\u001B[0m     \u001B[38;5;28;01mraise\u001B[39;00m \u001B[38;5;167;01mAttributeError\u001B[39;00m(\u001B[38;5;124mf\u001B[39m\u001B[38;5;124m\"\u001B[39m\u001B[38;5;124mConfig object doesn\u001B[39m\u001B[38;5;124m'\u001B[39m\u001B[38;5;124mt has \u001B[39m\u001B[38;5;124m'\u001B[39m\u001B[38;5;132;01m{\u001B[39;00mparam\u001B[38;5;132;01m}\u001B[39;00m\u001B[38;5;124m'\u001B[39m\u001B[38;5;124m attribute\u001B[39m\u001B[38;5;124m\"\u001B[39m)\n",
      "\u001B[1;31mAttributeError\u001B[0m: Config object doesn't has 'sessions.platform.rdp' attribute",
      "\nDuring handling of the above exception, another exception occurred:\n",
      "\u001B[1;31mNameError\u001B[0m                                 Traceback (most recent call last)",
      "Input \u001B[1;32mIn [3]\u001B[0m, in \u001B[0;36m<module>\u001B[1;34m\u001B[0m\n\u001B[1;32m----> 1\u001B[0m \u001B[43mrd\u001B[49m\u001B[38;5;241;43m.\u001B[39;49m\u001B[43mopen_session\u001B[49m\u001B[43m(\u001B[49m\u001B[38;5;124;43m\"\u001B[39;49m\u001B[38;5;124;43mplatform.rdp\u001B[39;49m\u001B[38;5;124;43m\"\u001B[39;49m\u001B[43m)\u001B[49m\n",
      "File \u001B[1;32m~\\workspace\\lseg\\refinitiv-data\\.venv-py39-edev\\lib\\site-packages\\refinitiv\\data\\_data\\fin_coder_layer\\session.py:42\u001B[0m, in \u001B[0;36mopen_session\u001B[1;34m(***failed resolving arguments***)\u001B[0m\n\u001B[0;32m     40\u001B[0m _config_object \u001B[38;5;241m=\u001B[39m get_config()\n\u001B[0;32m     41\u001B[0m _set_default \u001B[38;5;241m=\u001B[39m set_default\n\u001B[1;32m---> 42\u001B[0m \u001B[38;5;28;01mreturn\u001B[39;00m _open_session(\u001B[38;5;241m*\u001B[39m\u001B[38;5;241m*\u001B[39m\u001B[38;5;28mlocals\u001B[39m())\n",
      "File \u001B[1;32m~\\workspace\\lseg\\refinitiv-data\\.venv-py39-edev\\lib\\site-packages\\refinitiv\\data\\_data\\fin_coder_layer\\session.py:76\u001B[0m, in \u001B[0;36m_open_session\u001B[1;34m(**kwargs)\u001B[0m\n\u001B[0;32m     74\u001B[0m     _config_object\u001B[38;5;241m.\u001B[39mget_param(\u001B[38;5;124mf\u001B[39m\u001B[38;5;124m\"\u001B[39m\u001B[38;5;124msessions.\u001B[39m\u001B[38;5;132;01m{\u001B[39;00mname\u001B[38;5;132;01m}\u001B[39;00m\u001B[38;5;124m\"\u001B[39m)\n\u001B[0;32m     75\u001B[0m \u001B[38;5;28;01mexcept\u001B[39;00m \u001B[38;5;167;01mException\u001B[39;00m:\n\u001B[1;32m---> 76\u001B[0m     \u001B[38;5;28;01mraise\u001B[39;00m \u001B[38;5;167;01mNameError\u001B[39;00m(\n\u001B[0;32m     77\u001B[0m         \u001B[38;5;124mf\u001B[39m\u001B[38;5;124m\"\u001B[39m\u001B[38;5;124mCannot open session \u001B[39m\u001B[38;5;132;01m{\u001B[39;00mname\u001B[38;5;132;01m}\u001B[39;00m\u001B[38;5;130;01m\\n\u001B[39;00m\u001B[38;5;124m\"\u001B[39m\n\u001B[0;32m     78\u001B[0m         \u001B[38;5;124mf\u001B[39m\u001B[38;5;124m\"\u001B[39m\u001B[38;5;124mThis session is not defined in the \u001B[39m\u001B[38;5;132;01m{\u001B[39;00mconfig_name_for_err\u001B[38;5;132;01m}\u001B[39;00m\u001B[38;5;124m configuration file\u001B[39m\u001B[38;5;124m\"\u001B[39m\n\u001B[0;32m     79\u001B[0m     )\n\u001B[0;32m     81\u001B[0m \u001B[38;5;28;01mif\u001B[39;00m app_key:\n\u001B[0;32m     82\u001B[0m     _config_object\u001B[38;5;241m.\u001B[39mset_param(param\u001B[38;5;241m=\u001B[39m\u001B[38;5;124mf\u001B[39m\u001B[38;5;124m\"\u001B[39m\u001B[38;5;124msessions.\u001B[39m\u001B[38;5;132;01m{\u001B[39;00mname\u001B[38;5;132;01m}\u001B[39;00m\u001B[38;5;124m.app-key\u001B[39m\u001B[38;5;124m\"\u001B[39m, value\u001B[38;5;241m=\u001B[39mapp_key)\n",
      "\u001B[1;31mNameError\u001B[0m: Cannot open session platform.rdp\nThis session is not defined in the default configuration file"
     ]
    }
   ],
   "source": [
    "rd.open_session(\"platform.rdp\")"
   ],
   "metadata": {
    "collapsed": false,
    "pycharm": {
     "name": "#%%\n"
    }
   }
  },
  {
   "cell_type": "markdown",
   "source": [
    "### Retrieve Data"
   ],
   "metadata": {
    "collapsed": false
   }
  },
  {
   "cell_type": "markdown",
   "source": [
    "#### view_actuals_kpi - Annual"
   ],
   "metadata": {
    "collapsed": false
   }
  },
  {
   "cell_type": "code",
   "execution_count": null,
   "outputs": [],
   "source": [
    "response = estimates.view_actuals_kpi.annual.Definition(\"BNPP.PA\").get_data()\n",
    "response.data.df"
   ],
   "metadata": {
    "collapsed": false,
    "pycharm": {
     "name": "#%%\n"
    }
   }
  },
  {
   "cell_type": "markdown",
   "source": [
    "#### view_actuals_kpi - Interim"
   ],
   "metadata": {
    "collapsed": false
   }
  },
  {
   "cell_type": "code",
   "execution_count": null,
   "outputs": [],
   "source": [
    "response = estimates.view_actuals_kpi.interim.Definition(\"BNPP.PA\").get_data()\n",
    "response.data.df"
   ],
   "metadata": {
    "collapsed": false,
    "pycharm": {
     "name": "#%%\n"
    }
   }
  },
  {
   "cell_type": "markdown",
   "source": [
    "### Close the session"
   ],
   "metadata": {
    "collapsed": false
   }
  },
  {
   "cell_type": "code",
   "execution_count": null,
   "outputs": [],
   "source": [
    "rd.close_session()"
   ],
   "metadata": {
    "collapsed": false,
    "pycharm": {
     "name": "#%%\n"
    }
   }
  }
 ],
 "metadata": {
  "kernelspec": {
   "display_name": "Python 3 (ipykernel)",
   "language": "python",
   "name": "python3"
  },
  "language_info": {
   "codemirror_mode": {
    "name": "ipython",
    "version": 3
   },
   "file_extension": ".py",
   "mimetype": "text/x-python",
   "name": "python",
   "nbconvert_exporter": "python",
   "pygments_lexer": "ipython3",
   "version": "3.10.2"
  }
 },
 "nbformat": 4,
 "nbformat_minor": 1
}