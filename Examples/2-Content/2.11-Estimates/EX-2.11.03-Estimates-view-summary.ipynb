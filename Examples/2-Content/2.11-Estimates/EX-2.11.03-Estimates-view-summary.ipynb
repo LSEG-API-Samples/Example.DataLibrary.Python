{
 "cells": [
  {
   "cell_type": "markdown",
   "metadata": {
    "collapsed": true,
    "pycharm": {
     "name": "#%% md\n"
    }
   },
   "source": [
    "----\n",
    "<img src=\"../../../files/refinitiv.png\" width=\"20%\" style=\"vertical-align: top;\">\n",
    "\n",
    "# Data Library for Python\n",
    "\n",
    "----"
   ]
  },
  {
   "cell_type": "markdown",
   "source": [
    "This notebook demonstrates how to work with Estimates API db from Refinitiv Data Library."
   ],
   "metadata": {
    "collapsed": false
   }
  },
  {
   "cell_type": "markdown",
   "source": [
    "#### Learn more\n",
    "\n",
    "To learn more about the Refinitiv Data Library for Python please join the Refinitiv Developer Community. By [registering](https://developers.refinitiv.com/iam/register) and [logging](https://developers.refinitiv.com/content/devportal/en_us/initCookie.html) into the Refinitiv Developer Community portal you will have free access to a number of learning materials like\n",
    " [Quick Start guides](https://developers.refinitiv.com/en/api-catalog/refinitiv-data-platform/refinitiv-data-library-for-python/quick-start),\n",
    " [Tutorials](https://developers.refinitiv.com/en/api-catalog/refinitiv-data-platform/refinitiv-data-library-for-python/learning),\n",
    " [Documentation](https://developers.refinitiv.com/en/api-catalog/refinitiv-data-platform/refinitiv-data-library-for-python/docs)\n",
    " and much more.\n",
    "\n",
    "#### Getting Help and Support\n",
    "\n",
    "If you have any questions regarding using the API, please post them on\n",
    "the [Refinitiv Data Q&A Forum](https://community.developers.refinitiv.com/spaces/321/index.html).\n",
    "The Refinitiv Developer Community will be happy to help."
   ],
   "metadata": {
    "collapsed": false
   }
  },
  {
   "cell_type": "markdown",
   "source": [
    "## Set the configuration file location\n",
    "For a better ease of use, you have the option to set initialization parameters of the Refinitiv Data Library in the _refinitiv-data.config.json_ configuration file. This file must be located beside your notebook, in your user folder or in a folder defined by the _RD_LIB_CONFIG_PATH_ environment variable. The _RD_LIB_CONFIG_PATH_ environment variable is the option used by this series of examples. The following code sets this environment variable."
   ],
   "metadata": {
    "collapsed": false
   }
  },
  {
   "cell_type": "code",
   "execution_count": null,
   "outputs": [],
   "source": [
    "import os\n",
    "os.environ[\"RD_LIB_CONFIG_PATH\"] = \"../../../Configuration\""
   ],
   "metadata": {
    "collapsed": false,
    "pycharm": {
     "name": "#%%\n"
    }
   }
  },
  {
   "cell_type": "markdown",
   "source": [
    "## Some Imports to start with"
   ],
   "metadata": {
    "collapsed": false
   }
  },
  {
   "cell_type": "code",
   "execution_count": 12,
   "metadata": {
    "pycharm": {
     "name": "#%%\n"
    }
   },
   "outputs": [],
   "source": [
    "import refinitiv.data as rd\n",
    "from refinitiv.data.content import estimates\n",
    "from refinitiv.data.content.estimates import Package"
   ]
  },
  {
   "cell_type": "markdown",
   "source": [
    "## Open the data session\n",
    "\n",
    "The open_session() function creates and open sessions based on the information contained in the refinitiv-data.config.json configuration file. Please edit this file to set the session type and other parameters required for the session you want to open."
   ],
   "metadata": {
    "collapsed": false
   }
  },
  {
   "cell_type": "code",
   "execution_count": 13,
   "metadata": {
    "pycharm": {
     "name": "#%%\n"
    }
   },
   "outputs": [
    {
     "data": {
      "text/plain": "<refinitiv.data.session.platform.Definition object at 0x1d72a431cc0 {session_name='rdp'}>"
     },
     "execution_count": 13,
     "metadata": {},
     "output_type": "execute_result"
    }
   ],
   "source": [
    "rd.open_session(\"platform.rdp\")"
   ]
  },
  {
   "cell_type": "markdown",
   "metadata": {
    "pycharm": {
     "name": "#%% md\n"
    }
   },
   "source": [
    "### Retrieve Data"
   ]
  },
  {
   "cell_type": "markdown",
   "metadata": {},
   "source": [
    "#### view_summary - Annual"
   ]
  },
  {
   "cell_type": "code",
   "execution_count": 3,
   "metadata": {
    "pycharm": {
     "name": "#%%\n"
    }
   },
   "outputs": [
    {
     "data": {
      "text/plain": "  Instrument Period End Date Financial Period Absolute  \\\n0    BNPP.PA      2022-12-31                    FY2022   \n1    BNPP.PA      2023-12-31                    FY2023   \n\n  Financial Period Relative  EBIT - Mean EBIT - Median  EBIT - High  \\\n0                       FY1  14589684000   15258000000  15905000000   \n1                       FY2  14823413830   15322000000  16976000000   \n\n    EBIT - Low EBIT - Standard Deviation EBIT - Number of Estimates  ...  \\\n0  11781000000                1456493820                         14  ...   \n1  11673000000                1687482270                         13  ...   \n\n  Earnings Per Share - Standard Deviation  \\\n0                                 1.14331   \n1                                 0.99002   \n\n  Earnings Per Share - Number of Estimates  \\\n0                                       24   \n1                                       23   \n\n  Earnings Per Share - Number of Included Estimates Revenue - Mean  \\\n0                                                24    46610633840   \n1                                                23    46477669890   \n\n  Revenue - Median Revenue - High Revenue - Low Revenue - Standard Deviation  \\\n0      46537000000    47782855000   45832000000                    500623290   \n1      46151000000    49683303000   45200000000                   1151473540   \n\n  Revenue - Number of Estimates Revenue - Number of Included Estimates  \n0                            19                                     19  \n1                            18                                     18  \n\n[2 rows x 25 columns]",
      "text/html": "<div>\n<style scoped>\n    .dataframe tbody tr th:only-of-type {\n        vertical-align: middle;\n    }\n\n    .dataframe tbody tr th {\n        vertical-align: top;\n    }\n\n    .dataframe thead th {\n        text-align: right;\n    }\n</style>\n<table border=\"1\" class=\"dataframe\">\n  <thead>\n    <tr style=\"text-align: right;\">\n      <th></th>\n      <th>Instrument</th>\n      <th>Period End Date</th>\n      <th>Financial Period Absolute</th>\n      <th>Financial Period Relative</th>\n      <th>EBIT - Mean</th>\n      <th>EBIT - Median</th>\n      <th>EBIT - High</th>\n      <th>EBIT - Low</th>\n      <th>EBIT - Standard Deviation</th>\n      <th>EBIT - Number of Estimates</th>\n      <th>...</th>\n      <th>Earnings Per Share - Standard Deviation</th>\n      <th>Earnings Per Share - Number of Estimates</th>\n      <th>Earnings Per Share - Number of Included Estimates</th>\n      <th>Revenue - Mean</th>\n      <th>Revenue - Median</th>\n      <th>Revenue - High</th>\n      <th>Revenue - Low</th>\n      <th>Revenue - Standard Deviation</th>\n      <th>Revenue - Number of Estimates</th>\n      <th>Revenue - Number of Included Estimates</th>\n    </tr>\n  </thead>\n  <tbody>\n    <tr>\n      <th>0</th>\n      <td>BNPP.PA</td>\n      <td>2022-12-31</td>\n      <td>FY2022</td>\n      <td>FY1</td>\n      <td>14589684000</td>\n      <td>15258000000</td>\n      <td>15905000000</td>\n      <td>11781000000</td>\n      <td>1456493820</td>\n      <td>14</td>\n      <td>...</td>\n      <td>1.14331</td>\n      <td>24</td>\n      <td>24</td>\n      <td>46610633840</td>\n      <td>46537000000</td>\n      <td>47782855000</td>\n      <td>45832000000</td>\n      <td>500623290</td>\n      <td>19</td>\n      <td>19</td>\n    </tr>\n    <tr>\n      <th>1</th>\n      <td>BNPP.PA</td>\n      <td>2023-12-31</td>\n      <td>FY2023</td>\n      <td>FY2</td>\n      <td>14823413830</td>\n      <td>15322000000</td>\n      <td>16976000000</td>\n      <td>11673000000</td>\n      <td>1687482270</td>\n      <td>13</td>\n      <td>...</td>\n      <td>0.99002</td>\n      <td>23</td>\n      <td>23</td>\n      <td>46477669890</td>\n      <td>46151000000</td>\n      <td>49683303000</td>\n      <td>45200000000</td>\n      <td>1151473540</td>\n      <td>18</td>\n      <td>18</td>\n    </tr>\n  </tbody>\n</table>\n<p>2 rows × 25 columns</p>\n</div>"
     },
     "execution_count": 3,
     "metadata": {},
     "output_type": "execute_result"
    }
   ],
   "source": [
    "response = estimates.view_summary.annual.Definition(\"BNPP.PA\", Package.BASIC).get_data()\n",
    "response.data.df"
   ]
  },
  {
   "cell_type": "markdown",
   "metadata": {},
   "source": [
    "#### view_summary - Historical snapshots non-periodic measures"
   ]
  },
  {
   "cell_type": "code",
   "execution_count": 4,
   "metadata": {
    "pycharm": {
     "name": "#%%\n"
    }
   },
   "outputs": [
    {
     "data": {
      "text/plain": "  Instrument Price Target - Current Price Target - 1 Week Ago  \\\n0    BNPP.PA                73.0381                  70.02676   \n\n  Price Target - 1 Month Ago Price Target - 2 Months Ago  \\\n0                    65.9016                    65.06343   \n\n  Price Target - 3 Months Ago Price Target - 4 Months Ago  \\\n0                    63.68248                      62.195   \n\n  Price Target - 5 Months Ago Price Target - 6 Months Ago  \\\n0                       61.83                    60.57191   \n\n  Price Target - 7 Months Ago  ... Long Term Growth - 3 Months Ago  \\\n0                    59.98143  ...                          11.478   \n\n  Long Term Growth - 4 Months Ago Long Term Growth - 5 Months Ago  \\\n0                        11.33733                        11.33733   \n\n  Long Term Growth - 6 Months Ago Long Term Growth - 7 Months Ago  \\\n0                          10.913                          10.913   \n\n  Long Term Growth - 8 Months Ago Long Term Growth - 9 Months Ago  \\\n0                          10.963                           4.044   \n\n  Long Term Growth - 10 Months Ago Long Term Growth - 11 Months Ago  \\\n0                         -0.31933                         -3.31367   \n\n  Long Term Growth - 12 Months Ago  \n0                         -3.31367  \n\n[1 rows x 29 columns]",
      "text/html": "<div>\n<style scoped>\n    .dataframe tbody tr th:only-of-type {\n        vertical-align: middle;\n    }\n\n    .dataframe tbody tr th {\n        vertical-align: top;\n    }\n\n    .dataframe thead th {\n        text-align: right;\n    }\n</style>\n<table border=\"1\" class=\"dataframe\">\n  <thead>\n    <tr style=\"text-align: right;\">\n      <th></th>\n      <th>Instrument</th>\n      <th>Price Target - Current</th>\n      <th>Price Target - 1 Week Ago</th>\n      <th>Price Target - 1 Month Ago</th>\n      <th>Price Target - 2 Months Ago</th>\n      <th>Price Target - 3 Months Ago</th>\n      <th>Price Target - 4 Months Ago</th>\n      <th>Price Target - 5 Months Ago</th>\n      <th>Price Target - 6 Months Ago</th>\n      <th>Price Target - 7 Months Ago</th>\n      <th>...</th>\n      <th>Long Term Growth - 3 Months Ago</th>\n      <th>Long Term Growth - 4 Months Ago</th>\n      <th>Long Term Growth - 5 Months Ago</th>\n      <th>Long Term Growth - 6 Months Ago</th>\n      <th>Long Term Growth - 7 Months Ago</th>\n      <th>Long Term Growth - 8 Months Ago</th>\n      <th>Long Term Growth - 9 Months Ago</th>\n      <th>Long Term Growth - 10 Months Ago</th>\n      <th>Long Term Growth - 11 Months Ago</th>\n      <th>Long Term Growth - 12 Months Ago</th>\n    </tr>\n  </thead>\n  <tbody>\n    <tr>\n      <th>0</th>\n      <td>BNPP.PA</td>\n      <td>73.0381</td>\n      <td>70.02676</td>\n      <td>65.9016</td>\n      <td>65.06343</td>\n      <td>63.68248</td>\n      <td>62.195</td>\n      <td>61.83</td>\n      <td>60.57191</td>\n      <td>59.98143</td>\n      <td>...</td>\n      <td>11.478</td>\n      <td>11.33733</td>\n      <td>11.33733</td>\n      <td>10.913</td>\n      <td>10.913</td>\n      <td>10.963</td>\n      <td>4.044</td>\n      <td>-0.31933</td>\n      <td>-3.31367</td>\n      <td>-3.31367</td>\n    </tr>\n  </tbody>\n</table>\n<p>1 rows × 29 columns</p>\n</div>"
     },
     "execution_count": 4,
     "metadata": {},
     "output_type": "execute_result"
    }
   ],
   "source": [
    "response = estimates.view_summary.historical_snapshots_non_periodic_measures.Definition(\"BNPP.PA\", Package.BASIC).get_data()\n",
    "response.data.df"
   ]
  },
  {
   "cell_type": "code",
   "execution_count": 14,
   "outputs": [
    {
     "data": {
      "text/plain": "  instrument TR.PriceTargetMean TR.PriceTargetMean TR.PriceTargetMean  \\\n0    BNPP.PA            73.0381           70.02676            65.9016   \n\n  TR.PriceTargetMean TR.PriceTargetMean TR.PriceTargetMean TR.PriceTargetMean  \\\n0           65.06343           63.68248             62.195              61.83   \n\n  TR.PriceTargetMean TR.PriceTargetMean  ... TR.LTGMean TR.LTGMean TR.LTGMean  \\\n0           60.57191           59.98143  ...     11.478   11.33733   11.33733   \n\n  TR.LTGMean TR.LTGMean TR.LTGMean TR.LTGMean TR.LTGMean TR.LTGMean TR.LTGMean  \n0     10.913     10.913     10.963      4.044   -0.31933   -3.31367   -3.31367  \n\n[1 rows x 29 columns]",
      "text/html": "<div>\n<style scoped>\n    .dataframe tbody tr th:only-of-type {\n        vertical-align: middle;\n    }\n\n    .dataframe tbody tr th {\n        vertical-align: top;\n    }\n\n    .dataframe thead th {\n        text-align: right;\n    }\n</style>\n<table border=\"1\" class=\"dataframe\">\n  <thead>\n    <tr style=\"text-align: right;\">\n      <th></th>\n      <th>instrument</th>\n      <th>TR.PriceTargetMean</th>\n      <th>TR.PriceTargetMean</th>\n      <th>TR.PriceTargetMean</th>\n      <th>TR.PriceTargetMean</th>\n      <th>TR.PriceTargetMean</th>\n      <th>TR.PriceTargetMean</th>\n      <th>TR.PriceTargetMean</th>\n      <th>TR.PriceTargetMean</th>\n      <th>TR.PriceTargetMean</th>\n      <th>...</th>\n      <th>TR.LTGMean</th>\n      <th>TR.LTGMean</th>\n      <th>TR.LTGMean</th>\n      <th>TR.LTGMean</th>\n      <th>TR.LTGMean</th>\n      <th>TR.LTGMean</th>\n      <th>TR.LTGMean</th>\n      <th>TR.LTGMean</th>\n      <th>TR.LTGMean</th>\n      <th>TR.LTGMean</th>\n    </tr>\n  </thead>\n  <tbody>\n    <tr>\n      <th>0</th>\n      <td>BNPP.PA</td>\n      <td>73.0381</td>\n      <td>70.02676</td>\n      <td>65.9016</td>\n      <td>65.06343</td>\n      <td>63.68248</td>\n      <td>62.195</td>\n      <td>61.83</td>\n      <td>60.57191</td>\n      <td>59.98143</td>\n      <td>...</td>\n      <td>11.478</td>\n      <td>11.33733</td>\n      <td>11.33733</td>\n      <td>10.913</td>\n      <td>10.913</td>\n      <td>10.963</td>\n      <td>4.044</td>\n      <td>-0.31933</td>\n      <td>-3.31367</td>\n      <td>-3.31367</td>\n    </tr>\n  </tbody>\n</table>\n<p>1 rows × 29 columns</p>\n</div>"
     },
     "execution_count": 14,
     "metadata": {},
     "output_type": "execute_result"
    }
   ],
   "source": [
    "response = estimates.view_summary.historical_snapshots_non_periodic_measures.Definition(\"BNPP.PA\", Package.BASIC).get_data()\n",
    "response.data.df"
   ],
   "metadata": {
    "collapsed": false,
    "pycharm": {
     "name": "#%%\n"
    }
   }
  },
  {
   "cell_type": "code",
   "execution_count": 15,
   "outputs": [
    {
     "data": {
      "text/plain": "{'links': {'count': 1},\n 'variability': 'fixed',\n 'universe': [{'Instrument': 'BNPP.PA',\n   'Organization PermID': '8589934326',\n   'Company Common Name': 'BNP Paribas SA',\n   'Pricing Currency': ''}],\n 'data': [['BNPP.PA',\n   73.0381,\n   70.02676,\n   65.9016,\n   65.06343,\n   63.68248,\n   62.195,\n   61.83,\n   60.57191,\n   59.98143,\n   58.82429,\n   56.6605,\n   54.6105,\n   51.4055,\n   49.2155,\n   8.65575,\n   12.49525,\n   12.27275,\n   12.26375,\n   11.478,\n   11.33733,\n   11.33733,\n   10.913,\n   10.913,\n   10.963,\n   4.044,\n   -0.31933,\n   -3.31367,\n   -3.31367]],\n 'headers': [{'name': 'instrument',\n   'title': 'Instrument',\n   'type': 'string',\n   'description': 'The requested Instrument as defined by the user.'},\n  {'name': 'TR.PriceTargetMean',\n   'title': 'Price Target - Current',\n   'type': 'number',\n   'decimalChar': '.',\n   'description': 'The statistical average of all broker estimates determined to be on the majority accounting basis. Price Target is the projected price level forecasted by the analyst within a specific time horizon.'},\n  {'name': 'TR.PriceTargetMean',\n   'title': 'Price Target - 1 Week Ago',\n   'type': 'number',\n   'decimalChar': '.',\n   'description': 'The statistical average of all broker estimates determined to be on the majority accounting basis. Price Target is the projected price level forecasted by the analyst within a specific time horizon.'},\n  {'name': 'TR.PriceTargetMean',\n   'title': 'Price Target - 1 Month Ago',\n   'type': 'number',\n   'decimalChar': '.',\n   'description': 'The statistical average of all broker estimates determined to be on the majority accounting basis. Price Target is the projected price level forecasted by the analyst within a specific time horizon.'},\n  {'name': 'TR.PriceTargetMean',\n   'title': 'Price Target - 2 Months Ago',\n   'type': 'number',\n   'decimalChar': '.',\n   'description': 'The statistical average of all broker estimates determined to be on the majority accounting basis. Price Target is the projected price level forecasted by the analyst within a specific time horizon.'},\n  {'name': 'TR.PriceTargetMean',\n   'title': 'Price Target - 3 Months Ago',\n   'type': 'number',\n   'decimalChar': '.',\n   'description': 'The statistical average of all broker estimates determined to be on the majority accounting basis. Price Target is the projected price level forecasted by the analyst within a specific time horizon.'},\n  {'name': 'TR.PriceTargetMean',\n   'title': 'Price Target - 4 Months Ago',\n   'type': 'number',\n   'decimalChar': '.',\n   'description': 'The statistical average of all broker estimates determined to be on the majority accounting basis. Price Target is the projected price level forecasted by the analyst within a specific time horizon.'},\n  {'name': 'TR.PriceTargetMean',\n   'title': 'Price Target - 5 Months Ago',\n   'type': 'number',\n   'decimalChar': '.',\n   'description': 'The statistical average of all broker estimates determined to be on the majority accounting basis. Price Target is the projected price level forecasted by the analyst within a specific time horizon.'},\n  {'name': 'TR.PriceTargetMean',\n   'title': 'Price Target - 6 Months Ago',\n   'type': 'number',\n   'decimalChar': '.',\n   'description': 'The statistical average of all broker estimates determined to be on the majority accounting basis. Price Target is the projected price level forecasted by the analyst within a specific time horizon.'},\n  {'name': 'TR.PriceTargetMean',\n   'title': 'Price Target - 7 Months Ago',\n   'type': 'number',\n   'decimalChar': '.',\n   'description': 'The statistical average of all broker estimates determined to be on the majority accounting basis. Price Target is the projected price level forecasted by the analyst within a specific time horizon.'},\n  {'name': 'TR.PriceTargetMean',\n   'title': 'Price Target - 8 Months Ago',\n   'type': 'number',\n   'decimalChar': '.',\n   'description': 'The statistical average of all broker estimates determined to be on the majority accounting basis. Price Target is the projected price level forecasted by the analyst within a specific time horizon.'},\n  {'name': 'TR.PriceTargetMean',\n   'title': 'Price Target - 9 Months Ago',\n   'type': 'number',\n   'decimalChar': '.',\n   'description': 'The statistical average of all broker estimates determined to be on the majority accounting basis. Price Target is the projected price level forecasted by the analyst within a specific time horizon.'},\n  {'name': 'TR.PriceTargetMean',\n   'title': 'Price Target - 10 Months Ago',\n   'type': 'number',\n   'decimalChar': '.',\n   'description': 'The statistical average of all broker estimates determined to be on the majority accounting basis. Price Target is the projected price level forecasted by the analyst within a specific time horizon.'},\n  {'name': 'TR.PriceTargetMean',\n   'title': 'Price Target - 11 Months Ago',\n   'type': 'number',\n   'decimalChar': '.',\n   'description': 'The statistical average of all broker estimates determined to be on the majority accounting basis. Price Target is the projected price level forecasted by the analyst within a specific time horizon.'},\n  {'name': 'TR.PriceTargetMean',\n   'title': 'Price Target - 12 Months Ago',\n   'type': 'number',\n   'decimalChar': '.',\n   'description': 'The statistical average of all broker estimates determined to be on the majority accounting basis. Price Target is the projected price level forecasted by the analyst within a specific time horizon.'},\n  {'name': 'TR.LTGMean',\n   'title': 'Long Term Growth - Current',\n   'type': 'number',\n   'decimalChar': '.',\n   'description': 'The statistical average of all broker estimates determined to be on the majority accounting basis. Long-term growth is an estimate of the compound average rate of EPS growth an analyst expects over a period of three to five years.'},\n  {'name': 'TR.LTGMean',\n   'title': 'Long Term Growth - 1 Week Ago',\n   'type': 'number',\n   'decimalChar': '.',\n   'description': 'The statistical average of all broker estimates determined to be on the majority accounting basis. Long-term growth is an estimate of the compound average rate of EPS growth an analyst expects over a period of three to five years.'},\n  {'name': 'TR.LTGMean',\n   'title': 'Long Term Growth - 1 Month Ago',\n   'type': 'number',\n   'decimalChar': '.',\n   'description': 'The statistical average of all broker estimates determined to be on the majority accounting basis. Long-term growth is an estimate of the compound average rate of EPS growth an analyst expects over a period of three to five years.'},\n  {'name': 'TR.LTGMean',\n   'title': 'Long Term Growth - 2 Months Ago',\n   'type': 'number',\n   'decimalChar': '.',\n   'description': 'The statistical average of all broker estimates determined to be on the majority accounting basis. Long-term growth is an estimate of the compound average rate of EPS growth an analyst expects over a period of three to five years.'},\n  {'name': 'TR.LTGMean',\n   'title': 'Long Term Growth - 3 Months Ago',\n   'type': 'number',\n   'decimalChar': '.',\n   'description': 'The statistical average of all broker estimates determined to be on the majority accounting basis. Long-term growth is an estimate of the compound average rate of EPS growth an analyst expects over a period of three to five years.'},\n  {'name': 'TR.LTGMean',\n   'title': 'Long Term Growth - 4 Months Ago',\n   'type': 'number',\n   'decimalChar': '.',\n   'description': 'The statistical average of all broker estimates determined to be on the majority accounting basis. Long-term growth is an estimate of the compound average rate of EPS growth an analyst expects over a period of three to five years.'},\n  {'name': 'TR.LTGMean',\n   'title': 'Long Term Growth - 5 Months Ago',\n   'type': 'number',\n   'decimalChar': '.',\n   'description': 'The statistical average of all broker estimates determined to be on the majority accounting basis. Long-term growth is an estimate of the compound average rate of EPS growth an analyst expects over a period of three to five years.'},\n  {'name': 'TR.LTGMean',\n   'title': 'Long Term Growth - 6 Months Ago',\n   'type': 'number',\n   'decimalChar': '.',\n   'description': 'The statistical average of all broker estimates determined to be on the majority accounting basis. Long-term growth is an estimate of the compound average rate of EPS growth an analyst expects over a period of three to five years.'},\n  {'name': 'TR.LTGMean',\n   'title': 'Long Term Growth - 7 Months Ago',\n   'type': 'number',\n   'decimalChar': '.',\n   'description': 'The statistical average of all broker estimates determined to be on the majority accounting basis. Long-term growth is an estimate of the compound average rate of EPS growth an analyst expects over a period of three to five years.'},\n  {'name': 'TR.LTGMean',\n   'title': 'Long Term Growth - 8 Months Ago',\n   'type': 'number',\n   'decimalChar': '.',\n   'description': 'The statistical average of all broker estimates determined to be on the majority accounting basis. Long-term growth is an estimate of the compound average rate of EPS growth an analyst expects over a period of three to five years.'},\n  {'name': 'TR.LTGMean',\n   'title': 'Long Term Growth - 9 Months Ago',\n   'type': 'number',\n   'decimalChar': '.',\n   'description': 'The statistical average of all broker estimates determined to be on the majority accounting basis. Long-term growth is an estimate of the compound average rate of EPS growth an analyst expects over a period of three to five years.'},\n  {'name': 'TR.LTGMean',\n   'title': 'Long Term Growth - 10 Months Ago',\n   'type': 'number',\n   'decimalChar': '.',\n   'description': 'The statistical average of all broker estimates determined to be on the majority accounting basis. Long-term growth is an estimate of the compound average rate of EPS growth an analyst expects over a period of three to five years.'},\n  {'name': 'TR.LTGMean',\n   'title': 'Long Term Growth - 11 Months Ago',\n   'type': 'number',\n   'decimalChar': '.',\n   'description': 'The statistical average of all broker estimates determined to be on the majority accounting basis. Long-term growth is an estimate of the compound average rate of EPS growth an analyst expects over a period of three to five years.'},\n  {'name': 'TR.LTGMean',\n   'title': 'Long Term Growth - 12 Months Ago',\n   'type': 'number',\n   'decimalChar': '.',\n   'description': 'The statistical average of all broker estimates determined to be on the majority accounting basis. Long-term growth is an estimate of the compound average rate of EPS growth an analyst expects over a period of three to five years.'}]}"
     },
     "execution_count": 15,
     "metadata": {},
     "output_type": "execute_result"
    }
   ],
   "source": [
    "response.data.raw"
   ],
   "metadata": {
    "collapsed": false,
    "pycharm": {
     "name": "#%%\n"
    }
   }
  },
  {
   "cell_type": "markdown",
   "metadata": {},
   "source": [
    "#### view_summary - Historical snapshots periodic measures annual"
   ]
  },
  {
   "cell_type": "code",
   "execution_count": 5,
   "metadata": {
    "pycharm": {
     "name": "#%%\n"
    }
   },
   "outputs": [
    {
     "data": {
      "text/plain": "  Instrument Period End Date Financial Period Relative  \\\n0    BNPP.PA      2023-12-31                       FY2   \n1    BNPP.PA      2022-12-31                       FY1   \n\n  Financial Period Absolute Earnings Per Share - Current  \\\n0                    FY2023                      7.64487   \n1                    FY2022                      7.29517   \n\n  Earnings Per Share -  1 Week Ago Earnings Per Share -  1 Month Ago  \\\n0                          7.52967                           7.36235   \n1                          7.36867                           7.05948   \n\n  Earnings Per Share -  2 Months Ago Earnings Per Share -  3 Months Ago  \\\n0                            7.30215                             7.1042   \n1                              6.832                            6.66661   \n\n  Earnings Per Share -  4 Months Ago  ... Revenue - 3 Months Ago  \\\n0                            7.05953  ...            47656472180   \n1                            6.53391  ...            46547335720   \n\n  Revenue - 4 Months Ago Revenue - 5 Months Ago Revenue - 6 Months Ago  \\\n0            47593916110            47497375170            47192476000   \n1            46491242580            46400959110            46069758610   \n\n  Revenue - 7 Months Ago Revenue - 8 Months Ago Revenue - 9 Months Ago  \\\n0            47138190650            47103347730            46786345130   \n1            46046249670            46019070630            45764641440   \n\n  Revenue - 10 Months Ago Revenue - 11 Months Ago Revenue - 12 Months Ago  \n0             46653026640             46738271910             46776454330  \n1             45725198940             45446063190             45392577590  \n\n[2 rows x 32 columns]",
      "text/html": "<div>\n<style scoped>\n    .dataframe tbody tr th:only-of-type {\n        vertical-align: middle;\n    }\n\n    .dataframe tbody tr th {\n        vertical-align: top;\n    }\n\n    .dataframe thead th {\n        text-align: right;\n    }\n</style>\n<table border=\"1\" class=\"dataframe\">\n  <thead>\n    <tr style=\"text-align: right;\">\n      <th></th>\n      <th>Instrument</th>\n      <th>Period End Date</th>\n      <th>Financial Period Relative</th>\n      <th>Financial Period Absolute</th>\n      <th>Earnings Per Share - Current</th>\n      <th>Earnings Per Share -  1 Week Ago</th>\n      <th>Earnings Per Share -  1 Month Ago</th>\n      <th>Earnings Per Share -  2 Months Ago</th>\n      <th>Earnings Per Share -  3 Months Ago</th>\n      <th>Earnings Per Share -  4 Months Ago</th>\n      <th>...</th>\n      <th>Revenue - 3 Months Ago</th>\n      <th>Revenue - 4 Months Ago</th>\n      <th>Revenue - 5 Months Ago</th>\n      <th>Revenue - 6 Months Ago</th>\n      <th>Revenue - 7 Months Ago</th>\n      <th>Revenue - 8 Months Ago</th>\n      <th>Revenue - 9 Months Ago</th>\n      <th>Revenue - 10 Months Ago</th>\n      <th>Revenue - 11 Months Ago</th>\n      <th>Revenue - 12 Months Ago</th>\n    </tr>\n  </thead>\n  <tbody>\n    <tr>\n      <th>0</th>\n      <td>BNPP.PA</td>\n      <td>2023-12-31</td>\n      <td>FY2</td>\n      <td>FY2023</td>\n      <td>7.64487</td>\n      <td>7.52967</td>\n      <td>7.36235</td>\n      <td>7.30215</td>\n      <td>7.1042</td>\n      <td>7.05953</td>\n      <td>...</td>\n      <td>47656472180</td>\n      <td>47593916110</td>\n      <td>47497375170</td>\n      <td>47192476000</td>\n      <td>47138190650</td>\n      <td>47103347730</td>\n      <td>46786345130</td>\n      <td>46653026640</td>\n      <td>46738271910</td>\n      <td>46776454330</td>\n    </tr>\n    <tr>\n      <th>1</th>\n      <td>BNPP.PA</td>\n      <td>2022-12-31</td>\n      <td>FY1</td>\n      <td>FY2022</td>\n      <td>7.29517</td>\n      <td>7.36867</td>\n      <td>7.05948</td>\n      <td>6.832</td>\n      <td>6.66661</td>\n      <td>6.53391</td>\n      <td>...</td>\n      <td>46547335720</td>\n      <td>46491242580</td>\n      <td>46400959110</td>\n      <td>46069758610</td>\n      <td>46046249670</td>\n      <td>46019070630</td>\n      <td>45764641440</td>\n      <td>45725198940</td>\n      <td>45446063190</td>\n      <td>45392577590</td>\n    </tr>\n  </tbody>\n</table>\n<p>2 rows × 32 columns</p>\n</div>"
     },
     "execution_count": 5,
     "metadata": {},
     "output_type": "execute_result"
    }
   ],
   "source": [
    "response = estimates.view_summary.historical_snapshots_periodic_measures_annual.Definition(\"BNPP.PA\", Package.BASIC).get_data()\n",
    "response.data.df"
   ]
  },
  {
   "cell_type": "markdown",
   "metadata": {},
   "source": [
    "#### view_summary - Historical snapshots periodic measures interim"
   ]
  },
  {
   "cell_type": "code",
   "execution_count": 6,
   "metadata": {
    "pycharm": {
     "name": "#%%\n"
    }
   },
   "outputs": [
    {
     "data": {
      "text/plain": "  Instrument Period End Date Financial Period Relative  \\\n0    BNPP.PA      2022-06-30                       FQ2   \n1    BNPP.PA      2022-03-31                       FQ1   \n\n  Financial Period Absolute  \\\n0                  FY2022Q2   \n1                  FY2022Q1   \n\n  Earnings Before Interest, Taxes, Depreciation and Amortization -  1 Month Ago  \\\n0                                               None                              \n1                                               None                              \n\n  Earnings Before Interest, Taxes, Depreciation and Amortization -  2 Months Ago  \\\n0                                               None                               \n1                                               None                               \n\n  Earnings Before Interest, Taxes, Depreciation and Amortization -  3 Months Ago  \\\n0                                               None                               \n1                                               None                               \n\n  Earnings Before Interest, Taxes, Depreciation and Amortization -  4 Months Ago  \\\n0                                               None                               \n1                                               None                               \n\n  Earnings Before Interest, Taxes, Depreciation and Amortization -  5 Months Ago  \\\n0                                               None                               \n1                                               None                               \n\n  Earnings Before Interest, Taxes, Depreciation and Amortization -  6 Months Ago  \\\n0                                               None                               \n1                                               None                               \n\n  Earnings Before Interest, Taxes, Depreciation and Amortization -  7 Months Ago  \\\n0                                               None                               \n1                                               None                               \n\n  Earnings Before Interest, Taxes, Depreciation and Amortization -  8 Months Ago  \\\n0                                               None                               \n1                                               None                               \n\n  Earnings Before Interest, Taxes, Depreciation and Amortization -  9 Months Ago  \\\n0                                               None                               \n1                                               None                               \n\n  Earnings Before Interest, Taxes, Depreciation and Amortization -  10 Months Ago  \\\n0                                               None                                \n1                                               None                                \n\n  Earnings Before Interest, Taxes, Depreciation and Amortization -  11 Months Ago  \\\n0                                               None                                \n1                                               None                                \n\n  Earnings Before Interest, Taxes, Depreciation and Amortization -  12 Months Ago  \\\n0                                               None                                \n1                                               None                                \n\n   Earnings Per Share - Current  Earnings Per Share -  1 Week Ago  \\\n0                       2.11333                             2.175   \n1                       1.53333                             1.275   \n\n   Revenue -Current  Revenue - 1 Week Ago  \n0       12076956000           12076956000  \n1       11954732000           11954732000  ",
      "text/html": "<div>\n<style scoped>\n    .dataframe tbody tr th:only-of-type {\n        vertical-align: middle;\n    }\n\n    .dataframe tbody tr th {\n        vertical-align: top;\n    }\n\n    .dataframe thead th {\n        text-align: right;\n    }\n</style>\n<table border=\"1\" class=\"dataframe\">\n  <thead>\n    <tr style=\"text-align: right;\">\n      <th></th>\n      <th>Instrument</th>\n      <th>Period End Date</th>\n      <th>Financial Period Relative</th>\n      <th>Financial Period Absolute</th>\n      <th>Earnings Before Interest, Taxes, Depreciation and Amortization -  1 Month Ago</th>\n      <th>Earnings Before Interest, Taxes, Depreciation and Amortization -  2 Months Ago</th>\n      <th>Earnings Before Interest, Taxes, Depreciation and Amortization -  3 Months Ago</th>\n      <th>Earnings Before Interest, Taxes, Depreciation and Amortization -  4 Months Ago</th>\n      <th>Earnings Before Interest, Taxes, Depreciation and Amortization -  5 Months Ago</th>\n      <th>Earnings Before Interest, Taxes, Depreciation and Amortization -  6 Months Ago</th>\n      <th>Earnings Before Interest, Taxes, Depreciation and Amortization -  7 Months Ago</th>\n      <th>Earnings Before Interest, Taxes, Depreciation and Amortization -  8 Months Ago</th>\n      <th>Earnings Before Interest, Taxes, Depreciation and Amortization -  9 Months Ago</th>\n      <th>Earnings Before Interest, Taxes, Depreciation and Amortization -  10 Months Ago</th>\n      <th>Earnings Before Interest, Taxes, Depreciation and Amortization -  11 Months Ago</th>\n      <th>Earnings Before Interest, Taxes, Depreciation and Amortization -  12 Months Ago</th>\n      <th>Earnings Per Share - Current</th>\n      <th>Earnings Per Share -  1 Week Ago</th>\n      <th>Revenue -Current</th>\n      <th>Revenue - 1 Week Ago</th>\n    </tr>\n  </thead>\n  <tbody>\n    <tr>\n      <th>0</th>\n      <td>BNPP.PA</td>\n      <td>2022-06-30</td>\n      <td>FQ2</td>\n      <td>FY2022Q2</td>\n      <td>None</td>\n      <td>None</td>\n      <td>None</td>\n      <td>None</td>\n      <td>None</td>\n      <td>None</td>\n      <td>None</td>\n      <td>None</td>\n      <td>None</td>\n      <td>None</td>\n      <td>None</td>\n      <td>None</td>\n      <td>2.11333</td>\n      <td>2.175</td>\n      <td>12076956000</td>\n      <td>12076956000</td>\n    </tr>\n    <tr>\n      <th>1</th>\n      <td>BNPP.PA</td>\n      <td>2022-03-31</td>\n      <td>FQ1</td>\n      <td>FY2022Q1</td>\n      <td>None</td>\n      <td>None</td>\n      <td>None</td>\n      <td>None</td>\n      <td>None</td>\n      <td>None</td>\n      <td>None</td>\n      <td>None</td>\n      <td>None</td>\n      <td>None</td>\n      <td>None</td>\n      <td>None</td>\n      <td>1.53333</td>\n      <td>1.275</td>\n      <td>11954732000</td>\n      <td>11954732000</td>\n    </tr>\n  </tbody>\n</table>\n</div>"
     },
     "execution_count": 6,
     "metadata": {},
     "output_type": "execute_result"
    }
   ],
   "source": [
    "response = estimates.view_summary.historical_snapshots_periodic_measures_interim.Definition(\"BNPP.PA\", Package.BASIC).get_data()\n",
    "response.data.df"
   ]
  },
  {
   "cell_type": "markdown",
   "metadata": {},
   "source": [
    "#### view_summary - Historical snapshots recommendations"
   ]
  },
  {
   "cell_type": "code",
   "execution_count": 7,
   "metadata": {
    "pycharm": {
     "name": "#%%\n"
    }
   },
   "outputs": [
    {
     "data": {
      "text/plain": "  Instrument Recommendation - Current Recommendation - 1 Week Ago  \\\n0    BNPP.PA                     1.96                        1.92   \n\n  Recommendation - 1 Month Ago Recommendation - 2 Months Ago  \\\n0                         1.96                       1.96154   \n\n  Recommendation - 3 Months Ago Recommendation - 4 Months Ago  \\\n0                       1.96154                             2   \n\n  Recommendation - 5 Months Ago Recommendation - 6 Months Ago  \\\n0                          1.96                          1.96   \n\n  Recommendation - 7 Months Ago Recommendation - 8 Months Ago  \\\n0                          1.96                          1.92   \n\n  Recommendation - 9 Months Ago Recommendation - 10 Months Ago  \\\n0                             2                              2   \n\n  Recommendation - 11 Months Ago Recommendation - 12 Months Ago  \n0                        1.95833                        2.16667  ",
      "text/html": "<div>\n<style scoped>\n    .dataframe tbody tr th:only-of-type {\n        vertical-align: middle;\n    }\n\n    .dataframe tbody tr th {\n        vertical-align: top;\n    }\n\n    .dataframe thead th {\n        text-align: right;\n    }\n</style>\n<table border=\"1\" class=\"dataframe\">\n  <thead>\n    <tr style=\"text-align: right;\">\n      <th></th>\n      <th>Instrument</th>\n      <th>Recommendation - Current</th>\n      <th>Recommendation - 1 Week Ago</th>\n      <th>Recommendation - 1 Month Ago</th>\n      <th>Recommendation - 2 Months Ago</th>\n      <th>Recommendation - 3 Months Ago</th>\n      <th>Recommendation - 4 Months Ago</th>\n      <th>Recommendation - 5 Months Ago</th>\n      <th>Recommendation - 6 Months Ago</th>\n      <th>Recommendation - 7 Months Ago</th>\n      <th>Recommendation - 8 Months Ago</th>\n      <th>Recommendation - 9 Months Ago</th>\n      <th>Recommendation - 10 Months Ago</th>\n      <th>Recommendation - 11 Months Ago</th>\n      <th>Recommendation - 12 Months Ago</th>\n    </tr>\n  </thead>\n  <tbody>\n    <tr>\n      <th>0</th>\n      <td>BNPP.PA</td>\n      <td>1.96</td>\n      <td>1.92</td>\n      <td>1.96</td>\n      <td>1.96154</td>\n      <td>1.96154</td>\n      <td>2</td>\n      <td>1.96</td>\n      <td>1.96</td>\n      <td>1.96</td>\n      <td>1.92</td>\n      <td>2</td>\n      <td>2</td>\n      <td>1.95833</td>\n      <td>2.16667</td>\n    </tr>\n  </tbody>\n</table>\n</div>"
     },
     "execution_count": 7,
     "metadata": {},
     "output_type": "execute_result"
    }
   ],
   "source": [
    "response = estimates.view_summary.historical_snapshots_recommendations.Definition(\"BNPP.PA\", Package.BASIC).get_data()\n",
    "response.data.df"
   ]
  },
  {
   "cell_type": "markdown",
   "metadata": {},
   "source": [
    "#### view_summary - Interim"
   ]
  },
  {
   "cell_type": "code",
   "execution_count": 8,
   "metadata": {
    "pycharm": {
     "name": "#%%\n"
    }
   },
   "outputs": [
    {
     "data": {
      "text/plain": "  Instrument Period End Date Financial Period Absolute  \\\n0    BNPP.PA      2021-06-30                  FY2021Q2   \n1    BNPP.PA      2021-09-30                  FY2021Q3   \n2    BNPP.PA      2021-12-31                  FY2021Q4   \n3    BNPP.PA      2021-12-31                  FY2022Q1   \n4    BNPP.PA      2021-12-31                  FY2022Q2   \n5    BNPP.PA      2022-03-31                  FY2022Q1   \n6    BNPP.PA      2022-06-30                  FY2022Q2   \n\n  Financial Period Relative   EBIT - Mean  EBIT - Median   EBIT - High  \\\n0                      FQ-2  3810142860.0   3827000000.0  4263000000.0   \n1                      FQ-1  3287000000.0   3201000000.0  3784000000.0   \n2                       FQ0  3439000000.0   3450500000.0  3902000000.0   \n3                       FQ1  3439000000.0   3450500000.0  3902000000.0   \n4                       FQ2  3439000000.0   3450500000.0  3902000000.0   \n5                       FQ1          <NA>           <NA>          <NA>   \n6                       FQ2          <NA>           <NA>          <NA>   \n\n     EBIT - Low  EBIT - Standard Deviation  EBIT - Number of Estimates  ...  \\\n0  3046000000.0                  360146170                           7  ...   \n1  2876000000.0                  375644340                           3  ...   \n2  2792000000.0                  361690480                           6  ...   \n3  2792000000.0                  361690480                           6  ...   \n4  2792000000.0                  361690480                           6  ...   \n5          <NA>                       <NA>                        <NA>  ...   \n6          <NA>                       <NA>                        <NA>  ...   \n\n    Earnings Per Share - Company Footnote Text  \\\n0  JUN21 Majority Basis is Fully-Reported/GAAP   \n1                                         <NA>   \n2                                         <NA>   \n3                                         <NA>   \n4                                         <NA>   \n5                                         <NA>   \n6                                         <NA>   \n\n  Earnings Per Share - Company Footnote Type  \\\n0                                          M   \n1                                       <NA>   \n2                                       <NA>   \n3                                       <NA>   \n4                                       <NA>   \n5                                       <NA>   \n6                                       <NA>   \n\n  Earnings Per Share - Company Footnote Value  Revenue - Mean  \\\n0                                        None   11194702560.0   \n1                                        None   11216809000.0   \n2                                        None   11374842750.0   \n3                                        None            <NA>   \n4                                        None            <NA>   \n5                                        None   11954732000.0   \n6                                        None   12076956000.0   \n\n   Revenue - Median Revenue - High  Revenue - Low  \\\n0     11177000000.0  11618921000.0  10984000000.0   \n1     11230000000.0  11309000000.0  11064265000.0   \n2     11345000000.0  11713415000.0  11232000000.0   \n3              <NA>           <NA>           <NA>   \n4              <NA>           <NA>           <NA>   \n5     11954732000.0  11954732000.0  11954732000.0   \n6     12076956000.0  12076956000.0  12076956000.0   \n\n  Revenue - Standard Deviation Revenue - Number of Estimates  \\\n0                    177085240                             9   \n1                     87101920                             5   \n2                    157835480                             8   \n3                         <NA>                          <NA>   \n4                         <NA>                          <NA>   \n5                            0                             1   \n6                            0                             1   \n\n   Revenue - Number of Included Estimates  \n0                                       9  \n1                                       5  \n2                                       8  \n3                                    <NA>  \n4                                    <NA>  \n5                                       1  \n6                                       1  \n\n[7 rows x 42 columns]",
      "text/html": "<div>\n<style scoped>\n    .dataframe tbody tr th:only-of-type {\n        vertical-align: middle;\n    }\n\n    .dataframe tbody tr th {\n        vertical-align: top;\n    }\n\n    .dataframe thead th {\n        text-align: right;\n    }\n</style>\n<table border=\"1\" class=\"dataframe\">\n  <thead>\n    <tr style=\"text-align: right;\">\n      <th></th>\n      <th>Instrument</th>\n      <th>Period End Date</th>\n      <th>Financial Period Absolute</th>\n      <th>Financial Period Relative</th>\n      <th>EBIT - Mean</th>\n      <th>EBIT - Median</th>\n      <th>EBIT - High</th>\n      <th>EBIT - Low</th>\n      <th>EBIT - Standard Deviation</th>\n      <th>EBIT - Number of Estimates</th>\n      <th>...</th>\n      <th>Earnings Per Share - Company Footnote Text</th>\n      <th>Earnings Per Share - Company Footnote Type</th>\n      <th>Earnings Per Share - Company Footnote Value</th>\n      <th>Revenue - Mean</th>\n      <th>Revenue - Median</th>\n      <th>Revenue - High</th>\n      <th>Revenue - Low</th>\n      <th>Revenue - Standard Deviation</th>\n      <th>Revenue - Number of Estimates</th>\n      <th>Revenue - Number of Included Estimates</th>\n    </tr>\n  </thead>\n  <tbody>\n    <tr>\n      <th>0</th>\n      <td>BNPP.PA</td>\n      <td>2021-06-30</td>\n      <td>FY2021Q2</td>\n      <td>FQ-2</td>\n      <td>3810142860.0</td>\n      <td>3827000000.0</td>\n      <td>4263000000.0</td>\n      <td>3046000000.0</td>\n      <td>360146170</td>\n      <td>7</td>\n      <td>...</td>\n      <td>JUN21 Majority Basis is Fully-Reported/GAAP</td>\n      <td>M</td>\n      <td>None</td>\n      <td>11194702560.0</td>\n      <td>11177000000.0</td>\n      <td>11618921000.0</td>\n      <td>10984000000.0</td>\n      <td>177085240</td>\n      <td>9</td>\n      <td>9</td>\n    </tr>\n    <tr>\n      <th>1</th>\n      <td>BNPP.PA</td>\n      <td>2021-09-30</td>\n      <td>FY2021Q3</td>\n      <td>FQ-1</td>\n      <td>3287000000.0</td>\n      <td>3201000000.0</td>\n      <td>3784000000.0</td>\n      <td>2876000000.0</td>\n      <td>375644340</td>\n      <td>3</td>\n      <td>...</td>\n      <td>&lt;NA&gt;</td>\n      <td>&lt;NA&gt;</td>\n      <td>None</td>\n      <td>11216809000.0</td>\n      <td>11230000000.0</td>\n      <td>11309000000.0</td>\n      <td>11064265000.0</td>\n      <td>87101920</td>\n      <td>5</td>\n      <td>5</td>\n    </tr>\n    <tr>\n      <th>2</th>\n      <td>BNPP.PA</td>\n      <td>2021-12-31</td>\n      <td>FY2021Q4</td>\n      <td>FQ0</td>\n      <td>3439000000.0</td>\n      <td>3450500000.0</td>\n      <td>3902000000.0</td>\n      <td>2792000000.0</td>\n      <td>361690480</td>\n      <td>6</td>\n      <td>...</td>\n      <td>&lt;NA&gt;</td>\n      <td>&lt;NA&gt;</td>\n      <td>None</td>\n      <td>11374842750.0</td>\n      <td>11345000000.0</td>\n      <td>11713415000.0</td>\n      <td>11232000000.0</td>\n      <td>157835480</td>\n      <td>8</td>\n      <td>8</td>\n    </tr>\n    <tr>\n      <th>3</th>\n      <td>BNPP.PA</td>\n      <td>2021-12-31</td>\n      <td>FY2022Q1</td>\n      <td>FQ1</td>\n      <td>3439000000.0</td>\n      <td>3450500000.0</td>\n      <td>3902000000.0</td>\n      <td>2792000000.0</td>\n      <td>361690480</td>\n      <td>6</td>\n      <td>...</td>\n      <td>&lt;NA&gt;</td>\n      <td>&lt;NA&gt;</td>\n      <td>None</td>\n      <td>&lt;NA&gt;</td>\n      <td>&lt;NA&gt;</td>\n      <td>&lt;NA&gt;</td>\n      <td>&lt;NA&gt;</td>\n      <td>&lt;NA&gt;</td>\n      <td>&lt;NA&gt;</td>\n      <td>&lt;NA&gt;</td>\n    </tr>\n    <tr>\n      <th>4</th>\n      <td>BNPP.PA</td>\n      <td>2021-12-31</td>\n      <td>FY2022Q2</td>\n      <td>FQ2</td>\n      <td>3439000000.0</td>\n      <td>3450500000.0</td>\n      <td>3902000000.0</td>\n      <td>2792000000.0</td>\n      <td>361690480</td>\n      <td>6</td>\n      <td>...</td>\n      <td>&lt;NA&gt;</td>\n      <td>&lt;NA&gt;</td>\n      <td>None</td>\n      <td>&lt;NA&gt;</td>\n      <td>&lt;NA&gt;</td>\n      <td>&lt;NA&gt;</td>\n      <td>&lt;NA&gt;</td>\n      <td>&lt;NA&gt;</td>\n      <td>&lt;NA&gt;</td>\n      <td>&lt;NA&gt;</td>\n    </tr>\n    <tr>\n      <th>5</th>\n      <td>BNPP.PA</td>\n      <td>2022-03-31</td>\n      <td>FY2022Q1</td>\n      <td>FQ1</td>\n      <td>&lt;NA&gt;</td>\n      <td>&lt;NA&gt;</td>\n      <td>&lt;NA&gt;</td>\n      <td>&lt;NA&gt;</td>\n      <td>&lt;NA&gt;</td>\n      <td>&lt;NA&gt;</td>\n      <td>...</td>\n      <td>&lt;NA&gt;</td>\n      <td>&lt;NA&gt;</td>\n      <td>None</td>\n      <td>11954732000.0</td>\n      <td>11954732000.0</td>\n      <td>11954732000.0</td>\n      <td>11954732000.0</td>\n      <td>0</td>\n      <td>1</td>\n      <td>1</td>\n    </tr>\n    <tr>\n      <th>6</th>\n      <td>BNPP.PA</td>\n      <td>2022-06-30</td>\n      <td>FY2022Q2</td>\n      <td>FQ2</td>\n      <td>&lt;NA&gt;</td>\n      <td>&lt;NA&gt;</td>\n      <td>&lt;NA&gt;</td>\n      <td>&lt;NA&gt;</td>\n      <td>&lt;NA&gt;</td>\n      <td>&lt;NA&gt;</td>\n      <td>...</td>\n      <td>&lt;NA&gt;</td>\n      <td>&lt;NA&gt;</td>\n      <td>None</td>\n      <td>12076956000.0</td>\n      <td>12076956000.0</td>\n      <td>12076956000.0</td>\n      <td>12076956000.0</td>\n      <td>0</td>\n      <td>1</td>\n      <td>1</td>\n    </tr>\n  </tbody>\n</table>\n<p>7 rows × 42 columns</p>\n</div>"
     },
     "execution_count": 8,
     "metadata": {},
     "output_type": "execute_result"
    }
   ],
   "source": [
    "response = estimates.view_summary.interim.Definition(\"BNPP.PA\", Package.BASIC).get_data()\n",
    "response.data.df"
   ]
  },
  {
   "cell_type": "markdown",
   "metadata": {},
   "source": [
    "#### view_summary - Non-periodic measures"
   ]
  },
  {
   "cell_type": "code",
   "execution_count": 9,
   "metadata": {
    "pycharm": {
     "name": "#%%\n"
    }
   },
   "outputs": [
    {
     "data": {
      "text/plain": "  Instrument  Long Term Growth - Mean  Long Term Growth - Median  \\\n0    BNPP.PA                  8.65575                     8.3665   \n\n   Long Term Growth - High  Long Term Growth - Low  \\\n0                     11.4                    6.49   \n\n   Long Term Growth - Standard Deviation  \\\n0                                2.14469   \n\n   Long Term Growth - Number Of Estimates  \\\n0                                       5   \n\n   Long Term Growth - Number of Included Estimates  \\\n0                                                4   \n\n   Price Target - Mean Estimate  Price Target - Mean  Price Target - Median  \\\n0                       73.0381              73.0381                   74.5   \n\n   Price Target - High  Price Target - Low  Price Target - Standard Deviation  \\\n0                86.44                  55                            7.31142   \n\n   Price Target - Number of Estimates  \\\n0                                  24   \n\n   Price Target - Number of Included Estimates Price Target - Currency  \n0                                           20                    None  ",
      "text/html": "<div>\n<style scoped>\n    .dataframe tbody tr th:only-of-type {\n        vertical-align: middle;\n    }\n\n    .dataframe tbody tr th {\n        vertical-align: top;\n    }\n\n    .dataframe thead th {\n        text-align: right;\n    }\n</style>\n<table border=\"1\" class=\"dataframe\">\n  <thead>\n    <tr style=\"text-align: right;\">\n      <th></th>\n      <th>Instrument</th>\n      <th>Long Term Growth - Mean</th>\n      <th>Long Term Growth - Median</th>\n      <th>Long Term Growth - High</th>\n      <th>Long Term Growth - Low</th>\n      <th>Long Term Growth - Standard Deviation</th>\n      <th>Long Term Growth - Number Of Estimates</th>\n      <th>Long Term Growth - Number of Included Estimates</th>\n      <th>Price Target - Mean Estimate</th>\n      <th>Price Target - Mean</th>\n      <th>Price Target - Median</th>\n      <th>Price Target - High</th>\n      <th>Price Target - Low</th>\n      <th>Price Target - Standard Deviation</th>\n      <th>Price Target - Number of Estimates</th>\n      <th>Price Target - Number of Included Estimates</th>\n      <th>Price Target - Currency</th>\n    </tr>\n  </thead>\n  <tbody>\n    <tr>\n      <th>0</th>\n      <td>BNPP.PA</td>\n      <td>8.65575</td>\n      <td>8.3665</td>\n      <td>11.4</td>\n      <td>6.49</td>\n      <td>2.14469</td>\n      <td>5</td>\n      <td>4</td>\n      <td>73.0381</td>\n      <td>73.0381</td>\n      <td>74.5</td>\n      <td>86.44</td>\n      <td>55</td>\n      <td>7.31142</td>\n      <td>24</td>\n      <td>20</td>\n      <td>None</td>\n    </tr>\n  </tbody>\n</table>\n</div>"
     },
     "execution_count": 9,
     "metadata": {},
     "output_type": "execute_result"
    }
   ],
   "source": [
    "response = estimates.view_summary.non_periodic_measures.Definition(\"BNPP.PA\", Package.BASIC).get_data()\n",
    "response.data.df"
   ]
  },
  {
   "cell_type": "markdown",
   "metadata": {},
   "source": [
    "#### view_summary - Recommendations"
   ]
  },
  {
   "cell_type": "code",
   "execution_count": 10,
   "metadata": {
    "pycharm": {
     "name": "#%%\n"
    }
   },
   "outputs": [
    {
     "data": {
      "text/plain": "  Instrument Recommendation - Mean (1-5) Recommendation - Mean Label  \\\n0    BNPP.PA                        1.96                         BUY   \n\n  Recommendation - Median (1-5) Recommendation - Median Label  \\\n0                             2                           BUY   \n\n  Recommendation - High (1-5) Recommendation - High Label  \\\n0                           1                  STRONG BUY   \n\n  Recommendation - Low (1-5) Recommendation - Low Label  \\\n0                          3                       HOLD   \n\n  Recommendation - Number Of Strong Buy Recommendation - Number Of Buy  \\\n0                                     7                             12   \n\n  Recommendation - Number Of Hold Recommendation - Number Of Sell  \\\n0                               6                               0   \n\n  Recommendation - Number Of Strong Sell  \\\n0                                      0   \n\n  Recommendation - Number Of No Opinion Recommendation - Number Of Total  \\\n0                                     0                               25   \n\n  Days Since 2-Level Rec Change Days Since New Sell Recommendation  \\\n0                            28                                378   \n\n  Days Since New Recommendation  \n0                             0  ",
      "text/html": "<div>\n<style scoped>\n    .dataframe tbody tr th:only-of-type {\n        vertical-align: middle;\n    }\n\n    .dataframe tbody tr th {\n        vertical-align: top;\n    }\n\n    .dataframe thead th {\n        text-align: right;\n    }\n</style>\n<table border=\"1\" class=\"dataframe\">\n  <thead>\n    <tr style=\"text-align: right;\">\n      <th></th>\n      <th>Instrument</th>\n      <th>Recommendation - Mean (1-5)</th>\n      <th>Recommendation - Mean Label</th>\n      <th>Recommendation - Median (1-5)</th>\n      <th>Recommendation - Median Label</th>\n      <th>Recommendation - High (1-5)</th>\n      <th>Recommendation - High Label</th>\n      <th>Recommendation - Low (1-5)</th>\n      <th>Recommendation - Low Label</th>\n      <th>Recommendation - Number Of Strong Buy</th>\n      <th>Recommendation - Number Of Buy</th>\n      <th>Recommendation - Number Of Hold</th>\n      <th>Recommendation - Number Of Sell</th>\n      <th>Recommendation - Number Of Strong Sell</th>\n      <th>Recommendation - Number Of No Opinion</th>\n      <th>Recommendation - Number Of Total</th>\n      <th>Days Since 2-Level Rec Change</th>\n      <th>Days Since New Sell Recommendation</th>\n      <th>Days Since New Recommendation</th>\n    </tr>\n  </thead>\n  <tbody>\n    <tr>\n      <th>0</th>\n      <td>BNPP.PA</td>\n      <td>1.96</td>\n      <td>BUY</td>\n      <td>2</td>\n      <td>BUY</td>\n      <td>1</td>\n      <td>STRONG BUY</td>\n      <td>3</td>\n      <td>HOLD</td>\n      <td>7</td>\n      <td>12</td>\n      <td>6</td>\n      <td>0</td>\n      <td>0</td>\n      <td>0</td>\n      <td>25</td>\n      <td>28</td>\n      <td>378</td>\n      <td>0</td>\n    </tr>\n  </tbody>\n</table>\n</div>"
     },
     "execution_count": 10,
     "metadata": {},
     "output_type": "execute_result"
    }
   ],
   "source": [
    "response = estimates.view_summary.recommendations.Definition(\"BNPP.PA\", Package.BASIC).get_data()\n",
    "response.data.df"
   ]
  },
  {
   "cell_type": "markdown",
   "source": [
    "### Close the session"
   ],
   "metadata": {
    "collapsed": false
   }
  },
  {
   "cell_type": "code",
   "execution_count": null,
   "outputs": [],
   "source": [
    "rd.close_session()"
   ],
   "metadata": {
    "collapsed": false,
    "pycharm": {
     "name": "#%%\n"
    }
   }
  }
 ],
 "metadata": {
  "kernelspec": {
   "display_name": "Python 3 (ipykernel)",
   "language": "python",
   "name": "python3"
  },
  "language_info": {
   "codemirror_mode": {
    "name": "ipython",
    "version": 3
   },
   "file_extension": ".py",
   "mimetype": "text/x-python",
   "name": "python",
   "nbconvert_exporter": "python",
   "pygments_lexer": "ipython3",
   "version": "3.10.2"
  }
 },
 "nbformat": 4,
 "nbformat_minor": 1
}