{
 "cells": [
  {
   "cell_type": "markdown",
   "source": [
    "----\n",
    "<img src=\"../../../files/refinitiv.png\" width=\"20%\" style=\"vertical-align: top;\">\n",
    "\n",
    "# Data Library for Python\n",
    "\n",
    "----"
   ],
   "metadata": {
    "collapsed": false
   }
  },
  {
   "cell_type": "markdown",
   "source": [
    "This notebook demonstrates how to work with Estimates API db from Refinitiv Data Library."
   ],
   "metadata": {
    "collapsed": false
   }
  },
  {
   "cell_type": "markdown",
   "source": [
    "#### Learn more\n",
    "\n",
    "To learn more about the Refinitiv Data Library for Python please join the Refinitiv Developer Community. By [registering](https://developers.refinitiv.com/iam/register) and [logging](https://developers.refinitiv.com/content/devportal/en_us/initCookie.html) into the Refinitiv Developer Community portal you will have free access to a number of learning materials like\n",
    " [Quick Start guides](https://developers.refinitiv.com/en/api-catalog/refinitiv-data-platform/refinitiv-data-library-for-python/quick-start),\n",
    " [Tutorials](https://developers.refinitiv.com/en/api-catalog/refinitiv-data-platform/refinitiv-data-library-for-python/learning),\n",
    " [Documentation](https://developers.refinitiv.com/en/api-catalog/refinitiv-data-platform/refinitiv-data-library-for-python/docs)\n",
    " and much more.\n",
    "\n",
    "#### Getting Help and Support\n",
    "\n",
    "If you have any questions regarding using the API, please post them on\n",
    "the [Refinitiv Data Q&A Forum](https://community.developers.refinitiv.com/spaces/321/index.html).\n",
    "The Refinitiv Developer Community will be happy to help."
   ],
   "metadata": {
    "collapsed": false
   }
  },
  {
   "cell_type": "markdown",
   "source": [
    "## Set the configuration file location\n",
    "For a better ease of use, you have the option to set initialization parameters of the Refinitiv Data Library in the _refinitiv-data.config.json_ configuration file. This file must be located beside your notebook, in your user folder or in a folder defined by the _RD_LIB_CONFIG_PATH_ environment variable. The _RD_LIB_CONFIG_PATH_ environment variable is the option used by this series of examples. The following code sets this environment variable."
   ],
   "metadata": {
    "collapsed": false
   }
  },
  {
   "cell_type": "code",
   "execution_count": null,
   "outputs": [],
   "source": [
    "import os\n",
    "os.environ[\"RD_LIB_CONFIG_PATH\"] = \"../../../Configuration\""
   ],
   "metadata": {
    "collapsed": false,
    "pycharm": {
     "name": "#%%\n"
    }
   }
  },
  {
   "cell_type": "markdown",
   "source": [
    "## Some Imports to start with"
   ],
   "metadata": {
    "collapsed": false
   }
  },
  {
   "cell_type": "code",
   "execution_count": 1,
   "outputs": [],
   "source": [
    "import refinitiv.data as rd\n",
    "from refinitiv.data.content import estimates"
   ],
   "metadata": {
    "collapsed": false,
    "pycharm": {
     "name": "#%%\n"
    }
   }
  },
  {
   "cell_type": "markdown",
   "source": [
    "## Open the data session\n",
    "\n",
    "The open_session() function creates and open sessions based on the information contained in the refinitiv-data.config.json configuration file. Please edit this file to set the session type and other parameters required for the session you want to open."
   ],
   "metadata": {
    "collapsed": false
   }
  },
  {
   "cell_type": "code",
   "execution_count": 2,
   "outputs": [
    {
     "data": {
      "text/plain": "<refinitiv.data.session.platform.Definition object at 0x175b039f400 {session_name='rdp'}>"
     },
     "execution_count": 2,
     "metadata": {},
     "output_type": "execute_result"
    }
   ],
   "source": [
    "rd.open_session(\"platform.rdp\")"
   ],
   "metadata": {
    "collapsed": false,
    "pycharm": {
     "name": "#%%\n"
    }
   }
  },
  {
   "cell_type": "markdown",
   "source": [
    "### Retrieve Data"
   ],
   "metadata": {
    "collapsed": false
   }
  },
  {
   "cell_type": "markdown",
   "source": [
    "#### view_summary_kpi - Annual"
   ],
   "metadata": {
    "collapsed": false
   }
  },
  {
   "cell_type": "code",
   "execution_count": 3,
   "outputs": [
    {
     "data": {
      "text/plain": "  Instrument Period End Date Financial Period Absolute  \\\n0    BNPP.PA      2023-12-31                    FY2023   \n1    BNPP.PA      2022-12-31                    FY2022   \n2    BNPP.PA      2021-12-31                    FY2021   \n3    BNPP.PA      2020-12-31                    FY2020   \n\n  Financial Period Relative Non Performing Loan - High  \\\n0                       FY2                30000000000   \n1                       FY1                29000000000   \n2                       FY0                30372000000   \n3                      FY-1                30086000000   \n\n  Non Performing Loan - Low Non Performing Loan - Mean  \\\n0                         0                20408600000   \n1                         0                20207000000   \n2               24465000000                28279000000   \n3               23331000000                27805666670   \n\n  Non Performing Loan - Median Non Performing Loan - Num Inc Est  \\\n0                  25817200000                                 4   \n1                  25914000000                                 4   \n2                  30000000000                                 3   \n3                  30000000000                                 3   \n\n  Non Performing Loan - Num of Est Non Performing Loan - Std Dev  \\\n0                                4                   12042915020   \n1                                4                   11835438040   \n2                                4                    2701177890   \n3                                4                    3164261930   \n\n  Core Tier 1 Capital Ratio - High Core Tier 1 Capital Ratio - Low  \\\n0                     110179000000                     98974000000   \n1                     105882000000                     95378000000   \n2                     102522000000                     92509000000   \n3                      99033000000                     87630000000   \n\n  Core Tier 1 Capital Ratio - Mean Core Tier 1 Capital Ratio - Median  \\\n0                     105503571430                       106441000000   \n1                     101268857140                       102662000000   \n2                      97418714290                        99287000000   \n3                      94676833330                        96721500000   \n\n  Core Tier 1 Capital Ratio - Num Inc Est  \\\n0                                       7   \n1                                       7   \n2                                       7   \n3                                       6   \n\n  Core Tier 1 Capital Ratio - Num of Est Core Tier 1 Capital Ratio - StdDev  \n0                                      8                         3299806090  \n1                                      8                         3677451770  \n2                                      8                         4072981070  \n3                                      6                         4288460460  ",
      "text/html": "<div>\n<style scoped>\n    .dataframe tbody tr th:only-of-type {\n        vertical-align: middle;\n    }\n\n    .dataframe tbody tr th {\n        vertical-align: top;\n    }\n\n    .dataframe thead th {\n        text-align: right;\n    }\n</style>\n<table border=\"1\" class=\"dataframe\">\n  <thead>\n    <tr style=\"text-align: right;\">\n      <th></th>\n      <th>Instrument</th>\n      <th>Period End Date</th>\n      <th>Financial Period Absolute</th>\n      <th>Financial Period Relative</th>\n      <th>Non Performing Loan - High</th>\n      <th>Non Performing Loan - Low</th>\n      <th>Non Performing Loan - Mean</th>\n      <th>Non Performing Loan - Median</th>\n      <th>Non Performing Loan - Num Inc Est</th>\n      <th>Non Performing Loan - Num of Est</th>\n      <th>Non Performing Loan - Std Dev</th>\n      <th>Core Tier 1 Capital Ratio - High</th>\n      <th>Core Tier 1 Capital Ratio - Low</th>\n      <th>Core Tier 1 Capital Ratio - Mean</th>\n      <th>Core Tier 1 Capital Ratio - Median</th>\n      <th>Core Tier 1 Capital Ratio - Num Inc Est</th>\n      <th>Core Tier 1 Capital Ratio - Num of Est</th>\n      <th>Core Tier 1 Capital Ratio - StdDev</th>\n    </tr>\n  </thead>\n  <tbody>\n    <tr>\n      <th>0</th>\n      <td>BNPP.PA</td>\n      <td>2023-12-31</td>\n      <td>FY2023</td>\n      <td>FY2</td>\n      <td>30000000000</td>\n      <td>0</td>\n      <td>20408600000</td>\n      <td>25817200000</td>\n      <td>4</td>\n      <td>4</td>\n      <td>12042915020</td>\n      <td>110179000000</td>\n      <td>98974000000</td>\n      <td>105503571430</td>\n      <td>106441000000</td>\n      <td>7</td>\n      <td>8</td>\n      <td>3299806090</td>\n    </tr>\n    <tr>\n      <th>1</th>\n      <td>BNPP.PA</td>\n      <td>2022-12-31</td>\n      <td>FY2022</td>\n      <td>FY1</td>\n      <td>29000000000</td>\n      <td>0</td>\n      <td>20207000000</td>\n      <td>25914000000</td>\n      <td>4</td>\n      <td>4</td>\n      <td>11835438040</td>\n      <td>105882000000</td>\n      <td>95378000000</td>\n      <td>101268857140</td>\n      <td>102662000000</td>\n      <td>7</td>\n      <td>8</td>\n      <td>3677451770</td>\n    </tr>\n    <tr>\n      <th>2</th>\n      <td>BNPP.PA</td>\n      <td>2021-12-31</td>\n      <td>FY2021</td>\n      <td>FY0</td>\n      <td>30372000000</td>\n      <td>24465000000</td>\n      <td>28279000000</td>\n      <td>30000000000</td>\n      <td>3</td>\n      <td>4</td>\n      <td>2701177890</td>\n      <td>102522000000</td>\n      <td>92509000000</td>\n      <td>97418714290</td>\n      <td>99287000000</td>\n      <td>7</td>\n      <td>8</td>\n      <td>4072981070</td>\n    </tr>\n    <tr>\n      <th>3</th>\n      <td>BNPP.PA</td>\n      <td>2020-12-31</td>\n      <td>FY2020</td>\n      <td>FY-1</td>\n      <td>30086000000</td>\n      <td>23331000000</td>\n      <td>27805666670</td>\n      <td>30000000000</td>\n      <td>3</td>\n      <td>4</td>\n      <td>3164261930</td>\n      <td>99033000000</td>\n      <td>87630000000</td>\n      <td>94676833330</td>\n      <td>96721500000</td>\n      <td>6</td>\n      <td>6</td>\n      <td>4288460460</td>\n    </tr>\n  </tbody>\n</table>\n</div>"
     },
     "execution_count": 3,
     "metadata": {},
     "output_type": "execute_result"
    }
   ],
   "source": [
    "response = estimates.view_summary_kpi.annual.Definition(\"BNPP.PA\").get_data()\n",
    "response.data.df"
   ],
   "metadata": {
    "collapsed": false,
    "pycharm": {
     "name": "#%%\n"
    }
   }
  },
  {
   "cell_type": "markdown",
   "source": [
    "#### view_summary_kpi - Historical snapshots kpi"
   ],
   "metadata": {
    "collapsed": false
   }
  },
  {
   "cell_type": "code",
   "execution_count": 4,
   "outputs": [
    {
     "data": {
      "text/plain": "  Instrument Period End Date Financial Period Absolute  \\\n0    BNPP.PA      2022-12-31                    FY2022   \n1    BNPP.PA      2023-12-31                    FY2023   \n2    BNPP.PA      2022-12-31                    FY2023   \n\n  Financial Period Relative  Tier 1 Capital Ratio -Current  \\\n0                       FY1                       13.59455   \n1                       FY2                          13.81   \n2                       FY2                           <NA>   \n\n   Tier 1 Capital Ratio - 1 Week Ago  Tier 1 Capital Ratio - 1 Month Ago  \\\n0                              13.42                            13.18546   \n1                           13.38182                               13.22   \n2                               <NA>                                <NA>   \n\n   Tier 1 Capital Ratio - 2 Months Ago  Tier 1 Capital Ratio - 3 Months Ago  \\\n0                             13.18546                             13.17636   \n1                                13.22                                13.22   \n2                                 <NA>                                 <NA>   \n\n   Tier 1 Capital Ratio - 4 Months Ago  ...  \\\n0                                13.14  ...   \n1                                13.19  ...   \n2                                 <NA>  ...   \n\n   Non-Performing Loans - 3 Months Ago  Non-Performing Loans - 4 Months Ago  \\\n0                        21351500000.0                        21351500000.0   \n1                        21559600000.0                        21309600000.0   \n2                                 <NA>                                 <NA>   \n\n   Non-Performing Loans - 5 Months Ago  Non-Performing Loans - 6 Months Ago  \\\n0                        21351500000.0                        21351500000.0   \n1                        21309600000.0                        21309600000.0   \n2                                 <NA>                                 <NA>   \n\n   Non-Performing Loans - 7 Months Ago  Non-Performing Loans - 8 Months Ago  \\\n0                        21101500000.0                        21101500000.0   \n1                        21309600000.0                        21309600000.0   \n2                                 <NA>                                 <NA>   \n\n   Non-Performing Loans - 9 Months Ago  Non-Performing Loans - 10 Months Ago  \\\n0                        21101500000.0                         21368750000.0   \n1                        21309600000.0                         30982000000.0   \n2                                 <NA>                                  <NA>   \n\n   Non-Performing Loans - 11 Months Ago  Non-Performing Loans - 12 Months Ago  \n0                         21368750000.0                         21372750000.0  \n1                                  <NA>                                  <NA>  \n2                         21368750000.0                         21372750000.0  \n\n[3 rows x 32 columns]",
      "text/html": "<div>\n<style scoped>\n    .dataframe tbody tr th:only-of-type {\n        vertical-align: middle;\n    }\n\n    .dataframe tbody tr th {\n        vertical-align: top;\n    }\n\n    .dataframe thead th {\n        text-align: right;\n    }\n</style>\n<table border=\"1\" class=\"dataframe\">\n  <thead>\n    <tr style=\"text-align: right;\">\n      <th></th>\n      <th>Instrument</th>\n      <th>Period End Date</th>\n      <th>Financial Period Absolute</th>\n      <th>Financial Period Relative</th>\n      <th>Tier 1 Capital Ratio -Current</th>\n      <th>Tier 1 Capital Ratio - 1 Week Ago</th>\n      <th>Tier 1 Capital Ratio - 1 Month Ago</th>\n      <th>Tier 1 Capital Ratio - 2 Months Ago</th>\n      <th>Tier 1 Capital Ratio - 3 Months Ago</th>\n      <th>Tier 1 Capital Ratio - 4 Months Ago</th>\n      <th>...</th>\n      <th>Non-Performing Loans - 3 Months Ago</th>\n      <th>Non-Performing Loans - 4 Months Ago</th>\n      <th>Non-Performing Loans - 5 Months Ago</th>\n      <th>Non-Performing Loans - 6 Months Ago</th>\n      <th>Non-Performing Loans - 7 Months Ago</th>\n      <th>Non-Performing Loans - 8 Months Ago</th>\n      <th>Non-Performing Loans - 9 Months Ago</th>\n      <th>Non-Performing Loans - 10 Months Ago</th>\n      <th>Non-Performing Loans - 11 Months Ago</th>\n      <th>Non-Performing Loans - 12 Months Ago</th>\n    </tr>\n  </thead>\n  <tbody>\n    <tr>\n      <th>0</th>\n      <td>BNPP.PA</td>\n      <td>2022-12-31</td>\n      <td>FY2022</td>\n      <td>FY1</td>\n      <td>13.59455</td>\n      <td>13.42</td>\n      <td>13.18546</td>\n      <td>13.18546</td>\n      <td>13.17636</td>\n      <td>13.14</td>\n      <td>...</td>\n      <td>21351500000.0</td>\n      <td>21351500000.0</td>\n      <td>21351500000.0</td>\n      <td>21351500000.0</td>\n      <td>21101500000.0</td>\n      <td>21101500000.0</td>\n      <td>21101500000.0</td>\n      <td>21368750000.0</td>\n      <td>21368750000.0</td>\n      <td>21372750000.0</td>\n    </tr>\n    <tr>\n      <th>1</th>\n      <td>BNPP.PA</td>\n      <td>2023-12-31</td>\n      <td>FY2023</td>\n      <td>FY2</td>\n      <td>13.81</td>\n      <td>13.38182</td>\n      <td>13.22</td>\n      <td>13.22</td>\n      <td>13.22</td>\n      <td>13.19</td>\n      <td>...</td>\n      <td>21559600000.0</td>\n      <td>21309600000.0</td>\n      <td>21309600000.0</td>\n      <td>21309600000.0</td>\n      <td>21309600000.0</td>\n      <td>21309600000.0</td>\n      <td>21309600000.0</td>\n      <td>30982000000.0</td>\n      <td>&lt;NA&gt;</td>\n      <td>&lt;NA&gt;</td>\n    </tr>\n    <tr>\n      <th>2</th>\n      <td>BNPP.PA</td>\n      <td>2022-12-31</td>\n      <td>FY2023</td>\n      <td>FY2</td>\n      <td>&lt;NA&gt;</td>\n      <td>&lt;NA&gt;</td>\n      <td>&lt;NA&gt;</td>\n      <td>&lt;NA&gt;</td>\n      <td>&lt;NA&gt;</td>\n      <td>&lt;NA&gt;</td>\n      <td>...</td>\n      <td>&lt;NA&gt;</td>\n      <td>&lt;NA&gt;</td>\n      <td>&lt;NA&gt;</td>\n      <td>&lt;NA&gt;</td>\n      <td>&lt;NA&gt;</td>\n      <td>&lt;NA&gt;</td>\n      <td>&lt;NA&gt;</td>\n      <td>&lt;NA&gt;</td>\n      <td>21368750000.0</td>\n      <td>21372750000.0</td>\n    </tr>\n  </tbody>\n</table>\n<p>3 rows × 32 columns</p>\n</div>"
     },
     "execution_count": 4,
     "metadata": {},
     "output_type": "execute_result"
    }
   ],
   "source": [
    "response = estimates.view_summary_kpi.historical_snapshots_kpi.Definition(\"BNPP.PA\").get_data()\n",
    "response.data.df"
   ],
   "metadata": {
    "collapsed": false,
    "pycharm": {
     "name": "#%%\n"
    }
   }
  },
  {
   "cell_type": "markdown",
   "source": [
    "#### view_summary_kpi - Interim"
   ],
   "metadata": {
    "collapsed": false
   }
  },
  {
   "cell_type": "code",
   "execution_count": 5,
   "outputs": [
    {
     "data": {
      "text/plain": "  Instrument Period End Date Financial Period Absolute  \\\n0    BNPP.PA      2022-12-31                  FY2022Q4   \n1    BNPP.PA      2022-09-30                  FY2022Q3   \n2    BNPP.PA      2022-06-30                  FY2022Q2   \n3    BNPP.PA      2022-03-31                  FY2022Q1   \n4    BNPP.PA      2021-12-31                  FY2021Q4   \n5    BNPP.PA      2021-09-30                  FY2021Q3   \n6    BNPP.PA      2021-06-30                  FY2021Q2   \n\n  Financial Period Relative Advertisement Revenue - High  \n0                       FQ4                         None  \n1                       FQ3                         None  \n2                       FQ2                         None  \n3                       FQ1                         None  \n4                       FQ0                         None  \n5                      FQ-1                         None  \n6                      FQ-2                         None  ",
      "text/html": "<div>\n<style scoped>\n    .dataframe tbody tr th:only-of-type {\n        vertical-align: middle;\n    }\n\n    .dataframe tbody tr th {\n        vertical-align: top;\n    }\n\n    .dataframe thead th {\n        text-align: right;\n    }\n</style>\n<table border=\"1\" class=\"dataframe\">\n  <thead>\n    <tr style=\"text-align: right;\">\n      <th></th>\n      <th>Instrument</th>\n      <th>Period End Date</th>\n      <th>Financial Period Absolute</th>\n      <th>Financial Period Relative</th>\n      <th>Advertisement Revenue - High</th>\n    </tr>\n  </thead>\n  <tbody>\n    <tr>\n      <th>0</th>\n      <td>BNPP.PA</td>\n      <td>2022-12-31</td>\n      <td>FY2022Q4</td>\n      <td>FQ4</td>\n      <td>None</td>\n    </tr>\n    <tr>\n      <th>1</th>\n      <td>BNPP.PA</td>\n      <td>2022-09-30</td>\n      <td>FY2022Q3</td>\n      <td>FQ3</td>\n      <td>None</td>\n    </tr>\n    <tr>\n      <th>2</th>\n      <td>BNPP.PA</td>\n      <td>2022-06-30</td>\n      <td>FY2022Q2</td>\n      <td>FQ2</td>\n      <td>None</td>\n    </tr>\n    <tr>\n      <th>3</th>\n      <td>BNPP.PA</td>\n      <td>2022-03-31</td>\n      <td>FY2022Q1</td>\n      <td>FQ1</td>\n      <td>None</td>\n    </tr>\n    <tr>\n      <th>4</th>\n      <td>BNPP.PA</td>\n      <td>2021-12-31</td>\n      <td>FY2021Q4</td>\n      <td>FQ0</td>\n      <td>None</td>\n    </tr>\n    <tr>\n      <th>5</th>\n      <td>BNPP.PA</td>\n      <td>2021-09-30</td>\n      <td>FY2021Q3</td>\n      <td>FQ-1</td>\n      <td>None</td>\n    </tr>\n    <tr>\n      <th>6</th>\n      <td>BNPP.PA</td>\n      <td>2021-06-30</td>\n      <td>FY2021Q2</td>\n      <td>FQ-2</td>\n      <td>None</td>\n    </tr>\n  </tbody>\n</table>\n</div>"
     },
     "execution_count": 5,
     "metadata": {},
     "output_type": "execute_result"
    }
   ],
   "source": [
    "response = estimates.view_summary_kpi.interim.Definition(\"BNPP.PA\").get_data()\n",
    "response.data.df"
   ],
   "metadata": {
    "collapsed": false,
    "pycharm": {
     "name": "#%%\n"
    }
   }
  },
  {
   "cell_type": "markdown",
   "source": [
    "### Close the session"
   ],
   "metadata": {
    "collapsed": false,
    "pycharm": {
     "name": "#%% md\n"
    }
   }
  },
  {
   "cell_type": "code",
   "execution_count": null,
   "outputs": [],
   "source": [
    "rd.close_session()"
   ],
   "metadata": {
    "collapsed": false,
    "pycharm": {
     "name": "#%%\n"
    }
   }
  }
 ],
 "metadata": {
  "kernelspec": {
   "display_name": "Python 3 (ipykernel)",
   "language": "python",
   "name": "python3"
  },
  "language_info": {
   "codemirror_mode": {
    "name": "ipython",
    "version": 3
   },
   "file_extension": ".py",
   "mimetype": "text/x-python",
   "name": "python",
   "nbconvert_exporter": "python",
   "pygments_lexer": "ipython3",
   "version": "3.10.2"
  }
 },
 "nbformat": 4,
 "nbformat_minor": 1
}