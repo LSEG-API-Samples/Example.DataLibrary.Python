{
 "cells": [
  {
   "cell_type": "markdown",
   "metadata": {},
   "source": [
    "----\n",
    "<img src=\"../../../files/refinitiv.png\" width=\"20%\" style=\"vertical-align: top;\">\n",
    "\n",
    "# Data Library for Python\n",
    "\n",
    "----"
   ]
  },
  {
   "cell_type": "markdown",
   "metadata": {},
   "source": [
    "## Content layer - IPA - Forward Curve\n",
    "This notebook demonstrates how to retrieve Forward Curves."
   ]
  },
  {
   "cell_type": "markdown",
   "metadata": {},
   "source": [
    "#### Learn more\n",
    "\n",
    "To learn more about the Refinitiv Data Library for Python please join the Refinitiv Developer Community. By [registering](https://developers.refinitiv.com/iam/register) and [logging](https://developers.refinitiv.com/content/devportal/en_us/initCookie.html) into the Refinitiv Developer Community portal you will have free access to a number of learning materials like \n",
    " [Quick Start guides](https://developers.refinitiv.com/en/api-catalog/refinitiv-data-platform/refinitiv-data-library-for-python/quick-start), \n",
    " [Tutorials](https://developers.refinitiv.com/en/api-catalog/refinitiv-data-platform/refinitiv-data-library-for-python/learning), \n",
    " [Documentation](https://developers.refinitiv.com/en/api-catalog/refinitiv-data-platform/refinitiv-data-library-for-python/docs)\n",
    " and much more.\n",
    "\n",
    "#### Getting Help and Support\n",
    "\n",
    "If you have any questions regarding using the API, please post them on \n",
    "the [Refinitiv Data Q&A Forum](https://community.developers.refinitiv.com/spaces/321/index.html). \n",
    "The Refinitiv Developer Community will be happy to help. "
   ]
  },
  {
   "cell_type": "markdown",
   "metadata": {},
   "source": [
    "## Set the configuration file location\n",
    "For a better ease of use, you have the option to set initialization parameters of the Refinitiv Data Library in the _refinitiv-data.config.json_ configuration file. This file must be located beside your notebook, in your user folder or in a folder defined by the _RD_LIB_CONFIG_PATH_ environment variable. The _RD_LIB_CONFIG_PATH_ environment variable is the option used by this series of examples. The following code sets this environment variable.      "
   ]
  },
  {
   "cell_type": "code",
   "execution_count": 1,
   "metadata": {
    "ExecuteTime": {
     "end_time": "2024-01-10T13:53:02.955343100Z",
     "start_time": "2024-01-10T13:53:02.364273700Z"
    }
   },
   "outputs": [],
   "source": [
    "import os\n",
    "os.environ[\"RD_LIB_CONFIG_PATH\"] = \"../../../Configuration\""
   ]
  },
  {
   "cell_type": "markdown",
   "metadata": {},
   "source": [
    "## Some Imports to start with"
   ]
  },
  {
   "cell_type": "code",
   "execution_count": 2,
   "metadata": {
    "ExecuteTime": {
     "end_time": "2024-01-10T13:53:09.223531600Z",
     "start_time": "2024-01-10T13:53:02.374307300Z"
    }
   },
   "outputs": [],
   "source": [
    "import refinitiv.data as rd\n",
    "from refinitiv.data.content.ipa.curves import forward_curves"
   ]
  },
  {
   "cell_type": "markdown",
   "metadata": {},
   "source": [
    "## Open the data session\n",
    "\n",
    "The open_session() function creates and open sessions based on the information contained in the refinitiv-data.config.json configuration file. Please edit this file to set the session type and other parameters required for the session you want to open."
   ]
  },
  {
   "cell_type": "code",
   "execution_count": 3,
   "metadata": {
    "ExecuteTime": {
     "end_time": "2024-01-10T13:53:11.151202500Z",
     "start_time": "2024-01-10T13:53:08.378545500Z"
    }
   },
   "outputs": [
    {
     "name": "stderr",
     "output_type": "stream",
     "text": [
      "C:\\Users\\UX501327\\PycharmProjects\\lseg-data\\refinitiv\\data\\_access_layer\\session.py:71:FutureWarning: \n",
      "You open a platform session using the default value of the signon_control parameter (signon_control=True).\n",
      "In future library version v2.0, this default will be changed to False.\n",
      "If you want to keep the same behavior as today, you will need to set the signon_control parameter to True either in the library configuration file\n",
      "({'sessions':{'platform':{'your_session_name':{'signon_control':true}}}}) or in your code where you create the Platform Session.\n",
      "These alternative options are already supported in the current version of the library.\n"
     ]
    },
    {
     "data": {
      "text/plain": "<refinitiv.data.session.Definition object at 0x22c9b282a50 {name='rdp'}>"
     },
     "execution_count": 3,
     "metadata": {},
     "output_type": "execute_result"
    }
   ],
   "source": [
    "rd.open_session()"
   ]
  },
  {
   "cell_type": "markdown",
   "metadata": {},
   "source": [
    "## Retrieve data"
   ]
  },
  {
   "cell_type": "code",
   "execution_count": 4,
   "metadata": {
    "ExecuteTime": {
     "end_time": "2024-01-10T13:53:13.597918300Z",
     "start_time": "2024-01-10T13:53:11.152199800Z"
    }
   },
   "outputs": [
    {
     "data": {
      "text/plain": "     endDate  startDate  discountFactor  ratePercent tenor\n0 2021-02-01 2021-02-01             1.0    -0.556761    0D\n1 2021-02-04 2021-02-01        1.000046    -0.556761    1D",
      "text/html": "<div>\n<style scoped>\n    .dataframe tbody tr th:only-of-type {\n        vertical-align: middle;\n    }\n\n    .dataframe tbody tr th {\n        vertical-align: top;\n    }\n\n    .dataframe thead th {\n        text-align: right;\n    }\n</style>\n<table border=\"1\" class=\"dataframe\">\n  <thead>\n    <tr style=\"text-align: right;\">\n      <th></th>\n      <th>endDate</th>\n      <th>startDate</th>\n      <th>discountFactor</th>\n      <th>ratePercent</th>\n      <th>tenor</th>\n    </tr>\n  </thead>\n  <tbody>\n    <tr>\n      <th>0</th>\n      <td>2021-02-01</td>\n      <td>2021-02-01</td>\n      <td>1.0</td>\n      <td>-0.556761</td>\n      <td>0D</td>\n    </tr>\n    <tr>\n      <th>1</th>\n      <td>2021-02-04</td>\n      <td>2021-02-01</td>\n      <td>1.000046</td>\n      <td>-0.556761</td>\n      <td>1D</td>\n    </tr>\n  </tbody>\n</table>\n</div>"
     },
     "execution_count": 4,
     "metadata": {},
     "output_type": "execute_result"
    }
   ],
   "source": [
    "response = forward_curves.Definition(\n",
    "    curve_definition=forward_curves.SwapZcCurveDefinition(\n",
    "        currency=\"EUR\",\n",
    "        index_name=\"EURIBOR\",\n",
    "        discounting_tenor=\"OIS\",\n",
    "        main_constituent_asset_class=\"Swap\",\n",
    "    ),\n",
    "    forward_curve_definitions=[\n",
    "        forward_curves.ForwardCurveDefinition(\n",
    "            index_tenor=\"3M\",\n",
    "            forward_curve_tag=\"ForwardTag\",\n",
    "            forward_start_date=\"2021-02-01\",\n",
    "            forward_curve_tenors=[\"0D\", \"1D\"],\n",
    "            forward_start_tenor=\"some_start_tenor\",\n",
    "        )\n",
    "    ],\n",
    "    curve_parameters=forward_curves.SwapZcCurveParameters(valuation_date=\"2021-02-01\"),\n",
    "    curve_tag=\"some_tag\",\n",
    ").get_data()\n",
    "\n",
    "response.data.df"
   ]
  },
  {
   "cell_type": "markdown",
   "metadata": {},
   "source": [
    "## Close the session"
   ]
  },
  {
   "cell_type": "code",
   "execution_count": 5,
   "metadata": {
    "pycharm": {
     "name": "#%%\n"
    },
    "ExecuteTime": {
     "end_time": "2024-01-10T13:53:15.956716800Z",
     "start_time": "2024-01-10T13:53:13.598915800Z"
    }
   },
   "outputs": [],
   "source": [
    "rd.close_session()"
   ]
  },
  {
   "cell_type": "code",
   "execution_count": 5,
   "metadata": {
    "ExecuteTime": {
     "end_time": "2024-01-10T13:53:15.965169700Z",
     "start_time": "2024-01-10T13:53:15.959264600Z"
    }
   },
   "outputs": [],
   "source": []
  }
 ],
 "metadata": {
  "kernelspec": {
   "display_name": "Python 3 (ipykernel)",
   "language": "python",
   "name": "python3"
  },
  "language_info": {
   "codemirror_mode": {
    "name": "ipython",
    "version": 3
   },
   "file_extension": ".py",
   "mimetype": "text/x-python",
   "name": "python",
   "nbconvert_exporter": "python",
   "pygments_lexer": "ipython3",
   "version": "3.9.7"
  }
 },
 "nbformat": 4,
 "nbformat_minor": 4
}
