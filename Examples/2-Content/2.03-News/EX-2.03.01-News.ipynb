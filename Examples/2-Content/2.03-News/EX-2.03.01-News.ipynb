{
 "cells": [
  {
   "cell_type": "markdown",
   "id": "7603cbd5-1f88-4400-8fa3-4e0629aeba5a",
   "metadata": {},
   "source": [
    "----\n",
    "<img src=\"../../../files/refinitiv.png\" width=\"20%\" style=\"vertical-align: top;\">\n",
    "\n",
    "# Data Library for Python\n",
    "\n",
    "----"
   ]
  },
  {
   "cell_type": "markdown",
   "id": "a872bf74-9c58-4a6a-932a-6dbd2fc8f93f",
   "metadata": {},
   "source": [
    "## Content layer - News\n",
    "This notebook demonstrates how to retrieve News."
   ]
  },
  {
   "cell_type": "markdown",
   "id": "030b2475-5e77-40be-a1cc-ee2441d22c0b",
   "metadata": {},
   "source": [
    "#### Learn more\n",
    "\n",
    "To learn more about the Refinitiv Data Library for Python please join the Refinitiv Developer Community. By [registering](https://developers.refinitiv.com/iam/register) and [logging](https://developers.refinitiv.com/content/devportal/en_us/initCookie.html) into the Refinitiv Developer Community portal you will have free access to a number of learning materials like \n",
    " [Quick Start guides](https://developers.refinitiv.com/en/api-catalog/refinitiv-data-platform/refinitiv-data-library-for-python/quick-start), \n",
    " [Tutorials](https://developers.refinitiv.com/en/api-catalog/refinitiv-data-platform/refinitiv-data-library-for-python/learning), \n",
    " [Documentation](https://developers.refinitiv.com/en/api-catalog/refinitiv-data-platform/refinitiv-data-library-for-python/docs)\n",
    " and much more.\n",
    "\n",
    "#### Getting Help and Support\n",
    "\n",
    "If you have any questions regarding using the API, please post them on \n",
    "the [Refinitiv Data Q&A Forum](https://community.developers.refinitiv.com/spaces/321/index.html). \n",
    "The Refinitiv Developer Community will be happy to help. "
   ]
  },
  {
   "cell_type": "markdown",
   "id": "c5944cbc-9484-4451-b1a3-3b951d48a45f",
   "metadata": {},
   "source": [
    "## Set the configuration file location\n",
    "For a better ease of use, you have the option to set initialization parameters of the Refinitiv Data Library in the _refinitiv-data.config.json_ configuration file. This file must be located beside your notebook, in your user folder or in a folder defined by the _RD_LIB_CONFIG_PATH_ environment variable. The _RD_LIB_CONFIG_PATH_ environment variable is the option used by this series of examples. The following code sets this environment variable.      "
   ]
  },
  {
   "cell_type": "code",
   "execution_count": 1,
   "id": "23a72c2a-209c-4973-b20a-e43a2ac70efa",
   "metadata": {},
   "outputs": [],
   "source": [
    "import os\n",
    "os.environ[\"RD_LIB_CONFIG_PATH\"] = \"../../../Configuration\""
   ]
  },
  {
   "cell_type": "markdown",
   "id": "2a47f95c-4807-4c9f-9a31-f0ab3db360cc",
   "metadata": {},
   "source": [
    "## Some Imports to start with"
   ]
  },
  {
   "cell_type": "code",
   "execution_count": 2,
   "id": "52a86af0-cf06-495c-aae4-b04b1812737b",
   "metadata": {},
   "outputs": [],
   "source": [
    "import refinitiv.data as rd\n",
    "from refinitiv.data.content import news\n",
    "from datetime import timedelta\n",
    "from IPython.display import HTML\n",
    "import pandas as pd\n",
    "pd.options.display.max_colwidth = 100"
   ]
  },
  {
   "cell_type": "markdown",
   "id": "01d6714f-bfbf-44ae-bb62-142d79452df7",
   "metadata": {},
   "source": [
    "## Open the data session\n",
    "\n",
    "The open_session() function creates and open sessions based on the information contained in the refinitiv-data.config.json configuration file. Please edit this file to set the session type and other parameters required for the session you want to open."
   ]
  },
  {
   "cell_type": "code",
   "execution_count": 3,
   "id": "b52c4452-bdc0-4616-ae4a-3cbd025a98a6",
   "metadata": {},
   "outputs": [
    {
     "data": {
      "text/plain": [
       "<refinitiv.data.session.Definition object at 0x7fa67ae83eb0 {name='rdp2'}>"
      ]
     },
     "execution_count": 3,
     "metadata": {},
     "output_type": "execute_result"
    }
   ],
   "source": [
    "rd.open_session('platform.rdp')"
   ]
  },
  {
   "cell_type": "markdown",
   "id": "ec0f6610-e911-493c-bbe4-6aa0a21a7401",
   "metadata": {},
   "source": [
    "## Retrieve data"
   ]
  },
  {
   "cell_type": "markdown",
   "id": "3bbd43fb-2c23-4f3c-a8fd-bbce450e0705",
   "metadata": {},
   "source": [
    "### Headlines"
   ]
  },
  {
   "cell_type": "markdown",
   "id": "a09a569b-8a0a-4e12-a0a7-88662430cf37",
   "metadata": {},
   "source": [
    "#### Get headlines"
   ]
  },
  {
   "cell_type": "code",
   "execution_count": 4,
   "id": "d2a11dc5-afaf-44ac-8d71-e59e6f2b201a",
   "metadata": {},
   "outputs": [
    {
     "data": {
      "text/html": [
       "<div>\n",
       "<style scoped>\n",
       "    .dataframe tbody tr th:only-of-type {\n",
       "        vertical-align: middle;\n",
       "    }\n",
       "\n",
       "    .dataframe tbody tr th {\n",
       "        vertical-align: top;\n",
       "    }\n",
       "\n",
       "    .dataframe thead th {\n",
       "        text-align: right;\n",
       "    }\n",
       "</style>\n",
       "<table border=\"1\" class=\"dataframe\">\n",
       "  <thead>\n",
       "    <tr style=\"text-align: right;\">\n",
       "      <th></th>\n",
       "      <th>headline</th>\n",
       "      <th>storyId</th>\n",
       "      <th>sourceCode</th>\n",
       "    </tr>\n",
       "    <tr>\n",
       "      <th>versionCreated</th>\n",
       "      <th></th>\n",
       "      <th></th>\n",
       "      <th></th>\n",
       "    </tr>\n",
       "  </thead>\n",
       "  <tbody>\n",
       "    <tr>\n",
       "      <th>2023-02-01 12:30:00.244</th>\n",
       "      <td>Sophos Details First Fake Apps Found on Apple’s App Store Used by Cybercriminals for CryptoRom S...</td>\n",
       "      <td>urn:newsml:reuters.com:20230201:nGNX7yLqk8:1</td>\n",
       "      <td>NS:GNW</td>\n",
       "    </tr>\n",
       "    <tr>\n",
       "      <th>2023-02-01 12:30:00.000</th>\n",
       "      <td>Sophos Details First Fake Apps Found on Apple's App Store Used by Cybercriminals for CryptoRom S...</td>\n",
       "      <td>urn:newsml:reuters.com:20230201:nDjcbzTZg5:1</td>\n",
       "      <td>NS:DJCP</td>\n",
       "    </tr>\n",
       "    <tr>\n",
       "      <th>2023-02-01 12:07:45.000</th>\n",
       "      <td>Apple Inc. - MLS Season Pass is now available worldwide on the Apple TV app</td>\n",
       "      <td>urn:newsml:reuters.com:20230201:nNDL4P6l2c:1</td>\n",
       "      <td>NS:PUBT</td>\n",
       "    </tr>\n",
       "    <tr>\n",
       "      <th>2023-02-01 11:59:14.511</th>\n",
       "      <td>Apple and Google app stores get thumbs down from White House</td>\n",
       "      <td>urn:newsml:reuters.com:20230201:nNRAn5murh:1</td>\n",
       "      <td>NS:INDEPE</td>\n",
       "    </tr>\n",
       "    <tr>\n",
       "      <th>2023-02-01 11:55:12.543</th>\n",
       "      <td>&lt;日経&gt;◇米政権、Apple・Googleの寡占是正へ　法整備を提案</td>\n",
       "      <td>urn:newsml:reuters.com:20230201:nQCK11lJCY:5</td>\n",
       "      <td>NS:QUICK</td>\n",
       "    </tr>\n",
       "    <tr>\n",
       "      <th>2023-02-01 11:39:33.989</th>\n",
       "      <td>A file photo of a salesperson speaking to a customer at an Apple reseller store in Mumbai, India...</td>\n",
       "      <td>urn:newsml:reuters.com:20230201:nLPK1YbHS4:1</td>\n",
       "      <td>NS:RTRS</td>\n",
       "    </tr>\n",
       "    <tr>\n",
       "      <th>2023-02-01 11:18:21.000</th>\n",
       "      <td>Apple distributor Redington's Q3 profit falls as costs outpace topline growth</td>\n",
       "      <td>urn:newsml:reuters.com:20230201:nL4N34H2CT:4</td>\n",
       "      <td>NS:RTRS</td>\n",
       "    </tr>\n",
       "    <tr>\n",
       "      <th>2023-02-01 11:03:25.057</th>\n",
       "      <td>The Zacks Analyst Blog Highlights Apple, Meta Platforms, Mastercard, CVS Health and Ameriprise F...</td>\n",
       "      <td>urn:newsml:reuters.com:20230201:nNRAn5mam5:1</td>\n",
       "      <td>NS:ZACKSC</td>\n",
       "    </tr>\n",
       "    <tr>\n",
       "      <th>2023-02-01 10:52:35.586</th>\n",
       "      <td>The logos of mobile apps, Google, Amazon, Facebook, Apple and Netflix, are displayed on a screen...</td>\n",
       "      <td>urn:newsml:reuters.com:20230201:nLPK4NlphG:1</td>\n",
       "      <td>NS:RTRS</td>\n",
       "    </tr>\n",
       "    <tr>\n",
       "      <th>2023-02-01 10:43:11.290</th>\n",
       "      <td>Apple and Google app stores get thumbs down from White House</td>\n",
       "      <td>urn:newsml:reuters.com:20230201:nNRAn5m4sp:1</td>\n",
       "      <td>NS:ASSOPR</td>\n",
       "    </tr>\n",
       "  </tbody>\n",
       "</table>\n",
       "</div>"
      ],
      "text/plain": [
       "                                                                                                                    headline  \\\n",
       "versionCreated                                                                                                                 \n",
       "2023-02-01 12:30:00.244  Sophos Details First Fake Apps Found on Apple’s App Store Used by Cybercriminals for CryptoRom S...   \n",
       "2023-02-01 12:30:00.000  Sophos Details First Fake Apps Found on Apple's App Store Used by Cybercriminals for CryptoRom S...   \n",
       "2023-02-01 12:07:45.000                          Apple Inc. - MLS Season Pass is now available worldwide on the Apple TV app   \n",
       "2023-02-01 11:59:14.511                                         Apple and Google app stores get thumbs down from White House   \n",
       "2023-02-01 11:55:12.543                                                                   <日経>◇米政権、Apple・Googleの寡占是正へ　法整備を提案   \n",
       "2023-02-01 11:39:33.989  A file photo of a salesperson speaking to a customer at an Apple reseller store in Mumbai, India...   \n",
       "2023-02-01 11:18:21.000                        Apple distributor Redington's Q3 profit falls as costs outpace topline growth   \n",
       "2023-02-01 11:03:25.057  The Zacks Analyst Blog Highlights Apple, Meta Platforms, Mastercard, CVS Health and Ameriprise F...   \n",
       "2023-02-01 10:52:35.586  The logos of mobile apps, Google, Amazon, Facebook, Apple and Netflix, are displayed on a screen...   \n",
       "2023-02-01 10:43:11.290                                         Apple and Google app stores get thumbs down from White House   \n",
       "\n",
       "                                                              storyId  \\\n",
       "versionCreated                                                          \n",
       "2023-02-01 12:30:00.244  urn:newsml:reuters.com:20230201:nGNX7yLqk8:1   \n",
       "2023-02-01 12:30:00.000  urn:newsml:reuters.com:20230201:nDjcbzTZg5:1   \n",
       "2023-02-01 12:07:45.000  urn:newsml:reuters.com:20230201:nNDL4P6l2c:1   \n",
       "2023-02-01 11:59:14.511  urn:newsml:reuters.com:20230201:nNRAn5murh:1   \n",
       "2023-02-01 11:55:12.543  urn:newsml:reuters.com:20230201:nQCK11lJCY:5   \n",
       "2023-02-01 11:39:33.989  urn:newsml:reuters.com:20230201:nLPK1YbHS4:1   \n",
       "2023-02-01 11:18:21.000  urn:newsml:reuters.com:20230201:nL4N34H2CT:4   \n",
       "2023-02-01 11:03:25.057  urn:newsml:reuters.com:20230201:nNRAn5mam5:1   \n",
       "2023-02-01 10:52:35.586  urn:newsml:reuters.com:20230201:nLPK4NlphG:1   \n",
       "2023-02-01 10:43:11.290  urn:newsml:reuters.com:20230201:nNRAn5m4sp:1   \n",
       "\n",
       "                        sourceCode  \n",
       "versionCreated                      \n",
       "2023-02-01 12:30:00.244     NS:GNW  \n",
       "2023-02-01 12:30:00.000    NS:DJCP  \n",
       "2023-02-01 12:07:45.000    NS:PUBT  \n",
       "2023-02-01 11:59:14.511  NS:INDEPE  \n",
       "2023-02-01 11:55:12.543   NS:QUICK  \n",
       "2023-02-01 11:39:33.989    NS:RTRS  \n",
       "2023-02-01 11:18:21.000    NS:RTRS  \n",
       "2023-02-01 11:03:25.057  NS:ZACKSC  \n",
       "2023-02-01 10:52:35.586    NS:RTRS  \n",
       "2023-02-01 10:43:11.290  NS:ASSOPR  "
      ]
     },
     "execution_count": 4,
     "metadata": {},
     "output_type": "execute_result"
    }
   ],
   "source": [
    "response = news.headlines.Definition(\"Apple\").get_data()\n",
    "response.data.df"
   ]
  },
  {
   "cell_type": "markdown",
   "id": "872638c0-c2ac-47f5-af0d-bf1184a2109c",
   "metadata": {},
   "source": [
    "#### Get headlines within a range of dates"
   ]
  },
  {
   "cell_type": "code",
   "execution_count": 5,
   "id": "9b307923-226e-483e-927f-1e120768e3bd",
   "metadata": {},
   "outputs": [
    {
     "data": {
      "text/html": [
       "<div>\n",
       "<style scoped>\n",
       "    .dataframe tbody tr th:only-of-type {\n",
       "        vertical-align: middle;\n",
       "    }\n",
       "\n",
       "    .dataframe tbody tr th {\n",
       "        vertical-align: top;\n",
       "    }\n",
       "\n",
       "    .dataframe thead th {\n",
       "        text-align: right;\n",
       "    }\n",
       "</style>\n",
       "<table border=\"1\" class=\"dataframe\">\n",
       "  <thead>\n",
       "    <tr style=\"text-align: right;\">\n",
       "      <th></th>\n",
       "      <th>headline</th>\n",
       "      <th>storyId</th>\n",
       "      <th>sourceCode</th>\n",
       "    </tr>\n",
       "    <tr>\n",
       "      <th>versionCreated</th>\n",
       "      <th></th>\n",
       "      <th></th>\n",
       "      <th></th>\n",
       "    </tr>\n",
       "  </thead>\n",
       "  <tbody>\n",
       "    <tr>\n",
       "      <th>2023-01-28 12:50:32.333</th>\n",
       "      <td>SERVICE ALERT - Refinitiv Eikon-Taiwan Futures - INFORMATION see page &lt;ALERT4&gt;</td>\n",
       "      <td>urn:newsml:reuters.com:20230105:nVEN275993:68</td>\n",
       "      <td>NS:RFT</td>\n",
       "    </tr>\n",
       "    <tr>\n",
       "      <th>2023-01-28 10:30:03.891</th>\n",
       "      <td>Refinitiv Newscasts - Reliq Health has contracted with a current client to add an additional 30 ...</td>\n",
       "      <td>urn:newsml:reuters.com:20230128:nRTV23BL9v:1</td>\n",
       "      <td>NS:RNTPC</td>\n",
       "    </tr>\n",
       "    <tr>\n",
       "      <th>2023-01-28 08:50:07.376</th>\n",
       "      <td>Refinitiv Newscasts - Memphis protesters demand justice after video release</td>\n",
       "      <td>urn:newsml:reuters.com:20230128:nRTV7bgGh2:11</td>\n",
       "      <td>NS:RTRS</td>\n",
       "    </tr>\n",
       "  </tbody>\n",
       "</table>\n",
       "</div>"
      ],
      "text/plain": [
       "                                                                                                                    headline  \\\n",
       "versionCreated                                                                                                                 \n",
       "2023-01-28 12:50:32.333                       SERVICE ALERT - Refinitiv Eikon-Taiwan Futures - INFORMATION see page <ALERT4>   \n",
       "2023-01-28 10:30:03.891  Refinitiv Newscasts - Reliq Health has contracted with a current client to add an additional 30 ...   \n",
       "2023-01-28 08:50:07.376                          Refinitiv Newscasts - Memphis protesters demand justice after video release   \n",
       "\n",
       "                                                               storyId  \\\n",
       "versionCreated                                                           \n",
       "2023-01-28 12:50:32.333  urn:newsml:reuters.com:20230105:nVEN275993:68   \n",
       "2023-01-28 10:30:03.891   urn:newsml:reuters.com:20230128:nRTV23BL9v:1   \n",
       "2023-01-28 08:50:07.376  urn:newsml:reuters.com:20230128:nRTV7bgGh2:11   \n",
       "\n",
       "                        sourceCode  \n",
       "versionCreated                      \n",
       "2023-01-28 12:50:32.333     NS:RFT  \n",
       "2023-01-28 10:30:03.891   NS:RNTPC  \n",
       "2023-01-28 08:50:07.376    NS:RTRS  "
      ]
     },
     "execution_count": 5,
     "metadata": {},
     "output_type": "execute_result"
    }
   ],
   "source": [
    "response = news.headlines.Definition(\n",
    "    query=\"Refinitiv\",\n",
    "    date_from=\"20.03.2021\", \n",
    "    date_to=timedelta(days=-4), \n",
    "    count=3\n",
    ").get_data()\n",
    "response.data.df"
   ]
  },
  {
   "cell_type": "markdown",
   "id": "5c826895-7e14-464e-9cc5-1dc8afd09831",
   "metadata": {},
   "source": [
    "#### Get a limited number of headlines"
   ]
  },
  {
   "cell_type": "code",
   "execution_count": 6,
   "id": "48503311-5107-4c94-99f2-58303d861fb5",
   "metadata": {},
   "outputs": [
    {
     "data": {
      "text/html": [
       "<div>\n",
       "<style scoped>\n",
       "    .dataframe tbody tr th:only-of-type {\n",
       "        vertical-align: middle;\n",
       "    }\n",
       "\n",
       "    .dataframe tbody tr th {\n",
       "        vertical-align: top;\n",
       "    }\n",
       "\n",
       "    .dataframe thead th {\n",
       "        text-align: right;\n",
       "    }\n",
       "</style>\n",
       "<table border=\"1\" class=\"dataframe\">\n",
       "  <thead>\n",
       "    <tr style=\"text-align: right;\">\n",
       "      <th></th>\n",
       "      <th>headline</th>\n",
       "      <th>storyId</th>\n",
       "      <th>sourceCode</th>\n",
       "    </tr>\n",
       "    <tr>\n",
       "      <th>versionCreated</th>\n",
       "      <th></th>\n",
       "      <th></th>\n",
       "      <th></th>\n",
       "    </tr>\n",
       "  </thead>\n",
       "  <tbody>\n",
       "    <tr>\n",
       "      <th>2023-02-01 13:00:17.674</th>\n",
       "      <td>Protegrity Data Protection Platform Now Available on Google Cloud Marketplace</td>\n",
       "      <td>urn:newsml:reuters.com:20230201:nPn5pXtY4a:1</td>\n",
       "      <td>NS:PRN</td>\n",
       "    </tr>\n",
       "    <tr>\n",
       "      <th>2023-02-01 13:00:00.000</th>\n",
       "      <td>Protegrity Data Protection Platform Now Available on Google Cloud Marketplace</td>\n",
       "      <td>urn:newsml:reuters.com:20230201:nDjc4SrHM9:1</td>\n",
       "      <td>NS:DJCP</td>\n",
       "    </tr>\n",
       "    <tr>\n",
       "      <th>2023-02-01 12:52:34.000</th>\n",
       "      <td>Resultado da Snap pode ser notícia positiva para Meta e Google</td>\n",
       "      <td>urn:newsml:reuters.com:20230201:nL1N34H0ZN:1</td>\n",
       "      <td>NS:RTRS</td>\n",
       "    </tr>\n",
       "    <tr>\n",
       "      <th>2023-02-01 11:59:14.511</th>\n",
       "      <td>Apple and Google app stores get thumbs down from White House</td>\n",
       "      <td>urn:newsml:reuters.com:20230201:nNRAn5murh:1</td>\n",
       "      <td>NS:INDEPE</td>\n",
       "    </tr>\n",
       "    <tr>\n",
       "      <th>2023-02-01 11:55:12.543</th>\n",
       "      <td>&lt;日経&gt;◇米政権、Apple・Googleの寡占是正へ　法整備を提案</td>\n",
       "      <td>urn:newsml:reuters.com:20230201:nQCK11lJCY:5</td>\n",
       "      <td>NS:QUICK</td>\n",
       "    </tr>\n",
       "    <tr>\n",
       "      <th>...</th>\n",
       "      <td>...</td>\n",
       "      <td>...</td>\n",
       "      <td>...</td>\n",
       "    </tr>\n",
       "    <tr>\n",
       "      <th>2023-01-25 10:54:09.990</th>\n",
       "      <td>Google to implement strict measures on legacy apps installed in new devices with Android 14</td>\n",
       "      <td>urn:newsml:reuters.com:20230125:nNRAn37ujj:1</td>\n",
       "      <td>NS:ASNEWS</td>\n",
       "    </tr>\n",
       "    <tr>\n",
       "      <th>2023-01-25 10:30:01.063</th>\n",
       "      <td>DJ Congress on the Sidelines as U.S. Takes on Google -- WSJ</td>\n",
       "      <td>urn:newsml:reuters.com:20230125:nDJR4Wnzvy:2</td>\n",
       "      <td>NS:DJN</td>\n",
       "    </tr>\n",
       "    <tr>\n",
       "      <th>2023-01-25 10:30:00.000</th>\n",
       "      <td>DJ Congress on the Sidelines as U.S. Takes on Google -- WSJ</td>\n",
       "      <td>urn:newsml:reuters.com:20230125:nDjc4Wnzvy:2</td>\n",
       "      <td>NS:DJCP</td>\n",
       "    </tr>\n",
       "    <tr>\n",
       "      <th>2023-01-25 10:03:10.767</th>\n",
       "      <td>TOP STORIES MONDO: Usa contro Google, accusata di monopolio in pubblicità online</td>\n",
       "      <td>urn:newsml:reuters.com:20230125:nDJR6MFWPS:1</td>\n",
       "      <td>NS:DJN</td>\n",
       "    </tr>\n",
       "    <tr>\n",
       "      <th>2023-01-25 10:03:00.000</th>\n",
       "      <td>TOP STORIES MONDO: Usa contro Google, accusata di monopolio in pubblicità online</td>\n",
       "      <td>urn:newsml:reuters.com:20230125:nDjcx9g60:1</td>\n",
       "      <td>NS:DJCP</td>\n",
       "    </tr>\n",
       "  </tbody>\n",
       "</table>\n",
       "<p>350 rows × 3 columns</p>\n",
       "</div>"
      ],
      "text/plain": [
       "                                                                                                            headline  \\\n",
       "versionCreated                                                                                                         \n",
       "2023-02-01 13:00:17.674                Protegrity Data Protection Platform Now Available on Google Cloud Marketplace   \n",
       "2023-02-01 13:00:00.000                Protegrity Data Protection Platform Now Available on Google Cloud Marketplace   \n",
       "2023-02-01 12:52:34.000                               Resultado da Snap pode ser notícia positiva para Meta e Google   \n",
       "2023-02-01 11:59:14.511                                 Apple and Google app stores get thumbs down from White House   \n",
       "2023-02-01 11:55:12.543                                                           <日経>◇米政権、Apple・Googleの寡占是正へ　法整備を提案   \n",
       "...                                                                                                              ...   \n",
       "2023-01-25 10:54:09.990  Google to implement strict measures on legacy apps installed in new devices with Android 14   \n",
       "2023-01-25 10:30:01.063                                  DJ Congress on the Sidelines as U.S. Takes on Google -- WSJ   \n",
       "2023-01-25 10:30:00.000                                  DJ Congress on the Sidelines as U.S. Takes on Google -- WSJ   \n",
       "2023-01-25 10:03:10.767             TOP STORIES MONDO: Usa contro Google, accusata di monopolio in pubblicità online   \n",
       "2023-01-25 10:03:00.000             TOP STORIES MONDO: Usa contro Google, accusata di monopolio in pubblicità online   \n",
       "\n",
       "                                                              storyId  \\\n",
       "versionCreated                                                          \n",
       "2023-02-01 13:00:17.674  urn:newsml:reuters.com:20230201:nPn5pXtY4a:1   \n",
       "2023-02-01 13:00:00.000  urn:newsml:reuters.com:20230201:nDjc4SrHM9:1   \n",
       "2023-02-01 12:52:34.000  urn:newsml:reuters.com:20230201:nL1N34H0ZN:1   \n",
       "2023-02-01 11:59:14.511  urn:newsml:reuters.com:20230201:nNRAn5murh:1   \n",
       "2023-02-01 11:55:12.543  urn:newsml:reuters.com:20230201:nQCK11lJCY:5   \n",
       "...                                                               ...   \n",
       "2023-01-25 10:54:09.990  urn:newsml:reuters.com:20230125:nNRAn37ujj:1   \n",
       "2023-01-25 10:30:01.063  urn:newsml:reuters.com:20230125:nDJR4Wnzvy:2   \n",
       "2023-01-25 10:30:00.000  urn:newsml:reuters.com:20230125:nDjc4Wnzvy:2   \n",
       "2023-01-25 10:03:10.767  urn:newsml:reuters.com:20230125:nDJR6MFWPS:1   \n",
       "2023-01-25 10:03:00.000   urn:newsml:reuters.com:20230125:nDjcx9g60:1   \n",
       "\n",
       "                        sourceCode  \n",
       "versionCreated                      \n",
       "2023-02-01 13:00:17.674     NS:PRN  \n",
       "2023-02-01 13:00:00.000    NS:DJCP  \n",
       "2023-02-01 12:52:34.000    NS:RTRS  \n",
       "2023-02-01 11:59:14.511  NS:INDEPE  \n",
       "2023-02-01 11:55:12.543   NS:QUICK  \n",
       "...                            ...  \n",
       "2023-01-25 10:54:09.990  NS:ASNEWS  \n",
       "2023-01-25 10:30:01.063     NS:DJN  \n",
       "2023-01-25 10:30:00.000    NS:DJCP  \n",
       "2023-01-25 10:03:10.767     NS:DJN  \n",
       "2023-01-25 10:03:00.000    NS:DJCP  \n",
       "\n",
       "[350 rows x 3 columns]"
      ]
     },
     "execution_count": 6,
     "metadata": {},
     "output_type": "execute_result"
    }
   ],
   "source": [
    "response = news.headlines.Definition(query = \"Google\", count = 350).get_data()\n",
    "response.data.df"
   ]
  },
  {
   "cell_type": "markdown",
   "id": "c610c34c-203b-4b65-a8e9-d3f8251806c7",
   "metadata": {},
   "source": [
    "### Story"
   ]
  },
  {
   "cell_type": "code",
   "execution_count": 7,
   "id": "624a5a01-6e51-4dad-8e82-bc8a2f7847c8",
   "metadata": {},
   "outputs": [
    {
     "name": "stdout",
     "output_type": "stream",
     "text": [
      "Protegrity Data Protection Platform Now Available on Google Cloud Marketplace \n",
      "\n"
     ]
    },
    {
     "data": {
      "text/html": [
       "<html xmlns=\"http://www.w3.org/1999/xhtml\" xmlns:xn=\"http://www.xmlnews.org/ns/\">\n",
       "\n",
       "<head>\n",
       "<meta content=\"text/html; charset=UTF-8\" http-equiv=\"Content-Type\"/>\n",
       "<title>Protegrity Data Protection Platform Now Available on Google Cloud Marketplace</title>\n",
       "<style type=\"text/css\">\n",
       "/* Style Definitions */\n",
       "span.prnews_span\n",
       "{\n",
       "font-size:8pt;\n",
       "font-family:\"Arial\";\n",
       "color:black;\n",
       "}\n",
       "a.prnews_a\n",
       "{\n",
       "color:blue;\n",
       "}\n",
       "li.prnews_li\n",
       "{\n",
       "font-size:8pt;\n",
       "font-family:\"Arial\";\n",
       "color:black;\n",
       "}\n",
       "p.prnews_p\n",
       "{\n",
       "font-size:0.62em;\n",
       "font-family:\"Arial\";\n",
       "color:black;\n",
       "margin:0in;\n",
       "}\n",
       ".prntac{\n",
       "TEXT-ALIGN: CENTER\n",
       "}\n",
       "</style>\n",
       "</head>\n",
       "\n",
       "<body>\n",
       "\n",
       "<div class=\"xn-newslines\">\n",
       "<h1 class=\"xn-hedline\">Protegrity Data Protection Platform Now Available on Google Cloud Marketplace</h1>\n",
       "<p class=\"xn-distributor\">PR Newswire</p>\n",
       "<p class=\"xn-dateline\">SALT LAKE CITY, Feb. 1, 2023</p></div>\n",
       "\n",
       "<div class=\"xn-content\">\n",
       "\n",
       "<p class=\"prntac\"><i>Google Cloud Platform Customers now have access to Protegrity's industry-leading data security and privacy platform</i></p>\n",
       "<p><span class=\"legendSpanClass\"><span class=\"xn-location\">SALT LAKE CITY</span></span>, <span class=\"legendSpanClass\"><span class=\"xn-chron\">Feb. 1, 2023</span></span> /PRNewswire/ -- <a href=\"https://c212.net/c/link/?t=0&l=en&o=3771176-1&h=4150694012&u=https%3A%2F%2Fwww.protegrity.com%2F&a=Protegrity\" rel=\"nofollow\" target=\"_blank\">Protegrity</a>, a global leader in data-centric security, today announced that its proprietary data protection platform is now available in the <a href=\"https://c212.net/c/link/?t=0&l=en&o=3771176-1&h=3969887193&u=https%3A%2F%2Fcloud.google.com%2Fmarketplace&a=Google+Cloud+Marketplace\" rel=\"nofollow\" target=\"_blank\">Google Cloud Marketplace</a>. This development allows Google Cloud Platform customers to leverage advanced data security and privacy functionality as they move, store and use critical data in the cloud.</p>\n",
       "\n",
       "    <div class=\"PRN_ImbeddedAssetReference\" id=\"DivAssetPlaceHolder1\">\n",
       "                <p>\n",
       "                        <a href=\"https://mma.prnewswire.com/media/1766123/Protegrity_Logo_orange_dark_vertical_Logo.html\" rel=\"nofollow\" target=\"_blank\">\n",
       "                    <img alt=\"https://www.protegrity.com/ (PRNewsfoto/Protegrity)\" src=\"https://mma.prnewswire.com/media/1766123/Protegrity_Logo_orange_dark_vertical_Logo.jpg\" title=\"https://www.protegrity.com/ (PRNewsfoto/Protegrity)\"/>\n",
       "                        </a>\n",
       "                </p>\n",
       "\n",
       "    </div>\n",
       "<p>\"The rapidly evolving threat landscape coupled with a complex and disparate regulatory environment has enterprise cloud security teams on edge,\" said <span class=\"xn-person\">Brad Rouse</span>, Chief Revenue Officer at Protegrity. \"This is an important step towards providing customers easy access to advanced data-protection capabilities that ensure compliance and security for sensitive data.\"</p>\n",
       "<p>Protegrity's Data Protection Platform secures data and protects its privacy in motion, at rest and in use across hybrid and multicloud environments. The platform's cutting-edge capabilities allow customers to choose the form and type of fine-grained data protection they need, including format preserving encryption, data masking, anonymization and vaultless tokenization.</p>\n",
       "<p><b>\"</b>As security threats become more sophisticated, organizations need solutions that enable their teams to safely collaborate and share data in protected, secure environments,\" said <span class=\"xn-person\">Dai Vu</span>, Managing Director, Marketplace & ISV GMT Programs, Google Cloud. \"Bringing its Data Protection Platform to Google Cloud Marketplace demonstrates Protegrity's commitment to providing customers with the technologies needed to safeguard sensitive information as they innovate in the cloud.\"</p>\n",
       "<p>Google Cloud customers can transact with any part of the Protegrity platform using a Google Cloud Marketplace private offer. They can choose any Protegrity product that runs on the Google Cloud Platform towards fulfilling their committed spend with Google Cloud. This means customers can choose to run ESA, DSG, and Cloud Protect for Snowflake on Google Cloud, among others. Google Cloud customers have access to private offers, allowing them to customize their Protegrity solution on Google Cloud Marketplace.</p>\n",
       "<p>Protegrity Data Protection Platform's unique single pane of glass view allows businesses in the banking, financial services, insurance, travel and retail industries to streamline their security operations and close any gaps across disparate platforms. The platform plays a critical role in enabling secure cloud migration, multi-cloud deployments, data sharing and collaboration across all major cloud providers including Google Cloud Platform, Amazon Web Services, Microsoft Azure and Oracle Cloud.</p>\n",
       "<p><b>Follow Protegrity</b></p>\n",
       "<p>Twitter: <a href=\"https://c212.net/c/link/?t=0&l=en&o=3771176-1&h=3060382632&u=https%3A%2F%2Ftwitter.com%2FProtegrity&a=%40Protegrity\" rel=\"nofollow\" target=\"_blank\">@Protegrity</a><br/>LinkedIn: <a href=\"https://c212.net/c/link/?t=0&l=en&o=3771176-1&h=2921011585&u=http%3A%2F%2Flinkedin.com%2Fcompany%2Fprotegrity%2F&a=linkedin.com%2Fcompany%2Fprotegrity%2F\" rel=\"nofollow\" target=\"_blank\">linkedin.com/company/protegrity/<br/></a></p>\n",
       "<p><b>About Protegrity</b></p>\n",
       "<p>Protegrity is a global leader in data security. With the Protegrity Data Platform, enterprises can secure their data wherever it is, control how it's protected, and have confidence that it is safe, even if a breach occurs. With the most comprehensive and flexible range of data protection methods, data is not just secure, but ready to be used. Whether encrypting, tokenizing, or applying privacy models, Protegrity protects data at the speed of business. Deep partner integrations with Snowflake, Amazon Redshift, Teradata, Oracle, Microsoft SQL Server, Cloudera, and Databricks ensure that data remains fully protected in hybrid-cloud, multi-cloud, and on-premises environments. Today, Protegrity protects the data of the world's largest banks, the top health insurance providers, and the world's leading multinational companies. With more than two decades of industry-leading innovation, Protegrity allows businesses to tap into the value of their data and accelerate digital transformation.</p>\n",
       "<p>For more information, visit <a href=\"https://c212.net/c/link/?t=0&l=en&o=3771176-1&h=4150349597&u=https%3A%2F%2Fwww.protegrity.com%2F&a=Protegrity.com.\" rel=\"nofollow\" target=\"_blank\">Protegrity.com.</a></p>\n",
       "\n",
       "<div class=\"PRN_ImbeddedAssetReference\" id=\"DivAssetPlaceHolder2\">\n",
       "</div>\n",
       "<p id=\"PURL\"><img alt=\"Cision\" height=\"12\" src=\"https://c212.net/c/img/favicon.png?sn=NY01673&sd=2023-02-01\" title=\"Cision\" width=\"12\"/> View original content to download multimedia:<a href=\"https://www.prnewswire.com/news-releases/protegrity-data-protection-platform-now-available-on-google-cloud-marketplace-301735189.html\" id=\"PRNURL\" rel=\"nofollow\" target=\"_blank\">https://www.prnewswire.com/news-releases/protegrity-data-protection-platform-now-available-on-google-cloud-marketplace-301735189.html</a></p>\n",
       "<p>SOURCE  Protegrity</p>\n",
       "</div>\n",
       "</body>\n",
       "</html>"
      ],
      "text/plain": [
       "<IPython.core.display.HTML object>"
      ]
     },
     "execution_count": 7,
     "metadata": {},
     "output_type": "execute_result"
    }
   ],
   "source": [
    "response = news.story.Definition(\"urn:newsml:reuters.com:20230201:nPn5pXtY4a:1\").get_data()\n",
    "print(response.data.story.title, '\\n')\n",
    "HTML(response.data.story.content.html)"
   ]
  },
  {
   "cell_type": "markdown",
   "id": "bb4e7105-a6cd-45a1-9783-0970f8edc90a",
   "metadata": {},
   "source": [
    "## Close the session"
   ]
  },
  {
   "cell_type": "code",
   "execution_count": 8,
   "id": "5676639f-8463-4af9-a6c8-7c2816a6949d",
   "metadata": {},
   "outputs": [],
   "source": [
    "rd.close_session()"
   ]
  },
  {
   "cell_type": "code",
   "execution_count": null,
   "id": "6ccc6a5f-5642-488d-ab57-6431fbe0ff18",
   "metadata": {},
   "outputs": [],
   "source": []
  }
 ],
 "metadata": {
  "kernelspec": {
   "display_name": "Python 3 (ipykernel)",
   "language": "python",
   "name": "python3"
  },
  "language_info": {
   "codemirror_mode": {
    "name": "ipython",
    "version": 3
   },
   "file_extension": ".py",
   "mimetype": "text/x-python",
   "name": "python",
   "nbconvert_exporter": "python",
   "pygments_lexer": "ipython3",
   "version": "3.9.7"
  }
 },
 "nbformat": 4,
 "nbformat_minor": 5
}
